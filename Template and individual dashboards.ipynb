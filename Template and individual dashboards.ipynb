{
 "cells": [
  {
   "cell_type": "markdown",
   "id": "41143a14",
   "metadata": {},
   "source": [
    "### OUR INITIAL DESGIGN TEMPLATE REFERENCE"
   ]
  },
  {
   "cell_type": "code",
   "execution_count": 20,
   "id": "a4999cd0",
   "metadata": {},
   "outputs": [
    {
     "name": "stdout",
     "output_type": "stream",
     "text": [
      "📊 Generating mock data with correct column structure...\n"
     ]
    },
    {
     "data": {
      "text/html": [
       "\n",
       "        <iframe\n",
       "            width=\"100%\"\n",
       "            height=\"650\"\n",
       "            src=\"http://127.0.0.1:8051/\"\n",
       "            frameborder=\"0\"\n",
       "            allowfullscreen\n",
       "            \n",
       "        ></iframe>\n",
       "        "
      ],
      "text/plain": [
       "<IPython.lib.display.IFrame at 0x21f14cb8800>"
      ]
     },
     "metadata": {},
     "output_type": "display_data"
    }
   ],
   "source": [
    "\"\"\"\n",
    "FUTURISTIC STUDENT ANALYTICS DASHBOARD\n",
    "=====================================\n",
    "Clean, aesthetic dashboard using only Plotly Dash & Bootstrap Components\n",
    "No external CSS - pure component styling with perfect contrast\n",
    "\"\"\"\n",
    "\n",
    "import pandas as pd\n",
    "import plotly.express as px\n",
    "import plotly.graph_objects as go\n",
    "from dash import Dash, html, dcc, Input, Output, State, callback\n",
    "import dash_bootstrap_components as dbc\n",
    "from datetime import datetime, timedelta\n",
    "import numpy as np\n",
    "\n",
    "# ================================\n",
    "# DATA LOADING & PROCESSING\n",
    "# ================================\n",
    "def load_and_process_data():\n",
    "    \"\"\"Generate mock data with correct column names - no real data loading\"\"\"\n",
    "    print(\"📊 Generating mock data with correct column structure...\")\n",
    "    df_students, df_results, df_courses = generate_mock_data()\n",
    "    \n",
    "    # Calculate derived fields\n",
    "    df_students = calculate_derived_fields(df_students, df_results)\n",
    "    \n",
    "    return df_students, df_results, df_courses\n",
    "\n",
    "def generate_mock_data():\n",
    "    \"\"\"Generate realistic mock data with EXACT column names from your datasets\"\"\"\n",
    "    np.random.seed(42)\n",
    "    n_students = 800\n",
    "    \n",
    "    # Student Profiles - using YOUR actual column names\n",
    "    students_data = {\n",
    "        'STUDENT ID': [f'STU{i:05d}' for i in range(1, n_students + 1)],\n",
    "        'GENDER': np.random.choice(['Male', 'Female'], n_students),\n",
    "        'COUNTRY OF ORIGIN': np.random.choice(['Singapore', 'Malaysia', 'Indonesia', 'China', 'India'], n_students),\n",
    "        'DOB': pd.date_range('1990-01-01', '2003-12-31', periods=n_students),\n",
    "        'HIGHEST QUALIFICATION': np.random.choice(['Diploma', 'Bachelor', 'Master', 'PhD'], n_students, p=[0.3, 0.4, 0.25, 0.05]),\n",
    "        'DATE ATTAINED HIGHEST QUALIFICATION': pd.date_range('2015-01-01', '2023-12-31', periods=n_students),\n",
    "        'DESIGNATION': np.random.choice(['Student', 'Working Professional', 'Fresh Graduate'], n_students),\n",
    "        'COMMENCEMENT DATE': pd.date_range('2020-01-01', '2024-01-01', periods=n_students),\n",
    "        'COMPLETION DATE': pd.date_range('2022-01-01', '2026-12-31', periods=n_students),\n",
    "        'FULL-TIME OR PART-TIME': np.random.choice(['Full-Time', 'Part-Time'], n_students, p=[0.7, 0.3]),\n",
    "        'COURSE FUNDING': np.random.choice(['Self-Funded', 'Scholarship', 'Sponsored', 'Loan'], n_students),\n",
    "        'CITIZENSHIP': np.random.choice(['Citizen', 'PR', 'International'], n_students, p=[0.6, 0.25, 0.15]),\n",
    "        'COURSE CODE': np.random.choice(['CS101', 'BUS201', 'ENG301', 'MED401', 'ART501'], n_students),\n",
    "        'DEPARTMENT': np.random.choice(['Computer Science', 'Business', 'Engineering', 'Medicine', 'Arts'], n_students)\n",
    "    }\n",
    "    \n",
    "    df_students = pd.DataFrame(students_data)\n",
    "    \n",
    "    # Semester Results - using YOUR actual column names\n",
    "    n_results = n_students * 4\n",
    "    results_data = {\n",
    "        'STUDENT ID': np.random.choice(df_students['STUDENT ID'], n_results),\n",
    "        'PERIOD': np.random.choice(['2021 Sem 1', '2021 Sem 2', '2022 Sem 1', '2022 Sem 2', '2023 Sem 1', '2023 Sem 2'], n_results),\n",
    "        'GPA': np.random.beta(2, 1, n_results) * 3 + 1,\n",
    "        'COURSE CODE': np.random.choice(df_students['COURSE CODE'], n_results)\n",
    "    }\n",
    "    \n",
    "    df_results = pd.DataFrame(results_data)\n",
    "    df_results['GPA'] = df_results['GPA'].round(2)\n",
    "    \n",
    "    # Course Codes - using YOUR actual column names  \n",
    "    courses_data = {\n",
    "        'CODE': ['CS101', 'BUS201', 'ENG301', 'MED401', 'ART501'],\n",
    "        'COURSE NAME': ['Computer Science', 'Business Studies', 'Engineering', 'Medicine', 'Arts & Design']\n",
    "    }\n",
    "    \n",
    "    df_courses = pd.DataFrame(courses_data)\n",
    "    \n",
    "    return df_students, df_results, df_courses\n",
    "\n",
    "def calculate_derived_fields(df_students, df_results):\n",
    "    \"\"\"Calculate CUMULATIVE_GPA, AGE_AT_QUALIFICATION using correct column names\"\"\"\n",
    "    \n",
    "    # Calculate CUMULATIVE_GPA\n",
    "    cumulative_gpa = df_results.groupby('STUDENT ID')['GPA'].mean().reset_index()\n",
    "    cumulative_gpa.columns = ['STUDENT ID', 'CUMULATIVE_GPA']\n",
    "    df_students = df_students.merge(cumulative_gpa, on='STUDENT ID', how='left')\n",
    "    df_students['CUMULATIVE_GPA'] = df_students['CUMULATIVE_GPA'].fillna(0).round(2)\n",
    "    \n",
    "    # Calculate AGE_AT_QUALIFICATION\n",
    "    df_students['DOB'] = pd.to_datetime(df_students['DOB'])\n",
    "    df_students['DATE ATTAINED HIGHEST QUALIFICATION'] = pd.to_datetime(df_students['DATE ATTAINED HIGHEST QUALIFICATION'])\n",
    "    df_students['AGE_AT_QUALIFICATION'] = (\n",
    "        df_students['DATE ATTAINED HIGHEST QUALIFICATION'] - df_students['DOB']\n",
    "    ).dt.days // 365\n",
    "    \n",
    "    return df_students\n",
    "\n",
    "# Load data\n",
    "df_students, df_results, df_courses = load_and_process_data()\n",
    "\n",
    "# ================================\n",
    "# APP INITIALIZATION\n",
    "# ================================\n",
    "app = Dash(\n",
    "    __name__,\n",
    "    external_stylesheets=[dbc.themes.CYBORG],  # Futuristic dark theme\n",
    "    suppress_callback_exceptions=True\n",
    ")\n",
    "\n",
    "app.title = \"Student Analytics Dashboard\"\n",
    "\n",
    "# ================================\n",
    "# FUTURISTIC GLOWING COLOR SCHEME\n",
    "# ================================\n",
    "COLORS = {\n",
    "    'primary': '#8B5FBF',      # Purple gradient\n",
    "    'secondary': '#22D3EE',    # Cyan blue  \n",
    "    'accent': '#F97316',       # Orange accent\n",
    "    'success': '#10B981',      # Green\n",
    "    'warning': '#F59E0B',      # Amber\n",
    "    'danger': '#EF4444',       # Red\n",
    "    'pink': '#EC4899',         # Pink for cards\n",
    "    'dark_bg': '#0A0A1A',      # Ultra dark background\n",
    "    'card_bg': '#1A1A2E',      # Dark card background with glow\n",
    "    'sidebar_bg': '#16213E',   # Glowing sidebar\n",
    "    'light': '#FFFFFF',        # White\n",
    "    'text': '#E2E8F0',         # Light gray text\n",
    "    'text_dim': '#94A3B8',     # Dimmed text\n",
    "    'neon_blue': '#00F5FF',    # Neon blue glow\n",
    "    'neon_purple': '#BF40BF',  # Neon purple glow\n",
    "    'neon_green': '#39FF14',   # Neon green glow\n",
    "    'glow_shadow': 'rgba(34, 211, 238, 0.4)',  # Glowing shadow\n",
    "    'cyan': '#22D3EE'          # Added cyan color for filter bar\n",
    "}\n",
    "\n",
    "# ================================\n",
    "# DASHBOARD COMPONENTS\n",
    "# ================================\n",
    "\n",
    "# Header with enhanced glowing effects\n",
    "header = dbc.Container([\n",
    "    dbc.Row([\n",
    "        dbc.Col([\n",
    "            html.Div([\n",
    "                html.Div([\n",
    "                    html.I(className=\"fas fa-graduation-cap\", \n",
    "                          style={\n",
    "                              'fontSize': '1.8rem', \n",
    "                              'color': COLORS['neon_blue'],\n",
    "                              'filter': 'drop-shadow(0 0 8px rgba(0, 245, 255, 0.8))'\n",
    "                          }),\n",
    "                ], style={\n",
    "                    'width': '50px', 'height': '50px', 'borderRadius': '15px',\n",
    "                    'background': f'linear-gradient(135deg, {COLORS[\"primary\"]} 0%, {COLORS[\"neon_blue\"]} 100%)',\n",
    "                    'display': 'flex', 'alignItems': 'center', 'justifyContent': 'center',\n",
    "                    'marginRight': '15px', \n",
    "                    'boxShadow': f'0 0 25px {COLORS[\"glow_shadow\"]}, 0 0 50px rgba(139, 95, 191, 0.3)',\n",
    "                    'border': f'1px solid {COLORS[\"neon_blue\"]}',\n",
    "                    'animation': 'pulse 2s infinite'\n",
    "                }),\n",
    "                html.Div([\n",
    "                    html.H5(\"STUDENT ANALYTICS\", style={\n",
    "                        'color': COLORS['light'], 'margin': '0', 'fontWeight': '700',\n",
    "                        'letterSpacing': '1px', 'fontSize': '0.95rem',\n",
    "                        'textShadow': f'0 0 10px {COLORS[\"neon_blue\"]}',\n",
    "                        'fontFamily': 'Orbitron, monospace'\n",
    "                    }),\n",
    "                    html.P(\"CONTROL CENTER\", style={\n",
    "                        'color': COLORS['neon_blue'], 'margin': '0', 'fontSize': '0.75rem',\n",
    "                        'fontWeight': '500', 'letterSpacing': '0.5px',\n",
    "                        'fontFamily': 'Rajdhani, monospace'\n",
    "                    })\n",
    "                ])\n",
    "            ], style={'display': 'flex', 'alignItems': 'center'})\n",
    "        ], width=3),\n",
    "        \n",
    "        dbc.Col([\n",
    "            html.H1(\"ANALYTICS NEXUS\", \n",
    "                   className=\"text-center\",\n",
    "                   style={\n",
    "                       'color': COLORS['light'], \n",
    "                       'fontWeight': '900',\n",
    "                       'fontSize': '2.5rem',\n",
    "                       'margin': '0',\n",
    "                       'background': f'linear-gradient(135deg, {COLORS[\"neon_blue\"]} 0%, {COLORS[\"neon_purple\"]} 50%, {COLORS[\"primary\"]} 100%)',\n",
    "                       'backgroundClip': 'text',\n",
    "                       'WebkitBackgroundClip': 'text',\n",
    "                       'WebkitTextFillColor': 'transparent',\n",
    "                       'letterSpacing': '2px',\n",
    "                       'textShadow': '0 0 20px rgba(34, 211, 238, 0.6)',\n",
    "                       'filter': 'drop-shadow(0 0 10px rgba(34, 211, 238, 0.8))',\n",
    "                       'fontFamily': 'Orbitron, monospace'\n",
    "                   })\n",
    "        ], width=6),\n",
    "        \n",
    "        dbc.Col([\n",
    "            html.Div([\n",
    "                html.Div([\n",
    "                    html.Div([\n",
    "                        html.I(className=\"fas fa-circle\", style={\n",
    "                            'color': COLORS['neon_green'], 'fontSize': '0.6rem',\n",
    "                            'animation': 'blink 1.5s infinite'\n",
    "                        }),\n",
    "                        html.Span(\"LIVE\", style={\n",
    "                            'color': COLORS['neon_green'], 'fontSize': '0.8rem', \n",
    "                            'marginLeft': '6px', 'fontWeight': '700',\n",
    "                            'textShadow': f'0 0 8px {COLORS[\"neon_green\"]}',\n",
    "                            'fontFamily': 'Orbitron, monospace'\n",
    "                        })\n",
    "                    ], style={'display': 'flex', 'alignItems': 'center', 'marginBottom': '4px'}),\n",
    "                    html.Span(id=\"live-time\", style={\n",
    "                        'color': COLORS['text'], 'fontSize': '0.85rem',\n",
    "                        'fontFamily': 'Rajdhani, monospace', 'fontWeight': '500'\n",
    "                    })\n",
    "                ], style={'textAlign': 'right'})\n",
    "            ])\n",
    "        ], width=3)\n",
    "    ], className=\"align-items-center\"),\n",
    "], fluid=True, className=\"py-4\", \n",
    "   style={\n",
    "       'background': f'linear-gradient(135deg, {COLORS[\"card_bg\"]} 0%, {COLORS[\"sidebar_bg\"]} 100%)', \n",
    "       'marginBottom': '30px',\n",
    "       'borderRadius': '0 0 30px 30px',\n",
    "       'boxShadow': f'0 0 40px {COLORS[\"glow_shadow\"]}, 0 15px 60px rgba(26, 26, 46, 0.8)',\n",
    "       'border': f'1px solid {COLORS[\"neon_blue\"]}20',\n",
    "       'position': 'relative',\n",
    "       'overflow': 'hidden'\n",
    "   })\n",
    "\n",
    "# Navigation/Filter Bar with enhanced glowing effects - simplified to search only\n",
    "navbar = dbc.Container([\n",
    "    dbc.Row([\n",
    "        dbc.Col([\n",
    "            html.Div([\n",
    "                html.Label(\"SEARCH STUDENT ID\", style={\n",
    "                    'color': COLORS['pink'], 'fontWeight': '700', 'marginBottom': '10px',\n",
    "                    'fontSize': '0.85rem', 'letterSpacing': '1px',\n",
    "                    'textShadow': f'0 0 8px {COLORS[\"pink\"]}',\n",
    "                    'fontFamily': 'Orbitron, monospace'\n",
    "                }),\n",
    "                dbc.Input(\n",
    "                    id='search-box',\n",
    "                    placeholder=\"Enter Student ID (e.g., STU00001)\",\n",
    "                    type=\"text\",\n",
    "                    style={\n",
    "                        'backgroundColor': COLORS['sidebar_bg'], 'color': COLORS['light'], \n",
    "                        'border': f'2px solid {COLORS[\"pink\"]}60', 'borderRadius': '10px',\n",
    "                        'boxShadow': f'inset 0 0 10px rgba(236, 72, 153, 0.2)',\n",
    "                        'fontFamily': 'Rajdhani, monospace'\n",
    "                    }\n",
    "                )\n",
    "            ], style={\n",
    "                'backgroundColor': COLORS['card_bg'], 'padding': '20px', 'borderRadius': '20px',\n",
    "                'boxShadow': f'0 0 30px rgba(236, 72, 153, 0.4), 0 8px 32px rgba(26, 26, 46, 0.6)', \n",
    "                'border': f'2px solid {COLORS[\"pink\"]}40',\n",
    "                'backdropFilter': 'blur(10px)',\n",
    "                'transition': 'all 0.3s ease'\n",
    "            })\n",
    "        ], width=6, className=\"mx-auto\")  # Centered column\n",
    "    ], className=\"justify-content-center\")\n",
    "], fluid=True, className=\"py-3\", style={'marginBottom': '30px', 'position': 'relative', 'zIndex': '5'})\n",
    "\n",
    "# KPI Cards with enhanced glowing effects\n",
    "def create_kpi_card(title, value, subtitle, icon, color, gradient_color):\n",
    "    return dbc.Col([\n",
    "        html.Div([\n",
    "            html.Div([\n",
    "                # Glowing icon with enhanced effects\n",
    "                html.Div([\n",
    "                    html.I(className=icon, style={\n",
    "                        'fontSize': '2rem', 'color': 'white',\n",
    "                        'filter': f'drop-shadow(0 0 10px {color})'\n",
    "                    })\n",
    "                ], style={\n",
    "                    'width': '70px', 'height': '70px', 'borderRadius': '20px',\n",
    "                    'background': f'linear-gradient(135deg, {color} 0%, {gradient_color} 100%)',\n",
    "                    'display': 'flex', 'alignItems': 'center', 'justifyContent': 'center',\n",
    "                    'boxShadow': f'0 0 30px {color}60, 0 0 60px {color}30',\n",
    "                    'border': f'2px solid {color}80',\n",
    "                    'animation': 'glow 3s ease-in-out infinite alternate'\n",
    "                }),\n",
    "                \n",
    "                # Enhanced text content\n",
    "                html.Div([\n",
    "                    html.H2(value, style={\n",
    "                        'color': COLORS['light'], 'fontWeight': '900', 'fontSize': '2.4rem', \n",
    "                        'margin': '10px 0 6px 0', 'lineHeight': '1',\n",
    "                        'textShadow': f'0 0 15px {color}80',\n",
    "                        'letterSpacing': '1px',\n",
    "                        'fontFamily': 'Orbitron, monospace'\n",
    "                    }),\n",
    "                    html.H6(title, style={\n",
    "                        'color': color, 'fontWeight': '700', 'margin': '0 0 6px 0',\n",
    "                        'fontSize': '1.1rem', 'letterSpacing': '0.5px',\n",
    "                        'textShadow': f'0 0 8px {color}60',\n",
    "                        'fontFamily': 'Orbitron, monospace',\n",
    "                        'textTransform': 'uppercase'\n",
    "                    }),\n",
    "                    html.P(subtitle, style={\n",
    "                        'color': COLORS['text_dim'], 'fontSize': '0.9rem', 'margin': '0',\n",
    "                        'fontWeight': '500', 'fontFamily': 'Rajdhani, monospace'\n",
    "                    })\n",
    "                ], style={'flex': '1', 'marginLeft': '20px'})\n",
    "            ], style={'display': 'flex', 'alignItems': 'center'})\n",
    "        ], style={\n",
    "            'background': f'linear-gradient(135deg, {COLORS[\"card_bg\"]} 0%, {COLORS[\"sidebar_bg\"]} 100%)',\n",
    "            'border': f'2px solid {color}30',\n",
    "            'borderRadius': '25px',\n",
    "            'padding': '30px',\n",
    "            'boxShadow': f'0 0 40px {color}20, 0 15px 60px rgba(26, 26, 46, 0.8)',\n",
    "            'transition': 'all 0.3s ease',\n",
    "            'height': '100%',\n",
    "            'backdropFilter': 'blur(15px)',\n",
    "            'position': 'relative',\n",
    "            'overflow': 'hidden'\n",
    "        })\n",
    "    ], width=3, className=\"mb-4\")\n",
    "\n",
    "kpi_section = html.Div(id=\"kpi-cards-left\")  # Updated for left sidebar\n",
    "\n",
    "# Chart containers with enhanced glowing design\n",
    "chart_style = {\n",
    "    'background': f'linear-gradient(135deg, {COLORS[\"card_bg\"]} 0%, {COLORS[\"sidebar_bg\"]} 100%)',\n",
    "    'border': f'2px solid {COLORS[\"neon_blue\"]}40',\n",
    "    'borderRadius': '25px',\n",
    "    'padding': '20px',  # Reduced from 30px\n",
    "    'marginBottom': '20px',  # Reduced from 30px\n",
    "    'boxShadow': f'0 0 40px {COLORS[\"glow_shadow\"]}, 0 15px 60px rgba(26, 26, 46, 0.8)',\n",
    "    'backdropFilter': 'blur(15px)',\n",
    "    'position': 'relative',\n",
    "    'zIndex': '1',\n",
    "    'overflow': 'hidden',\n",
    "    'transition': 'all 0.3s ease'\n",
    "}\n",
    "\n",
    "charts_section = dbc.Container([\n",
    "    dbc.Row([\n",
    "        dbc.Col([\n",
    "            html.Div([\n",
    "                html.H4(\"PERFORMANCE METRICS\", \n",
    "                       style={\n",
    "                           'color': COLORS['neon_blue'], 'textAlign': 'center', 'marginBottom': '25px',\n",
    "                           'fontWeight': '900', 'fontSize': '1.4rem', 'letterSpacing': '2px',\n",
    "                           'fontFamily': 'Orbitron, monospace',\n",
    "                           'textShadow': f'0 0 15px {COLORS[\"neon_blue\"]}, 0 0 30px {COLORS[\"neon_blue\"]}40',\n",
    "                           'textTransform': 'uppercase'\n",
    "                       }),\n",
    "                dcc.Graph(id='gpa-by-dept-chart', config={'displayModeBar': False})\n",
    "            ], style=chart_style)\n",
    "        ], width=6),\n",
    "        \n",
    "        dbc.Col([\n",
    "            html.Div([\n",
    "                html.H4(\"DISTRIBUTION ANALYSIS\", \n",
    "                       style={\n",
    "                           'color': COLORS['neon_purple'], 'textAlign': 'center', 'marginBottom': '25px',\n",
    "                           'fontWeight': '900', 'fontSize': '1.4rem', 'letterSpacing': '2px',\n",
    "                           'fontFamily': 'Orbitron, monospace',\n",
    "                           'textShadow': f'0 0 15px {COLORS[\"neon_purple\"]}, 0 0 30px {COLORS[\"neon_purple\"]}40',\n",
    "                           'textTransform': 'uppercase'\n",
    "                       }),\n",
    "                dcc.Graph(id='citizenship-chart', config={'displayModeBar': False})\n",
    "            ], style=chart_style)\n",
    "        ], width=6)\n",
    "    ], className=\"g-4\"),\n",
    "    \n",
    "    dbc.Row([\n",
    "        dbc.Col([\n",
    "            html.Div([\n",
    "                html.H4(\"TEMPORAL TRENDS\", \n",
    "                       style={\n",
    "                           'color': COLORS['neon_green'], 'textAlign': 'center', 'marginBottom': '25px',\n",
    "                           'fontWeight': '900', 'fontSize': '1.4rem', 'letterSpacing': '2px',\n",
    "                           'fontFamily': 'Orbitron, monospace',\n",
    "                           'textShadow': f'0 0 15px {COLORS[\"neon_green\"]}, 0 0 30px {COLORS[\"neon_green\"]}40',\n",
    "                           'textTransform': 'uppercase'\n",
    "                       }),\n",
    "                dcc.Graph(id='gpa-trend-chart', config={'displayModeBar': False})\n",
    "            ], style=chart_style)\n",
    "        ], width=6),\n",
    "        \n",
    "        dbc.Col([\n",
    "            html.Div([\n",
    "                html.H4(\"CORRELATION MATRIX\", \n",
    "                       style={\n",
    "                           'color': COLORS['accent'], 'textAlign': 'center', 'marginBottom': '25px',\n",
    "                           'fontWeight': '900', 'fontSize': '1.4rem', 'letterSpacing': '2px',\n",
    "                           'fontFamily': 'Orbitron, monospace',\n",
    "                           'textShadow': f'0 0 15px {COLORS[\"accent\"]}, 0 0 30px {COLORS[\"accent\"]}40',\n",
    "                           'textTransform': 'uppercase'\n",
    "                       }),\n",
    "                dcc.Graph(id='gpa-age-scatter', config={'displayModeBar': False})\n",
    "            ], style=chart_style)\n",
    "        ], width=6)\n",
    "    ], className=\"g-4\")\n",
    "], fluid=True)\n",
    "\n",
    "# ================================\n",
    "# MAIN LAYOUT WITH LEFT-RIGHT ORIENTATION\n",
    "# ================================\n",
    "app.layout = html.Div([\n",
    "    # Global CSS for futuristic fonts\n",
    "    html.Link(\n",
    "        rel='stylesheet',\n",
    "        href='https://fonts.googleapis.com/css2?family=Orbitron:wght@400;700;900&family=Rajdhani:wght@300;400;500;600;700&family=Space+Mono:wght@400;700&display=swap'\n",
    "    ),\n",
    "    \n",
    "    # Live update interval\n",
    "    dcc.Interval(id='interval-update', interval=60000, n_intervals=0),\n",
    "    \n",
    "    # Data store\n",
    "    dcc.Store(id='filtered-data'),\n",
    "    \n",
    "    # Header (full width)\n",
    "    header,\n",
    "    \n",
    "    # Main Content Container with Left-Right Layout\n",
    "    dbc.Container([\n",
    "        dbc.Row([\n",
    "            # LEFT SIDE - Search, Filters, Student Data, and KPIs (4/12 columns)\n",
    "            dbc.Col([\n",
    "                # Search Section\n",
    "                html.Div([\n",
    "                    html.Label(\"🔍 SEARCH STUDENT ID\", style={\n",
    "                        'color': COLORS['pink'], 'fontWeight': '700', 'marginBottom': '15px',\n",
    "                        'fontSize': '1rem', 'letterSpacing': '1px',\n",
    "                        'textShadow': f'0 0 8px {COLORS[\"pink\"]}',\n",
    "                        'fontFamily': 'Orbitron, monospace'\n",
    "                    }),\n",
    "                    dbc.Input(\n",
    "                        id='search-box',\n",
    "                        placeholder=\"Enter Student ID (e.g., STU00001)\",\n",
    "                        type=\"text\",\n",
    "                        style={\n",
    "                            'backgroundColor': COLORS['sidebar_bg'], 'color': COLORS['light'], \n",
    "                            'border': f'2px solid {COLORS[\"pink\"]}60', 'borderRadius': '10px',\n",
    "                            'boxShadow': f'inset 0 0 10px rgba(236, 72, 153, 0.2)',\n",
    "                            'fontFamily': 'Rajdhani, monospace',\n",
    "                            'fontSize': '1rem'\n",
    "                        }\n",
    "                    )\n",
    "                ], style={\n",
    "                    'backgroundColor': COLORS['card_bg'], 'padding': '20px', 'borderRadius': '20px',\n",
    "                    'boxShadow': f'0 0 30px rgba(236, 72, 153, 0.4), 0 8px 32px rgba(26, 26, 46, 0.6)', \n",
    "                    'border': f'2px solid {COLORS[\"pink\"]}40',\n",
    "                    'backdropFilter': 'blur(10px)',\n",
    "                    'marginBottom': '20px'\n",
    "                }),\n",
    "                \n",
    "                # Student Data Section\n",
    "                html.Div([\n",
    "                    html.H4(\"📊 STUDENT DATA\", \n",
    "                           style={\n",
    "                               'color': COLORS['neon_green'], 'textAlign': 'center', 'marginBottom': '20px',\n",
    "                               'fontWeight': '900', 'fontSize': '1.1rem', 'letterSpacing': '2px',\n",
    "                               'fontFamily': 'Orbitron, monospace',\n",
    "                               'textShadow': f'0 0 15px {COLORS[\"neon_green\"]}, 0 0 30px {COLORS[\"neon_green\"]}40',\n",
    "                               'textTransform': 'uppercase'\n",
    "                           }),\n",
    "                    html.Div(id='student-data-table')\n",
    "                ], style={**chart_style, 'height': '300px', 'overflow': 'auto', 'marginBottom': '20px'}),\n",
    "                \n",
    "                # KPI Cards Section (Compact vertical layout)\n",
    "                html.Div([\n",
    "                    html.H4(\"📈 KEY METRICS\", \n",
    "                           style={\n",
    "                               'color': COLORS['neon_blue'], 'textAlign': 'center', 'marginBottom': '20px',\n",
    "                               'fontWeight': '900', 'fontSize': '1.1rem', 'letterSpacing': '2px',\n",
    "                               'fontFamily': 'Orbitron, monospace',\n",
    "                               'textShadow': f'0 0 15px {COLORS[\"neon_blue\"]}, 0 0 30px {COLORS[\"neon_blue\"]}40',\n",
    "                               'textTransform': 'uppercase'\n",
    "                           }),\n",
    "                    html.Div(id='kpi-cards-left')\n",
    "                ], style=chart_style)\n",
    "                \n",
    "            ], width=4),  # Left side takes 4/12 columns\n",
    "            \n",
    "            # RIGHT SIDE - Scrollable Charts (8/12 columns)\n",
    "            dbc.Col([\n",
    "                # Simple Date Filter Row\n",
    "                html.Div([\n",
    "                    html.Span(\"📅 Filter: \", style={\n",
    "                        'color': COLORS['cyan'], 'fontWeight': '700', 'marginRight': '10px',\n",
    "                        'fontFamily': 'Orbitron, monospace', 'fontSize': '0.9rem'\n",
    "                    }),\n",
    "                    dcc.DatePickerSingle(\n",
    "                        id='start-date-picker',\n",
    "                        date=datetime(2020, 1, 1),\n",
    "                        display_format='YYYY-MM-DD',\n",
    "                        style={'display': 'inline-block', 'marginRight': '10px'}\n",
    "                    ),\n",
    "                    html.Span(\" to \", style={'color': COLORS['light'], 'margin': '0 5px'}),\n",
    "                    dcc.DatePickerSingle(\n",
    "                        id='end-date-picker',\n",
    "                        date=datetime(2026, 12, 31),\n",
    "                        display_format='YYYY-MM-DD',\n",
    "                        style={'display': 'inline-block', 'marginRight': '15px'}\n",
    "                    ),\n",
    "                    dbc.Button(\"All Time\", id=\"btn-all-years\", color=\"outline-info\", size=\"sm\",\n",
    "                              style={'fontFamily': 'Rajdhani, monospace', 'fontSize': '0.8rem'})\n",
    "                ], style={\n",
    "                    'backgroundColor': COLORS['card_bg'], 'padding': '10px 15px', 'borderRadius': '10px',\n",
    "                    'border': f'1px solid {COLORS[\"cyan\"]}40', 'marginBottom': '15px',\n",
    "                    'display': 'flex', 'alignItems': 'center', 'flexWrap': 'wrap'\n",
    "                }),\n",
    "                \n",
    "                # Scrollable Charts Container\n",
    "                html.Div([\n",
    "                    # Chart 1 - Performance Metrics\n",
    "                    html.Div([\n",
    "                        html.H4(\"PERFORMANCE METRICS\", \n",
    "                               style={\n",
    "                                   'color': COLORS['neon_blue'], 'textAlign': 'center', 'marginBottom': '20px',\n",
    "                                   'fontWeight': '900', 'fontSize': '1.4rem', 'letterSpacing': '2px',\n",
    "                                   'fontFamily': 'Orbitron, monospace',\n",
    "                                   'textShadow': f'0 0 15px {COLORS[\"neon_blue\"]}, 0 0 30px {COLORS[\"neon_blue\"]}40',\n",
    "                                   'textTransform': 'uppercase'\n",
    "                               }),\n",
    "                        dcc.Graph(id='gpa-by-dept-chart', \n",
    "                                 config={'displayModeBar': True, 'displaylogo': False},\n",
    "                                 style={'height': '800px'})\n",
    "                    ], style={**chart_style, 'marginBottom': '40px'}),\n",
    "                    \n",
    "                    # Chart 2 - Distribution Analysis\n",
    "                    html.Div([\n",
    "                        html.H4(\"DISTRIBUTION ANALYSIS\", \n",
    "                               style={\n",
    "                                   'color': COLORS['neon_purple'], 'textAlign': 'center', 'marginBottom': '20px',\n",
    "                                   'fontWeight': '900', 'fontSize': '1.4rem', 'letterSpacing': '2px',\n",
    "                                   'fontFamily': 'Orbitron, monospace',\n",
    "                                   'textShadow': f'0 0 15px {COLORS[\"neon_purple\"]}, 0 0 30px {COLORS[\"neon_purple\"]}40',\n",
    "                                   'textTransform': 'uppercase'\n",
    "                               }),\n",
    "                        dcc.Graph(id='citizenship-chart', \n",
    "                                 config={'displayModeBar': True, 'displaylogo': False},\n",
    "                                 style={'height': '800px'})\n",
    "                    ], style={**chart_style, 'marginBottom': '40px'}),\n",
    "                    \n",
    "                    # Chart 3 - Temporal Trends\n",
    "                    html.Div([\n",
    "                        html.H4(\"TEMPORAL TRENDS\", \n",
    "                               style={\n",
    "                                   'color': COLORS['neon_green'], 'textAlign': 'center', 'marginBottom': '20px',\n",
    "                                   'fontWeight': '900', 'fontSize': '1.4rem', 'letterSpacing': '2px',\n",
    "                                   'fontFamily': 'Orbitron, monospace',\n",
    "                                   'textShadow': f'0 0 15px {COLORS[\"neon_green\"]}, 0 0 30px {COLORS[\"neon_green\"]}40',\n",
    "                                   'textTransform': 'uppercase'\n",
    "                               }),\n",
    "                        dcc.Graph(id='gpa-trend-chart', \n",
    "                                 config={'displayModeBar': True, 'displaylogo': False},\n",
    "                                 style={'height': '800px'})\n",
    "                    ], style={**chart_style, 'marginBottom': '40px'}),\n",
    "                    \n",
    "                    # Chart 4 - Correlation Analysis\n",
    "                    html.Div([\n",
    "                        html.H4(\"CORRELATION ANALYSIS\", \n",
    "                               style={\n",
    "                                   'color': COLORS['accent'], 'textAlign': 'center', 'marginBottom': '20px',\n",
    "                                   'fontWeight': '900', 'fontSize': '1.4rem', 'letterSpacing': '2px',\n",
    "                                   'fontFamily': 'Orbitron, monospace',\n",
    "                                   'textShadow': f'0 0 15px {COLORS[\"accent\"]}, 0 0 30px {COLORS[\"accent\"]}40',\n",
    "                                   'textTransform': 'uppercase'\n",
    "                               }),\n",
    "                        dcc.Graph(id='gpa-age-scatter', \n",
    "                                 config={'displayModeBar': True, 'displaylogo': False},\n",
    "                                 style={'height': '800px'})\n",
    "                    ], style=chart_style)\n",
    "                    \n",
    "                ], style={\n",
    "                    'height': '90vh',  # Set viewport height\n",
    "                    'overflowY': 'auto',  # Enable vertical scrolling\n",
    "                    'paddingRight': '15px',  # Space for scrollbar\n",
    "                    'scrollbarWidth': 'thin',  # Thin scrollbar for Firefox\n",
    "                    'scrollbarColor': f'{COLORS[\"neon_blue\"]} {COLORS[\"sidebar_bg\"]}'  # Custom scrollbar colors\n",
    "                })\n",
    "                \n",
    "            ], width=8)  # Right side takes 8/12 columns\n",
    "            \n",
    "        ], className=\"g-4\")\n",
    "    ], fluid=True)\n",
    "], style={\n",
    "    'backgroundColor': COLORS['dark_bg'], \n",
    "    'minHeight': '100vh', \n",
    "    'padding': '0',\n",
    "    'fontFamily': 'Rajdhani, Orbitron, monospace'\n",
    "})\n",
    "\n",
    "# Add custom CSS for date picker through app.index_string\n",
    "app.index_string = '''\n",
    "<!DOCTYPE html>\n",
    "<html>\n",
    "    <head>\n",
    "        {%metas%}\n",
    "        <title>{%title%}</title>\n",
    "        {%favicon%}\n",
    "        {%css%}\n",
    "        <style>\n",
    "            /* Custom scrollbar styling for chart container */\n",
    "            ::-webkit-scrollbar {\n",
    "                width: 12px;\n",
    "            }\n",
    "            ::-webkit-scrollbar-track {\n",
    "                background: #1A1A2E;\n",
    "                border-radius: 10px;\n",
    "            }\n",
    "            ::-webkit-scrollbar-thumb {\n",
    "                background: linear-gradient(135deg, #00F5FF, #BF40BF);\n",
    "                border-radius: 10px;\n",
    "                border: 2px solid #1A1A2E;\n",
    "            }\n",
    "            ::-webkit-scrollbar-thumb:hover {\n",
    "                background: linear-gradient(135deg, #22D3EE, #8B5FBF);\n",
    "                box-shadow: 0 0 10px rgba(0, 245, 255, 0.6);\n",
    "            }\n",
    "            \n",
    "            /* Custom Dropdown Styling */\n",
    "            .custom-dropdown .Select-control {\n",
    "                background-color: #16213E !important;\n",
    "                border: 2px solid #00F5FF60 !important;\n",
    "                border-radius: 8px !important;\n",
    "                color: #FFFFFF !important;\n",
    "            }\n",
    "            .custom-dropdown .Select-menu-outer {\n",
    "                background-color: #1A1A2E !important;\n",
    "                border: 2px solid #00F5FF !important;\n",
    "                border-radius: 10px !important;\n",
    "                box-shadow: 0 0 20px rgba(0, 245, 255, 0.4) !important;\n",
    "            }\n",
    "            .custom-dropdown .Select-option {\n",
    "                background-color: #16213E !important;\n",
    "                color: #FFFFFF !important;\n",
    "                padding: 10px !important;\n",
    "            }\n",
    "            .custom-dropdown .Select-option:hover {\n",
    "                background-color: #22D3EE !important;\n",
    "                color: #000000 !important;\n",
    "            }\n",
    "            .custom-dropdown .Select-value-label {\n",
    "                color: #FFFFFF !important;\n",
    "            }\n",
    "            .custom-dropdown .Select-arrow-zone {\n",
    "                padding-right: 10px !important;\n",
    "            }\n",
    "            .custom-dropdown .Select-arrow {\n",
    "                border-color: #00F5FF transparent transparent !important;\n",
    "            }\n",
    "            \n",
    "            /* Radio Items and Checklist Styling */\n",
    "            .dash-checkbox input[type=\"checkbox\"] {\n",
    "                accent-color: #00F5FF !important;\n",
    "                transform: scale(1.2);\n",
    "            }\n",
    "            .dash-radioitems input[type=\"radio\"] {\n",
    "                accent-color: #39FF14 !important;\n",
    "                transform: scale(1.2);\n",
    "            }\n",
    "            \n",
    "            /* Date picker modal-style positioning */\n",
    "            .DateInput_input {\n",
    "                z-index: 10 !important;\n",
    "                position: relative !important;\n",
    "                background: #16213E !important;\n",
    "                color: #FFFFFF !important;\n",
    "                border: 2px solid #00F5FF !important;\n",
    "                border-radius: 8px !important;\n",
    "            }\n",
    "            .DateRangePickerInput {\n",
    "                background: transparent !important;\n",
    "                border: none !important;\n",
    "            }\n",
    "            .DateRangePicker {\n",
    "                position: relative !important;\n",
    "                z-index: 10 !important;\n",
    "            }\n",
    "            .DateInput {\n",
    "                position: relative !important;\n",
    "                z-index: 10 !important;\n",
    "            }\n",
    "            .SingleDatePicker {\n",
    "                position: relative !important;\n",
    "                z-index: 10 !important;\n",
    "            }\n",
    "            .DateRangePicker__picker {\n",
    "                position: absolute !important;\n",
    "                top: 100% !important;\n",
    "                left: 0 !important;\n",
    "                z-index: 9999 !important;\n",
    "                background: #1A1A2E !important;\n",
    "                border: 2px solid #00F5FF !important;\n",
    "                border-radius: 15px !important;\n",
    "                box-shadow: 0 0 40px rgba(0, 245, 255, 0.6) !important;\n",
    "                margin-top: 8px !important;\n",
    "                transform: none !important;\n",
    "            }\n",
    "            .DateRangePicker__picker--direction-up {\n",
    "                top: auto !important;\n",
    "                bottom: 100% !important;\n",
    "                margin-bottom: 8px !important;\n",
    "                margin-top: 0 !important;\n",
    "            }\n",
    "            .DateRangePicker__picker--direction-down {\n",
    "                top: 100% !important;\n",
    "                bottom: auto !important;\n",
    "                margin-top: 8px !important;\n",
    "                margin-bottom: 0 !important;\n",
    "            }\n",
    "            .DayPicker {\n",
    "                background: #1A1A2E !important;\n",
    "            }\n",
    "            .DayPicker__wrapper {\n",
    "                background: transparent !important;\n",
    "            }\n",
    "            .CalendarDay {\n",
    "                background: #16213E !important;\n",
    "                color: #FFFFFF !important;\n",
    "                border: 1px solid #00F5FF20 !important;\n",
    "            }\n",
    "            .CalendarDay:hover {\n",
    "                background: #22D3EE !important;\n",
    "                color: #000000 !important;\n",
    "            }\n",
    "            .CalendarDay__selected {\n",
    "                background: #00F5FF !important;\n",
    "                color: #000000 !important;\n",
    "            }\n",
    "            .CalendarDay__selected:hover {\n",
    "                background: #00F5FF !important;\n",
    "                color: #000000 !important;\n",
    "            }\n",
    "            .CalendarDay__hovered_span {\n",
    "                background: #22D3EE !important;\n",
    "                color: #000000 !important;\n",
    "            }\n",
    "            .CalendarDay__blocked_out_of_range {\n",
    "                background: #0A0A1A !important;\n",
    "                color: #666 !important;\n",
    "            }\n",
    "            .DayPickerNavigation_button {\n",
    "                background: #16213E !important;\n",
    "                border: 2px solid #00F5FF !important;\n",
    "                color: #00F5FF !important;\n",
    "            }\n",
    "            .DayPickerNavigation_button:hover {\n",
    "                background: #00F5FF !important;\n",
    "                color: #000000 !important;\n",
    "            }\n",
    "            .DayPicker_weekHeader {\n",
    "                color: #00F5FF !important;\n",
    "            }\n",
    "            .CalendarMonth_caption {\n",
    "                color: #00F5FF !important;\n",
    "                font-weight: bold !important;\n",
    "            }\n",
    "        </style>\n",
    "    </head>\n",
    "    <body>\n",
    "        {%app_entry%}\n",
    "        <footer>\n",
    "            {%config%}\n",
    "            {%scripts%}\n",
    "            {%renderer%}\n",
    "        </footer>\n",
    "    </body>\n",
    "</html>\n",
    "'''\n",
    "\n",
    "# ================================\n",
    "# CALLBACKS\n",
    "# ================================\n",
    "\n",
    "# Update live time\n",
    "@app.callback(\n",
    "    Output('live-time', 'children'),\n",
    "    Input('interval-update', 'n_intervals')\n",
    ")\n",
    "def update_time(n):\n",
    "    return datetime.now().strftime(\"Last Updated: %Y-%m-%d %H:%M:%S\")\n",
    "\n",
    "# Date filter quick buttons callbacks\n",
    "@app.callback(\n",
    "    [Output('start-date-picker', 'date'),\n",
    "     Output('end-date-picker', 'date')],\n",
    "    [Input('btn-all-years', 'n_clicks')],\n",
    "    prevent_initial_call=True\n",
    ")\n",
    "def update_date_range(btn_all):\n",
    "    from dash import callback_context\n",
    "    ctx = callback_context\n",
    "    if not ctx.triggered:\n",
    "        return datetime(2020, 1, 1), datetime(2026, 12, 31)\n",
    "    \n",
    "    button_id = ctx.triggered[0]['prop_id'].split('.')[0]\n",
    "    \n",
    "    if button_id == 'btn-all-years':\n",
    "        return datetime(2020, 1, 1), datetime(2026, 12, 31)\n",
    "    \n",
    "    return datetime(2020, 1, 1), datetime(2026, 12, 31)\n",
    "\n",
    "# Filter data based on search box AND date range - UPDATED\n",
    "@app.callback(\n",
    "    Output('filtered-data', 'data'),\n",
    "    [Input('search-box', 'value'),\n",
    "     Input('start-date-picker', 'date'),\n",
    "     Input('end-date-picker', 'date')]\n",
    ")\n",
    "def filter_data(search, start_date, end_date):\n",
    "    filtered_df = df_students.copy()\n",
    "    \n",
    "    # Search filter\n",
    "    if search:\n",
    "        filtered_df = filtered_df[\n",
    "            filtered_df['STUDENT ID'].str.contains(search, case=False, na=False)\n",
    "        ]\n",
    "    \n",
    "    # Date range filter - filter by COMMENCEMENT DATE\n",
    "    if start_date and end_date:\n",
    "        start_date = pd.to_datetime(start_date)\n",
    "        end_date = pd.to_datetime(end_date)\n",
    "        \n",
    "        # Convert COMMENCEMENT DATE to datetime if it's not already\n",
    "        filtered_df['COMMENCEMENT DATE'] = pd.to_datetime(filtered_df['COMMENCEMENT DATE'], errors='coerce')\n",
    "        \n",
    "        # Filter by date range\n",
    "        filtered_df = filtered_df[\n",
    "            (filtered_df['COMMENCEMENT DATE'] >= start_date) & \n",
    "            (filtered_df['COMMENCEMENT DATE'] <= end_date)\n",
    "        ]\n",
    "    \n",
    "    return filtered_df.to_dict('records')\n",
    "\n",
    "# Update KPI cards - show filtered data statistics\n",
    "@app.callback(\n",
    "    Output('kpi-cards-left', 'children'),\n",
    "    Input('filtered-data', 'data')\n",
    ")\n",
    "def update_kpi_cards(filtered_data):\n",
    "    if not filtered_data:\n",
    "        # Show empty state\n",
    "        return html.Div([\n",
    "            html.P(\"No data matches current filters\", \n",
    "                   style={\n",
    "                       'textAlign': 'center', \n",
    "                       'color': COLORS['text_dim'], \n",
    "                       'fontSize': '1.1rem',\n",
    "                       'fontFamily': 'Rajdhani, monospace',\n",
    "                       'marginTop': '40px'\n",
    "                   })\n",
    "        ])\n",
    "    \n",
    "    df = pd.DataFrame(filtered_data)\n",
    "    \n",
    "    total_students = len(df)\n",
    "    avg_gpa = df['CUMULATIVE_GPA'].mean()\n",
    "    avg_age = df['AGE_AT_QUALIFICATION'].mean()\n",
    "    citizenship_counts = df['CITIZENSHIP'].value_counts()\n",
    "    \n",
    "    return html.Div([\n",
    "        # Compact KPI cards for left sidebar\n",
    "        html.Div([\n",
    "            html.Div([\n",
    "                html.I(className=\"fas fa-users\", style={\n",
    "                    'fontSize': '1.5rem', 'color': COLORS['primary'],\n",
    "                    'marginRight': '12px'\n",
    "                }),\n",
    "                html.Div([\n",
    "                    html.H5(f\"{total_students:,}\", style={\n",
    "                        'color': COLORS['light'], 'margin': '0', 'fontWeight': '700',\n",
    "                        'fontFamily': 'Orbitron, monospace'\n",
    "                    }),\n",
    "                    html.P(\"Filtered Students\", style={\n",
    "                        'color': COLORS['primary'], 'margin': '0', 'fontSize': '0.85rem',\n",
    "                        'fontFamily': 'Rajdhani, monospace'\n",
    "                    })\n",
    "                ])\n",
    "            ], style={\n",
    "                'display': 'flex', 'alignItems': 'center', 'padding': '15px',\n",
    "                'backgroundColor': COLORS['sidebar_bg'], 'borderRadius': '10px',\n",
    "                'marginBottom': '10px', 'border': f'1px solid {COLORS[\"primary\"]}40'\n",
    "            }),\n",
    "            \n",
    "            html.Div([\n",
    "                html.I(className=\"fas fa-chart-line\", style={\n",
    "                    'fontSize': '1.5rem', 'color': COLORS['success'],\n",
    "                    'marginRight': '12px'\n",
    "                }),\n",
    "                html.Div([\n",
    "                    html.H5(f\"{avg_gpa:.2f}\", style={\n",
    "                        'color': COLORS['light'], 'margin': '0', 'fontWeight': '700',\n",
    "                        'fontFamily': 'Orbitron, monospace'\n",
    "                    }),\n",
    "                    html.P(\"Average GPA\", style={\n",
    "                        'color': COLORS['success'], 'margin': '0', 'fontSize': '0.85rem',\n",
    "                        'fontFamily': 'Rajdhani, monospace'\n",
    "                    })\n",
    "                ])\n",
    "            ], style={\n",
    "                'display': 'flex', 'alignItems': 'center', 'padding': '15px',\n",
    "                'backgroundColor': COLORS['sidebar_bg'], 'borderRadius': '10px',\n",
    "                'marginBottom': '10px', 'border': f'1px solid {COLORS[\"success\"]}40'\n",
    "            }),\n",
    "            \n",
    "            html.Div([\n",
    "                html.I(className=\"fas fa-birthday-cake\", style={\n",
    "                    'fontSize': '1.5rem', 'color': COLORS['warning'],\n",
    "                    'marginRight': '12px'\n",
    "                }),\n",
    "                html.Div([\n",
    "                    html.H5(f\"{avg_age:.1f} yrs\", style={\n",
    "                        'color': COLORS['light'], 'margin': '0', 'fontWeight': '700',\n",
    "                        'fontFamily': 'Orbitron, monospace'\n",
    "                    }),\n",
    "                    html.P(\"Avg Age\", style={\n",
    "                        'color': COLORS['warning'], 'margin': '0', 'fontSize': '0.85rem',\n",
    "                        'fontFamily': 'Rajdhani, monospace'\n",
    "                    })\n",
    "                ])\n",
    "            ], style={\n",
    "                'display': 'flex', 'alignItems': 'center', 'padding': '15px',\n",
    "                'backgroundColor': COLORS['sidebar_bg'], 'borderRadius': '10px',\n",
    "                'marginBottom': '10px', 'border': f'1px solid {COLORS[\"warning\"]}40'\n",
    "            }),\n",
    "            \n",
    "            html.Div([\n",
    "                html.I(className=\"fas fa-globe\", style={\n",
    "                    'fontSize': '1.5rem', 'color': COLORS['pink'],\n",
    "                    'marginRight': '12px'\n",
    "                }),\n",
    "                html.Div([\n",
    "                    html.H5(f\"{citizenship_counts.index[0] if len(citizenship_counts) > 0 else 'N/A'}\", style={\n",
    "                        'color': COLORS['light'], 'margin': '0', 'fontWeight': '700',\n",
    "                        'fontFamily': 'Orbitron, monospace', 'fontSize': '0.9rem'\n",
    "                    }),\n",
    "                    html.P(f\"{citizenship_counts.iloc[0] if len(citizenship_counts) > 0 else 0} students\", style={\n",
    "                        'color': COLORS['pink'], 'margin': '0', 'fontSize': '0.85rem',\n",
    "                        'fontFamily': 'Rajdhani, monospace'\n",
    "                    })\n",
    "                ])\n",
    "            ], style={\n",
    "                'display': 'flex', 'alignItems': 'center', 'padding': '15px',\n",
    "                'backgroundColor': COLORS['sidebar_bg'], 'borderRadius': '10px',\n",
    "                'border': f'1px solid {COLORS[\"pink\"]}40'\n",
    "            })\n",
    "        ])\n",
    "    ])\n",
    "\n",
    "# Update Student Data Table - use filtered data instead of search\n",
    "@app.callback(\n",
    "    Output('student-data-table', 'children'),\n",
    "    Input('filtered-data', 'data')\n",
    ")\n",
    "def update_student_table(filtered_data):\n",
    "    if not filtered_data:\n",
    "        return html.Div([\n",
    "            html.P(\"🔍 No students match the current filters\", \n",
    "                   style={\n",
    "                       'textAlign': 'center', \n",
    "                       'color': COLORS['text_dim'], \n",
    "                       'fontSize': '1.1rem',\n",
    "                       'fontFamily': 'Rajdhani, monospace',\n",
    "                       'fontStyle': 'italic',\n",
    "                       'marginTop': '40px'\n",
    "                   })\n",
    "        ])\n",
    "    \n",
    "    # Use filtered data\n",
    "    student_data = pd.DataFrame(filtered_data)\n",
    "    \n",
    "    if student_data.empty:\n",
    "        return html.Div([\n",
    "            html.P(\"🔍 No students found with current filters\", \n",
    "                   style={\n",
    "                       'textAlign': 'center', \n",
    "                       'color': COLORS['danger'], \n",
    "                       'fontSize': '1.1rem',\n",
    "                       'fontFamily': 'Rajdhani, monospace',\n",
    "                       'marginTop': '40px'\n",
    "                   })\n",
    "        ])\n",
    "    \n",
    "    # Create table rows for filtered students (limit to 10 for performance)\n",
    "    table_rows = []\n",
    "    for _, student in student_data.head(10).iterrows():\n",
    "        table_rows.append(\n",
    "            html.Tr([\n",
    "                html.Td(student['STUDENT ID'], style={'color': COLORS['neon_blue'], 'fontWeight': 'bold', 'fontSize': '0.8rem'}),\n",
    "                html.Td(student['GENDER'], style={'color': COLORS['light'], 'fontSize': '0.8rem'}),\n",
    "                html.Td(student['CITIZENSHIP'], style={'color': COLORS['neon_purple'], 'fontSize': '0.8rem'}),\n",
    "                html.Td(student['DEPARTMENT'], style={'color': COLORS['accent'], 'fontSize': '0.8rem'}),\n",
    "                html.Td(f\"{student['CUMULATIVE_GPA']:.2f}\", style={'color': COLORS['warning'], 'fontWeight': 'bold', 'fontSize': '0.8rem'}),\n",
    "                html.Td(student['COURSE FUNDING'], style={'color': COLORS['text'], 'fontSize': '0.8rem'})\n",
    "            ], style={\n",
    "                'borderBottom': f'1px solid {COLORS[\"neon_blue\"]}40',\n",
    "                'transition': 'all 0.3s ease'\n",
    "            })\n",
    "        )\n",
    "    \n",
    "    display_count = min(10, len(student_data))\n",
    "    total_count = len(student_data)\n",
    "    \n",
    "    return html.Div([\n",
    "        html.P(f\"📊 Showing {display_count} of {total_count} filtered students\", \n",
    "               style={\n",
    "                   'color': COLORS['neon_green'], \n",
    "                   'fontSize': '0.9rem',\n",
    "                   'fontFamily': 'Orbitron, monospace',\n",
    "                   'marginBottom': '15px',\n",
    "                   'textAlign': 'center'\n",
    "               }),\n",
    "        html.Table([\n",
    "            html.Thead([\n",
    "                html.Tr([\n",
    "                    html.Th(\"ID\", style={'color': COLORS['neon_blue'], 'fontFamily': 'Orbitron, monospace', 'fontSize': '0.8rem'}),\n",
    "                    html.Th(\"Gender\", style={'color': COLORS['light'], 'fontFamily': 'Orbitron, monospace', 'fontSize': '0.8rem'}),\n",
    "                    html.Th(\"Citizenship\", style={'color': COLORS['neon_purple'], 'fontFamily': 'Orbitron, monospace', 'fontSize': '0.8rem'}),\n",
    "                    html.Th(\"Department\", style={'color': COLORS['accent'], 'fontFamily': 'Orbitron, monospace', 'fontSize': '0.8rem'}),\n",
    "                    html.Th(\"GPA\", style={'color': COLORS['warning'], 'fontFamily': 'Orbitron, monospace', 'fontSize': '0.8rem'}),\n",
    "                    html.Th(\"Funding\", style={'color': COLORS['text'], 'fontFamily': 'Orbitron, monospace', 'fontSize': '0.8rem'})\n",
    "                ], style={\n",
    "                    'borderBottom': f'2px solid {COLORS[\"neon_blue\"]}',\n",
    "                    'backgroundColor': COLORS['sidebar_bg']\n",
    "                })\n",
    "            ]),\n",
    "            html.Tbody(table_rows)\n",
    "        ], style={\n",
    "            'width': '100%',\n",
    "            'fontFamily': 'Rajdhani, monospace',\n",
    "            'fontSize': '0.85rem',\n",
    "            'borderCollapse': 'collapse'\n",
    "        })\n",
    "    ])\n",
    "\n",
    "# Update chart callbacks to use filtered data\n",
    "@app.callback(\n",
    "    Output('gpa-by-dept-chart', 'figure'),\n",
    "    Input('filtered-data', 'data')\n",
    ")\n",
    "def update_gpa_dept_chart(filtered_data):\n",
    "    \"\"\"Interactive Treemap Chart with built-in hierarchical filters\"\"\"\n",
    "    \n",
    "    # Use filtered data\n",
    "    if not filtered_data:\n",
    "        return go.Figure().add_annotation(text=\"No data to display\", showarrow=False)\n",
    "    \n",
    "    df = pd.DataFrame(filtered_data)\n",
    "    # Prepare hierarchical data for treemap\n",
    "    treemap_data = df.groupby(['CITIZENSHIP', 'GENDER', 'COURSE FUNDING']).size().reset_index(name='COUNT')\n",
    "    treemap_data['PERCENTAGE'] = (treemap_data['COUNT'] / len(df) * 100).round(1)\n",
    "    \n",
    "    fig = px.treemap(\n",
    "        treemap_data,\n",
    "        path=['CITIZENSHIP', 'GENDER', 'COURSE FUNDING'],\n",
    "        values='COUNT',\n",
    "        title='<b>Student Population Breakdown</b><br><sub>Click to drill down • Hover for details</sub>',\n",
    "        color='COUNT',\n",
    "        color_continuous_scale='RdYlBu_r',\n",
    "        hover_data={'PERCENTAGE': ':.1f%'},\n",
    "        height=800\n",
    "    )\n",
    "    \n",
    "    # Apply styling\n",
    "    fig.update_layout(\n",
    "        title_font_size=18,\n",
    "        title_x=0.5,\n",
    "        font=dict(family='Orbitron, monospace', size=12),\n",
    "        paper_bgcolor='rgba(0,0,0,0)',\n",
    "        plot_bgcolor='rgba(0,0,0,0)',\n",
    "        font_color=COLORS['light'],\n",
    "        title_font_color=COLORS['secondary']\n",
    "    )\n",
    "    \n",
    "    fig.update_traces(\n",
    "        hovertemplate='<b>%{label}</b><br>' +\n",
    "                     'Count: %{value}<br>' +\n",
    "                     'Percentage: %{customdata[0]:.1f}%<br>' +\n",
    "                     '<extra></extra>',\n",
    "        textinfo='label+percent parent',\n",
    "        textfont_size=11\n",
    "    )\n",
    "    \n",
    "    return fig\n",
    "\n",
    "@app.callback(\n",
    "    Output('citizenship-chart', 'figure'),\n",
    "    Input('filtered-data', 'data')\n",
    ")\n",
    "def update_citizenship_chart(filtered_data):\n",
    "    \"\"\"Interactive GPA vs Age Scatter with built-in dropdown filters\"\"\"\n",
    "    \n",
    "    # Use filtered data\n",
    "    if not filtered_data:\n",
    "        return go.Figure().add_annotation(text=\"No data to display\", showarrow=False)\n",
    "    \n",
    "    df = pd.DataFrame(filtered_data)\n",
    "    scatter_data = df.dropna(subset=['CUMULATIVE_GPA', 'AGE_AT_QUALIFICATION']).copy()\n",
    "    if 'SUCCESS_SCORE' not in scatter_data.columns:\n",
    "        scatter_data['SUCCESS_SCORE'] = (scatter_data['CUMULATIVE_GPA'] / 4.0 * 100).round(1)\n",
    "    \n",
    "    # Create figure\n",
    "    fig = go.Figure()\n",
    "    \n",
    "    citizenship_types = ['Citizen', 'PR', 'International']\n",
    "    citizenship_colors = [COLORS['primary'], COLORS['secondary'], COLORS['pink']]\n",
    "    \n",
    "    # Add traces for each citizenship type\n",
    "    for i, citizenship in enumerate(citizenship_types):\n",
    "        citizenship_subset = scatter_data[scatter_data['CITIZENSHIP'] == citizenship]\n",
    "        if not citizenship_subset.empty:\n",
    "            fig.add_trace(go.Scatter(\n",
    "                x=citizenship_subset['AGE_AT_QUALIFICATION'],\n",
    "                y=citizenship_subset['CUMULATIVE_GPA'],\n",
    "                mode='markers',\n",
    "                marker=dict(\n",
    "                    size=10,\n",
    "                    color=citizenship_subset['SUCCESS_SCORE'],\n",
    "                    colorscale='Viridis',\n",
    "                    showscale=i==0,\n",
    "                    line=dict(width=2, color='white'),\n",
    "                    opacity=0.8,\n",
    "                    colorbar=dict(title=\"Success Score\", len=0.8) if i==0 else None\n",
    "                ),\n",
    "                text=[f\"Student ID: {row['STUDENT ID']}<br>\" +\n",
    "                      f\"GPA: {row['CUMULATIVE_GPA']:.2f}<br>\" +\n",
    "                      f\"Age: {row['AGE_AT_QUALIFICATION']:.0f} years<br>\" +\n",
    "                      f\"Success Score: {row['SUCCESS_SCORE']:.1f}<br>\" +\n",
    "                      f\"Citizenship: {row['CITIZENSHIP']}\"\n",
    "                      for _, row in citizenship_subset.iterrows()],\n",
    "                hovertemplate='%{text}<extra></extra>',\n",
    "                name=f'{citizenship} ({len(citizenship_subset)} students)',\n",
    "                visible=True\n",
    "            ))\n",
    "    \n",
    "    # Add high achievers traces (GPA > 3.5)\n",
    "    for i, citizenship in enumerate(citizenship_types):\n",
    "        high_achievers = scatter_data[(scatter_data['CITIZENSHIP'] == citizenship) & \n",
    "                                     (scatter_data['CUMULATIVE_GPA'] > 3.5)]\n",
    "        if not high_achievers.empty:\n",
    "            fig.add_trace(go.Scatter(\n",
    "                x=high_achievers['AGE_AT_QUALIFICATION'],\n",
    "                y=high_achievers['CUMULATIVE_GPA'],\n",
    "                mode='markers',\n",
    "                marker=dict(\n",
    "                    size=12,\n",
    "                    color=citizenship_colors[i],\n",
    "                    line=dict(width=3, color='gold'),\n",
    "                    opacity=0.9,\n",
    "                    symbol='star'\n",
    "                ),\n",
    "                name=f'{citizenship} High Achievers ({len(high_achievers)})',\n",
    "                visible=False\n",
    "            ))\n",
    "    \n",
    "    # Create dropdown options\n",
    "    num_citizenship = len(citizenship_types)\n",
    "    dropdown_buttons = [\n",
    "        dict(label='🌍 All Citizenship Types', \n",
    "             method='update', \n",
    "             args=[{'visible': [True] * num_citizenship + [False] * num_citizenship}]),\n",
    "        dict(label='⭐ High Achievers (GPA > 3.5)', \n",
    "             method='update', \n",
    "             args=[{'visible': [False] * num_citizenship + [True] * num_citizenship}])\n",
    "    ]\n",
    "    \n",
    "    # Add individual citizenship options\n",
    "    for i, citizenship in enumerate(citizenship_types):\n",
    "        visibility = [False] * (num_citizenship * 2)\n",
    "        visibility[i] = True\n",
    "        dropdown_buttons.append(\n",
    "            dict(label=f'🎯 {citizenship} Only',\n",
    "                 method='update',\n",
    "                 args=[{'visible': visibility}])\n",
    "        )\n",
    "    \n",
    "    # Configure layout with embedded dropdown\n",
    "    fig.update_layout(\n",
    "        title=dict(\n",
    "            text='<b>🎯 Interactive Age vs GPA Analysis</b><br>' +\n",
    "                 '<sub>Use filters below to explore different groups</sub>',\n",
    "            font=dict(size=18, family='Orbitron, monospace', color=COLORS['secondary']),\n",
    "            x=0.5\n",
    "        ),\n",
    "        xaxis=dict(title='Age at Qualification', gridcolor='rgba(200,200,200,0.3)'),\n",
    "        yaxis=dict(title='Cumulative GPA', gridcolor='rgba(200,200,200,0.3)', range=[1.0, 4.0]),\n",
    "        font=dict(family='Orbitron, monospace', size=12, color=COLORS['light']),\n",
    "        paper_bgcolor='rgba(0,0,0,0)',\n",
    "        plot_bgcolor='rgba(0,0,0,0)',\n",
    "        height=700,\n",
    "        margin=dict(t=150, l=80, r=120, b=80),\n",
    "        showlegend=True,\n",
    "        legend=dict(yanchor=\"top\", y=0.98, xanchor=\"left\", x=1.02),\n",
    "        updatemenus=[\n",
    "            dict(\n",
    "                buttons=dropdown_buttons,\n",
    "                direction=\"down\",\n",
    "                showactive=True,\n",
    "                x=0.02, xanchor=\"left\",\n",
    "                y=1.12, yanchor=\"top\",\n",
    "                bgcolor=COLORS['card_bg'],\n",
    "                bordercolor=COLORS['neon_blue'],\n",
    "                borderwidth=2\n",
    "            )\n",
    "        ],\n",
    "        annotations=[\n",
    "            dict(\n",
    "                text=\"🔍 Filter by Group:\",\n",
    "                x=0.02, y=1.18,\n",
    "                xref=\"paper\", yref=\"paper\",\n",
    "                showarrow=False,\n",
    "                font=dict(size=12, family='Orbitron, monospace', color=COLORS['neon_blue'])\n",
    "            )\n",
    "        ]\n",
    "    )\n",
    "    \n",
    "    # Add reference lines\n",
    "    fig.add_hline(y=2.0, line_dash=\"dot\", line_color=COLORS['danger'], line_width=2)\n",
    "    fig.add_hline(y=3.5, line_dash=\"dot\", line_color=COLORS['success'], line_width=2)\n",
    "    \n",
    "    return fig\n",
    "\n",
    "@app.callback(\n",
    "    Output('gpa-age-scatter', 'figure'),\n",
    "    Input('interval-update', 'n_intervals')\n",
    ")\n",
    "def update_scatter_chart(n):\n",
    "    \"\"\"Animated GPA Trends with built-in play/pause controls\"\"\"\n",
    "    \n",
    "    # Create period data from results\n",
    "    gpa_trends = df_results.groupby(['PERIOD', 'STUDENT ID']).agg({'GPA': 'mean'}).reset_index()\n",
    "    gpa_trends = gpa_trends.merge(df_students[['STUDENT ID', 'CITIZENSHIP']], on='STUDENT ID')\n",
    "    \n",
    "    period_summary = gpa_trends.groupby(['PERIOD', 'CITIZENSHIP']).agg({\n",
    "        'GPA': ['mean', 'count']\n",
    "    }).round(2)\n",
    "    period_summary.columns = ['AVG_GPA', 'STUDENT_COUNT']\n",
    "    period_summary = period_summary.reset_index()\n",
    "    \n",
    "    periods = sorted(period_summary['PERIOD'].unique()) if not period_summary.empty else ['2023 Sem 1']\n",
    "    citizenship_types = ['Citizen', 'PR', 'International']\n",
    "    citizenship_colors = [COLORS['primary'], COLORS['secondary'], COLORS['pink']]\n",
    "    \n",
    "    # Create frames for animation\n",
    "    frames = []\n",
    "    for period in periods:\n",
    "        period_frame = period_summary[period_summary['PERIOD'] == period]\n",
    "        \n",
    "        if not period_frame.empty:\n",
    "            frames.append(\n",
    "                go.Frame(\n",
    "                    data=[\n",
    "                        go.Scatter(\n",
    "                            x=period_frame['CITIZENSHIP'],\n",
    "                            y=period_frame['AVG_GPA'],\n",
    "                            mode='markers+lines+text',\n",
    "                            marker=dict(\n",
    "                                size=[15 + (count/3) for count in period_frame['STUDENT_COUNT']],\n",
    "                                color=citizenship_colors[:len(period_frame)],\n",
    "                                line=dict(width=3, color='white'),\n",
    "                                opacity=0.8\n",
    "                            ),\n",
    "                            line=dict(width=4, color=COLORS['secondary']),\n",
    "                            text=[f\"{gpa:.2f}\" for gpa in period_frame['AVG_GPA']],\n",
    "                            textposition='top center',\n",
    "                            textfont=dict(size=14, color=COLORS['light']),\n",
    "                            hovertemplate='<b>%{x}</b><br>GPA: %{y:.2f}<br>Students: %{customdata}<br><extra></extra>',\n",
    "                            customdata=period_frame['STUDENT_COUNT'],\n",
    "                            name=period\n",
    "                        )\n",
    "                    ],\n",
    "                    name=period\n",
    "                )\n",
    "            )\n",
    "    \n",
    "    # Create initial frame\n",
    "    if periods:\n",
    "        initial_data = period_summary[period_summary['PERIOD'] == periods[0]]\n",
    "    else:\n",
    "        initial_data = pd.DataFrame({\n",
    "            'CITIZENSHIP': citizenship_types,\n",
    "            'AVG_GPA': [2.5, 2.7, 2.8],\n",
    "            'STUDENT_COUNT': [50, 30, 20]\n",
    "        })\n",
    "    \n",
    "    fig = go.Figure(\n",
    "        data=[\n",
    "            go.Scatter(\n",
    "                x=initial_data['CITIZENSHIP'],\n",
    "                y=initial_data['AVG_GPA'],\n",
    "                mode='markers+lines+text',\n",
    "                marker=dict(\n",
    "                    size=[15 + (count/3) for count in initial_data['STUDENT_COUNT']],\n",
    "                    color=citizenship_colors[:len(initial_data)],\n",
    "                    line=dict(width=3, color='white'),\n",
    "                    opacity=0.8\n",
    "                ),\n",
    "                line=dict(width=4, color=COLORS['secondary']),\n",
    "                text=[f\"{gpa:.2f}\" for gpa in initial_data['AVG_GPA']],\n",
    "                textposition='top center',\n",
    "                textfont=dict(size=14, color=COLORS['light']),\n",
    "                hovertemplate='<b>%{x}</b><br>GPA: %{y:.2f}<br>Students: %{customdata}<br><extra></extra>',\n",
    "                customdata=initial_data['STUDENT_COUNT']\n",
    "            )\n",
    "        ],\n",
    "        frames=frames if frames else []\n",
    "    )\n",
    "    \n",
    "    # Enhanced layout with animation controls\n",
    "    fig.update_layout(\n",
    "        title=dict(\n",
    "            text='<b>📈 GPA Evolution Over Time</b><br><sub>Use controls below to play animation</sub>',\n",
    "            font=dict(size=18, family='Orbitron, monospace', color=COLORS['accent']),\n",
    "            x=0.5\n",
    "        ),\n",
    "        xaxis=dict(title='Citizenship Status', gridcolor='rgba(200,200,200,0.3)'),\n",
    "        yaxis=dict(title='Average GPA', range=[1.5, 4.0], gridcolor='rgba(200,200,200,0.3)'),\n",
    "        font=dict(family='Orbitron, monospace', size=12, color=COLORS['light']),\n",
    "        paper_bgcolor='rgba(0,0,0,0)',\n",
    "        plot_bgcolor='rgba(0,0,0,0)',\n",
    "        height=800,\n",
    "        showlegend=False,\n",
    "        updatemenus=[\n",
    "            dict(\n",
    "                type='buttons',\n",
    "                showactive=False,\n",
    "                x=0.1, xanchor='left',\n",
    "                y=1.18, yanchor='top',\n",
    "                bgcolor=COLORS['card_bg'],\n",
    "                bordercolor=COLORS['accent'],\n",
    "                borderwidth=2,\n",
    "                buttons=[\n",
    "                    dict(label='▶️ Play',\n",
    "                         method='animate',\n",
    "                         args=[None, {'frame': {'duration': 1200, 'redraw': True},\n",
    "                                     'fromcurrent': True,\n",
    "                                     'transition': {'duration': 400}}]),\n",
    "                    dict(label='⏸️ Pause',\n",
    "                         method='animate',\n",
    "                         args=[[None], {'frame': {'duration': 0, 'redraw': False},\n",
    "                                       'mode': 'immediate'}]),\n",
    "                    dict(label='🔄 Reset',\n",
    "                         method='animate',\n",
    "                         args=[[periods[0] if periods else None], \n",
    "                               {'frame': {'duration': 0, 'redraw': True}}])\n",
    "                ]\n",
    "            )\n",
    "        ] if frames else []\n",
    "    )\n",
    "    \n",
    "    return fig\n",
    "\n",
    "\n",
    "def update_gpa_trend_chart(filtered_data):\n",
    "    \"\"\"GPA Trend Over Time Chart with Filtered Data\"\"\"\n",
    "    \n",
    "    # Use filtered data\n",
    "    if not filtered_data:\n",
    "        return go.Figure().add_annotation(\n",
    "            text=\"No data to display\", \n",
    "            showarrow=False,\n",
    "            font=dict(size=16, color=COLORS['light'])\n",
    "        )\n",
    "    \n",
    "    df = pd.DataFrame(filtered_data)\n",
    "    \n",
    "    # Create trend data by commencement date\n",
    "    if 'COMMENCEMENT DATE' in df.columns:\n",
    "        df['COMMENCEMENT DATE'] = pd.to_datetime(df['COMMENCEMENT DATE'], errors='coerce')\n",
    "        df['Year'] = df['COMMENCEMENT DATE'].dt.year\n",
    "        \n",
    "        # Group by year and calculate average GPA\n",
    "        trend_data = df.groupby('Year')['CUMULATIVE_GPA'].agg(['mean', 'count']).reset_index()\n",
    "        trend_data.columns = ['Year', 'Avg_GPA', 'Student_Count']\n",
    "        \n",
    "        # Create line chart\n",
    "        fig = go.Figure()\n",
    "        \n",
    "        fig.add_trace(go.Scatter(\n",
    "            x=trend_data['Year'],\n",
    "            y=trend_data['Avg_GPA'],\n",
    "            mode='lines+markers',\n",
    "            name='Average GPA',\n",
    "            line=dict(color=COLORS['neon_green'], width=3),\n",
    "            marker=dict(size=8, color=COLORS['neon_blue']),\n",
    "            hovertemplate='<b>Year: %{x}</b><br>' +\n",
    "                         'Average GPA: %{y:.2f}<br>' +\n",
    "                         'Students: %{customdata}<br>' +\n",
    "                         '<extra></extra>',\n",
    "            customdata=trend_data['Student_Count']\n",
    "        ))\n",
    "        \n",
    "        fig.update_layout(\n",
    "            title='<b>GPA Trends Over Time</b><br><sub>Average cumulative GPA by commencement year</sub>',\n",
    "            title_font_size=18,\n",
    "            title_x=0.5,\n",
    "            xaxis_title='Commencement Year',\n",
    "            yaxis_title='Average GPA',\n",
    "            font=dict(family='Orbitron, monospace', size=12, color=COLORS['light']),\n",
    "            paper_bgcolor='rgba(0,0,0,0)',\n",
    "            plot_bgcolor='rgba(0,0,0,0)',\n",
    "            height=600,\n",
    "            yaxis=dict(range=[0, 4]),\n",
    "            xaxis=dict(tickmode='linear')\n",
    "        )\n",
    "        \n",
    "        return fig\n",
    "    else:\n",
    "        return go.Figure().add_annotation(\n",
    "            text=\"Date information not available\", \n",
    "            showarrow=False,\n",
    "            font=dict(size=16, color=COLORS['light'])\n",
    "        )\n",
    "\n",
    "# ================================\n",
    "# RUN APPLICATION\n",
    "# ================================\n",
    "if __name__ == '__main__':\n",
    "    app.run(debug=True, host='127.0.0.1', port=8051)"
   ]
  },
  {
   "cell_type": "markdown",
   "id": "a3691697",
   "metadata": {},
   "source": [
    "### LEE SHEN LEI"
   ]
  },
  {
   "cell_type": "markdown",
   "id": "e51e48ec",
   "metadata": {},
   "source": [
    "# PART 1: DATA LOADING & PREPROCESSING\n",
    "## Setup, Data Loading, and Calculated Fields\n",
    "\n",
    "This section handles all data operations, imports, and derived field calculations needed for the analysis."
   ]
  },
  {
   "cell_type": "code",
   "execution_count": 21,
   "id": "1b7d8d75",
   "metadata": {},
   "outputs": [
    {
     "name": "stdout",
     "output_type": "stream",
     "text": [
      "📊 Imports and aesthetic configuration completed!\n"
     ]
    }
   ],
   "source": [
    "# === IMPORTS & SETUP ===\n",
    "import pandas as pd\n",
    "import numpy as np\n",
    "import plotly.express as px\n",
    "import plotly.graph_objects as go\n",
    "from plotly.subplots import make_subplots\n",
    "import warnings\n",
    "warnings.filterwarnings('ignore')\n",
    "\n",
    "# === AESTHETIC CONFIGURATION ===\n",
    "# FUTURISTIC GLOWING COLOR SCHEME (matching dashboard)\n",
    "COLORS = {\n",
    "    'primary': '#8B5FBF',      # Purple gradient\n",
    "    'secondary': '#22D3EE',    # Cyan blue  \n",
    "    'accent': '#F97316',       # Orange accent\n",
    "    'success': '#10B981',      # Green\n",
    "    'warning': '#F59E0B',      # Amber\n",
    "    'danger': '#EF4444',       # Red\n",
    "    'pink': '#EC4899',         # Pink for cards\n",
    "    'dark_bg': '#0A0A1A',      # Ultra dark background\n",
    "    'card_bg': '#1A1A2E',      # Dark card background with glow\n",
    "    'sidebar_bg': '#16213E',   # Glowing sidebar\n",
    "    'light': '#FFFFFF',        # White\n",
    "    'text': '#E2E8F0',         # Light gray text\n",
    "    'text_dim': '#94A3B8',     # Dimmed text\n",
    "    'neon_blue': '#00F5FF',    # Neon blue glow\n",
    "    'neon_purple': '#BF40BF',  # Neon purple glow\n",
    "    'neon_green': '#39FF14',   # Neon green glow\n",
    "    'glow_shadow': 'rgba(34, 211, 238, 0.4)',  # Glowing shadow\n",
    "    'neutral': '#6C7B7F'       # Cool gray\n",
    "}\n",
    "\n",
    "# Professional color palettes using dashboard colors\n",
    "citizenship_colors = [COLORS['primary'], COLORS['secondary'], COLORS['accent'], COLORS['pink']]\n",
    "funding_colors = [COLORS['neon_blue'], COLORS['neon_purple'], COLORS['neon_green'], COLORS['accent'], COLORS['pink']]\n",
    "gender_colors = [COLORS['primary'], COLORS['secondary']]\n",
    "\n",
    "# Global styling with futuristic dark theme\n",
    "template_config = {\n",
    "    'layout': {\n",
    "        'font': {'family': 'Orbitron, monospace', 'size': 12, 'color': COLORS['light']},\n",
    "        'paper_bgcolor': COLORS['dark_bg'],\n",
    "        'plot_bgcolor': 'rgba(0,0,0,0)',\n",
    "        'margin': {'l': 80, 'r': 120, 't': 150, 'b': 80},\n",
    "        'hovermode': 'closest',\n",
    "        'showlegend': True,\n",
    "        'legend': {\n",
    "            'orientation': 'h',\n",
    "            'yanchor': 'bottom',\n",
    "            'y': -0.2,\n",
    "            'xanchor': 'center',\n",
    "            'x': 0.5,\n",
    "            'bgcolor': 'rgba(255,255,255,0.8)',\n",
    "            'bordercolor': COLORS['neutral'],\n",
    "            'borderwidth': 1\n",
    "        }\n",
    "    }\n",
    "}\n",
    "\n",
    "print(\"📊 Imports and aesthetic configuration completed!\")"
   ]
  },
  {
   "cell_type": "code",
   "execution_count": 22,
   "id": "0f0345e2",
   "metadata": {},
   "outputs": [
    {
     "name": "stdout",
     "output_type": "stream",
     "text": [
      "📊 Loading and preprocessing data...\n",
      "✅ Data loaded successfully\n",
      "✅ Data loading completed!\n"
     ]
    }
   ],
   "source": [
    "# === DATA LOADING & PREPROCESSING ===\n",
    "print(\"📊 Loading and preprocessing data...\")\n",
    "\n",
    "# Load datasets\n",
    "try:\n",
    "    profiles = pd.read_excel(\"Cleaned_Student_Profiles.xlsx\")\n",
    "    results = pd.read_excel(\"Cleaned_Semester_Results.xlsx\")\n",
    "    courses = pd.read_excel(\"Cleaned_Course_Codes.xlsx\")\n",
    "    print(\"✅ Data loaded successfully\")\n",
    "except FileNotFoundError as e:\n",
    "    print(f\"❌ Error loading data: {e}\")\n",
    "    # Create mock data for demonstration\n",
    "    print(\"🔄 Creating mock data for demonstration...\")\n",
    "    np.random.seed(42)\n",
    "    n_students = 500\n",
    "    \n",
    "    profiles = pd.DataFrame({\n",
    "        'STUDENT ID': [f'STU{i:05d}' for i in range(1, n_students + 1)],\n",
    "        'GENDER': np.random.choice(['Male', 'Female'], n_students),\n",
    "        'CITIZENSHIP': np.random.choice(['Citizen', 'PR', 'International'], n_students, p=[0.6, 0.25, 0.15]),\n",
    "        'HIGHEST QUALIFICATION': np.random.choice(['Diploma', 'Bachelor', 'Master', 'PhD'], n_students, p=[0.3, 0.4, 0.25, 0.05]),\n",
    "        'COURSE FUNDING': np.random.choice(['Self-Funded', 'Scholarship', 'Sponsored', 'Loan'], n_students),\n",
    "        'COMMENCEMENT DATE': pd.date_range('2020-01-01', '2023-12-31', periods=n_students),\n",
    "        'COMPLETION DATE': pd.date_range('2022-01-01', '2026-12-31', periods=n_students),\n",
    "        'FULL-TIME OR PART-TIME': np.random.choice(['Full-Time', 'Part-Time'], n_students, p=[0.7, 0.3])\n",
    "    })\n",
    "    \n",
    "    # Generate results data\n",
    "    periods = ['2020 Sem 1', '2020 Sem 2', '2021 Sem 1', '2021 Sem 2', '2022 Sem 1', '2022 Sem 2', '2023 Sem 1', '2023 Sem 2']\n",
    "    n_results = n_students * 3  # Average 3 semesters per student\n",
    "    results = pd.DataFrame({\n",
    "        'STUDENT ID': np.random.choice(profiles['STUDENT ID'], n_results),\n",
    "        'PERIOD': np.random.choice(periods, n_results),\n",
    "        'GPA': np.random.beta(2, 1, n_results) * 3 + 1  # GPA between 1-4\n",
    "    })\n",
    "    results['GPA'] = results['GPA'].round(2)\n",
    "\n",
    "# Parse dates\n",
    "date_columns = ['COMMENCEMENT DATE', 'COMPLETION DATE']\n",
    "for col in date_columns:\n",
    "    if col in profiles.columns:\n",
    "        profiles[col] = pd.to_datetime(profiles[col], errors='coerce')\n",
    "\n",
    "print(\"✅ Data loading completed!\")"
   ]
  },
  {
   "cell_type": "code",
   "execution_count": 23,
   "id": "280b1369",
   "metadata": {},
   "outputs": [
    {
     "name": "stdout",
     "output_type": "stream",
     "text": [
      "🔧 Calculating derived metrics...\n",
      "🔧 Creating advanced calculated fields...\n",
      "📈 Dataset Summary: 285 students, 531 semester records\n",
      "✅ All calculated fields completed!\n",
      "============================================================\n"
     ]
    }
   ],
   "source": [
    "# === CALCULATE DERIVED METRICS ===\n",
    "print(\"🔧 Calculating derived metrics...\")\n",
    "\n",
    "# 1. Cumulative GPA per student\n",
    "cum_gpa = results.groupby('STUDENT ID', as_index=False)['GPA'].agg({\n",
    "    'CUMULATIVE_GPA': 'mean',\n",
    "    'TOTAL_SEMESTERS': 'count',\n",
    "    'BEST_GPA': 'max',\n",
    "    'WORST_GPA': 'min'\n",
    "}).round(2)\n",
    "\n",
    "# 2. Merge with profiles\n",
    "df = profiles.merge(cum_gpa, on='STUDENT ID', how='left')\n",
    "\n",
    "# 3. Calculate completion time and academic outcome\n",
    "df['COMPLETION_MONTHS'] = (df['COMPLETION DATE'] - df['COMMENCEMENT DATE']).dt.days / 30.44\n",
    "df['ACADEMIC_OUTCOME'] = np.where(df['CUMULATIVE_GPA'] >= 2.0, 'Pass', 'Fail')\n",
    "df['PERFORMANCE_TIER'] = pd.cut(df['CUMULATIVE_GPA'], \n",
    "                               bins=[0, 2.0, 2.5, 3.0, 4.0], \n",
    "                               labels=['Poor', 'Average', 'Good', 'Excellent'])\n",
    "\n",
    "# 4. NEW CALCULATED FIELDS - Advanced Analytics\n",
    "print(\"🔧 Creating advanced calculated fields...\")\n",
    "\n",
    "# Academic Progress Metrics\n",
    "df['GPA_IMPROVEMENT'] = df['BEST_GPA'] - df['WORST_GPA']  # Range of performance\n",
    "df['GPA_VOLATILITY'] = df['GPA_IMPROVEMENT'] / df['TOTAL_SEMESTERS']  # Volatility per semester\n",
    "df['ACADEMIC_EFFICIENCY'] = df['CUMULATIVE_GPA'] / df['COMPLETION_MONTHS']  # Performance per month\n",
    "df['STUDY_INTENSITY'] = df['TOTAL_SEMESTERS'] / df['COMPLETION_MONTHS'] * 12  # Semesters per year\n",
    "\n",
    "# Performance Categories\n",
    "df['FAST_TRACK'] = np.where(df['COMPLETION_MONTHS'] <= 24, 'Fast Track', \n",
    "                   np.where(df['COMPLETION_MONTHS'] <= 36, 'Standard', 'Extended'))\n",
    "\n",
    "# Financial & Demographic Scoring\n",
    "funding_priority = {'Scholarship': 4, 'Sponsored': 3, 'Loan': 2, 'Self-Funded': 1}\n",
    "df['FUNDING_PRIORITY'] = df['COURSE FUNDING'].map(funding_priority)\n",
    "\n",
    "# Academic Risk Assessment\n",
    "df['RISK_SCORE'] = (\n",
    "    np.where(df['CUMULATIVE_GPA'] < 2.0, 3, 0) +  # Academic risk\n",
    "    np.where(df['COMPLETION_MONTHS'] > 48, 2, 0) +  # Time risk\n",
    "    np.where(df['GPA_VOLATILITY'] > 0.1, 1, 0)     # Consistency risk\n",
    ")\n",
    "df['RISK_CATEGORY'] = pd.cut(df['RISK_SCORE'], \n",
    "                            bins=[-1, 0, 2, 6], \n",
    "                            labels=['Low Risk', 'Medium Risk', 'High Risk'])\n",
    "\n",
    "# Success Prediction Score (0-100)\n",
    "df['SUCCESS_SCORE'] = (\n",
    "    (df['CUMULATIVE_GPA'] / 4.0 * 40) +  # 40% weight on GPA\n",
    "    (np.where(df['COMPLETION_MONTHS'] <= 36, 30, \n",
    "             np.where(df['COMPLETION_MONTHS'] <= 48, 20, 10))) +  # 30% on completion speed\n",
    "    (df['FUNDING_PRIORITY'] * 5) +  # 20% on funding\n",
    "    (np.where(df['GPA_VOLATILITY'] <= 0.05, 10, \n",
    "             np.where(df['GPA_VOLATILITY'] <= 0.1, 5, 0)))  # 10% on consistency\n",
    ").round(1)\n",
    "\n",
    "# 5. Prepare period-wise data for time series analysis\n",
    "period_data = results.merge(profiles[['STUDENT ID', 'CITIZENSHIP', 'GENDER', 'COURSE FUNDING']], on='STUDENT ID')\n",
    "period_summary = period_data.groupby(['PERIOD', 'CITIZENSHIP'], as_index=False)['GPA'].mean().round(2)\n",
    "\n",
    "print(f\"📈 Dataset Summary: {len(df)} students, {len(results)} semester records\")\n",
    "print(\"✅ All calculated fields completed!\")\n",
    "print(\"=\" * 60)"
   ]
  },
  {
   "cell_type": "markdown",
   "id": "0e2c4656",
   "metadata": {},
   "source": [
    "# PART 2: INDIVIDUAL CHART CREATIONS\n",
    "## Professional Analytics Charts with Template Aesthetics\n",
    "\n",
    "This section creates 4 individual charts with modern styling, interactive elements, and comprehensive insights matching the dashboard template aesthetic."
   ]
  },
  {
   "cell_type": "code",
   "execution_count": 24,
   "id": "ebd17c58",
   "metadata": {},
   "outputs": [
    {
     "name": "stdout",
     "output_type": "stream",
     "text": [
      "🎨 Creating Chart 1: Student Distribution Treemap...\n"
     ]
    },
    {
     "data": {
      "application/vnd.plotly.v1+json": {
       "config": {
        "plotlyServerURL": "https://plot.ly"
       },
       "data": [
        {
         "branchvalues": "total",
         "customdata": [
          [
           9.1,
           26
          ],
          [
           30.2,
           86
          ],
          [
           5.6,
           16
          ],
          [
           8.4,
           24
          ],
          [
           0.4,
           1
          ],
          [
           0.4,
           1
          ],
          [
           19.6,
           56
          ],
          [
           1.1,
           3
          ],
          [
           2.1,
           6
          ],
          [
           1.4,
           4
          ],
          [
           1.4,
           4
          ],
          [
           0.4,
           1
          ],
          [
           2.5,
           7
          ],
          [
           13,
           37
          ],
          [
           3.5,
           10
          ],
          [
           1.1,
           3
          ],
          [
           "(?)",
           21.352941176470587
          ],
          [
           "(?)",
           63.81283422459893
          ],
          [
           "(?)",
           12.586206896551724
          ],
          [
           "(?)",
           18.294117647058822
          ],
          [
           0.4,
           1
          ],
          [
           "(?)",
           21.352941176470587
          ],
          [
           "(?)",
           56.80995475113122
          ],
          [
           "(?)",
           12.2
          ]
         ],
         "domain": {
          "x": [
           0,
           1
          ],
          "y": [
           0,
           1
          ]
         },
         "hovertemplate": "<b>%{label}</b><br>Count: %{value}<br>Percentage: %{customdata[0]:.1f}%<extra></extra>",
         "ids": [
          "FOREIGNER/F/Individual",
          "SG CITIZEN/F/Individual",
          "SG PR/F/Individual",
          "SG CITIZEN/M/Individual",
          "SG PR/M/Individual",
          "FOREIGNER/F/Individual - SFC",
          "SG CITIZEN/F/Individual - SFC",
          "SG PR/F/Individual - SFC",
          "SG CITIZEN/M/Individual - SFC",
          "SG CITIZEN/F/Individual - SFC + $1000 SCHOLARSHIP",
          "SG CITIZEN/F/Individual - Waived App Fee",
          "SG CITIZEN/M/Individual - Waived App Fee",
          "FOREIGNER/F/Sponsored",
          "SG CITIZEN/F/Sponsored",
          "SG PR/F/Sponsored",
          "SG CITIZEN/M/Sponsored",
          "FOREIGNER/F",
          "SG CITIZEN/F",
          "SG PR/F",
          "SG CITIZEN/M",
          "SG PR/M",
          "FOREIGNER",
          "SG CITIZEN",
          "SG PR"
         ],
         "labels": [
          "Individual",
          "Individual",
          "Individual",
          "Individual",
          "Individual",
          "Individual - SFC",
          "Individual - SFC",
          "Individual - SFC",
          "Individual - SFC",
          "Individual - SFC + $1000 SCHOLARSHIP",
          "Individual - Waived App Fee",
          "Individual - Waived App Fee",
          "Sponsored",
          "Sponsored",
          "Sponsored",
          "Sponsored",
          "F",
          "F",
          "F",
          "M",
          "M",
          "FOREIGNER",
          "SG CITIZEN",
          "SG PR"
         ],
         "marker": {
          "coloraxis": "coloraxis",
          "colors": [
           26,
           86,
           16,
           24,
           1,
           1,
           56,
           3,
           6,
           4,
           4,
           1,
           7,
           37,
           10,
           3,
           21.352941176470587,
           63.81283422459893,
           12.586206896551724,
           18.294117647058822,
           1,
           21.352941176470587,
           56.80995475113122,
           12.2
          ]
         },
         "name": "",
         "parents": [
          "FOREIGNER/F",
          "SG CITIZEN/F",
          "SG PR/F",
          "SG CITIZEN/M",
          "SG PR/M",
          "FOREIGNER/F",
          "SG CITIZEN/F",
          "SG PR/F",
          "SG CITIZEN/M",
          "SG CITIZEN/F",
          "SG CITIZEN/F",
          "SG CITIZEN/M",
          "FOREIGNER/F",
          "SG CITIZEN/F",
          "SG PR/F",
          "SG CITIZEN/M",
          "FOREIGNER",
          "SG CITIZEN",
          "SG PR",
          "SG CITIZEN",
          "SG PR",
          "",
          "",
          ""
         ],
         "textfont": {
          "color": "#FFFFFF",
          "size": 11
         },
         "textinfo": "label+value+percent parent",
         "type": "treemap",
         "values": [
          26,
          86,
          16,
          24,
          1,
          1,
          56,
          3,
          6,
          4,
          4,
          1,
          7,
          37,
          10,
          3,
          34,
          187,
          29,
          34,
          1,
          34,
          221,
          30
         ]
        }
       ],
       "layout": {
        "coloraxis": {
         "colorbar": {
          "title": {
           "text": "COUNT"
          }
         },
         "colorscale": [
          [
           0,
           "#440154"
          ],
          [
           0.1111111111111111,
           "#482878"
          ],
          [
           0.2222222222222222,
           "#3e4989"
          ],
          [
           0.3333333333333333,
           "#31688e"
          ],
          [
           0.4444444444444444,
           "#26828e"
          ],
          [
           0.5555555555555556,
           "#1f9e89"
          ],
          [
           0.6666666666666666,
           "#35b779"
          ],
          [
           0.7777777777777778,
           "#6ece58"
          ],
          [
           0.8888888888888888,
           "#b5de2b"
          ],
          [
           1,
           "#fde725"
          ]
         ]
        },
        "font": {
         "color": "#FFFFFF",
         "family": "Orbitron, monospace",
         "size": 12
        },
        "height": 700,
        "legend": {
         "tracegroupgap": 0
        },
        "margin": {
         "b": 20,
         "l": 20,
         "r": 20,
         "t": 150
        },
        "paper_bgcolor": "#0A0A1A",
        "template": {
         "data": {
          "bar": [
           {
            "error_x": {
             "color": "#2a3f5f"
            },
            "error_y": {
             "color": "#2a3f5f"
            },
            "marker": {
             "line": {
              "color": "#E5ECF6",
              "width": 0.5
             },
             "pattern": {
              "fillmode": "overlay",
              "size": 10,
              "solidity": 0.2
             }
            },
            "type": "bar"
           }
          ],
          "barpolar": [
           {
            "marker": {
             "line": {
              "color": "#E5ECF6",
              "width": 0.5
             },
             "pattern": {
              "fillmode": "overlay",
              "size": 10,
              "solidity": 0.2
             }
            },
            "type": "barpolar"
           }
          ],
          "carpet": [
           {
            "aaxis": {
             "endlinecolor": "#2a3f5f",
             "gridcolor": "white",
             "linecolor": "white",
             "minorgridcolor": "white",
             "startlinecolor": "#2a3f5f"
            },
            "baxis": {
             "endlinecolor": "#2a3f5f",
             "gridcolor": "white",
             "linecolor": "white",
             "minorgridcolor": "white",
             "startlinecolor": "#2a3f5f"
            },
            "type": "carpet"
           }
          ],
          "choropleth": [
           {
            "colorbar": {
             "outlinewidth": 0,
             "ticks": ""
            },
            "type": "choropleth"
           }
          ],
          "contour": [
           {
            "colorbar": {
             "outlinewidth": 0,
             "ticks": ""
            },
            "colorscale": [
             [
              0,
              "#0d0887"
             ],
             [
              0.1111111111111111,
              "#46039f"
             ],
             [
              0.2222222222222222,
              "#7201a8"
             ],
             [
              0.3333333333333333,
              "#9c179e"
             ],
             [
              0.4444444444444444,
              "#bd3786"
             ],
             [
              0.5555555555555556,
              "#d8576b"
             ],
             [
              0.6666666666666666,
              "#ed7953"
             ],
             [
              0.7777777777777778,
              "#fb9f3a"
             ],
             [
              0.8888888888888888,
              "#fdca26"
             ],
             [
              1,
              "#f0f921"
             ]
            ],
            "type": "contour"
           }
          ],
          "contourcarpet": [
           {
            "colorbar": {
             "outlinewidth": 0,
             "ticks": ""
            },
            "type": "contourcarpet"
           }
          ],
          "heatmap": [
           {
            "colorbar": {
             "outlinewidth": 0,
             "ticks": ""
            },
            "colorscale": [
             [
              0,
              "#0d0887"
             ],
             [
              0.1111111111111111,
              "#46039f"
             ],
             [
              0.2222222222222222,
              "#7201a8"
             ],
             [
              0.3333333333333333,
              "#9c179e"
             ],
             [
              0.4444444444444444,
              "#bd3786"
             ],
             [
              0.5555555555555556,
              "#d8576b"
             ],
             [
              0.6666666666666666,
              "#ed7953"
             ],
             [
              0.7777777777777778,
              "#fb9f3a"
             ],
             [
              0.8888888888888888,
              "#fdca26"
             ],
             [
              1,
              "#f0f921"
             ]
            ],
            "type": "heatmap"
           }
          ],
          "heatmapgl": [
           {
            "colorbar": {
             "outlinewidth": 0,
             "ticks": ""
            },
            "colorscale": [
             [
              0,
              "#0d0887"
             ],
             [
              0.1111111111111111,
              "#46039f"
             ],
             [
              0.2222222222222222,
              "#7201a8"
             ],
             [
              0.3333333333333333,
              "#9c179e"
             ],
             [
              0.4444444444444444,
              "#bd3786"
             ],
             [
              0.5555555555555556,
              "#d8576b"
             ],
             [
              0.6666666666666666,
              "#ed7953"
             ],
             [
              0.7777777777777778,
              "#fb9f3a"
             ],
             [
              0.8888888888888888,
              "#fdca26"
             ],
             [
              1,
              "#f0f921"
             ]
            ],
            "type": "heatmapgl"
           }
          ],
          "histogram": [
           {
            "marker": {
             "pattern": {
              "fillmode": "overlay",
              "size": 10,
              "solidity": 0.2
             }
            },
            "type": "histogram"
           }
          ],
          "histogram2d": [
           {
            "colorbar": {
             "outlinewidth": 0,
             "ticks": ""
            },
            "colorscale": [
             [
              0,
              "#0d0887"
             ],
             [
              0.1111111111111111,
              "#46039f"
             ],
             [
              0.2222222222222222,
              "#7201a8"
             ],
             [
              0.3333333333333333,
              "#9c179e"
             ],
             [
              0.4444444444444444,
              "#bd3786"
             ],
             [
              0.5555555555555556,
              "#d8576b"
             ],
             [
              0.6666666666666666,
              "#ed7953"
             ],
             [
              0.7777777777777778,
              "#fb9f3a"
             ],
             [
              0.8888888888888888,
              "#fdca26"
             ],
             [
              1,
              "#f0f921"
             ]
            ],
            "type": "histogram2d"
           }
          ],
          "histogram2dcontour": [
           {
            "colorbar": {
             "outlinewidth": 0,
             "ticks": ""
            },
            "colorscale": [
             [
              0,
              "#0d0887"
             ],
             [
              0.1111111111111111,
              "#46039f"
             ],
             [
              0.2222222222222222,
              "#7201a8"
             ],
             [
              0.3333333333333333,
              "#9c179e"
             ],
             [
              0.4444444444444444,
              "#bd3786"
             ],
             [
              0.5555555555555556,
              "#d8576b"
             ],
             [
              0.6666666666666666,
              "#ed7953"
             ],
             [
              0.7777777777777778,
              "#fb9f3a"
             ],
             [
              0.8888888888888888,
              "#fdca26"
             ],
             [
              1,
              "#f0f921"
             ]
            ],
            "type": "histogram2dcontour"
           }
          ],
          "mesh3d": [
           {
            "colorbar": {
             "outlinewidth": 0,
             "ticks": ""
            },
            "type": "mesh3d"
           }
          ],
          "parcoords": [
           {
            "line": {
             "colorbar": {
              "outlinewidth": 0,
              "ticks": ""
             }
            },
            "type": "parcoords"
           }
          ],
          "pie": [
           {
            "automargin": true,
            "type": "pie"
           }
          ],
          "scatter": [
           {
            "fillpattern": {
             "fillmode": "overlay",
             "size": 10,
             "solidity": 0.2
            },
            "type": "scatter"
           }
          ],
          "scatter3d": [
           {
            "line": {
             "colorbar": {
              "outlinewidth": 0,
              "ticks": ""
             }
            },
            "marker": {
             "colorbar": {
              "outlinewidth": 0,
              "ticks": ""
             }
            },
            "type": "scatter3d"
           }
          ],
          "scattercarpet": [
           {
            "marker": {
             "colorbar": {
              "outlinewidth": 0,
              "ticks": ""
             }
            },
            "type": "scattercarpet"
           }
          ],
          "scattergeo": [
           {
            "marker": {
             "colorbar": {
              "outlinewidth": 0,
              "ticks": ""
             }
            },
            "type": "scattergeo"
           }
          ],
          "scattergl": [
           {
            "marker": {
             "colorbar": {
              "outlinewidth": 0,
              "ticks": ""
             }
            },
            "type": "scattergl"
           }
          ],
          "scattermapbox": [
           {
            "marker": {
             "colorbar": {
              "outlinewidth": 0,
              "ticks": ""
             }
            },
            "type": "scattermapbox"
           }
          ],
          "scatterpolar": [
           {
            "marker": {
             "colorbar": {
              "outlinewidth": 0,
              "ticks": ""
             }
            },
            "type": "scatterpolar"
           }
          ],
          "scatterpolargl": [
           {
            "marker": {
             "colorbar": {
              "outlinewidth": 0,
              "ticks": ""
             }
            },
            "type": "scatterpolargl"
           }
          ],
          "scatterternary": [
           {
            "marker": {
             "colorbar": {
              "outlinewidth": 0,
              "ticks": ""
             }
            },
            "type": "scatterternary"
           }
          ],
          "surface": [
           {
            "colorbar": {
             "outlinewidth": 0,
             "ticks": ""
            },
            "colorscale": [
             [
              0,
              "#0d0887"
             ],
             [
              0.1111111111111111,
              "#46039f"
             ],
             [
              0.2222222222222222,
              "#7201a8"
             ],
             [
              0.3333333333333333,
              "#9c179e"
             ],
             [
              0.4444444444444444,
              "#bd3786"
             ],
             [
              0.5555555555555556,
              "#d8576b"
             ],
             [
              0.6666666666666666,
              "#ed7953"
             ],
             [
              0.7777777777777778,
              "#fb9f3a"
             ],
             [
              0.8888888888888888,
              "#fdca26"
             ],
             [
              1,
              "#f0f921"
             ]
            ],
            "type": "surface"
           }
          ],
          "table": [
           {
            "cells": {
             "fill": {
              "color": "#EBF0F8"
             },
             "line": {
              "color": "white"
             }
            },
            "header": {
             "fill": {
              "color": "#C8D4E3"
             },
             "line": {
              "color": "white"
             }
            },
            "type": "table"
           }
          ]
         },
         "layout": {
          "annotationdefaults": {
           "arrowcolor": "#2a3f5f",
           "arrowhead": 0,
           "arrowwidth": 1
          },
          "autotypenumbers": "strict",
          "coloraxis": {
           "colorbar": {
            "outlinewidth": 0,
            "ticks": ""
           }
          },
          "colorscale": {
           "diverging": [
            [
             0,
             "#8e0152"
            ],
            [
             0.1,
             "#c51b7d"
            ],
            [
             0.2,
             "#de77ae"
            ],
            [
             0.3,
             "#f1b6da"
            ],
            [
             0.4,
             "#fde0ef"
            ],
            [
             0.5,
             "#f7f7f7"
            ],
            [
             0.6,
             "#e6f5d0"
            ],
            [
             0.7,
             "#b8e186"
            ],
            [
             0.8,
             "#7fbc41"
            ],
            [
             0.9,
             "#4d9221"
            ],
            [
             1,
             "#276419"
            ]
           ],
           "sequential": [
            [
             0,
             "#0d0887"
            ],
            [
             0.1111111111111111,
             "#46039f"
            ],
            [
             0.2222222222222222,
             "#7201a8"
            ],
            [
             0.3333333333333333,
             "#9c179e"
            ],
            [
             0.4444444444444444,
             "#bd3786"
            ],
            [
             0.5555555555555556,
             "#d8576b"
            ],
            [
             0.6666666666666666,
             "#ed7953"
            ],
            [
             0.7777777777777778,
             "#fb9f3a"
            ],
            [
             0.8888888888888888,
             "#fdca26"
            ],
            [
             1,
             "#f0f921"
            ]
           ],
           "sequentialminus": [
            [
             0,
             "#0d0887"
            ],
            [
             0.1111111111111111,
             "#46039f"
            ],
            [
             0.2222222222222222,
             "#7201a8"
            ],
            [
             0.3333333333333333,
             "#9c179e"
            ],
            [
             0.4444444444444444,
             "#bd3786"
            ],
            [
             0.5555555555555556,
             "#d8576b"
            ],
            [
             0.6666666666666666,
             "#ed7953"
            ],
            [
             0.7777777777777778,
             "#fb9f3a"
            ],
            [
             0.8888888888888888,
             "#fdca26"
            ],
            [
             1,
             "#f0f921"
            ]
           ]
          },
          "colorway": [
           "#636efa",
           "#EF553B",
           "#00cc96",
           "#ab63fa",
           "#FFA15A",
           "#19d3f3",
           "#FF6692",
           "#B6E880",
           "#FF97FF",
           "#FECB52"
          ],
          "font": {
           "color": "#2a3f5f"
          },
          "geo": {
           "bgcolor": "white",
           "lakecolor": "white",
           "landcolor": "#E5ECF6",
           "showlakes": true,
           "showland": true,
           "subunitcolor": "white"
          },
          "hoverlabel": {
           "align": "left"
          },
          "hovermode": "closest",
          "mapbox": {
           "style": "light"
          },
          "paper_bgcolor": "white",
          "plot_bgcolor": "#E5ECF6",
          "polar": {
           "angularaxis": {
            "gridcolor": "white",
            "linecolor": "white",
            "ticks": ""
           },
           "bgcolor": "#E5ECF6",
           "radialaxis": {
            "gridcolor": "white",
            "linecolor": "white",
            "ticks": ""
           }
          },
          "scene": {
           "xaxis": {
            "backgroundcolor": "#E5ECF6",
            "gridcolor": "white",
            "gridwidth": 2,
            "linecolor": "white",
            "showbackground": true,
            "ticks": "",
            "zerolinecolor": "white"
           },
           "yaxis": {
            "backgroundcolor": "#E5ECF6",
            "gridcolor": "white",
            "gridwidth": 2,
            "linecolor": "white",
            "showbackground": true,
            "ticks": "",
            "zerolinecolor": "white"
           },
           "zaxis": {
            "backgroundcolor": "#E5ECF6",
            "gridcolor": "white",
            "gridwidth": 2,
            "linecolor": "white",
            "showbackground": true,
            "ticks": "",
            "zerolinecolor": "white"
           }
          },
          "shapedefaults": {
           "line": {
            "color": "#2a3f5f"
           }
          },
          "ternary": {
           "aaxis": {
            "gridcolor": "white",
            "linecolor": "white",
            "ticks": ""
           },
           "baxis": {
            "gridcolor": "white",
            "linecolor": "white",
            "ticks": ""
           },
           "bgcolor": "#E5ECF6",
           "caxis": {
            "gridcolor": "white",
            "linecolor": "white",
            "ticks": ""
           }
          },
          "title": {
           "x": 0.05
          },
          "xaxis": {
           "automargin": true,
           "gridcolor": "white",
           "linecolor": "white",
           "ticks": "",
           "title": {
            "standoff": 15
           },
           "zerolinecolor": "white",
           "zerolinewidth": 2
          },
          "yaxis": {
           "automargin": true,
           "gridcolor": "white",
           "linecolor": "white",
           "ticks": "",
           "title": {
            "standoff": 15
           },
           "zerolinecolor": "white",
           "zerolinewidth": 2
          }
         }
        },
        "title": {
         "font": {
          "color": "#FFFFFF",
          "size": 18
         },
         "text": "<b>🌍 Student Population Breakdown</b><br><sub>Distribution by Citizenship, Gender, and Funding Type • Click to drill down</sub>",
         "x": 0.5
        }
       }
      }
     },
     "metadata": {},
     "output_type": "display_data"
    },
    {
     "name": "stdout",
     "output_type": "stream",
     "text": [
      "✅ Chart 1 completed!\n"
     ]
    }
   ],
   "source": [
    "# === CHART 1: PLOTLY EXPRESS - Student Distribution Treemap ===\n",
    "print(\"🎨 Creating Chart 1: Student Distribution Treemap...\")\n",
    "\n",
    "# Prepare hierarchical data for treemap\n",
    "treemap_data = df.groupby(['CITIZENSHIP', 'GENDER', 'COURSE FUNDING']).size().reset_index(name='COUNT')\n",
    "treemap_data['PERCENTAGE'] = (treemap_data['COUNT'] / len(df) * 100).round(1)\n",
    "\n",
    "fig1 = px.treemap(\n",
    "    treemap_data,\n",
    "    path=['CITIZENSHIP', 'GENDER', 'COURSE FUNDING'],\n",
    "    values='COUNT',\n",
    "    title='<b>🌍 Student Population Breakdown</b><br><sub>Distribution by Citizenship, Gender, and Funding Type • Click to drill down</sub>',\n",
    "    color='COUNT',\n",
    "    color_continuous_scale='Viridis',\n",
    "    hover_data={'PERCENTAGE': ':.1f%'}\n",
    ")\n",
    "\n",
    "fig1.update_layout(\n",
    "    font=dict(family='Orbitron, monospace', size=12, color=COLORS['light']),\n",
    "    title_font_size=18,\n",
    "    title_x=0.5,\n",
    "    title_font_color=COLORS['light'],\n",
    "    paper_bgcolor=COLORS['dark_bg'],\n",
    "    height=700,\n",
    "    margin=dict(t=150, l=20, r=20, b=20)\n",
    ")\n",
    "\n",
    "fig1.update_traces(\n",
    "    textinfo='label+value+percent parent',\n",
    "    textfont_size=11,\n",
    "    textfont_color=COLORS['light'],\n",
    "    hovertemplate='<b>%{label}</b><br>Count: %{value}<br>Percentage: %{customdata[0]:.1f}%<extra></extra>'\n",
    ")\n",
    "\n",
    "fig1.show()\n",
    "print(\"✅ Chart 1 completed!\")"
   ]
  },
  {
   "cell_type": "code",
   "execution_count": 25,
   "id": "49dfc706",
   "metadata": {},
   "outputs": [
    {
     "name": "stdout",
     "output_type": "stream",
     "text": [
      "🎨 Creating Chart 2: Interactive GPA vs Completion Time Analysis...\n"
     ]
    },
    {
     "data": {
      "application/vnd.plotly.v1+json": {
       "config": {
        "plotlyServerURL": "https://plot.ly"
       },
       "data": [
        {
         "hovertemplate": "%{text}<extra></extra>",
         "marker": {
          "color": [
           79,
           66,
           74,
           71,
           89,
           82,
           81,
           79,
           71,
           66,
           74,
           89,
           88,
           67,
           81,
           79,
           65,
           92,
           83,
           94,
           83,
           89,
           87,
           82,
           93,
           90,
           81,
           87,
           90,
           87,
           87,
           92,
           91,
           84,
           83,
           85,
           90,
           85,
           87
          ],
          "colorbar": {
           "len": 0.8,
           "tickfont": {
            "size": 10
           },
           "title": {
            "font": {
             "family": "Arial Black",
             "size": 12
            },
            "text": "Success<br>Score<br>(0-100)"
           }
          },
          "colorscale": [
           [
            0,
            "#440154"
           ],
           [
            0.1111111111111111,
            "#482878"
           ],
           [
            0.2222222222222222,
            "#3e4989"
           ],
           [
            0.3333333333333333,
            "#31688e"
           ],
           [
            0.4444444444444444,
            "#26828e"
           ],
           [
            0.5555555555555556,
            "#1f9e89"
           ],
           [
            0.6666666666666666,
            "#35b779"
           ],
           [
            0.7777777777777778,
            "#6ece58"
           ],
           [
            0.8888888888888888,
            "#b5de2b"
           ],
           [
            1,
            "#fde725"
           ]
          ],
          "line": {
           "color": "white",
           "width": 2
          },
          "opacity": 0.8,
          "showscale": true,
          "size": [
           12,
           16,
           16,
           12,
           12,
           16,
           16,
           16,
           16,
           16,
           16,
           12,
           12,
           16,
           16,
           16,
           16,
           12,
           12,
           12,
           12,
           12,
           12,
           12,
           12,
           12,
           12,
           12,
           12,
           12,
           12,
           12,
           12,
           12,
           12,
           12,
           12,
           12,
           12
          ],
          "symbol": "circle"
         },
         "mode": "markers",
         "name": "SG CITIZEN (39 students)",
         "text": [
          "Student ID: 1101-009/005<br>GPA: 2.90<br>Completion: 17.0 months<br>Success Score: 79.0<br>Risk Category: Low Risk<br>Citizenship: SG CITIZEN<br>Gender: F<br>Funding: Sponsored",
          "Student ID: 1101-009/007<br>GPA: 2.10<br>Completion: 17.0 months<br>Success Score: 66.0<br>Risk Category: Medium Risk<br>Citizenship: SG CITIZEN<br>Gender: F<br>Funding: Sponsored",
          "Student ID: 1101-009/009<br>GPA: 2.90<br>Completion: 17.0 months<br>Success Score: 74.0<br>Risk Category: Medium Risk<br>Citizenship: SG CITIZEN<br>Gender: F<br>Funding: Sponsored",
          "Student ID: 1101-010/002<br>GPA: 2.10<br>Completion: 17.0 months<br>Success Score: 71.0<br>Risk Category: Low Risk<br>Citizenship: SG CITIZEN<br>Gender: F<br>Funding: Sponsored",
          "Student ID: 1101-010/004<br>GPA: 3.90<br>Completion: 17.0 months<br>Success Score: 89.0<br>Risk Category: Low Risk<br>Citizenship: SG CITIZEN<br>Gender: F<br>Funding: Sponsored",
          "Student ID: 1101-010/011<br>GPA: 3.70<br>Completion: 17.0 months<br>Success Score: 82.0<br>Risk Category: Medium Risk<br>Citizenship: SG CITIZEN<br>Gender: F<br>Funding: Sponsored",
          "Student ID: 1101-012/010<br>GPA: 3.60<br>Completion: 17.0 months<br>Success Score: 81.0<br>Risk Category: Medium Risk<br>Citizenship: SG CITIZEN<br>Gender: F<br>Funding: Sponsored",
          "Student ID: 1101-012/011<br>GPA: 3.40<br>Completion: 17.0 months<br>Success Score: 79.0<br>Risk Category: Medium Risk<br>Citizenship: SG CITIZEN<br>Gender: F<br>Funding: Sponsored",
          "Student ID: 1102-001/002<br>GPA: 2.60<br>Completion: 17.0 months<br>Success Score: 71.0<br>Risk Category: Medium Risk<br>Citizenship: SG CITIZEN<br>Gender: F<br>Funding: Sponsored",
          "Student ID: 1102-001/005<br>GPA: 2.10<br>Completion: 17.0 months<br>Success Score: 66.0<br>Risk Category: Medium Risk<br>Citizenship: SG CITIZEN<br>Gender: F<br>Funding: Sponsored",
          "Student ID: 1102-001/007<br>GPA: 2.90<br>Completion: 17.0 months<br>Success Score: 74.0<br>Risk Category: Medium Risk<br>Citizenship: SG CITIZEN<br>Gender: F<br>Funding: Sponsored",
          "Student ID: 1102-002/002<br>GPA: 3.90<br>Completion: 17.0 months<br>Success Score: 89.0<br>Risk Category: Low Risk<br>Citizenship: SG CITIZEN<br>Gender: F<br>Funding: Sponsored",
          "Student ID: 1102-004/001<br>GPA: 3.80<br>Completion: 17.0 months<br>Success Score: 88.0<br>Risk Category: Low Risk<br>Citizenship: SG CITIZEN<br>Gender: F<br>Funding: Sponsored",
          "Student ID: 1102-004/003<br>GPA: 2.20<br>Completion: 17.0 months<br>Success Score: 67.0<br>Risk Category: Medium Risk<br>Citizenship: SG CITIZEN<br>Gender: F<br>Funding: Sponsored",
          "Student ID: 1102-004/004<br>GPA: 3.60<br>Completion: 17.0 months<br>Success Score: 81.0<br>Risk Category: Medium Risk<br>Citizenship: SG CITIZEN<br>Gender: F<br>Funding: Sponsored",
          "Student ID: 1102-004/005<br>GPA: 3.40<br>Completion: 17.0 months<br>Success Score: 79.0<br>Risk Category: Medium Risk<br>Citizenship: SG CITIZEN<br>Gender: F<br>Funding: Sponsored",
          "Student ID: 1102-004/008<br>GPA: 2.00<br>Completion: 17.0 months<br>Success Score: 65.0<br>Risk Category: Medium Risk<br>Citizenship: SG CITIZEN<br>Gender: F<br>Funding: Sponsored",
          "Student ID: 2101-107/003<br>GPA: 3.70<br>Completion: 5.0 months<br>Success Score: 92.0<br>Risk Category: Low Risk<br>Citizenship: SG CITIZEN<br>Gender: F<br>Funding: Sponsored",
          "Student ID: 2101-107/006<br>GPA: 2.80<br>Completion: 5.0 months<br>Success Score: 83.0<br>Risk Category: Low Risk<br>Citizenship: SG CITIZEN<br>Gender: F<br>Funding: Sponsored",
          "Student ID: 2101-108A/004<br>GPA: 3.90<br>Completion: 2.3 months<br>Success Score: 94.0<br>Risk Category: Low Risk<br>Citizenship: SG CITIZEN<br>Gender: F<br>Funding: Sponsored",
          "Student ID: 2101-109/002<br>GPA: 2.80<br>Completion: 4.5 months<br>Success Score: 83.0<br>Risk Category: Low Risk<br>Citizenship: SG CITIZEN<br>Gender: F<br>Funding: Sponsored",
          "Student ID: 2101-109/007<br>GPA: 3.40<br>Completion: 4.5 months<br>Success Score: 89.0<br>Risk Category: Low Risk<br>Citizenship: SG CITIZEN<br>Gender: F<br>Funding: Sponsored",
          "Student ID: 2101-110/001<br>GPA: 3.20<br>Completion: 5.0 months<br>Success Score: 87.0<br>Risk Category: Low Risk<br>Citizenship: SG CITIZEN<br>Gender: F<br>Funding: Sponsored",
          "Student ID: 2102-063/006<br>GPA: 2.70<br>Completion: 4.9 months<br>Success Score: 82.0<br>Risk Category: Low Risk<br>Citizenship: SG CITIZEN<br>Gender: F<br>Funding: Sponsored",
          "Student ID: 2102-064/002<br>GPA: 3.80<br>Completion: 5.5 months<br>Success Score: 93.0<br>Risk Category: Low Risk<br>Citizenship: SG CITIZEN<br>Gender: M<br>Funding: Sponsored",
          "Student ID: 2102-064/007<br>GPA: 3.50<br>Completion: 5.5 months<br>Success Score: 90.0<br>Risk Category: Low Risk<br>Citizenship: SG CITIZEN<br>Gender: F<br>Funding: Sponsored",
          "Student ID: 2102-064/012<br>GPA: 2.60<br>Completion: 5.5 months<br>Success Score: 81.0<br>Risk Category: Low Risk<br>Citizenship: SG CITIZEN<br>Gender: F<br>Funding: Sponsored",
          "Student ID: 2102-065A/005<br>GPA: 3.20<br>Completion: 1.0 months<br>Success Score: 87.0<br>Risk Category: Low Risk<br>Citizenship: SG CITIZEN<br>Gender: F<br>Funding: Sponsored",
          "Student ID: 2102-065A/010<br>GPA: 3.50<br>Completion: 1.0 months<br>Success Score: 90.0<br>Risk Category: Low Risk<br>Citizenship: SG CITIZEN<br>Gender: F<br>Funding: Sponsored",
          "Student ID: 2102-066/001<br>GPA: 3.20<br>Completion: 5.2 months<br>Success Score: 87.0<br>Risk Category: Low Risk<br>Citizenship: SG CITIZEN<br>Gender: F<br>Funding: Sponsored",
          "Student ID: 2102-066/005<br>GPA: 3.20<br>Completion: 5.2 months<br>Success Score: 87.0<br>Risk Category: Low Risk<br>Citizenship: SG CITIZEN<br>Gender: F<br>Funding: Sponsored",
          "Student ID: 2102-066/006<br>GPA: 3.70<br>Completion: 5.2 months<br>Success Score: 92.0<br>Risk Category: Low Risk<br>Citizenship: SG CITIZEN<br>Gender: F<br>Funding: Sponsored",
          "Student ID: 2102-067A/008<br>GPA: 3.60<br>Completion: 2.6 months<br>Success Score: 91.0<br>Risk Category: Low Risk<br>Citizenship: SG CITIZEN<br>Gender: F<br>Funding: Sponsored",
          "Student ID: 2102-068A/001<br>GPA: 2.90<br>Completion: 2.2 months<br>Success Score: 84.0<br>Risk Category: Low Risk<br>Citizenship: SG CITIZEN<br>Gender: M<br>Funding: Sponsored",
          "Student ID: 2102-068A/005<br>GPA: 2.80<br>Completion: 2.2 months<br>Success Score: 83.0<br>Risk Category: Low Risk<br>Citizenship: SG CITIZEN<br>Gender: F<br>Funding: Sponsored",
          "Student ID: 2102-069/001<br>GPA: 3.00<br>Completion: 5.0 months<br>Success Score: 85.0<br>Risk Category: Low Risk<br>Citizenship: SG CITIZEN<br>Gender: F<br>Funding: Sponsored",
          "Student ID: 2102-069/008<br>GPA: 3.50<br>Completion: 5.0 months<br>Success Score: 90.0<br>Risk Category: Low Risk<br>Citizenship: SG CITIZEN<br>Gender: F<br>Funding: Sponsored",
          "Student ID: 2102-069/009<br>GPA: 3.00<br>Completion: 5.0 months<br>Success Score: 85.0<br>Risk Category: Low Risk<br>Citizenship: SG CITIZEN<br>Gender: F<br>Funding: Sponsored",
          "Student ID: 2102-069/011<br>GPA: 3.20<br>Completion: 5.0 months<br>Success Score: 87.0<br>Risk Category: Low Risk<br>Citizenship: SG CITIZEN<br>Gender: M<br>Funding: Sponsored"
         ],
         "type": "scatter",
         "visible": true,
         "x": [
          16.98423127463863,
          16.98423127463863,
          16.98423127463863,
          16.95137976346912,
          16.95137976346912,
          16.95137976346912,
          17.04993429697766,
          17.04993429697766,
          16.98423127463863,
          16.98423127463863,
          16.98423127463863,
          16.95137976346912,
          17.04993429697766,
          17.04993429697766,
          17.04993429697766,
          17.04993429697766,
          17.04993429697766,
          4.993429697766097,
          4.993429697766097,
          2.3324572930354797,
          4.50065703022339,
          4.50065703022339,
          4.993429697766097,
          4.894875164257556,
          5.45335085413929,
          5.45335085413929,
          5.45335085413929,
          0.9855453350854139,
          0.9855453350854139,
          5.19053876478318,
          5.19053876478318,
          5.19053876478318,
          2.628120893561104,
          2.1681997371879107,
          2.1681997371879107,
          4.993429697766097,
          4.993429697766097,
          4.993429697766097,
          4.993429697766097
         ],
         "y": [
          2.9,
          2.1,
          2.9,
          2.1,
          3.9,
          3.7,
          3.6,
          3.4,
          2.6,
          2.1,
          2.9,
          3.9,
          3.8,
          2.2,
          3.6,
          3.4,
          2,
          3.7,
          2.8,
          3.9,
          2.8,
          3.4,
          3.2,
          2.7,
          3.8,
          3.5,
          2.6,
          3.2,
          3.5,
          3.2,
          3.2,
          3.7,
          3.6,
          2.9,
          2.8,
          3,
          3.5,
          3,
          3.2
         ]
        },
        {
         "hovertemplate": "%{text}<extra></extra>",
         "marker": {
          "color": [
           84,
           66,
           79,
           81,
           90,
           87,
           93,
           83,
           87,
           90
          ],
          "colorbar": {
           "len": 0.8,
           "tickfont": {
            "size": 10
           },
           "title": {
            "font": {
             "family": "Arial Black",
             "size": 12
            },
            "text": "Success<br>Score<br>(0-100)"
           }
          },
          "colorscale": [
           [
            0,
            "#440154"
           ],
           [
            0.1111111111111111,
            "#482878"
           ],
           [
            0.2222222222222222,
            "#3e4989"
           ],
           [
            0.3333333333333333,
            "#31688e"
           ],
           [
            0.4444444444444444,
            "#26828e"
           ],
           [
            0.5555555555555556,
            "#1f9e89"
           ],
           [
            0.6666666666666666,
            "#35b779"
           ],
           [
            0.7777777777777778,
            "#6ece58"
           ],
           [
            0.8888888888888888,
            "#b5de2b"
           ],
           [
            1,
            "#fde725"
           ]
          ],
          "line": {
           "color": "white",
           "width": 2
          },
          "opacity": 0.8,
          "showscale": false,
          "size": [
           12,
           16,
           16,
           12,
           12,
           12,
           12,
           12,
           12,
           12
          ],
          "symbol": "circle"
         },
         "mode": "markers",
         "name": "SG PR (10 students)",
         "text": [
          "Student ID: 1101-009/011<br>GPA: 3.40<br>Completion: 17.0 months<br>Success Score: 84.0<br>Risk Category: Low Risk<br>Citizenship: SG PR<br>Gender: F<br>Funding: Sponsored",
          "Student ID: 1101-012/004<br>GPA: 2.10<br>Completion: 17.0 months<br>Success Score: 66.0<br>Risk Category: Medium Risk<br>Citizenship: SG PR<br>Gender: F<br>Funding: Sponsored",
          "Student ID: 1102-003/002<br>GPA: 3.40<br>Completion: 17.0 months<br>Success Score: 79.0<br>Risk Category: Medium Risk<br>Citizenship: SG PR<br>Gender: F<br>Funding: Sponsored",
          "Student ID: 2102-063/015<br>GPA: 2.60<br>Completion: 4.9 months<br>Success Score: 81.0<br>Risk Category: Low Risk<br>Citizenship: SG PR<br>Gender: F<br>Funding: Sponsored",
          "Student ID: 2102-064/014<br>GPA: 3.50<br>Completion: 5.5 months<br>Success Score: 90.0<br>Risk Category: Low Risk<br>Citizenship: SG PR<br>Gender: F<br>Funding: Sponsored",
          "Student ID: 2102-065A/001<br>GPA: 3.20<br>Completion: 1.0 months<br>Success Score: 87.0<br>Risk Category: Low Risk<br>Citizenship: SG PR<br>Gender: F<br>Funding: Sponsored",
          "Student ID: 2102-065A/009<br>GPA: 3.80<br>Completion: 1.0 months<br>Success Score: 93.0<br>Risk Category: Low Risk<br>Citizenship: SG PR<br>Gender: F<br>Funding: Sponsored",
          "Student ID: 2102-066/015<br>GPA: 2.80<br>Completion: 5.2 months<br>Success Score: 83.0<br>Risk Category: Low Risk<br>Citizenship: SG PR<br>Gender: F<br>Funding: Sponsored",
          "Student ID: 2102-067A/009<br>GPA: 3.20<br>Completion: 2.6 months<br>Success Score: 87.0<br>Risk Category: Low Risk<br>Citizenship: SG PR<br>Gender: F<br>Funding: Sponsored",
          "Student ID: 2102-068A/007<br>GPA: 3.50<br>Completion: 2.2 months<br>Success Score: 90.0<br>Risk Category: Low Risk<br>Citizenship: SG PR<br>Gender: F<br>Funding: Sponsored"
         ],
         "type": "scatter",
         "visible": true,
         "x": [
          16.98423127463863,
          17.04993429697766,
          17.04993429697766,
          4.894875164257556,
          5.45335085413929,
          0.9855453350854139,
          0.9855453350854139,
          5.19053876478318,
          2.628120893561104,
          2.1681997371879107
         ],
         "y": [
          3.4,
          2.1,
          3.4,
          2.6,
          3.5,
          3.2,
          3.8,
          2.8,
          3.2,
          3.5
         ]
        },
        {
         "hovertemplate": "%{text}<extra></extra>",
         "marker": {
          "color": [
           80,
           80,
           90,
           92,
           84,
           90,
           83
          ],
          "colorbar": {
           "len": 0.8,
           "tickfont": {
            "size": 10
           },
           "title": {
            "font": {
             "family": "Arial Black",
             "size": 12
            },
            "text": "Success<br>Score<br>(0-100)"
           }
          },
          "colorscale": [
           [
            0,
            "#440154"
           ],
           [
            0.1111111111111111,
            "#482878"
           ],
           [
            0.2222222222222222,
            "#3e4989"
           ],
           [
            0.3333333333333333,
            "#31688e"
           ],
           [
            0.4444444444444444,
            "#26828e"
           ],
           [
            0.5555555555555556,
            "#1f9e89"
           ],
           [
            0.6666666666666666,
            "#35b779"
           ],
           [
            0.7777777777777778,
            "#6ece58"
           ],
           [
            0.8888888888888888,
            "#b5de2b"
           ],
           [
            1,
            "#fde725"
           ]
          ],
          "line": {
           "color": "white",
           "width": 2
          },
          "opacity": 0.8,
          "showscale": false,
          "size": [
           16,
           16,
           12,
           12,
           12,
           12,
           12
          ],
          "symbol": "circle"
         },
         "mode": "markers",
         "name": "FOREIGNER (7 students)",
         "text": [
          "Student ID: 1101-010/005<br>GPA: 3.50<br>Completion: 17.0 months<br>Success Score: 80.0<br>Risk Category: Medium Risk<br>Citizenship: FOREIGNER<br>Gender: F<br>Funding: Sponsored",
          "Student ID: 1102-002/004<br>GPA: 3.50<br>Completion: 17.0 months<br>Success Score: 80.0<br>Risk Category: Medium Risk<br>Citizenship: FOREIGNER<br>Gender: F<br>Funding: Sponsored",
          "Student ID: 2101-108A/002<br>GPA: 3.50<br>Completion: 2.3 months<br>Success Score: 90.0<br>Risk Category: Low Risk<br>Citizenship: FOREIGNER<br>Gender: F<br>Funding: Sponsored",
          "Student ID: 2101-108A/007<br>GPA: 3.70<br>Completion: 2.3 months<br>Success Score: 92.0<br>Risk Category: Low Risk<br>Citizenship: FOREIGNER<br>Gender: F<br>Funding: Sponsored",
          "Student ID: 2102-066/004<br>GPA: 2.90<br>Completion: 5.2 months<br>Success Score: 84.0<br>Risk Category: Low Risk<br>Citizenship: FOREIGNER<br>Gender: F<br>Funding: Sponsored",
          "Student ID: 2102-069/002<br>GPA: 3.50<br>Completion: 5.0 months<br>Success Score: 90.0<br>Risk Category: Low Risk<br>Citizenship: FOREIGNER<br>Gender: F<br>Funding: Sponsored",
          "Student ID: 2102-070/004<br>GPA: 2.80<br>Completion: 5.0 months<br>Success Score: 83.0<br>Risk Category: Low Risk<br>Citizenship: FOREIGNER<br>Gender: F<br>Funding: Sponsored"
         ],
         "type": "scatter",
         "visible": true,
         "x": [
          16.95137976346912,
          16.95137976346912,
          2.3324572930354797,
          2.3324572930354797,
          5.19053876478318,
          4.993429697766097,
          4.993429697766097
         ],
         "y": [
          3.5,
          3.5,
          3.5,
          3.7,
          2.9,
          3.5,
          2.8
         ]
        },
        {
         "hovertemplate": "%{text}<extra></extra>",
         "marker": {
          "color": [
           92,
           94,
           91
          ],
          "colorscale": [
           [
            0,
            "#440154"
           ],
           [
            0.1111111111111111,
            "#482878"
           ],
           [
            0.2222222222222222,
            "#3e4989"
           ],
           [
            0.3333333333333333,
            "#31688e"
           ],
           [
            0.4444444444444444,
            "#26828e"
           ],
           [
            0.5555555555555556,
            "#1f9e89"
           ],
           [
            0.6666666666666666,
            "#35b779"
           ],
           [
            0.7777777777777778,
            "#6ece58"
           ],
           [
            0.8888888888888888,
            "#b5de2b"
           ],
           [
            1,
            "#fde725"
           ]
          ],
          "line": {
           "color": "white",
           "width": 2
          },
          "opacity": 0.8,
          "showscale": false,
          "size": [
           12,
           12,
           12
          ],
          "symbol": "circle"
         },
         "mode": "markers",
         "name": "SG CITIZEN High Achievers (3 students)",
         "text": [
          "Student ID: 2101-107/003<br>GPA: 3.70 ⭐⭐<br>Completion: 5.0 months 🚀<br>Success Score: 92.0<br>Risk Category: Low Risk<br>Citizenship: SG CITIZEN<br>Gender: F<br>Funding: Sponsored",
          "Student ID: 2101-108A/004<br>GPA: 3.90 ⭐⭐<br>Completion: 2.3 months 🚀<br>Success Score: 94.0<br>Risk Category: Low Risk<br>Citizenship: SG CITIZEN<br>Gender: F<br>Funding: Sponsored",
          "Student ID: 2102-067A/008<br>GPA: 3.60 ⭐⭐<br>Completion: 2.6 months 🚀<br>Success Score: 91.0<br>Risk Category: Low Risk<br>Citizenship: SG CITIZEN<br>Gender: F<br>Funding: Sponsored"
         ],
         "type": "scatter",
         "visible": false,
         "x": [
          4.993429697766097,
          2.3324572930354797,
          2.628120893561104
         ],
         "y": [
          3.7,
          3.9,
          3.6
         ]
        },
        {
         "hovertemplate": "%{text}<extra></extra>",
         "marker": {
          "color": [
           93
          ],
          "colorscale": [
           [
            0,
            "#440154"
           ],
           [
            0.1111111111111111,
            "#482878"
           ],
           [
            0.2222222222222222,
            "#3e4989"
           ],
           [
            0.3333333333333333,
            "#31688e"
           ],
           [
            0.4444444444444444,
            "#26828e"
           ],
           [
            0.5555555555555556,
            "#1f9e89"
           ],
           [
            0.6666666666666666,
            "#35b779"
           ],
           [
            0.7777777777777778,
            "#6ece58"
           ],
           [
            0.8888888888888888,
            "#b5de2b"
           ],
           [
            1,
            "#fde725"
           ]
          ],
          "line": {
           "color": "white",
           "width": 2
          },
          "opacity": 0.8,
          "showscale": false,
          "size": [
           12
          ],
          "symbol": "circle"
         },
         "mode": "markers",
         "name": "SG PR High Achievers (1 students)",
         "text": [
          "Student ID: 2102-065A/009<br>GPA: 3.80 ⭐⭐<br>Completion: 1.0 months 🚀<br>Success Score: 93.0<br>Risk Category: Low Risk<br>Citizenship: SG PR<br>Gender: F<br>Funding: Sponsored"
         ],
         "type": "scatter",
         "visible": false,
         "x": [
          0.9855453350854139
         ],
         "y": [
          3.8
         ]
        },
        {
         "hovertemplate": "%{text}<extra></extra>",
         "marker": {
          "color": [
           92
          ],
          "colorscale": [
           [
            0,
            "#440154"
           ],
           [
            0.1111111111111111,
            "#482878"
           ],
           [
            0.2222222222222222,
            "#3e4989"
           ],
           [
            0.3333333333333333,
            "#31688e"
           ],
           [
            0.4444444444444444,
            "#26828e"
           ],
           [
            0.5555555555555556,
            "#1f9e89"
           ],
           [
            0.6666666666666666,
            "#35b779"
           ],
           [
            0.7777777777777778,
            "#6ece58"
           ],
           [
            0.8888888888888888,
            "#b5de2b"
           ],
           [
            1,
            "#fde725"
           ]
          ],
          "line": {
           "color": "white",
           "width": 2
          },
          "opacity": 0.8,
          "showscale": false,
          "size": [
           12
          ],
          "symbol": "circle"
         },
         "mode": "markers",
         "name": "FOREIGNER High Achievers (1 students)",
         "text": [
          "Student ID: 2101-108A/007<br>GPA: 3.70 ⭐⭐<br>Completion: 2.3 months 🚀<br>Success Score: 92.0<br>Risk Category: Low Risk<br>Citizenship: FOREIGNER<br>Gender: F<br>Funding: Sponsored"
         ],
         "type": "scatter",
         "visible": false,
         "x": [
          2.3324572930354797
         ],
         "y": [
          3.7
         ]
        },
        {
         "hovertemplate": "%{text}<extra></extra>",
         "marker": {
          "color": [
           66,
           71,
           66,
           67,
           65
          ],
          "colorscale": [
           [
            0,
            "#440154"
           ],
           [
            0.1111111111111111,
            "#482878"
           ],
           [
            0.2222222222222222,
            "#3e4989"
           ],
           [
            0.3333333333333333,
            "#31688e"
           ],
           [
            0.4444444444444444,
            "#26828e"
           ],
           [
            0.5555555555555556,
            "#1f9e89"
           ],
           [
            0.6666666666666666,
            "#35b779"
           ],
           [
            0.7777777777777778,
            "#6ece58"
           ],
           [
            0.8888888888888888,
            "#b5de2b"
           ],
           [
            1,
            "#fde725"
           ]
          ],
          "line": {
           "color": "white",
           "width": 2
          },
          "opacity": 0.8,
          "showscale": false,
          "size": [
           16,
           12,
           16,
           16,
           16
          ],
          "symbol": "circle"
         },
         "mode": "markers",
         "name": "SG CITIZEN Underperformers (5 students)",
         "text": [
          "Student ID: 1101-009/007<br>GPA: 2.10 🚨<br>Completion: 17.0 months<br>Success Score: 66.0<br>Risk Category: Medium Risk<br>Citizenship: SG CITIZEN<br>Gender: F<br>Funding: Sponsored",
          "Student ID: 1101-010/002<br>GPA: 2.10 🚨<br>Completion: 17.0 months<br>Success Score: 71.0<br>Risk Category: Low Risk<br>Citizenship: SG CITIZEN<br>Gender: F<br>Funding: Sponsored",
          "Student ID: 1102-001/005<br>GPA: 2.10 🚨<br>Completion: 17.0 months<br>Success Score: 66.0<br>Risk Category: Medium Risk<br>Citizenship: SG CITIZEN<br>Gender: F<br>Funding: Sponsored",
          "Student ID: 1102-004/003<br>GPA: 2.20 🚨<br>Completion: 17.0 months<br>Success Score: 67.0<br>Risk Category: Medium Risk<br>Citizenship: SG CITIZEN<br>Gender: F<br>Funding: Sponsored",
          "Student ID: 1102-004/008<br>GPA: 2.00 🚨<br>Completion: 17.0 months<br>Success Score: 65.0<br>Risk Category: Medium Risk<br>Citizenship: SG CITIZEN<br>Gender: F<br>Funding: Sponsored"
         ],
         "type": "scatter",
         "visible": false,
         "x": [
          16.98423127463863,
          16.95137976346912,
          16.98423127463863,
          17.04993429697766,
          17.04993429697766
         ],
         "y": [
          2.1,
          2.1,
          2.1,
          2.2,
          2
         ]
        },
        {
         "hovertemplate": "%{text}<extra></extra>",
         "marker": {
          "color": [
           66
          ],
          "colorscale": [
           [
            0,
            "#440154"
           ],
           [
            0.1111111111111111,
            "#482878"
           ],
           [
            0.2222222222222222,
            "#3e4989"
           ],
           [
            0.3333333333333333,
            "#31688e"
           ],
           [
            0.4444444444444444,
            "#26828e"
           ],
           [
            0.5555555555555556,
            "#1f9e89"
           ],
           [
            0.6666666666666666,
            "#35b779"
           ],
           [
            0.7777777777777778,
            "#6ece58"
           ],
           [
            0.8888888888888888,
            "#b5de2b"
           ],
           [
            1,
            "#fde725"
           ]
          ],
          "line": {
           "color": "white",
           "width": 2
          },
          "opacity": 0.8,
          "showscale": false,
          "size": [
           16
          ],
          "symbol": "circle"
         },
         "mode": "markers",
         "name": "SG PR Underperformers (1 students)",
         "text": [
          "Student ID: 1101-012/004<br>GPA: 2.10 🚨<br>Completion: 17.0 months<br>Success Score: 66.0<br>Risk Category: Medium Risk<br>Citizenship: SG PR<br>Gender: F<br>Funding: Sponsored"
         ],
         "type": "scatter",
         "visible": false,
         "x": [
          17.04993429697766
         ],
         "y": [
          2.1
         ]
        },
        {
         "hovertemplate": "%{text}<extra></extra>",
         "marker": {
          "color": [],
          "colorscale": [
           [
            0,
            "#440154"
           ],
           [
            0.1111111111111111,
            "#482878"
           ],
           [
            0.2222222222222222,
            "#3e4989"
           ],
           [
            0.3333333333333333,
            "#31688e"
           ],
           [
            0.4444444444444444,
            "#26828e"
           ],
           [
            0.5555555555555556,
            "#1f9e89"
           ],
           [
            0.6666666666666666,
            "#35b779"
           ],
           [
            0.7777777777777778,
            "#6ece58"
           ],
           [
            0.8888888888888888,
            "#b5de2b"
           ],
           [
            1,
            "#fde725"
           ]
          ],
          "line": {
           "color": "white",
           "width": 2
          },
          "opacity": 0.8,
          "showscale": false,
          "size": [],
          "symbol": "circle"
         },
         "mode": "markers",
         "name": "FOREIGNER Underperformers (0 students)",
         "text": [],
         "type": "scatter",
         "visible": false,
         "x": [],
         "y": []
        }
       ],
       "layout": {
        "annotations": [
         {
          "font": {
           "color": "#39FF14",
           "family": "Orbitron, monospace",
           "size": 12
          },
          "showarrow": false,
          "text": "🔍 Filter by Group:",
          "x": 0.02,
          "xref": "paper",
          "y": 1.18,
          "yref": "paper"
         },
         {
          "showarrow": false,
          "text": "Pass Threshold (2.0)",
          "x": 1,
          "xanchor": "right",
          "xref": "x domain",
          "y": 2,
          "yanchor": "bottom",
          "yref": "y"
         },
         {
          "showarrow": false,
          "text": "Excellence Threshold (3.5)",
          "x": 1,
          "xanchor": "right",
          "xref": "x domain",
          "y": 3.5,
          "yanchor": "bottom",
          "yref": "y"
         }
        ],
        "font": {
         "color": "#FFFFFF",
         "family": "Orbitron, monospace",
         "size": 12
        },
        "height": 700,
        "legend": {
         "bgcolor": "#1A1A2E",
         "bordercolor": "#00F5FF",
         "borderwidth": 1,
         "font": {
          "color": "#FFFFFF"
         },
         "orientation": "v",
         "x": 1.02,
         "xanchor": "left",
         "y": 0.98,
         "yanchor": "top"
        },
        "margin": {
         "b": 80,
         "l": 80,
         "r": 120,
         "t": 150
        },
        "paper_bgcolor": "#0A0A1A",
        "plot_bgcolor": "rgba(0,0,0,0)",
        "shapes": [
         {
          "line": {
           "color": "#EF4444",
           "dash": "dot",
           "width": 2
          },
          "opacity": 0.8,
          "type": "line",
          "x0": 0,
          "x1": 1,
          "xref": "x domain",
          "y0": 2,
          "y1": 2,
          "yref": "y"
         },
         {
          "line": {
           "color": "#10B981",
           "dash": "dot",
           "width": 2
          },
          "opacity": 0.8,
          "type": "line",
          "x0": 0,
          "x1": 1,
          "xref": "x domain",
          "y0": 3.5,
          "y1": 3.5,
          "yref": "y"
         },
         {
          "fillcolor": "rgba(16, 185, 129, 0.1)",
          "layer": "below",
          "line": {
           "width": 0
          },
          "type": "rect",
          "x0": 0,
          "x1": 1,
          "xref": "paper",
          "y0": 3.5,
          "y1": 4,
          "yref": "y"
         },
         {
          "fillcolor": "rgba(34, 211, 238, 0.1)",
          "layer": "below",
          "line": {
           "width": 0
          },
          "type": "rect",
          "x0": 0,
          "x1": 1,
          "xref": "paper",
          "y0": 2,
          "y1": 3.5,
          "yref": "y"
         },
         {
          "fillcolor": "rgba(239, 68, 68, 0.1)",
          "layer": "below",
          "line": {
           "width": 0
          },
          "type": "rect",
          "x0": 0,
          "x1": 1,
          "xref": "paper",
          "y0": 1,
          "y1": 2,
          "yref": "y"
         }
        ],
        "showlegend": true,
        "template": {
         "data": {
          "bar": [
           {
            "error_x": {
             "color": "#2a3f5f"
            },
            "error_y": {
             "color": "#2a3f5f"
            },
            "marker": {
             "line": {
              "color": "#E5ECF6",
              "width": 0.5
             },
             "pattern": {
              "fillmode": "overlay",
              "size": 10,
              "solidity": 0.2
             }
            },
            "type": "bar"
           }
          ],
          "barpolar": [
           {
            "marker": {
             "line": {
              "color": "#E5ECF6",
              "width": 0.5
             },
             "pattern": {
              "fillmode": "overlay",
              "size": 10,
              "solidity": 0.2
             }
            },
            "type": "barpolar"
           }
          ],
          "carpet": [
           {
            "aaxis": {
             "endlinecolor": "#2a3f5f",
             "gridcolor": "white",
             "linecolor": "white",
             "minorgridcolor": "white",
             "startlinecolor": "#2a3f5f"
            },
            "baxis": {
             "endlinecolor": "#2a3f5f",
             "gridcolor": "white",
             "linecolor": "white",
             "minorgridcolor": "white",
             "startlinecolor": "#2a3f5f"
            },
            "type": "carpet"
           }
          ],
          "choropleth": [
           {
            "colorbar": {
             "outlinewidth": 0,
             "ticks": ""
            },
            "type": "choropleth"
           }
          ],
          "contour": [
           {
            "colorbar": {
             "outlinewidth": 0,
             "ticks": ""
            },
            "colorscale": [
             [
              0,
              "#0d0887"
             ],
             [
              0.1111111111111111,
              "#46039f"
             ],
             [
              0.2222222222222222,
              "#7201a8"
             ],
             [
              0.3333333333333333,
              "#9c179e"
             ],
             [
              0.4444444444444444,
              "#bd3786"
             ],
             [
              0.5555555555555556,
              "#d8576b"
             ],
             [
              0.6666666666666666,
              "#ed7953"
             ],
             [
              0.7777777777777778,
              "#fb9f3a"
             ],
             [
              0.8888888888888888,
              "#fdca26"
             ],
             [
              1,
              "#f0f921"
             ]
            ],
            "type": "contour"
           }
          ],
          "contourcarpet": [
           {
            "colorbar": {
             "outlinewidth": 0,
             "ticks": ""
            },
            "type": "contourcarpet"
           }
          ],
          "heatmap": [
           {
            "colorbar": {
             "outlinewidth": 0,
             "ticks": ""
            },
            "colorscale": [
             [
              0,
              "#0d0887"
             ],
             [
              0.1111111111111111,
              "#46039f"
             ],
             [
              0.2222222222222222,
              "#7201a8"
             ],
             [
              0.3333333333333333,
              "#9c179e"
             ],
             [
              0.4444444444444444,
              "#bd3786"
             ],
             [
              0.5555555555555556,
              "#d8576b"
             ],
             [
              0.6666666666666666,
              "#ed7953"
             ],
             [
              0.7777777777777778,
              "#fb9f3a"
             ],
             [
              0.8888888888888888,
              "#fdca26"
             ],
             [
              1,
              "#f0f921"
             ]
            ],
            "type": "heatmap"
           }
          ],
          "heatmapgl": [
           {
            "colorbar": {
             "outlinewidth": 0,
             "ticks": ""
            },
            "colorscale": [
             [
              0,
              "#0d0887"
             ],
             [
              0.1111111111111111,
              "#46039f"
             ],
             [
              0.2222222222222222,
              "#7201a8"
             ],
             [
              0.3333333333333333,
              "#9c179e"
             ],
             [
              0.4444444444444444,
              "#bd3786"
             ],
             [
              0.5555555555555556,
              "#d8576b"
             ],
             [
              0.6666666666666666,
              "#ed7953"
             ],
             [
              0.7777777777777778,
              "#fb9f3a"
             ],
             [
              0.8888888888888888,
              "#fdca26"
             ],
             [
              1,
              "#f0f921"
             ]
            ],
            "type": "heatmapgl"
           }
          ],
          "histogram": [
           {
            "marker": {
             "pattern": {
              "fillmode": "overlay",
              "size": 10,
              "solidity": 0.2
             }
            },
            "type": "histogram"
           }
          ],
          "histogram2d": [
           {
            "colorbar": {
             "outlinewidth": 0,
             "ticks": ""
            },
            "colorscale": [
             [
              0,
              "#0d0887"
             ],
             [
              0.1111111111111111,
              "#46039f"
             ],
             [
              0.2222222222222222,
              "#7201a8"
             ],
             [
              0.3333333333333333,
              "#9c179e"
             ],
             [
              0.4444444444444444,
              "#bd3786"
             ],
             [
              0.5555555555555556,
              "#d8576b"
             ],
             [
              0.6666666666666666,
              "#ed7953"
             ],
             [
              0.7777777777777778,
              "#fb9f3a"
             ],
             [
              0.8888888888888888,
              "#fdca26"
             ],
             [
              1,
              "#f0f921"
             ]
            ],
            "type": "histogram2d"
           }
          ],
          "histogram2dcontour": [
           {
            "colorbar": {
             "outlinewidth": 0,
             "ticks": ""
            },
            "colorscale": [
             [
              0,
              "#0d0887"
             ],
             [
              0.1111111111111111,
              "#46039f"
             ],
             [
              0.2222222222222222,
              "#7201a8"
             ],
             [
              0.3333333333333333,
              "#9c179e"
             ],
             [
              0.4444444444444444,
              "#bd3786"
             ],
             [
              0.5555555555555556,
              "#d8576b"
             ],
             [
              0.6666666666666666,
              "#ed7953"
             ],
             [
              0.7777777777777778,
              "#fb9f3a"
             ],
             [
              0.8888888888888888,
              "#fdca26"
             ],
             [
              1,
              "#f0f921"
             ]
            ],
            "type": "histogram2dcontour"
           }
          ],
          "mesh3d": [
           {
            "colorbar": {
             "outlinewidth": 0,
             "ticks": ""
            },
            "type": "mesh3d"
           }
          ],
          "parcoords": [
           {
            "line": {
             "colorbar": {
              "outlinewidth": 0,
              "ticks": ""
             }
            },
            "type": "parcoords"
           }
          ],
          "pie": [
           {
            "automargin": true,
            "type": "pie"
           }
          ],
          "scatter": [
           {
            "fillpattern": {
             "fillmode": "overlay",
             "size": 10,
             "solidity": 0.2
            },
            "type": "scatter"
           }
          ],
          "scatter3d": [
           {
            "line": {
             "colorbar": {
              "outlinewidth": 0,
              "ticks": ""
             }
            },
            "marker": {
             "colorbar": {
              "outlinewidth": 0,
              "ticks": ""
             }
            },
            "type": "scatter3d"
           }
          ],
          "scattercarpet": [
           {
            "marker": {
             "colorbar": {
              "outlinewidth": 0,
              "ticks": ""
             }
            },
            "type": "scattercarpet"
           }
          ],
          "scattergeo": [
           {
            "marker": {
             "colorbar": {
              "outlinewidth": 0,
              "ticks": ""
             }
            },
            "type": "scattergeo"
           }
          ],
          "scattergl": [
           {
            "marker": {
             "colorbar": {
              "outlinewidth": 0,
              "ticks": ""
             }
            },
            "type": "scattergl"
           }
          ],
          "scattermapbox": [
           {
            "marker": {
             "colorbar": {
              "outlinewidth": 0,
              "ticks": ""
             }
            },
            "type": "scattermapbox"
           }
          ],
          "scatterpolar": [
           {
            "marker": {
             "colorbar": {
              "outlinewidth": 0,
              "ticks": ""
             }
            },
            "type": "scatterpolar"
           }
          ],
          "scatterpolargl": [
           {
            "marker": {
             "colorbar": {
              "outlinewidth": 0,
              "ticks": ""
             }
            },
            "type": "scatterpolargl"
           }
          ],
          "scatterternary": [
           {
            "marker": {
             "colorbar": {
              "outlinewidth": 0,
              "ticks": ""
             }
            },
            "type": "scatterternary"
           }
          ],
          "surface": [
           {
            "colorbar": {
             "outlinewidth": 0,
             "ticks": ""
            },
            "colorscale": [
             [
              0,
              "#0d0887"
             ],
             [
              0.1111111111111111,
              "#46039f"
             ],
             [
              0.2222222222222222,
              "#7201a8"
             ],
             [
              0.3333333333333333,
              "#9c179e"
             ],
             [
              0.4444444444444444,
              "#bd3786"
             ],
             [
              0.5555555555555556,
              "#d8576b"
             ],
             [
              0.6666666666666666,
              "#ed7953"
             ],
             [
              0.7777777777777778,
              "#fb9f3a"
             ],
             [
              0.8888888888888888,
              "#fdca26"
             ],
             [
              1,
              "#f0f921"
             ]
            ],
            "type": "surface"
           }
          ],
          "table": [
           {
            "cells": {
             "fill": {
              "color": "#EBF0F8"
             },
             "line": {
              "color": "white"
             }
            },
            "header": {
             "fill": {
              "color": "#C8D4E3"
             },
             "line": {
              "color": "white"
             }
            },
            "type": "table"
           }
          ]
         },
         "layout": {
          "annotationdefaults": {
           "arrowcolor": "#2a3f5f",
           "arrowhead": 0,
           "arrowwidth": 1
          },
          "autotypenumbers": "strict",
          "coloraxis": {
           "colorbar": {
            "outlinewidth": 0,
            "ticks": ""
           }
          },
          "colorscale": {
           "diverging": [
            [
             0,
             "#8e0152"
            ],
            [
             0.1,
             "#c51b7d"
            ],
            [
             0.2,
             "#de77ae"
            ],
            [
             0.3,
             "#f1b6da"
            ],
            [
             0.4,
             "#fde0ef"
            ],
            [
             0.5,
             "#f7f7f7"
            ],
            [
             0.6,
             "#e6f5d0"
            ],
            [
             0.7,
             "#b8e186"
            ],
            [
             0.8,
             "#7fbc41"
            ],
            [
             0.9,
             "#4d9221"
            ],
            [
             1,
             "#276419"
            ]
           ],
           "sequential": [
            [
             0,
             "#0d0887"
            ],
            [
             0.1111111111111111,
             "#46039f"
            ],
            [
             0.2222222222222222,
             "#7201a8"
            ],
            [
             0.3333333333333333,
             "#9c179e"
            ],
            [
             0.4444444444444444,
             "#bd3786"
            ],
            [
             0.5555555555555556,
             "#d8576b"
            ],
            [
             0.6666666666666666,
             "#ed7953"
            ],
            [
             0.7777777777777778,
             "#fb9f3a"
            ],
            [
             0.8888888888888888,
             "#fdca26"
            ],
            [
             1,
             "#f0f921"
            ]
           ],
           "sequentialminus": [
            [
             0,
             "#0d0887"
            ],
            [
             0.1111111111111111,
             "#46039f"
            ],
            [
             0.2222222222222222,
             "#7201a8"
            ],
            [
             0.3333333333333333,
             "#9c179e"
            ],
            [
             0.4444444444444444,
             "#bd3786"
            ],
            [
             0.5555555555555556,
             "#d8576b"
            ],
            [
             0.6666666666666666,
             "#ed7953"
            ],
            [
             0.7777777777777778,
             "#fb9f3a"
            ],
            [
             0.8888888888888888,
             "#fdca26"
            ],
            [
             1,
             "#f0f921"
            ]
           ]
          },
          "colorway": [
           "#636efa",
           "#EF553B",
           "#00cc96",
           "#ab63fa",
           "#FFA15A",
           "#19d3f3",
           "#FF6692",
           "#B6E880",
           "#FF97FF",
           "#FECB52"
          ],
          "font": {
           "color": "#2a3f5f"
          },
          "geo": {
           "bgcolor": "white",
           "lakecolor": "white",
           "landcolor": "#E5ECF6",
           "showlakes": true,
           "showland": true,
           "subunitcolor": "white"
          },
          "hoverlabel": {
           "align": "left"
          },
          "hovermode": "closest",
          "mapbox": {
           "style": "light"
          },
          "paper_bgcolor": "white",
          "plot_bgcolor": "#E5ECF6",
          "polar": {
           "angularaxis": {
            "gridcolor": "white",
            "linecolor": "white",
            "ticks": ""
           },
           "bgcolor": "#E5ECF6",
           "radialaxis": {
            "gridcolor": "white",
            "linecolor": "white",
            "ticks": ""
           }
          },
          "scene": {
           "xaxis": {
            "backgroundcolor": "#E5ECF6",
            "gridcolor": "white",
            "gridwidth": 2,
            "linecolor": "white",
            "showbackground": true,
            "ticks": "",
            "zerolinecolor": "white"
           },
           "yaxis": {
            "backgroundcolor": "#E5ECF6",
            "gridcolor": "white",
            "gridwidth": 2,
            "linecolor": "white",
            "showbackground": true,
            "ticks": "",
            "zerolinecolor": "white"
           },
           "zaxis": {
            "backgroundcolor": "#E5ECF6",
            "gridcolor": "white",
            "gridwidth": 2,
            "linecolor": "white",
            "showbackground": true,
            "ticks": "",
            "zerolinecolor": "white"
           }
          },
          "shapedefaults": {
           "line": {
            "color": "#2a3f5f"
           }
          },
          "ternary": {
           "aaxis": {
            "gridcolor": "white",
            "linecolor": "white",
            "ticks": ""
           },
           "baxis": {
            "gridcolor": "white",
            "linecolor": "white",
            "ticks": ""
           },
           "bgcolor": "#E5ECF6",
           "caxis": {
            "gridcolor": "white",
            "linecolor": "white",
            "ticks": ""
           }
          },
          "title": {
           "x": 0.05
          },
          "xaxis": {
           "automargin": true,
           "gridcolor": "white",
           "linecolor": "white",
           "ticks": "",
           "title": {
            "standoff": 15
           },
           "zerolinecolor": "white",
           "zerolinewidth": 2
          },
          "yaxis": {
           "automargin": true,
           "gridcolor": "white",
           "linecolor": "white",
           "ticks": "",
           "title": {
            "standoff": 15
           },
           "zerolinecolor": "white",
           "zerolinewidth": 2
          }
         }
        },
        "title": {
         "font": {
          "color": "#FFFFFF",
          "family": "Orbitron, monospace",
          "size": 20
         },
         "text": "<b>🎯 Interactive GPA vs Completion Time Analysis</b><br><sub>Success score by color • Risk level by marker size • Use filters to explore different groups</sub>",
         "x": 0.5,
         "y": 0.95
        },
        "updatemenus": [
         {
          "bgcolor": "#1A1A2E",
          "bordercolor": "#39FF14",
          "borderwidth": 2,
          "buttons": [
           {
            "args": [
             {
              "visible": [
               true,
               true,
               true,
               false,
               false,
               false,
               false,
               false,
               false
              ]
             }
            ],
            "label": "🌍 All Citizenship Types",
            "method": "update"
           },
           {
            "args": [
             {
              "visible": [
               true,
               false,
               false,
               false,
               false,
               false,
               false,
               false,
               false
              ]
             }
            ],
            "label": "🎯 SG CITIZEN Only",
            "method": "update"
           },
           {
            "args": [
             {
              "visible": [
               false,
               true,
               false,
               false,
               false,
               false,
               false,
               false,
               false
              ]
             }
            ],
            "label": "🎯 SG PR Only",
            "method": "update"
           },
           {
            "args": [
             {
              "visible": [
               false,
               false,
               true,
               false,
               false,
               false,
               false,
               false,
               false
              ]
             }
            ],
            "label": "🎯 FOREIGNER Only",
            "method": "update"
           },
           {
            "args": [
             {
              "visible": [
               false,
               false,
               false,
               true,
               true,
               true,
               false,
               false,
               false
              ]
             }
            ],
            "label": "⭐ High Achievers (GPA > 3.5 & < 5 months)",
            "method": "update"
           },
           {
            "args": [
             {
              "visible": [
               false,
               false,
               false,
               false,
               false,
               false,
               true,
               true,
               true
              ]
             }
            ],
            "label": "🚨 Underperformers (GPA < 2.5)",
            "method": "update"
           }
          ],
          "direction": "down",
          "font": {
           "color": "#FFFFFF"
          },
          "showactive": true,
          "x": 0.02,
          "xanchor": "left",
          "y": 1.12,
          "yanchor": "top"
         }
        ],
        "xaxis": {
         "gridcolor": "rgba(200,200,200,0.2)",
         "gridwidth": 1,
         "range": [
          0,
          22.04993429697766
         ],
         "tickfont": {
          "color": "#E2E8F0",
          "family": "Orbitron, monospace",
          "size": 12
         },
         "title": {
          "font": {
           "color": "#00F5FF",
           "family": "Orbitron, monospace",
           "size": 14
          },
          "text": "Completion Time (Months)"
         }
        },
        "yaxis": {
         "gridcolor": "rgba(200,200,200,0.2)",
         "gridwidth": 1,
         "range": [
          1,
          4
         ],
         "tickfont": {
          "color": "#E2E8F0",
          "family": "Orbitron, monospace",
          "size": 12
         },
         "title": {
          "font": {
           "color": "#BF40BF",
           "family": "Orbitron, monospace",
           "size": 14
          },
          "text": "Cumulative GPA"
         }
        }
       }
      }
     },
     "metadata": {},
     "output_type": "display_data"
    },
    {
     "name": "stdout",
     "output_type": "stream",
     "text": [
      "✅ Chart 2 completed!\n"
     ]
    }
   ],
   "source": [
    "# === CHART 2: INTERACTIVE GPA vs COMPLETION TIME ANALYSIS ===\n",
    "print(\"🎨 Creating Chart 2: Interactive GPA vs Completion Time Analysis...\")\n",
    "\n",
    "# Prepare data for scatter plot analysis\n",
    "scatter_data = df.dropna(subset=['CUMULATIVE_GPA', 'COMPLETION_MONTHS', 'SUCCESS_SCORE'])\n",
    "\n",
    "# Create interactive scatter plot with multiple filtering options\n",
    "fig2 = go.Figure()\n",
    "\n",
    "# Create traces for each citizenship type (initially all visible)\n",
    "citizenship_types = scatter_data['CITIZENSHIP'].unique()\n",
    "for i, citizenship in enumerate(citizenship_types):\n",
    "    citizenship_subset = scatter_data[scatter_data['CITIZENSHIP'] == citizenship]\n",
    "    \n",
    "    fig2.add_trace(go.Scatter(\n",
    "        x=citizenship_subset['COMPLETION_MONTHS'],\n",
    "        y=citizenship_subset['CUMULATIVE_GPA'],\n",
    "        mode='markers',\n",
    "        marker=dict(\n",
    "            size=12 + (citizenship_subset['RISK_SCORE'] * 4),  # Size by risk score\n",
    "            color=citizenship_subset['SUCCESS_SCORE'],\n",
    "            colorscale='Viridis',\n",
    "            showscale=True if i == 0 else False,  # Show colorbar only once\n",
    "            colorbar=dict(\n",
    "                title=\"Success<br>Score<br>(0-100)\",\n",
    "                titlefont=dict(size=12, family='Arial Black'),\n",
    "                tickfont=dict(size=10),\n",
    "                len=0.8\n",
    "            ),\n",
    "            line=dict(width=2, color='white'),\n",
    "            opacity=0.8,\n",
    "            symbol='circle'\n",
    "        ),\n",
    "        text=[f\"Student ID: {row['STUDENT ID']}<br>\" +\n",
    "              f\"GPA: {row['CUMULATIVE_GPA']:.2f}<br>\" +\n",
    "              f\"Completion: {row['COMPLETION_MONTHS']:.1f} months<br>\" +\n",
    "              f\"Success Score: {row['SUCCESS_SCORE']:.1f}<br>\" +\n",
    "              f\"Risk Category: {row['RISK_CATEGORY']}<br>\" +\n",
    "              f\"Citizenship: {row['CITIZENSHIP']}<br>\" +\n",
    "              f\"Gender: {row['GENDER']}<br>\" +\n",
    "              f\"Funding: {row['COURSE FUNDING']}\"\n",
    "              for _, row in citizenship_subset.iterrows()],\n",
    "        hovertemplate='%{text}<extra></extra>',\n",
    "        name=f'{citizenship} ({len(citizenship_subset)} students)',\n",
    "        visible=True\n",
    "    ))\n",
    "\n",
    "# Add HIGH ACHIEVERS traces (GPA > 3.5 AND completion < 5 months) for each citizenship\n",
    "for i, citizenship in enumerate(citizenship_types):\n",
    "    high_achievers = scatter_data[(scatter_data['CITIZENSHIP'] == citizenship) & \n",
    "                                 (scatter_data['CUMULATIVE_GPA'] > 3.5) &\n",
    "                                 (scatter_data['COMPLETION_MONTHS'] < 5)]\n",
    "    \n",
    "    fig2.add_trace(go.Scatter(\n",
    "        x=high_achievers['COMPLETION_MONTHS'],\n",
    "        y=high_achievers['CUMULATIVE_GPA'],\n",
    "        mode='markers',\n",
    "        marker=dict(\n",
    "            size=12 + (high_achievers['RISK_SCORE'] * 4),\n",
    "            color=high_achievers['SUCCESS_SCORE'],\n",
    "            colorscale='Viridis',\n",
    "            showscale=False,\n",
    "            line=dict(width=2, color='white'),\n",
    "            opacity=0.8,\n",
    "            symbol='circle'\n",
    "        ),\n",
    "        text=[f\"Student ID: {row['STUDENT ID']}<br>\" +\n",
    "              f\"GPA: {row['CUMULATIVE_GPA']:.2f} ⭐⭐<br>\" +\n",
    "              f\"Completion: {row['COMPLETION_MONTHS']:.1f} months 🚀<br>\" +\n",
    "              f\"Success Score: {row['SUCCESS_SCORE']:.1f}<br>\" +\n",
    "              f\"Risk Category: {row['RISK_CATEGORY']}<br>\" +\n",
    "              f\"Citizenship: {row['CITIZENSHIP']}<br>\" +\n",
    "              f\"Gender: {row['GENDER']}<br>\" +\n",
    "              f\"Funding: {row['COURSE FUNDING']}\"\n",
    "              for _, row in high_achievers.iterrows()],\n",
    "        hovertemplate='%{text}<extra></extra>',\n",
    "        name=f'{citizenship} High Achievers ({len(high_achievers)} students)',\n",
    "        visible=False\n",
    "    ))\n",
    "\n",
    "# Add UNDERPERFORMERS traces (GPA < 2.5) for each citizenship\n",
    "for i, citizenship in enumerate(citizenship_types):\n",
    "    underperformers = scatter_data[(scatter_data['CITIZENSHIP'] == citizenship) & \n",
    "                                  (scatter_data['CUMULATIVE_GPA'] < 2.5)]\n",
    "    \n",
    "    fig2.add_trace(go.Scatter(\n",
    "        x=underperformers['COMPLETION_MONTHS'],\n",
    "        y=underperformers['CUMULATIVE_GPA'],\n",
    "        mode='markers',\n",
    "        marker=dict(\n",
    "            size=12 + (underperformers['RISK_SCORE'] * 4),\n",
    "            color=underperformers['SUCCESS_SCORE'],\n",
    "            colorscale='Viridis',\n",
    "            showscale=False,\n",
    "            line=dict(width=2, color='white'),\n",
    "            opacity=0.8,\n",
    "            symbol='circle'\n",
    "        ),\n",
    "        text=[f\"Student ID: {row['STUDENT ID']}<br>\" +\n",
    "              f\"GPA: {row['CUMULATIVE_GPA']:.2f} 🚨<br>\" +\n",
    "              f\"Completion: {row['COMPLETION_MONTHS']:.1f} months<br>\" +\n",
    "              f\"Success Score: {row['SUCCESS_SCORE']:.1f}<br>\" +\n",
    "              f\"Risk Category: {row['RISK_CATEGORY']}<br>\" +\n",
    "              f\"Citizenship: {row['CITIZENSHIP']}<br>\" +\n",
    "              f\"Gender: {row['GENDER']}<br>\" +\n",
    "              f\"Funding: {row['COURSE FUNDING']}\"\n",
    "              for _, row in underperformers.iterrows()],\n",
    "        hovertemplate='%{text}<extra></extra>',\n",
    "        name=f'{citizenship} Underperformers ({len(underperformers)} students)',\n",
    "        visible=False\n",
    "    ))\n",
    "\n",
    "# Create dropdown options for different views\n",
    "num_citizenship = len(citizenship_types)\n",
    "dropdown_buttons = [\n",
    "    # Show all citizenship types (regular view)\n",
    "    dict(label='🌍 All Citizenship Types', \n",
    "         method='update', \n",
    "         args=[{'visible': [True] * num_citizenship + [False] * (num_citizenship * 2)}]),\n",
    "]\n",
    "\n",
    "# Add individual citizenship options (regular view)\n",
    "for i, citizenship in enumerate(citizenship_types):\n",
    "    visibility = [False] * (num_citizenship * 3)  # Total traces = citizenship + high achievers + underperformers\n",
    "    visibility[i] = True  # Show only this citizenship's regular trace\n",
    "    dropdown_buttons.append(\n",
    "        dict(label=f'🎯 {citizenship} Only',\n",
    "             method='update',\n",
    "             args=[{'visible': visibility}])\n",
    "    )\n",
    "\n",
    "# Add high achievers view (show all high achiever traces)\n",
    "high_achiever_visibility = [False] * num_citizenship + [True] * num_citizenship + [False] * num_citizenship\n",
    "dropdown_buttons.append(\n",
    "    dict(label='⭐ High Achievers (GPA > 3.5 & < 5 months)', \n",
    "         method='update', \n",
    "         args=[{'visible': high_achiever_visibility}])\n",
    ")\n",
    "\n",
    "# Add underperformers view (show all underperformer traces)\n",
    "underperformer_visibility = [False] * (num_citizenship * 2) + [True] * num_citizenship\n",
    "dropdown_buttons.append(\n",
    "    dict(label='🚨 Underperformers (GPA < 2.5)', \n",
    "         method='update', \n",
    "         args=[{'visible': underperformer_visibility}])\n",
    ")\n",
    "\n",
    "# Configure layout with enhanced interactivity and proper filter positioning\n",
    "fig2.update_layout(\n",
    "    title=dict(\n",
    "        text='<b>🎯 Interactive GPA vs Completion Time Analysis</b><br>' +\n",
    "             '<sub>Success score by color • Risk level by marker size • Use filters to explore different groups</sub>',\n",
    "        font=dict(size=20, family='Orbitron, monospace', color=COLORS['light']),\n",
    "        x=0.5,\n",
    "        y=0.95\n",
    "    ),\n",
    "    xaxis=dict(\n",
    "        title=dict(text='Completion Time (Months)', font=dict(size=14, family='Orbitron, monospace', color=COLORS['neon_blue'])),\n",
    "        tickfont=dict(size=12, family='Orbitron, monospace', color=COLORS['text']),\n",
    "        gridcolor='rgba(200,200,200,0.2)',\n",
    "        gridwidth=1,\n",
    "        range=[0, max(scatter_data['COMPLETION_MONTHS']) + 5]\n",
    "    ),\n",
    "    yaxis=dict(\n",
    "        title=dict(text='Cumulative GPA', font=dict(size=14, family='Orbitron, monospace', color=COLORS['neon_purple'])),\n",
    "        tickfont=dict(size=12, family='Orbitron, monospace', color=COLORS['text']),\n",
    "        gridcolor='rgba(200,200,200,0.2)',\n",
    "        gridwidth=1,\n",
    "        range=[1.0, 4.0]\n",
    "    ),\n",
    "    font=dict(family='Orbitron, monospace', size=12, color=COLORS['light']),\n",
    "    paper_bgcolor=COLORS['dark_bg'],\n",
    "    plot_bgcolor='rgba(0,0,0,0)',\n",
    "    height=700,\n",
    "    margin=dict(t=150, l=80, r=120, b=80),\n",
    "    showlegend=True,\n",
    "    legend=dict(\n",
    "        orientation='v',\n",
    "        yanchor='top',\n",
    "        y=0.98,\n",
    "        xanchor='left',\n",
    "        x=1.02,\n",
    "        bgcolor=COLORS['card_bg'],\n",
    "        bordercolor=COLORS['neon_blue'],\n",
    "        borderwidth=1,\n",
    "        font=dict(color=COLORS['light'])\n",
    "    ),\n",
    "    \n",
    "    # Add interactive dropdown menu with proper positioning\n",
    "    updatemenus=[\n",
    "        dict(\n",
    "            buttons=dropdown_buttons,\n",
    "            direction=\"down\",\n",
    "            showactive=True,\n",
    "            x=0.02,\n",
    "            xanchor=\"left\",\n",
    "            y=1.12,\n",
    "            yanchor=\"top\",\n",
    "            bgcolor=COLORS['card_bg'],\n",
    "            bordercolor=COLORS['neon_green'],\n",
    "            borderwidth=2,\n",
    "            font=dict(color=COLORS['light'])\n",
    "        )\n",
    "    ],\n",
    "    \n",
    "    # Add filter label with proper positioning\n",
    "    annotations=[\n",
    "        dict(\n",
    "            text=\"🔍 Filter by Group:\",\n",
    "            x=0.02, y=1.18,\n",
    "            xref=\"paper\", yref=\"paper\",\n",
    "            showarrow=False,\n",
    "            font=dict(size=12, family='Orbitron, monospace', color=COLORS['neon_green'])\n",
    "        )\n",
    "    ]\n",
    ")\n",
    "\n",
    "# Add reference lines with dashboard colors\n",
    "fig2.add_hline(y=2.0, line_dash=\"dot\", line_color=COLORS['danger'], line_width=2, opacity=0.8, \n",
    "              annotation_text=\"Pass Threshold (2.0)\")\n",
    "fig2.add_hline(y=3.5, line_dash=\"dot\", line_color=COLORS['success'], line_width=2, opacity=0.8, \n",
    "              annotation_text=\"Excellence Threshold (3.5)\")\n",
    "\n",
    "# Add quadrant background shading with dashboard colors\n",
    "fig2.add_shape(type=\"rect\", xref=\"paper\", yref=\"y\", x0=0, y0=3.5, x1=1, y1=4.0,\n",
    "               fillcolor=f\"rgba({int(COLORS['success'][1:3], 16)}, {int(COLORS['success'][3:5], 16)}, {int(COLORS['success'][5:7], 16)}, 0.1)\", \n",
    "               layer=\"below\", line_width=0)\n",
    "fig2.add_shape(type=\"rect\", xref=\"paper\", yref=\"y\", x0=0, y0=2.0, x1=1, y1=3.5,\n",
    "               fillcolor=f\"rgba({int(COLORS['secondary'][1:3], 16)}, {int(COLORS['secondary'][3:5], 16)}, {int(COLORS['secondary'][5:7], 16)}, 0.1)\", \n",
    "               layer=\"below\", line_width=0)\n",
    "fig2.add_shape(type=\"rect\", xref=\"paper\", yref=\"y\", x0=0, y0=1.0, x1=1, y1=2.0,\n",
    "               fillcolor=f\"rgba({int(COLORS['danger'][1:3], 16)}, {int(COLORS['danger'][3:5], 16)}, {int(COLORS['danger'][5:7], 16)}, 0.1)\", \n",
    "               layer=\"below\", line_width=0)\n",
    "\n",
    "fig2.show()\n",
    "print(\"✅ Chart 2 completed!\")"
   ]
  },
  {
   "cell_type": "markdown",
   "id": "184a8aeb",
   "metadata": {},
   "source": []
  },
  {
   "cell_type": "code",
   "execution_count": 26,
   "id": "7a65f2ab",
   "metadata": {},
   "outputs": [
    {
     "name": "stdout",
     "output_type": "stream",
     "text": [
      "🎨 Creating Chart 3: Interactive Completion Time Box Plot...\n"
     ]
    },
    {
     "data": {
      "application/vnd.plotly.v1+json": {
       "config": {
        "plotlyServerURL": "https://plot.ly"
       },
       "data": [
        {
         "boxpoints": "outliers",
         "hovertemplate": "<b>%{fullData.name}</b><br>Completion Time: %{y:.1f} months<br>Student Count: 33<br><extra></extra>",
         "jitter": 0.3,
         "marker": {
          "color": "#8B5FBF",
          "line": {
           "color": "white",
           "width": 1
          },
          "opacity": 0.6,
          "size": 4
         },
         "name": "FOREIGNER",
         "pointpos": -1.8,
         "type": "box",
         "visible": true,
         "y": [
          16.98423127463863,
          16.98423127463863,
          16.98423127463863,
          16.98423127463863,
          16.95137976346912,
          17.04993429697766,
          17.04993429697766,
          16.98423127463863,
          16.98423127463863,
          16.95137976346912,
          2.3324572930354797,
          2.3324572930354797,
          2.3324572930354797,
          4.50065703022339,
          4.894875164257556,
          5.45335085413929,
          5.45335085413929,
          0.9855453350854139,
          5.19053876478318,
          5.19053876478318,
          5.19053876478318,
          5.19053876478318,
          5.19053876478318,
          4.993429697766097,
          4.993429697766097,
          11.366622864651774,
          11.366622864651774,
          11.366622864651774,
          11.169513797634691,
          11.169513797634691,
          11.169513797634691,
          11.169513797634691,
          11.300919842312746
         ]
        },
        {
         "boxpoints": "outliers",
         "hovertemplate": "<b>%{fullData.name}</b><br>Completion Time: %{y:.1f} months<br>Student Count: 212<br><extra></extra>",
         "jitter": 0.3,
         "marker": {
          "color": "#22D3EE",
          "line": {
           "color": "white",
           "width": 1
          },
          "opacity": 0.6,
          "size": 4
         },
         "name": "SG CITIZEN",
         "pointpos": -1.8,
         "type": "box",
         "visible": true,
         "y": [
          16.98423127463863,
          16.98423127463863,
          16.98423127463863,
          22.996057818659658,
          16.98423127463863,
          16.95137976346912,
          16.95137976346912,
          16.95137976346912,
          16.95137976346912,
          16.95137976346912,
          16.95137976346912,
          16.95137976346912,
          16.95137976346912,
          16.95137976346912,
          16.95137976346912,
          17.04993429697766,
          17.04993429697766,
          17.04993429697766,
          17.04993429697766,
          17.04993429697766,
          17.04993429697766,
          17.04993429697766,
          17.04993429697766,
          17.04993429697766,
          17.04993429697766,
          17.04993429697766,
          17.04993429697766,
          17.04993429697766,
          17.04993429697766,
          17.04993429697766,
          17.04993429697766,
          17.04993429697766,
          16.98423127463863,
          16.98423127463863,
          22.996057818659658,
          16.98423127463863,
          16.98423127463863,
          16.95137976346912,
          16.95137976346912,
          16.95137976346912,
          16.95137976346912,
          16.95137976346912,
          16.95137976346912,
          17.04993429697766,
          17.04993429697766,
          17.04993429697766,
          17.04993429697766,
          17.04993429697766,
          17.04993429697766,
          17.04993429697766,
          17.04993429697766,
          17.04993429697766,
          17.04993429697766,
          17.04993429697766,
          17.04993429697766,
          17.04993429697766,
          17.04993429697766,
          4.993429697766097,
          4.993429697766097,
          4.993429697766097,
          4.993429697766097,
          4.993429697766097,
          4.993429697766097,
          4.993429697766097,
          2.3324572930354797,
          2.3324572930354797,
          2.3324572930354797,
          2.3324572930354797,
          2.3324572930354797,
          4.50065703022339,
          4.50065703022339,
          4.50065703022339,
          4.50065703022339,
          4.50065703022339,
          4.50065703022339,
          4.50065703022339,
          4.993429697766097,
          4.993429697766097,
          4.993429697766097,
          4.993429697766097,
          4.993429697766097,
          4.894875164257556,
          4.894875164257556,
          4.894875164257556,
          4.894875164257556,
          4.894875164257556,
          4.894875164257556,
          4.894875164257556,
          4.894875164257556,
          4.894875164257556,
          4.894875164257556,
          4.894875164257556,
          4.894875164257556,
          4.894875164257556,
          4.894875164257556,
          11.169513797634691,
          5.45335085413929,
          5.45335085413929,
          5.45335085413929,
          5.45335085413929,
          5.45335085413929,
          5.45335085413929,
          5.45335085413929,
          5.45335085413929,
          5.45335085413929,
          0.9855453350854139,
          0.9855453350854139,
          0.9855453350854139,
          0.9855453350854139,
          0.9855453350854139,
          0.9855453350854139,
          0.9855453350854139,
          5.19053876478318,
          5.19053876478318,
          5.19053876478318,
          5.19053876478318,
          5.19053876478318,
          5.19053876478318,
          5.19053876478318,
          5.19053876478318,
          2.628120893561104,
          2.628120893561104,
          2.628120893561104,
          2.628120893561104,
          2.628120893561104,
          2.628120893561104,
          2.628120893561104,
          2.628120893561104,
          2.1681997371879107,
          2.1681997371879107,
          2.1681997371879107,
          2.1681997371879107,
          2.1681997371879107,
          2.1681997371879107,
          2.1681997371879107,
          4.993429697766097,
          4.993429697766097,
          4.993429697766097,
          10.972404730617608,
          4.993429697766097,
          4.993429697766097,
          4.993429697766097,
          4.993429697766097,
          4.993429697766097,
          4.993429697766097,
          4.993429697766097,
          4.993429697766097,
          4.993429697766097,
          4.993429697766097,
          4.993429697766097,
          4.993429697766097,
          4.993429697766097,
          4.993429697766097,
          11.366622864651774,
          11.366622864651774,
          11.366622864651774,
          11.366622864651774,
          11.366622864651774,
          11.366622864651774,
          11.366622864651774,
          11.366622864651774,
          11.235216819973719,
          11.235216819973719,
          11.235216819973719,
          11.235216819973719,
          11.235216819973719,
          11.235216819973719,
          11.235216819973719,
          11.235216819973719,
          11.235216819973719,
          11.235216819973719,
          11.235216819973719,
          11.169513797634691,
          11.169513797634691,
          11.169513797634691,
          11.169513797634691,
          11.169513797634691,
          11.169513797634691,
          11.300919842312746,
          11.300919842312746,
          11.300919842312746,
          11.300919842312746,
          11.300919842312746,
          11.300919842312746,
          11.300919842312746,
          11.300919842312746,
          11.300919842312746,
          11.366622864651774,
          11.366622864651774,
          11.366622864651774,
          11.366622864651774,
          11.366622864651774,
          11.366622864651774,
          11.235216819973719,
          11.235216819973719,
          11.235216819973719,
          11.235216819973719,
          11.235216819973719,
          11.235216819973719,
          11.235216819973719,
          11.169513797634691,
          11.169513797634691,
          11.169513797634691,
          11.169513797634691,
          11.169513797634691,
          11.169513797634691,
          11.169513797634691,
          11.300919842312746,
          11.300919842312746,
          11.300919842312746,
          11.300919842312746,
          11.300919842312746
         ]
        },
        {
         "boxpoints": "outliers",
         "hovertemplate": "<b>%{fullData.name}</b><br>Completion Time: %{y:.1f} months<br>Student Count: 27<br><extra></extra>",
         "jitter": 0.3,
         "marker": {
          "color": "#F97316",
          "line": {
           "color": "white",
           "width": 1
          },
          "opacity": 0.6,
          "size": 4
         },
         "name": "SG PR",
         "pointpos": -1.8,
         "type": "box",
         "visible": true,
         "y": [
          16.98423127463863,
          16.98423127463863,
          16.95137976346912,
          17.04993429697766,
          16.98423127463863,
          17.04993429697766,
          4.993429697766097,
          4.993429697766097,
          4.894875164257556,
          5.45335085413929,
          5.45335085413929,
          0.9855453350854139,
          0.9855453350854139,
          0.9855453350854139,
          0.9855453350854139,
          5.19053876478318,
          5.19053876478318,
          2.628120893561104,
          2.628120893561104,
          2.1681997371879107,
          2.1681997371879107,
          4.993429697766097,
          4.993429697766097,
          11.366622864651774,
          11.169513797634691,
          11.300919842312746,
          11.366622864651774
         ]
        }
       ],
       "layout": {
        "annotations": [
         {
          "font": {
           "color": "#BF40BF",
           "family": "Orbitron, monospace",
           "size": 12
          },
          "showarrow": false,
          "text": "🔍 Filter Options:",
          "x": 0.02,
          "xref": "paper",
          "y": 1.18,
          "yref": "paper"
         }
        ],
        "font": {
         "color": "#FFFFFF",
         "family": "Orbitron, monospace",
         "size": 12
        },
        "height": 700,
        "margin": {
         "b": 80,
         "l": 80,
         "r": 80,
         "t": 150
        },
        "paper_bgcolor": "#0A0A1A",
        "plot_bgcolor": "rgba(0,0,0,0)",
        "showlegend": false,
        "template": {
         "data": {
          "bar": [
           {
            "error_x": {
             "color": "#2a3f5f"
            },
            "error_y": {
             "color": "#2a3f5f"
            },
            "marker": {
             "line": {
              "color": "#E5ECF6",
              "width": 0.5
             },
             "pattern": {
              "fillmode": "overlay",
              "size": 10,
              "solidity": 0.2
             }
            },
            "type": "bar"
           }
          ],
          "barpolar": [
           {
            "marker": {
             "line": {
              "color": "#E5ECF6",
              "width": 0.5
             },
             "pattern": {
              "fillmode": "overlay",
              "size": 10,
              "solidity": 0.2
             }
            },
            "type": "barpolar"
           }
          ],
          "carpet": [
           {
            "aaxis": {
             "endlinecolor": "#2a3f5f",
             "gridcolor": "white",
             "linecolor": "white",
             "minorgridcolor": "white",
             "startlinecolor": "#2a3f5f"
            },
            "baxis": {
             "endlinecolor": "#2a3f5f",
             "gridcolor": "white",
             "linecolor": "white",
             "minorgridcolor": "white",
             "startlinecolor": "#2a3f5f"
            },
            "type": "carpet"
           }
          ],
          "choropleth": [
           {
            "colorbar": {
             "outlinewidth": 0,
             "ticks": ""
            },
            "type": "choropleth"
           }
          ],
          "contour": [
           {
            "colorbar": {
             "outlinewidth": 0,
             "ticks": ""
            },
            "colorscale": [
             [
              0,
              "#0d0887"
             ],
             [
              0.1111111111111111,
              "#46039f"
             ],
             [
              0.2222222222222222,
              "#7201a8"
             ],
             [
              0.3333333333333333,
              "#9c179e"
             ],
             [
              0.4444444444444444,
              "#bd3786"
             ],
             [
              0.5555555555555556,
              "#d8576b"
             ],
             [
              0.6666666666666666,
              "#ed7953"
             ],
             [
              0.7777777777777778,
              "#fb9f3a"
             ],
             [
              0.8888888888888888,
              "#fdca26"
             ],
             [
              1,
              "#f0f921"
             ]
            ],
            "type": "contour"
           }
          ],
          "contourcarpet": [
           {
            "colorbar": {
             "outlinewidth": 0,
             "ticks": ""
            },
            "type": "contourcarpet"
           }
          ],
          "heatmap": [
           {
            "colorbar": {
             "outlinewidth": 0,
             "ticks": ""
            },
            "colorscale": [
             [
              0,
              "#0d0887"
             ],
             [
              0.1111111111111111,
              "#46039f"
             ],
             [
              0.2222222222222222,
              "#7201a8"
             ],
             [
              0.3333333333333333,
              "#9c179e"
             ],
             [
              0.4444444444444444,
              "#bd3786"
             ],
             [
              0.5555555555555556,
              "#d8576b"
             ],
             [
              0.6666666666666666,
              "#ed7953"
             ],
             [
              0.7777777777777778,
              "#fb9f3a"
             ],
             [
              0.8888888888888888,
              "#fdca26"
             ],
             [
              1,
              "#f0f921"
             ]
            ],
            "type": "heatmap"
           }
          ],
          "heatmapgl": [
           {
            "colorbar": {
             "outlinewidth": 0,
             "ticks": ""
            },
            "colorscale": [
             [
              0,
              "#0d0887"
             ],
             [
              0.1111111111111111,
              "#46039f"
             ],
             [
              0.2222222222222222,
              "#7201a8"
             ],
             [
              0.3333333333333333,
              "#9c179e"
             ],
             [
              0.4444444444444444,
              "#bd3786"
             ],
             [
              0.5555555555555556,
              "#d8576b"
             ],
             [
              0.6666666666666666,
              "#ed7953"
             ],
             [
              0.7777777777777778,
              "#fb9f3a"
             ],
             [
              0.8888888888888888,
              "#fdca26"
             ],
             [
              1,
              "#f0f921"
             ]
            ],
            "type": "heatmapgl"
           }
          ],
          "histogram": [
           {
            "marker": {
             "pattern": {
              "fillmode": "overlay",
              "size": 10,
              "solidity": 0.2
             }
            },
            "type": "histogram"
           }
          ],
          "histogram2d": [
           {
            "colorbar": {
             "outlinewidth": 0,
             "ticks": ""
            },
            "colorscale": [
             [
              0,
              "#0d0887"
             ],
             [
              0.1111111111111111,
              "#46039f"
             ],
             [
              0.2222222222222222,
              "#7201a8"
             ],
             [
              0.3333333333333333,
              "#9c179e"
             ],
             [
              0.4444444444444444,
              "#bd3786"
             ],
             [
              0.5555555555555556,
              "#d8576b"
             ],
             [
              0.6666666666666666,
              "#ed7953"
             ],
             [
              0.7777777777777778,
              "#fb9f3a"
             ],
             [
              0.8888888888888888,
              "#fdca26"
             ],
             [
              1,
              "#f0f921"
             ]
            ],
            "type": "histogram2d"
           }
          ],
          "histogram2dcontour": [
           {
            "colorbar": {
             "outlinewidth": 0,
             "ticks": ""
            },
            "colorscale": [
             [
              0,
              "#0d0887"
             ],
             [
              0.1111111111111111,
              "#46039f"
             ],
             [
              0.2222222222222222,
              "#7201a8"
             ],
             [
              0.3333333333333333,
              "#9c179e"
             ],
             [
              0.4444444444444444,
              "#bd3786"
             ],
             [
              0.5555555555555556,
              "#d8576b"
             ],
             [
              0.6666666666666666,
              "#ed7953"
             ],
             [
              0.7777777777777778,
              "#fb9f3a"
             ],
             [
              0.8888888888888888,
              "#fdca26"
             ],
             [
              1,
              "#f0f921"
             ]
            ],
            "type": "histogram2dcontour"
           }
          ],
          "mesh3d": [
           {
            "colorbar": {
             "outlinewidth": 0,
             "ticks": ""
            },
            "type": "mesh3d"
           }
          ],
          "parcoords": [
           {
            "line": {
             "colorbar": {
              "outlinewidth": 0,
              "ticks": ""
             }
            },
            "type": "parcoords"
           }
          ],
          "pie": [
           {
            "automargin": true,
            "type": "pie"
           }
          ],
          "scatter": [
           {
            "fillpattern": {
             "fillmode": "overlay",
             "size": 10,
             "solidity": 0.2
            },
            "type": "scatter"
           }
          ],
          "scatter3d": [
           {
            "line": {
             "colorbar": {
              "outlinewidth": 0,
              "ticks": ""
             }
            },
            "marker": {
             "colorbar": {
              "outlinewidth": 0,
              "ticks": ""
             }
            },
            "type": "scatter3d"
           }
          ],
          "scattercarpet": [
           {
            "marker": {
             "colorbar": {
              "outlinewidth": 0,
              "ticks": ""
             }
            },
            "type": "scattercarpet"
           }
          ],
          "scattergeo": [
           {
            "marker": {
             "colorbar": {
              "outlinewidth": 0,
              "ticks": ""
             }
            },
            "type": "scattergeo"
           }
          ],
          "scattergl": [
           {
            "marker": {
             "colorbar": {
              "outlinewidth": 0,
              "ticks": ""
             }
            },
            "type": "scattergl"
           }
          ],
          "scattermapbox": [
           {
            "marker": {
             "colorbar": {
              "outlinewidth": 0,
              "ticks": ""
             }
            },
            "type": "scattermapbox"
           }
          ],
          "scatterpolar": [
           {
            "marker": {
             "colorbar": {
              "outlinewidth": 0,
              "ticks": ""
             }
            },
            "type": "scatterpolar"
           }
          ],
          "scatterpolargl": [
           {
            "marker": {
             "colorbar": {
              "outlinewidth": 0,
              "ticks": ""
             }
            },
            "type": "scatterpolargl"
           }
          ],
          "scatterternary": [
           {
            "marker": {
             "colorbar": {
              "outlinewidth": 0,
              "ticks": ""
             }
            },
            "type": "scatterternary"
           }
          ],
          "surface": [
           {
            "colorbar": {
             "outlinewidth": 0,
             "ticks": ""
            },
            "colorscale": [
             [
              0,
              "#0d0887"
             ],
             [
              0.1111111111111111,
              "#46039f"
             ],
             [
              0.2222222222222222,
              "#7201a8"
             ],
             [
              0.3333333333333333,
              "#9c179e"
             ],
             [
              0.4444444444444444,
              "#bd3786"
             ],
             [
              0.5555555555555556,
              "#d8576b"
             ],
             [
              0.6666666666666666,
              "#ed7953"
             ],
             [
              0.7777777777777778,
              "#fb9f3a"
             ],
             [
              0.8888888888888888,
              "#fdca26"
             ],
             [
              1,
              "#f0f921"
             ]
            ],
            "type": "surface"
           }
          ],
          "table": [
           {
            "cells": {
             "fill": {
              "color": "#EBF0F8"
             },
             "line": {
              "color": "white"
             }
            },
            "header": {
             "fill": {
              "color": "#C8D4E3"
             },
             "line": {
              "color": "white"
             }
            },
            "type": "table"
           }
          ]
         },
         "layout": {
          "annotationdefaults": {
           "arrowcolor": "#2a3f5f",
           "arrowhead": 0,
           "arrowwidth": 1
          },
          "autotypenumbers": "strict",
          "coloraxis": {
           "colorbar": {
            "outlinewidth": 0,
            "ticks": ""
           }
          },
          "colorscale": {
           "diverging": [
            [
             0,
             "#8e0152"
            ],
            [
             0.1,
             "#c51b7d"
            ],
            [
             0.2,
             "#de77ae"
            ],
            [
             0.3,
             "#f1b6da"
            ],
            [
             0.4,
             "#fde0ef"
            ],
            [
             0.5,
             "#f7f7f7"
            ],
            [
             0.6,
             "#e6f5d0"
            ],
            [
             0.7,
             "#b8e186"
            ],
            [
             0.8,
             "#7fbc41"
            ],
            [
             0.9,
             "#4d9221"
            ],
            [
             1,
             "#276419"
            ]
           ],
           "sequential": [
            [
             0,
             "#0d0887"
            ],
            [
             0.1111111111111111,
             "#46039f"
            ],
            [
             0.2222222222222222,
             "#7201a8"
            ],
            [
             0.3333333333333333,
             "#9c179e"
            ],
            [
             0.4444444444444444,
             "#bd3786"
            ],
            [
             0.5555555555555556,
             "#d8576b"
            ],
            [
             0.6666666666666666,
             "#ed7953"
            ],
            [
             0.7777777777777778,
             "#fb9f3a"
            ],
            [
             0.8888888888888888,
             "#fdca26"
            ],
            [
             1,
             "#f0f921"
            ]
           ],
           "sequentialminus": [
            [
             0,
             "#0d0887"
            ],
            [
             0.1111111111111111,
             "#46039f"
            ],
            [
             0.2222222222222222,
             "#7201a8"
            ],
            [
             0.3333333333333333,
             "#9c179e"
            ],
            [
             0.4444444444444444,
             "#bd3786"
            ],
            [
             0.5555555555555556,
             "#d8576b"
            ],
            [
             0.6666666666666666,
             "#ed7953"
            ],
            [
             0.7777777777777778,
             "#fb9f3a"
            ],
            [
             0.8888888888888888,
             "#fdca26"
            ],
            [
             1,
             "#f0f921"
            ]
           ]
          },
          "colorway": [
           "#636efa",
           "#EF553B",
           "#00cc96",
           "#ab63fa",
           "#FFA15A",
           "#19d3f3",
           "#FF6692",
           "#B6E880",
           "#FF97FF",
           "#FECB52"
          ],
          "font": {
           "color": "#2a3f5f"
          },
          "geo": {
           "bgcolor": "white",
           "lakecolor": "white",
           "landcolor": "#E5ECF6",
           "showlakes": true,
           "showland": true,
           "subunitcolor": "white"
          },
          "hoverlabel": {
           "align": "left"
          },
          "hovermode": "closest",
          "mapbox": {
           "style": "light"
          },
          "paper_bgcolor": "white",
          "plot_bgcolor": "#E5ECF6",
          "polar": {
           "angularaxis": {
            "gridcolor": "white",
            "linecolor": "white",
            "ticks": ""
           },
           "bgcolor": "#E5ECF6",
           "radialaxis": {
            "gridcolor": "white",
            "linecolor": "white",
            "ticks": ""
           }
          },
          "scene": {
           "xaxis": {
            "backgroundcolor": "#E5ECF6",
            "gridcolor": "white",
            "gridwidth": 2,
            "linecolor": "white",
            "showbackground": true,
            "ticks": "",
            "zerolinecolor": "white"
           },
           "yaxis": {
            "backgroundcolor": "#E5ECF6",
            "gridcolor": "white",
            "gridwidth": 2,
            "linecolor": "white",
            "showbackground": true,
            "ticks": "",
            "zerolinecolor": "white"
           },
           "zaxis": {
            "backgroundcolor": "#E5ECF6",
            "gridcolor": "white",
            "gridwidth": 2,
            "linecolor": "white",
            "showbackground": true,
            "ticks": "",
            "zerolinecolor": "white"
           }
          },
          "shapedefaults": {
           "line": {
            "color": "#2a3f5f"
           }
          },
          "ternary": {
           "aaxis": {
            "gridcolor": "white",
            "linecolor": "white",
            "ticks": ""
           },
           "baxis": {
            "gridcolor": "white",
            "linecolor": "white",
            "ticks": ""
           },
           "bgcolor": "#E5ECF6",
           "caxis": {
            "gridcolor": "white",
            "linecolor": "white",
            "ticks": ""
           }
          },
          "title": {
           "x": 0.05
          },
          "xaxis": {
           "automargin": true,
           "gridcolor": "white",
           "linecolor": "white",
           "ticks": "",
           "title": {
            "standoff": 15
           },
           "zerolinecolor": "white",
           "zerolinewidth": 2
          },
          "yaxis": {
           "automargin": true,
           "gridcolor": "white",
           "linecolor": "white",
           "ticks": "",
           "title": {
            "standoff": 15
           },
           "zerolinecolor": "white",
           "zerolinewidth": 2
          }
         }
        },
        "title": {
         "font": {
          "color": "#FFFFFF",
          "size": 18
         },
         "text": "<b>🔍 Course Completion Time Distribution</b><br><sub>Interactive box plot analysis of completion duration by citizenship status</sub>",
         "x": 0.5
        },
        "updatemenus": [
         {
          "bgcolor": "#1A1A2E",
          "bordercolor": "#BF40BF",
          "borderwidth": 2,
          "buttons": [
           {
            "args": [
             {
              "visible": [
               true,
               true,
               true
              ]
             }
            ],
            "label": "All Citizenship Types",
            "method": "update"
           },
           {
            "args": [
             {
              "visible": [
               true,
               false,
               false
              ]
             }
            ],
            "label": "FOREIGNER Only",
            "method": "update"
           },
           {
            "args": [
             {
              "visible": [
               false,
               true,
               false
              ]
             }
            ],
            "label": "SG CITIZEN Only",
            "method": "update"
           },
           {
            "args": [
             {
              "visible": [
               false,
               false,
               true
              ]
             }
            ],
            "label": "SG PR Only",
            "method": "update"
           }
          ],
          "direction": "down",
          "font": {
           "color": "#FFFFFF"
          },
          "showactive": true,
          "x": 0.02,
          "xanchor": "left",
          "y": 1.12,
          "yanchor": "top"
         }
        ],
        "xaxis": {
         "gridcolor": "rgba(200,200,200,0.2)",
         "gridwidth": 1,
         "tickfont": {
          "color": "#E2E8F0"
         },
         "title": {
          "font": {
           "color": "#00F5FF"
          },
          "text": "Citizenship Status"
         }
        },
        "yaxis": {
         "gridcolor": "rgba(200,200,200,0.2)",
         "gridwidth": 1,
         "range": [
          0,
          60
         ],
         "tickfont": {
          "color": "#E2E8F0"
         },
         "title": {
          "font": {
           "color": "#39FF14"
          },
          "text": "Completion Time (Months)"
         }
        }
       }
      }
     },
     "metadata": {},
     "output_type": "display_data"
    },
    {
     "name": "stdout",
     "output_type": "stream",
     "text": [
      "✅ Chart 3 completed!\n"
     ]
    }
   ],
   "source": [
    "# === CHART 3: INTERACTIVE BOX PLOT - COMPLETION TIME ANALYSIS ===\n",
    "print(\"🎨 Creating Chart 3: Interactive Completion Time Box Plot...\")\n",
    "\n",
    "# Filter out invalid completion times\n",
    "completion_data = df.dropna(subset=['COMPLETION_MONTHS'])\n",
    "completion_data = completion_data[completion_data['COMPLETION_MONTHS'] > 0]\n",
    "completion_data = completion_data[completion_data['COMPLETION_MONTHS'] <= 60]  # Reasonable max of 5 years\n",
    "\n",
    "fig3 = go.Figure()\n",
    "\n",
    "# Add box plot for all citizenship types\n",
    "for i, citizenship in enumerate(completion_data['CITIZENSHIP'].unique()):\n",
    "    citizenship_data = completion_data[completion_data['CITIZENSHIP'] == citizenship]\n",
    "    \n",
    "    fig3.add_trace(\n",
    "        go.Box(\n",
    "            y=citizenship_data['COMPLETION_MONTHS'],\n",
    "            name=citizenship,\n",
    "            marker_color=citizenship_colors[i % len(citizenship_colors)],\n",
    "            boxpoints='outliers',  # Show outliers\n",
    "            jitter=0.3,  # Add some jitter to points\n",
    "            pointpos=-1.8,  # Position of points\n",
    "            marker=dict(\n",
    "                size=4,\n",
    "                opacity=0.6,\n",
    "                line=dict(width=1, color='white')\n",
    "            ),\n",
    "            hovertemplate='<b>%{fullData.name}</b><br>' +\n",
    "                         'Completion Time: %{y:.1f} months<br>' +\n",
    "                         'Student Count: ' + str(len(citizenship_data)) + '<br>' +\n",
    "                         '<extra></extra>',\n",
    "            visible=True\n",
    "        )\n",
    "    )\n",
    "\n",
    "# Add \"All Categories\" option (show all)\n",
    "all_visible = [True] * len(completion_data['CITIZENSHIP'].unique())\n",
    "\n",
    "# Create dropdown options\n",
    "dropdown_buttons = [\n",
    "    dict(label='All Citizenship Types',\n",
    "         method='update',\n",
    "         args=[{'visible': all_visible}])\n",
    "]\n",
    "\n",
    "# Add individual citizenship type options\n",
    "for i, citizenship in enumerate(completion_data['CITIZENSHIP'].unique()):\n",
    "    visibility = [False] * len(completion_data['CITIZENSHIP'].unique())\n",
    "    visibility[i] = True\n",
    "    dropdown_buttons.append(\n",
    "        dict(label=f'{citizenship} Only',\n",
    "             method='update',\n",
    "             args=[{'visible': visibility}])\n",
    "    )\n",
    "\n",
    "fig3.update_layout(\n",
    "    title='<b>🔍 Course Completion Time Distribution</b><br><sub>Interactive box plot analysis of completion duration by citizenship status</sub>',\n",
    "    title_font_size=18,\n",
    "    title_x=0.5,\n",
    "    title_font_color=COLORS['light'],\n",
    "    yaxis_title='Completion Time (Months)',\n",
    "    xaxis_title='Citizenship Status',\n",
    "    font=dict(family='Orbitron, monospace', size=12, color=COLORS['light']),\n",
    "    paper_bgcolor=COLORS['dark_bg'],\n",
    "    plot_bgcolor='rgba(0,0,0,0)',\n",
    "    height=700,\n",
    "    margin=dict(t=150, l=80, r=80, b=80),\n",
    "    showlegend=False,\n",
    "    updatemenus=[\n",
    "        dict(\n",
    "            buttons=dropdown_buttons,\n",
    "            direction='down',\n",
    "            showactive=True,\n",
    "            x=0.02,\n",
    "            xanchor='left',\n",
    "            y=1.12,\n",
    "            yanchor='top',\n",
    "            bgcolor=COLORS['card_bg'],\n",
    "            bordercolor=COLORS['neon_purple'],\n",
    "            borderwidth=2,\n",
    "            font=dict(color=COLORS['light'])\n",
    "        )\n",
    "    ],\n",
    "    annotations=[\n",
    "        dict(\n",
    "            text=\"🔍 Filter Options:\",\n",
    "            x=0.02, y=1.18,\n",
    "            xref=\"paper\", yref=\"paper\",\n",
    "            showarrow=False,\n",
    "            font=dict(size=12, family='Orbitron, monospace', color=COLORS['neon_purple'])\n",
    "        )\n",
    "    ]\n",
    ")\n",
    "\n",
    "# Add grid lines for better readability with dashboard theme\n",
    "fig3.update_layout(\n",
    "    yaxis=dict(\n",
    "        gridcolor='rgba(200,200,200,0.2)',\n",
    "        gridwidth=1,\n",
    "        range=[0, 60],\n",
    "        title_font_color=COLORS['neon_green'],\n",
    "        tickfont=dict(color=COLORS['text'])\n",
    "    ),\n",
    "    xaxis=dict(\n",
    "        gridcolor='rgba(200,200,200,0.2)',\n",
    "        gridwidth=1,\n",
    "        title_font_color=COLORS['neon_blue'],\n",
    "        tickfont=dict(color=COLORS['text'])\n",
    "    )\n",
    ")\n",
    "\n",
    "fig3.show()\n",
    "print(\"✅ Chart 3 completed!\")"
   ]
  },
  {
   "cell_type": "code",
   "execution_count": 27,
   "id": "951dc908",
   "metadata": {},
   "outputs": [
    {
     "name": "stdout",
     "output_type": "stream",
     "text": [
      "🎨 Creating Chart 4: Animated GPA Performance Trends...\n"
     ]
    },
    {
     "data": {
      "application/vnd.plotly.v1+json": {
       "config": {
        "plotlyServerURL": "https://plot.ly"
       },
       "data": [
        {
         "connectgaps": true,
         "customdata": [
          34,
          227,
          29
         ],
         "hovertemplate": "<b>%{x}</b><br>Average GPA: %{y:.2f}<br>Students: %{customdata}<br>Period: Semester 1<extra></extra>",
         "line": {
          "color": "#8B5FBF",
          "shape": "spline",
          "smoothing": 0.3,
          "width": 4
         },
         "marker": {
          "color": [
           "#8B5FBF",
           "#22D3EE",
           "#F97316"
          ],
          "line": {
           "color": "white",
           "width": 3
          },
          "opacity": 0.8,
          "size": [
           26.8,
           65.4,
           25.8
          ],
          "symbol": "circle"
         },
         "mode": "markers+lines+text",
         "name": "Semester 1",
         "text": [
          "3.34",
          "3.05",
          "2.98"
         ],
         "textfont": {
          "color": "#E2E8F0",
          "family": "Arial Black",
          "size": 14
         },
         "textposition": "top center",
         "type": "scatter",
         "x": [
          "FOREIGNER",
          "SG CITIZEN",
          "SG PR"
         ],
         "y": [
          3.34,
          3.05,
          2.98
         ]
        }
       ],
       "frames": [
        {
         "data": [
          {
           "connectgaps": true,
           "customdata": [
            34,
            227,
            29
           ],
           "hovertemplate": "<b>%{x}</b><br>Average GPA: %{y:.2f}<br>Students: %{customdata}<br>Period: Semester 1<extra></extra>",
           "line": {
            "color": "#8B5FBF",
            "shape": "spline",
            "smoothing": 0.3,
            "width": 4
           },
           "marker": {
            "color": [
             "#8B5FBF",
             "#22D3EE",
             "#F97316"
            ],
            "line": {
             "color": "white",
             "width": 3
            },
            "opacity": 0.8,
            "size": [
             26.8,
             65.4,
             25.8
            ],
            "symbol": "circle"
           },
           "mode": "markers+lines+text",
           "name": "Semester 1",
           "text": [
            "3.34",
            "3.05",
            "2.98"
           ],
           "textfont": {
            "color": "#E2E8F0",
            "family": "Arial Black",
            "size": 14
           },
           "textposition": "top center",
           "type": "scatter",
           "x": [
            "FOREIGNER",
            "SG CITIZEN",
            "SG PR"
           ],
           "y": [
            3.34,
            3.05,
            2.98
           ]
          }
         ],
         "name": "Semester 1"
        },
        {
         "data": [
          {
           "connectgaps": true,
           "customdata": [
            18,
            125,
            11
           ],
           "hovertemplate": "<b>%{x}</b><br>Average GPA: %{y:.2f}<br>Students: %{customdata}<br>Period: Semester 2<extra></extra>",
           "line": {
            "color": "#8B5FBF",
            "shape": "spline",
            "smoothing": 0.3,
            "width": 4
           },
           "marker": {
            "color": [
             "#8B5FBF",
             "#22D3EE",
             "#F97316"
            ],
            "line": {
             "color": "white",
             "width": 3
            },
            "opacity": 0.8,
            "size": [
             23.6,
             45,
             22.2
            ],
            "symbol": "circle"
           },
           "mode": "markers+lines+text",
           "name": "Semester 2",
           "text": [
            "3.37",
            "3.11",
            "2.78"
           ],
           "textfont": {
            "color": "#E2E8F0",
            "family": "Arial Black",
            "size": 14
           },
           "textposition": "top center",
           "type": "scatter",
           "x": [
            "FOREIGNER",
            "SG CITIZEN",
            "SG PR"
           ],
           "y": [
            3.37,
            3.11,
            2.78
           ]
          }
         ],
         "name": "Semester 2"
        },
        {
         "data": [
          {
           "connectgaps": true,
           "customdata": [
            10,
            64,
            7
           ],
           "hovertemplate": "<b>%{x}</b><br>Average GPA: %{y:.2f}<br>Students: %{customdata}<br>Period: Semester 3<extra></extra>",
           "line": {
            "color": "#8B5FBF",
            "shape": "spline",
            "smoothing": 0.3,
            "width": 4
           },
           "marker": {
            "color": [
             "#8B5FBF",
             "#22D3EE",
             "#F97316"
            ],
            "line": {
             "color": "white",
             "width": 3
            },
            "opacity": 0.8,
            "size": [
             22,
             32.8,
             21.4
            ],
            "symbol": "circle"
           },
           "mode": "markers+lines+text",
           "name": "Semester 3",
           "text": [
            "3.67",
            "3.26",
            "3.20"
           ],
           "textfont": {
            "color": "#E2E8F0",
            "family": "Arial Black",
            "size": 14
           },
           "textposition": "top center",
           "type": "scatter",
           "x": [
            "FOREIGNER",
            "SG CITIZEN",
            "SG PR"
           ],
           "y": [
            3.67,
            3.26,
            3.2
           ]
          }
         ],
         "name": "Semester 3"
        }
       ],
       "layout": {
        "annotations": [
         {
          "font": {
           "color": "#39FF14",
           "family": "Orbitron, monospace",
           "size": 12
          },
          "showarrow": false,
          "text": "🎬 Animation Controls:",
          "x": 0.02,
          "xref": "paper",
          "y": 1.18,
          "yref": "paper"
         },
         {
          "showarrow": false,
          "text": "🎯 Pass Threshold (2.0)",
          "x": 1,
          "xanchor": "right",
          "xref": "x domain",
          "y": 2,
          "yanchor": "bottom",
          "yref": "y"
         },
         {
          "showarrow": false,
          "text": "🌟 Excellence Threshold (3.0)",
          "x": 1,
          "xanchor": "right",
          "xref": "x domain",
          "y": 3,
          "yanchor": "top",
          "yref": "y"
         }
        ],
        "font": {
         "color": "#FFFFFF",
         "family": "Orbitron, monospace",
         "size": 12
        },
        "height": 700,
        "margin": {
         "b": 80,
         "l": 90,
         "r": 90,
         "t": 150
        },
        "paper_bgcolor": "#0A0A1A",
        "plot_bgcolor": "rgba(0,0,0,0)",
        "shapes": [
         {
          "line": {
           "color": "#EF4444",
           "dash": "dot",
           "width": 3
          },
          "type": "line",
          "x0": 0,
          "x1": 1,
          "xref": "x domain",
          "y0": 2,
          "y1": 2,
          "yref": "y"
         },
         {
          "line": {
           "color": "#10B981",
           "dash": "dot",
           "width": 3
          },
          "type": "line",
          "x0": 0,
          "x1": 1,
          "xref": "x domain",
          "y0": 3,
          "y1": 3,
          "yref": "y"
         },
         {
          "fillcolor": "rgba(16, 185, 129, 0.1)",
          "layer": "below",
          "line": {
           "width": 0
          },
          "type": "rect",
          "x0": 0,
          "x1": 1,
          "xref": "paper",
          "y0": 3,
          "y1": 4,
          "yref": "y"
         },
         {
          "fillcolor": "rgba(52, 152, 219, 0.1)",
          "layer": "below",
          "line": {
           "width": 0
          },
          "type": "rect",
          "x0": 0,
          "x1": 1,
          "xref": "paper",
          "y0": 2,
          "y1": 3,
          "yref": "y"
         },
         {
          "fillcolor": "rgba(231, 76, 60, 0.1)",
          "layer": "below",
          "line": {
           "width": 0
          },
          "type": "rect",
          "x0": 0,
          "x1": 1,
          "xref": "paper",
          "y0": 1.5,
          "y1": 2,
          "yref": "y"
         }
        ],
        "showlegend": false,
        "sliders": [
         {
          "active": 0,
          "bgcolor": "rgba(255,255,255,0.9)",
          "bordercolor": "#6C7B7F",
          "borderwidth": 1,
          "currentvalue": {
           "font": {
            "family": "Arial Black",
            "size": 16
           },
           "prefix": "📅 Current Period: ",
           "visible": true,
           "xanchor": "center"
          },
          "len": 0.85,
          "pad": {
           "b": 10,
           "t": 60
          },
          "steps": [
           {
            "args": [
             [
              "Semester 1"
             ],
             {
              "frame": {
               "duration": 400,
               "redraw": true
              },
              "mode": "immediate",
              "transition": {
               "duration": 400,
               "easing": "cubic-in-out"
              }
             }
            ],
            "label": "Semester 1",
            "method": "animate",
            "value": "Semester 1"
           },
           {
            "args": [
             [
              "Semester 2"
             ],
             {
              "frame": {
               "duration": 400,
               "redraw": true
              },
              "mode": "immediate",
              "transition": {
               "duration": 400,
               "easing": "cubic-in-out"
              }
             }
            ],
            "label": "Semester 2",
            "method": "animate",
            "value": "Semester 2"
           },
           {
            "args": [
             [
              "Semester 3"
             ],
             {
              "frame": {
               "duration": 400,
               "redraw": true
              },
              "mode": "immediate",
              "transition": {
               "duration": 400,
               "easing": "cubic-in-out"
              }
             }
            ],
            "label": "Semester 3",
            "method": "animate",
            "value": "Semester 3"
           }
          ],
          "tickcolor": "#8B5FBF",
          "transition": {
           "duration": 400,
           "easing": "cubic-in-out"
          },
          "x": 0.075,
          "xanchor": "left",
          "y": -0.05,
          "yanchor": "top"
         }
        ],
        "template": {
         "data": {
          "bar": [
           {
            "error_x": {
             "color": "#2a3f5f"
            },
            "error_y": {
             "color": "#2a3f5f"
            },
            "marker": {
             "line": {
              "color": "#E5ECF6",
              "width": 0.5
             },
             "pattern": {
              "fillmode": "overlay",
              "size": 10,
              "solidity": 0.2
             }
            },
            "type": "bar"
           }
          ],
          "barpolar": [
           {
            "marker": {
             "line": {
              "color": "#E5ECF6",
              "width": 0.5
             },
             "pattern": {
              "fillmode": "overlay",
              "size": 10,
              "solidity": 0.2
             }
            },
            "type": "barpolar"
           }
          ],
          "carpet": [
           {
            "aaxis": {
             "endlinecolor": "#2a3f5f",
             "gridcolor": "white",
             "linecolor": "white",
             "minorgridcolor": "white",
             "startlinecolor": "#2a3f5f"
            },
            "baxis": {
             "endlinecolor": "#2a3f5f",
             "gridcolor": "white",
             "linecolor": "white",
             "minorgridcolor": "white",
             "startlinecolor": "#2a3f5f"
            },
            "type": "carpet"
           }
          ],
          "choropleth": [
           {
            "colorbar": {
             "outlinewidth": 0,
             "ticks": ""
            },
            "type": "choropleth"
           }
          ],
          "contour": [
           {
            "colorbar": {
             "outlinewidth": 0,
             "ticks": ""
            },
            "colorscale": [
             [
              0,
              "#0d0887"
             ],
             [
              0.1111111111111111,
              "#46039f"
             ],
             [
              0.2222222222222222,
              "#7201a8"
             ],
             [
              0.3333333333333333,
              "#9c179e"
             ],
             [
              0.4444444444444444,
              "#bd3786"
             ],
             [
              0.5555555555555556,
              "#d8576b"
             ],
             [
              0.6666666666666666,
              "#ed7953"
             ],
             [
              0.7777777777777778,
              "#fb9f3a"
             ],
             [
              0.8888888888888888,
              "#fdca26"
             ],
             [
              1,
              "#f0f921"
             ]
            ],
            "type": "contour"
           }
          ],
          "contourcarpet": [
           {
            "colorbar": {
             "outlinewidth": 0,
             "ticks": ""
            },
            "type": "contourcarpet"
           }
          ],
          "heatmap": [
           {
            "colorbar": {
             "outlinewidth": 0,
             "ticks": ""
            },
            "colorscale": [
             [
              0,
              "#0d0887"
             ],
             [
              0.1111111111111111,
              "#46039f"
             ],
             [
              0.2222222222222222,
              "#7201a8"
             ],
             [
              0.3333333333333333,
              "#9c179e"
             ],
             [
              0.4444444444444444,
              "#bd3786"
             ],
             [
              0.5555555555555556,
              "#d8576b"
             ],
             [
              0.6666666666666666,
              "#ed7953"
             ],
             [
              0.7777777777777778,
              "#fb9f3a"
             ],
             [
              0.8888888888888888,
              "#fdca26"
             ],
             [
              1,
              "#f0f921"
             ]
            ],
            "type": "heatmap"
           }
          ],
          "heatmapgl": [
           {
            "colorbar": {
             "outlinewidth": 0,
             "ticks": ""
            },
            "colorscale": [
             [
              0,
              "#0d0887"
             ],
             [
              0.1111111111111111,
              "#46039f"
             ],
             [
              0.2222222222222222,
              "#7201a8"
             ],
             [
              0.3333333333333333,
              "#9c179e"
             ],
             [
              0.4444444444444444,
              "#bd3786"
             ],
             [
              0.5555555555555556,
              "#d8576b"
             ],
             [
              0.6666666666666666,
              "#ed7953"
             ],
             [
              0.7777777777777778,
              "#fb9f3a"
             ],
             [
              0.8888888888888888,
              "#fdca26"
             ],
             [
              1,
              "#f0f921"
             ]
            ],
            "type": "heatmapgl"
           }
          ],
          "histogram": [
           {
            "marker": {
             "pattern": {
              "fillmode": "overlay",
              "size": 10,
              "solidity": 0.2
             }
            },
            "type": "histogram"
           }
          ],
          "histogram2d": [
           {
            "colorbar": {
             "outlinewidth": 0,
             "ticks": ""
            },
            "colorscale": [
             [
              0,
              "#0d0887"
             ],
             [
              0.1111111111111111,
              "#46039f"
             ],
             [
              0.2222222222222222,
              "#7201a8"
             ],
             [
              0.3333333333333333,
              "#9c179e"
             ],
             [
              0.4444444444444444,
              "#bd3786"
             ],
             [
              0.5555555555555556,
              "#d8576b"
             ],
             [
              0.6666666666666666,
              "#ed7953"
             ],
             [
              0.7777777777777778,
              "#fb9f3a"
             ],
             [
              0.8888888888888888,
              "#fdca26"
             ],
             [
              1,
              "#f0f921"
             ]
            ],
            "type": "histogram2d"
           }
          ],
          "histogram2dcontour": [
           {
            "colorbar": {
             "outlinewidth": 0,
             "ticks": ""
            },
            "colorscale": [
             [
              0,
              "#0d0887"
             ],
             [
              0.1111111111111111,
              "#46039f"
             ],
             [
              0.2222222222222222,
              "#7201a8"
             ],
             [
              0.3333333333333333,
              "#9c179e"
             ],
             [
              0.4444444444444444,
              "#bd3786"
             ],
             [
              0.5555555555555556,
              "#d8576b"
             ],
             [
              0.6666666666666666,
              "#ed7953"
             ],
             [
              0.7777777777777778,
              "#fb9f3a"
             ],
             [
              0.8888888888888888,
              "#fdca26"
             ],
             [
              1,
              "#f0f921"
             ]
            ],
            "type": "histogram2dcontour"
           }
          ],
          "mesh3d": [
           {
            "colorbar": {
             "outlinewidth": 0,
             "ticks": ""
            },
            "type": "mesh3d"
           }
          ],
          "parcoords": [
           {
            "line": {
             "colorbar": {
              "outlinewidth": 0,
              "ticks": ""
             }
            },
            "type": "parcoords"
           }
          ],
          "pie": [
           {
            "automargin": true,
            "type": "pie"
           }
          ],
          "scatter": [
           {
            "fillpattern": {
             "fillmode": "overlay",
             "size": 10,
             "solidity": 0.2
            },
            "type": "scatter"
           }
          ],
          "scatter3d": [
           {
            "line": {
             "colorbar": {
              "outlinewidth": 0,
              "ticks": ""
             }
            },
            "marker": {
             "colorbar": {
              "outlinewidth": 0,
              "ticks": ""
             }
            },
            "type": "scatter3d"
           }
          ],
          "scattercarpet": [
           {
            "marker": {
             "colorbar": {
              "outlinewidth": 0,
              "ticks": ""
             }
            },
            "type": "scattercarpet"
           }
          ],
          "scattergeo": [
           {
            "marker": {
             "colorbar": {
              "outlinewidth": 0,
              "ticks": ""
             }
            },
            "type": "scattergeo"
           }
          ],
          "scattergl": [
           {
            "marker": {
             "colorbar": {
              "outlinewidth": 0,
              "ticks": ""
             }
            },
            "type": "scattergl"
           }
          ],
          "scattermapbox": [
           {
            "marker": {
             "colorbar": {
              "outlinewidth": 0,
              "ticks": ""
             }
            },
            "type": "scattermapbox"
           }
          ],
          "scatterpolar": [
           {
            "marker": {
             "colorbar": {
              "outlinewidth": 0,
              "ticks": ""
             }
            },
            "type": "scatterpolar"
           }
          ],
          "scatterpolargl": [
           {
            "marker": {
             "colorbar": {
              "outlinewidth": 0,
              "ticks": ""
             }
            },
            "type": "scatterpolargl"
           }
          ],
          "scatterternary": [
           {
            "marker": {
             "colorbar": {
              "outlinewidth": 0,
              "ticks": ""
             }
            },
            "type": "scatterternary"
           }
          ],
          "surface": [
           {
            "colorbar": {
             "outlinewidth": 0,
             "ticks": ""
            },
            "colorscale": [
             [
              0,
              "#0d0887"
             ],
             [
              0.1111111111111111,
              "#46039f"
             ],
             [
              0.2222222222222222,
              "#7201a8"
             ],
             [
              0.3333333333333333,
              "#9c179e"
             ],
             [
              0.4444444444444444,
              "#bd3786"
             ],
             [
              0.5555555555555556,
              "#d8576b"
             ],
             [
              0.6666666666666666,
              "#ed7953"
             ],
             [
              0.7777777777777778,
              "#fb9f3a"
             ],
             [
              0.8888888888888888,
              "#fdca26"
             ],
             [
              1,
              "#f0f921"
             ]
            ],
            "type": "surface"
           }
          ],
          "table": [
           {
            "cells": {
             "fill": {
              "color": "#EBF0F8"
             },
             "line": {
              "color": "white"
             }
            },
            "header": {
             "fill": {
              "color": "#C8D4E3"
             },
             "line": {
              "color": "white"
             }
            },
            "type": "table"
           }
          ]
         },
         "layout": {
          "annotationdefaults": {
           "arrowcolor": "#2a3f5f",
           "arrowhead": 0,
           "arrowwidth": 1
          },
          "autotypenumbers": "strict",
          "coloraxis": {
           "colorbar": {
            "outlinewidth": 0,
            "ticks": ""
           }
          },
          "colorscale": {
           "diverging": [
            [
             0,
             "#8e0152"
            ],
            [
             0.1,
             "#c51b7d"
            ],
            [
             0.2,
             "#de77ae"
            ],
            [
             0.3,
             "#f1b6da"
            ],
            [
             0.4,
             "#fde0ef"
            ],
            [
             0.5,
             "#f7f7f7"
            ],
            [
             0.6,
             "#e6f5d0"
            ],
            [
             0.7,
             "#b8e186"
            ],
            [
             0.8,
             "#7fbc41"
            ],
            [
             0.9,
             "#4d9221"
            ],
            [
             1,
             "#276419"
            ]
           ],
           "sequential": [
            [
             0,
             "#0d0887"
            ],
            [
             0.1111111111111111,
             "#46039f"
            ],
            [
             0.2222222222222222,
             "#7201a8"
            ],
            [
             0.3333333333333333,
             "#9c179e"
            ],
            [
             0.4444444444444444,
             "#bd3786"
            ],
            [
             0.5555555555555556,
             "#d8576b"
            ],
            [
             0.6666666666666666,
             "#ed7953"
            ],
            [
             0.7777777777777778,
             "#fb9f3a"
            ],
            [
             0.8888888888888888,
             "#fdca26"
            ],
            [
             1,
             "#f0f921"
            ]
           ],
           "sequentialminus": [
            [
             0,
             "#0d0887"
            ],
            [
             0.1111111111111111,
             "#46039f"
            ],
            [
             0.2222222222222222,
             "#7201a8"
            ],
            [
             0.3333333333333333,
             "#9c179e"
            ],
            [
             0.4444444444444444,
             "#bd3786"
            ],
            [
             0.5555555555555556,
             "#d8576b"
            ],
            [
             0.6666666666666666,
             "#ed7953"
            ],
            [
             0.7777777777777778,
             "#fb9f3a"
            ],
            [
             0.8888888888888888,
             "#fdca26"
            ],
            [
             1,
             "#f0f921"
            ]
           ]
          },
          "colorway": [
           "#636efa",
           "#EF553B",
           "#00cc96",
           "#ab63fa",
           "#FFA15A",
           "#19d3f3",
           "#FF6692",
           "#B6E880",
           "#FF97FF",
           "#FECB52"
          ],
          "font": {
           "color": "#2a3f5f"
          },
          "geo": {
           "bgcolor": "white",
           "lakecolor": "white",
           "landcolor": "#E5ECF6",
           "showlakes": true,
           "showland": true,
           "subunitcolor": "white"
          },
          "hoverlabel": {
           "align": "left"
          },
          "hovermode": "closest",
          "mapbox": {
           "style": "light"
          },
          "paper_bgcolor": "white",
          "plot_bgcolor": "#E5ECF6",
          "polar": {
           "angularaxis": {
            "gridcolor": "white",
            "linecolor": "white",
            "ticks": ""
           },
           "bgcolor": "#E5ECF6",
           "radialaxis": {
            "gridcolor": "white",
            "linecolor": "white",
            "ticks": ""
           }
          },
          "scene": {
           "xaxis": {
            "backgroundcolor": "#E5ECF6",
            "gridcolor": "white",
            "gridwidth": 2,
            "linecolor": "white",
            "showbackground": true,
            "ticks": "",
            "zerolinecolor": "white"
           },
           "yaxis": {
            "backgroundcolor": "#E5ECF6",
            "gridcolor": "white",
            "gridwidth": 2,
            "linecolor": "white",
            "showbackground": true,
            "ticks": "",
            "zerolinecolor": "white"
           },
           "zaxis": {
            "backgroundcolor": "#E5ECF6",
            "gridcolor": "white",
            "gridwidth": 2,
            "linecolor": "white",
            "showbackground": true,
            "ticks": "",
            "zerolinecolor": "white"
           }
          },
          "shapedefaults": {
           "line": {
            "color": "#2a3f5f"
           }
          },
          "ternary": {
           "aaxis": {
            "gridcolor": "white",
            "linecolor": "white",
            "ticks": ""
           },
           "baxis": {
            "gridcolor": "white",
            "linecolor": "white",
            "ticks": ""
           },
           "bgcolor": "#E5ECF6",
           "caxis": {
            "gridcolor": "white",
            "linecolor": "white",
            "ticks": ""
           }
          },
          "title": {
           "x": 0.05
          },
          "xaxis": {
           "automargin": true,
           "gridcolor": "white",
           "linecolor": "white",
           "ticks": "",
           "title": {
            "standoff": 15
           },
           "zerolinecolor": "white",
           "zerolinewidth": 2
          },
          "yaxis": {
           "automargin": true,
           "gridcolor": "white",
           "linecolor": "white",
           "ticks": "",
           "title": {
            "standoff": 15
           },
           "zerolinecolor": "white",
           "zerolinewidth": 2
          }
         }
        },
        "title": {
         "font": {
          "color": "#FFFFFF",
          "family": "Orbitron, monospace",
          "size": 20
         },
         "text": "<b>📈 Academic Performance Evolution Over Time</b><br><sub>Average GPA trends by citizenship status across semesters</sub><br><span style=\"font-size:12px; color:#94A3B8;\">💡 Marker size reflects student count | Only periods with 3+ students shown</span>",
         "x": 0.5,
         "y": 0.95
        },
        "updatemenus": [
         {
          "bgcolor": "#1A1A2E",
          "bordercolor": "#39FF14",
          "borderwidth": 2,
          "buttons": [
           {
            "args": [
             null,
             {
              "frame": {
               "duration": 1200,
               "redraw": true
              },
              "fromcurrent": true,
              "transition": {
               "duration": 400,
               "easing": "cubic-in-out"
              }
             }
            ],
            "label": "▶️ Play Animation",
            "method": "animate"
           },
           {
            "args": [
             [
              null
             ],
             {
              "frame": {
               "duration": 0,
               "redraw": false
              },
              "mode": "immediate"
             }
            ],
            "label": "⏸️ Pause",
            "method": "animate"
           },
           {
            "args": [
             null,
             {
              "frame": {
               "duration": 1200,
               "redraw": true
              },
              "fromcurrent": false,
              "transition": {
               "duration": 400,
               "easing": "cubic-in-out"
              }
             }
            ],
            "label": "🔄 Restart",
            "method": "animate"
           }
          ],
          "font": {
           "color": "#FFFFFF"
          },
          "showactive": false,
          "type": "buttons",
          "x": 0.02,
          "xanchor": "left",
          "y": 1.12,
          "yanchor": "top"
         }
        ],
        "xaxis": {
         "gridcolor": "rgba(200,200,200,0.2)",
         "gridwidth": 1,
         "linecolor": "#94A3B8",
         "linewidth": 2,
         "showline": true,
         "tickfont": {
          "color": "#E2E8F0",
          "family": "Orbitron, monospace",
          "size": 12
         },
         "title": {
          "font": {
           "color": "#00F5FF",
           "family": "Orbitron, monospace",
           "size": 14
          },
          "text": "Citizenship Status"
         }
        },
        "yaxis": {
         "dtick": 0.25,
         "gridcolor": "rgba(200,200,200,0.2)",
         "gridwidth": 1,
         "linecolor": "#94A3B8",
         "linewidth": 2,
         "range": [
          1.5,
          4
         ],
         "showline": true,
         "tick0": 1.5,
         "tickfont": {
          "color": "#E2E8F0",
          "family": "Orbitron, monospace",
          "size": 12
         },
         "tickmode": "linear",
         "title": {
          "font": {
           "color": "#BF40BF",
           "family": "Orbitron, monospace",
           "size": 14
          },
          "text": "Average GPA"
         }
        }
       }
      }
     },
     "metadata": {},
     "output_type": "display_data"
    },
    {
     "name": "stdout",
     "output_type": "stream",
     "text": [
      "✅ Chart 4 completed!\n"
     ]
    }
   ],
   "source": [
    "# === CHART 4: ANIMATED GPA TRENDS OVER TIME ===\n",
    "print(\"🎨 Creating Chart 4: Animated GPA Performance Trends...\")\n",
    "\n",
    "# Use the existing period_data which has semester GPA information\n",
    "gpa_trends = period_data.groupby(['PERIOD', 'CITIZENSHIP'], as_index=False).agg({\n",
    "    'GPA': ['mean', 'count']\n",
    "}).round(2)\n",
    "\n",
    "# Flatten column names\n",
    "gpa_trends.columns = ['PERIOD', 'CITIZENSHIP', 'AVG_GPA', 'STUDENT_COUNT']\n",
    "\n",
    "# Filter out periods/citizenship combinations with very few students (less than 3)\n",
    "gpa_trends = gpa_trends[gpa_trends['STUDENT_COUNT'] >= 3]\n",
    "\n",
    "# Get unique periods and citizenship types for consistent animation\n",
    "periods = sorted(gpa_trends['PERIOD'].unique())\n",
    "citizenship_types = sorted(gpa_trends['CITIZENSHIP'].unique())\n",
    "\n",
    "# Create frames for animation with enhanced visuals\n",
    "frames = []\n",
    "for period in periods:\n",
    "    period_frame = gpa_trends[gpa_trends['PERIOD'] == period]\n",
    "    \n",
    "    if len(period_frame) > 0:  # Only create frame if data exists\n",
    "        frames.append(\n",
    "            go.Frame(\n",
    "                data=[\n",
    "                    go.Scatter(\n",
    "                        x=period_frame['CITIZENSHIP'],\n",
    "                        y=period_frame['AVG_GPA'],\n",
    "                        mode='markers+lines+text',\n",
    "                        marker=dict(\n",
    "                            size=[20 + (count/5) for count in period_frame['STUDENT_COUNT']],  # Size based on student count\n",
    "                            color=citizenship_colors[:len(period_frame)],\n",
    "                            line=dict(width=3, color='white'),\n",
    "                            opacity=0.8,\n",
    "                            symbol='circle'\n",
    "                        ),\n",
    "                        line=dict(\n",
    "                            width=4, \n",
    "                            color=COLORS['primary'],\n",
    "                            shape='spline',  # Smooth curved lines\n",
    "                            smoothing=0.3\n",
    "                        ),\n",
    "                        text=[f\"{gpa:.2f}\" for gpa in period_frame['AVG_GPA']],\n",
    "                        textposition='top center',\n",
    "                        textfont=dict(size=14, color=COLORS['text'], family='Arial Black'),\n",
    "                        hovertemplate='<b>%{x}</b><br>' +\n",
    "                                    'Average GPA: %{y:.2f}<br>' +\n",
    "                                    'Students: %{customdata}<br>' +\n",
    "                                    'Period: ' + period + '<extra></extra>',\n",
    "                        customdata=period_frame['STUDENT_COUNT'],\n",
    "                        name=period,\n",
    "                        connectgaps=True\n",
    "                    )\n",
    "                ],\n",
    "                name=period\n",
    "            )\n",
    "        )\n",
    "\n",
    "# Create initial frame with better styling\n",
    "if len(periods) > 0:\n",
    "    initial_period_data = gpa_trends[gpa_trends['PERIOD'] == periods[0]]\n",
    "    \n",
    "    fig4 = go.Figure(\n",
    "        data=[\n",
    "            go.Scatter(\n",
    "                x=initial_period_data['CITIZENSHIP'],\n",
    "                y=initial_period_data['AVG_GPA'],\n",
    "                mode='markers+lines+text',\n",
    "                marker=dict(\n",
    "                    size=[20 + (count/5) for count in initial_period_data['STUDENT_COUNT']],\n",
    "                    color=citizenship_colors[:len(initial_period_data)],\n",
    "                    line=dict(width=3, color='white'),\n",
    "                    opacity=0.8,\n",
    "                    symbol='circle'\n",
    "                ),\n",
    "                line=dict(\n",
    "                    width=4, \n",
    "                    color=COLORS['primary'],\n",
    "                    shape='spline',\n",
    "                    smoothing=0.3\n",
    "                ),\n",
    "                text=[f\"{gpa:.2f}\" for gpa in initial_period_data['AVG_GPA']],\n",
    "                textposition='top center',\n",
    "                textfont=dict(size=14, color=COLORS['text'], family='Arial Black'),\n",
    "                hovertemplate='<b>%{x}</b><br>' +\n",
    "                            'Average GPA: %{y:.2f}<br>' +\n",
    "                            'Students: %{customdata}<br>' +\n",
    "                            'Period: ' + periods[0] + '<extra></extra>',\n",
    "                customdata=initial_period_data['STUDENT_COUNT'],\n",
    "                name=periods[0],\n",
    "                connectgaps=True\n",
    "            )\n",
    "        ],\n",
    "        frames=frames\n",
    "    )\n",
    "\n",
    "    # Enhanced layout with dashboard theme\n",
    "    fig4.update_layout(\n",
    "        title=dict(\n",
    "            text='<b>📈 Academic Performance Evolution Over Time</b><br>' +\n",
    "                 '<sub>Average GPA trends by citizenship status across semesters</sub><br>' +\n",
    "                 '<span style=\"font-size:12px; color:' + COLORS['text_dim'] + ';\">💡 Marker size reflects student count | Only periods with 3+ students shown</span>',\n",
    "            font=dict(size=20, family='Orbitron, monospace', color=COLORS['light']),\n",
    "            x=0.5,\n",
    "            y=0.95\n",
    "        ),\n",
    "        xaxis=dict(\n",
    "            title=dict(text='Citizenship Status', font=dict(size=14, family='Orbitron, monospace', color=COLORS['neon_blue'])),\n",
    "            gridcolor='rgba(200,200,200,0.2)',\n",
    "            gridwidth=1,\n",
    "            showline=True,\n",
    "            linewidth=2,\n",
    "            linecolor=COLORS['text_dim'],\n",
    "            tickfont=dict(size=12, family='Orbitron, monospace', color=COLORS['text'])\n",
    "        ),\n",
    "        yaxis=dict(\n",
    "            title=dict(text='Average GPA', font=dict(size=14, family='Orbitron, monospace', color=COLORS['neon_purple'])),\n",
    "            range=[1.5, 4.0], \n",
    "            gridcolor='rgba(200,200,200,0.2)', \n",
    "            gridwidth=1,\n",
    "            tickmode='linear',\n",
    "            tick0=1.5,\n",
    "            dtick=0.25,\n",
    "            showline=True,\n",
    "            linewidth=2,\n",
    "            linecolor=COLORS['text_dim'],\n",
    "            tickfont=dict(size=12, family='Orbitron, monospace', color=COLORS['text'])\n",
    "        ),\n",
    "        font=dict(family='Orbitron, monospace', size=12, color=COLORS['light']),\n",
    "        paper_bgcolor=COLORS['dark_bg'],\n",
    "        plot_bgcolor='rgba(0,0,0,0)',\n",
    "        height=700,\n",
    "        margin=dict(t=150, l=90, r=90, b=80),\n",
    "        showlegend=False,\n",
    "        \n",
    "        # Enhanced animation controls with dashboard theme\n",
    "        updatemenus=[\n",
    "            dict(\n",
    "                type='buttons',\n",
    "                showactive=False,\n",
    "                x=0.02,\n",
    "                xanchor='left',\n",
    "                y=1.12,\n",
    "                yanchor='top',\n",
    "                bgcolor=COLORS['card_bg'],\n",
    "                bordercolor=COLORS['neon_green'],\n",
    "                borderwidth=2,\n",
    "                font=dict(color=COLORS['light']),\n",
    "                buttons=[\n",
    "                    dict(\n",
    "                        label='▶️ Play Animation',\n",
    "                        method='animate',\n",
    "                        args=[None, dict(\n",
    "                            frame=dict(duration=1200, redraw=True), \n",
    "                            fromcurrent=True,\n",
    "                            transition=dict(duration=400, easing='cubic-in-out')\n",
    "                        )]\n",
    "                    ),\n",
    "                    dict(\n",
    "                        label='⏸️ Pause',\n",
    "                        method='animate',\n",
    "                        args=[[None], dict(\n",
    "                            frame=dict(duration=0, redraw=False), \n",
    "                            mode='immediate'\n",
    "                        )]\n",
    "                    ),\n",
    "                    dict(\n",
    "                        label='🔄 Restart',\n",
    "                        method='animate',\n",
    "                        args=[None, dict(\n",
    "                            frame=dict(duration=1200, redraw=True), \n",
    "                            fromcurrent=False,\n",
    "                            transition=dict(duration=400, easing='cubic-in-out')\n",
    "                        )]\n",
    "                    )\n",
    "                ]\n",
    "            )\n",
    "        ],\n",
    "        \n",
    "        # Add filter label annotation\n",
    "        annotations=[\n",
    "            dict(\n",
    "                text=\"🎬 Animation Controls:\",\n",
    "                x=0.02, y=1.18,\n",
    "                xref=\"paper\", yref=\"paper\",\n",
    "                showarrow=False,\n",
    "                font=dict(size=12, family='Orbitron, monospace', color=COLORS['neon_green'])\n",
    "            )\n",
    "        ],\n",
    "        \n",
    "        # Enhanced slider with better styling\n",
    "        sliders=[\n",
    "            dict(\n",
    "                active=0,\n",
    "                yanchor='top',\n",
    "                xanchor='left',\n",
    "                currentvalue=dict(\n",
    "                    font=dict(size=16, family='Arial Black'), \n",
    "                    prefix='📅 Current Period: ', \n",
    "                    visible=True, \n",
    "                    xanchor='center'\n",
    "                ),\n",
    "                transition=dict(duration=400, easing='cubic-in-out'),\n",
    "                pad=dict(b=10, t=60),\n",
    "                len=0.85,\n",
    "                x=0.075,\n",
    "                y=-0.05,\n",
    "                bgcolor='rgba(255,255,255,0.9)',\n",
    "                bordercolor=COLORS['neutral'],\n",
    "                borderwidth=1,\n",
    "                tickcolor=COLORS['primary'],\n",
    "                steps=[\n",
    "                    dict(\n",
    "                        args=[[period], dict(\n",
    "                            frame=dict(duration=400, redraw=True), \n",
    "                            mode='immediate',\n",
    "                            transition=dict(duration=400, easing='cubic-in-out')\n",
    "                        )],\n",
    "                        label=period,\n",
    "                        method='animate',\n",
    "                        value=period\n",
    "                    ) for period in periods\n",
    "                ]\n",
    "            )\n",
    "        ]\n",
    "    )\n",
    "\n",
    "    # Add enhanced reference lines with dashboard colors\n",
    "    fig4.add_hline(\n",
    "        y=2.0, \n",
    "        line_dash=\"dot\", \n",
    "        line_color=COLORS['danger'], \n",
    "        line_width=3,\n",
    "        annotation_text=\"🎯 Pass Threshold (2.0)\",\n",
    "        annotation_position=\"top right\"\n",
    "    )\n",
    "\n",
    "    fig4.add_hline(\n",
    "        y=3.0, \n",
    "        line_dash=\"dot\", \n",
    "        line_color=COLORS['success'], \n",
    "        line_width=3,\n",
    "        annotation_text=\"🌟 Excellence Threshold (3.0)\",\n",
    "        annotation_position=\"bottom right\"\n",
    "    )\n",
    "\n",
    "    # Add subtle gradient effect with shapes using dashboard colors\n",
    "    fig4.add_shape(\n",
    "        type=\"rect\",\n",
    "        xref=\"paper\", yref=\"y\",\n",
    "        x0=0, y0=3.0, x1=1, y1=4.0,\n",
    "        fillcolor=f\"rgba({int(COLORS['success'][1:3], 16)}, {int(COLORS['success'][3:5], 16)}, {int(COLORS['success'][5:7], 16)}, 0.1)\",\n",
    "        layer=\"below\",\n",
    "        line_width=0,\n",
    "    )\n",
    "    \n",
    "    fig4.add_shape(\n",
    "        type=\"rect\",\n",
    "        xref=\"paper\", yref=\"y\",\n",
    "        x0=0, y0=2.0, x1=1, y1=3.0,\n",
    "        fillcolor=\"rgba(52, 152, 219, 0.1)\",\n",
    "        layer=\"below\",\n",
    "        line_width=0,\n",
    "    )\n",
    "    \n",
    "    fig4.add_shape(\n",
    "        type=\"rect\",\n",
    "        xref=\"paper\", yref=\"y\",\n",
    "        x0=0, y0=1.5, x1=1, y1=2.0,\n",
    "        fillcolor=\"rgba(231, 76, 60, 0.1)\",\n",
    "        layer=\"below\",\n",
    "        line_width=0,\n",
    "    )\n",
    "\n",
    "    fig4.show()\n",
    "    print(\"✅ Chart 4 completed!\")\n",
    "else:\n",
    "    print(\"⚠️ No sufficient data for GPA trends animation\")"
   ]
  },
  {
   "cell_type": "markdown",
   "id": "ee94d2ff",
   "metadata": {},
   "source": [
    "# PART 3: ANALYTICS INSIGHTS & DASHBOARD INTEGRATION\n",
    "## Summary Statistics and Actionable Insights\n",
    "\n",
    "This section provides comprehensive insights from the data analysis and prepares the foundation for dashboard integration."
   ]
  },
  {
   "cell_type": "code",
   "execution_count": 28,
   "id": "29c16393",
   "metadata": {},
   "outputs": [
    {
     "name": "stdout",
     "output_type": "stream",
     "text": [
      "\n",
      "============================================================\n",
      "📊 COMPREHENSIVE ANALYTICS INSIGHTS\n",
      "============================================================\n",
      "\n",
      "🎯 GPA vs COMPLETION TIME INSIGHTS:\n",
      "==================================================\n",
      "📊 SUCCESS SCORE DISTRIBUTION:\n",
      "   • Top 25%: Success Score ≥ 89.2\n",
      "   • Median: 84.0\n",
      "   • Bottom 25%: Success Score ≤ 80.0\n",
      "\n",
      "🚨 RISK ASSESSMENT BREAKDOWN:\n",
      "   • Low Risk: 40 students (71.4%) - Avg: 3.25 GPA, 5.9 months\n",
      "   • Medium Risk: 16 students (28.6%) - Avg: 2.94 GPA, 17.0 months\n",
      "   • High Risk: 0 students (0.0%) - Avg: nan GPA, nan months\n",
      "\n",
      "⏰ COMPLETION TIME vs GPA ANALYSIS:\n",
      "   • Fast completion (≤30 months): 56 students, Avg GPA: 3.16\n",
      "   • Slow completion (>48 months): 0 students, Avg GPA: nan\n",
      "\n",
      "🎯 HIGH PERFORMERS vs LOW PERFORMERS:\n",
      "   • Elite High Achievers (GPA > 3.5 & < 5 months): 5 students\n",
      "   • Low GPA (<2.0): 0 students, Avg completion: nan months\n",
      "\n",
      "🎯 KEY RECOMMENDATIONS:\n",
      "   • 5 students are elite high achievers (GPA > 3.5 + completion < 5 months)\n",
      "   • 0 students are struggling (low GPA + slow completion)\n",
      "✅ Detailed insights analysis completed!\n"
     ]
    }
   ],
   "source": [
    "# === COMPREHENSIVE ANALYTICS INSIGHTS ===\n",
    "print(\"\\n\" + \"=\"*60)\n",
    "print(\"📊 COMPREHENSIVE ANALYTICS INSIGHTS\")\n",
    "print(\"=\"*60)\n",
    "\n",
    "# Analyze and print insights focusing on GPA vs Completion Time\n",
    "print(\"\\n🎯 GPA vs COMPLETION TIME INSIGHTS:\")\n",
    "print(\"=\" * 50)\n",
    "\n",
    "print(\"📊 SUCCESS SCORE DISTRIBUTION:\")\n",
    "success_quartiles = scatter_data['SUCCESS_SCORE'].quantile([0.25, 0.5, 0.75])\n",
    "print(f\"   • Top 25%: Success Score ≥ {success_quartiles[0.75]:.1f}\")\n",
    "print(f\"   • Median: {success_quartiles[0.5]:.1f}\")\n",
    "print(f\"   • Bottom 25%: Success Score ≤ {success_quartiles[0.25]:.1f}\")\n",
    "\n",
    "print(f\"\\n🚨 RISK ASSESSMENT BREAKDOWN:\")\n",
    "risk_breakdown = scatter_data['RISK_CATEGORY'].value_counts()\n",
    "for risk, count in risk_breakdown.items():\n",
    "    percentage = (count / len(scatter_data)) * 100\n",
    "    avg_completion = scatter_data[scatter_data['RISK_CATEGORY'] == risk]['COMPLETION_MONTHS'].mean()\n",
    "    avg_gpa = scatter_data[scatter_data['RISK_CATEGORY'] == risk]['CUMULATIVE_GPA'].mean()\n",
    "    print(f\"   • {risk}: {count} students ({percentage:.1f}%) - Avg: {avg_gpa:.2f} GPA, {avg_completion:.1f} months\")\n",
    "\n",
    "print(f\"\\n⏰ COMPLETION TIME vs GPA ANALYSIS:\")\n",
    "fast_students = scatter_data[scatter_data['COMPLETION_MONTHS'] <= 30]\n",
    "slow_students = scatter_data[scatter_data['COMPLETION_MONTHS'] > 48]\n",
    "print(f\"   • Fast completion (≤30 months): {len(fast_students)} students, Avg GPA: {fast_students['CUMULATIVE_GPA'].mean():.2f}\")\n",
    "print(f\"   • Slow completion (>48 months): {len(slow_students)} students, Avg GPA: {slow_students['CUMULATIVE_GPA'].mean():.2f}\")\n",
    "\n",
    "print(f\"\\n🎯 HIGH PERFORMERS vs LOW PERFORMERS:\")\n",
    "high_gpa = scatter_data[(scatter_data['CUMULATIVE_GPA'] > 3.5) & (scatter_data['COMPLETION_MONTHS'] < 5)]\n",
    "low_gpa = scatter_data[scatter_data['CUMULATIVE_GPA'] < 2.0]\n",
    "print(f\"   • Elite High Achievers (GPA > 3.5 & < 5 months): {len(high_gpa)} students\")\n",
    "print(f\"   • Low GPA (<2.0): {len(low_gpa)} students, Avg completion: {low_gpa['COMPLETION_MONTHS'].mean():.1f} months\")\n",
    "\n",
    "print(f\"\\n🎯 KEY RECOMMENDATIONS:\")\n",
    "high_risk_students = scatter_data[scatter_data['RISK_CATEGORY'] == 'High Risk']\n",
    "if len(high_risk_students) > 0:\n",
    "    print(f\"   • {len(high_risk_students)} students need immediate academic support\")\n",
    "    \n",
    "fast_excellent = scatter_data[(scatter_data['COMPLETION_MONTHS'] < 5) & (scatter_data['CUMULATIVE_GPA'] > 3.5)]\n",
    "if len(fast_excellent) > 0:\n",
    "    print(f\"   • {len(fast_excellent)} students are elite high achievers (GPA > 3.5 + completion < 5 months)\")\n",
    "    \n",
    "at_risk = scatter_data[(scatter_data['CUMULATIVE_GPA'] < 2.5) & (scatter_data['COMPLETION_MONTHS'] > 42)]\n",
    "print(f\"   • {len(at_risk)} students are struggling (low GPA + slow completion)\")\n",
    "\n",
    "print(\"✅ Detailed insights analysis completed!\")"
   ]
  },
  {
   "cell_type": "code",
   "execution_count": 29,
   "id": "295e6970",
   "metadata": {},
   "outputs": [
    {
     "name": "stdout",
     "output_type": "stream",
     "text": [
      "\n",
      "============================================================\n",
      "📊 KEY METRICS SUMMARY FOR DASHBOARD\n",
      "============================================================\n",
      "📈 Total Students Analyzed: 285\n",
      "⏱️ Average Completion Time: 9.5 months\n",
      "🎯 Overall Average GPA: 3.16\n",
      "✅ Pass Rate (GPA ≥ 2.0): 95.4%\n",
      "🏆 Top Performing Citizenship: FOREIGNER\n",
      "💰 Best Funding Type: Individual - SFC + $1000 SCHOLARSHIP\n",
      "⚡ Fastest Completion Group: SG PR\n",
      "📚 Analysis covers enrollment and completion patterns\n",
      "\n",
      "🎨 VISUALIZATION SYSTEM COMPLETED!\n",
      "Each chart features:\n",
      "• Chart 1: Population distribution treemap\n",
      "• Chart 2: Interactive GPA vs completion time correlation analysis\n",
      "• Chart 3: Course completion time distribution patterns\n",
      "• Chart 4: Animated GPA trends over semesters\n",
      "• Interactive elements (dropdowns, sliders, play/pause)\n",
      "• Comprehensive hover information\n",
      "• Actionable insights for decision-making\n",
      "\n",
      "🔗 DATA PREPARATION STATUS:\n",
      "• ✅ All datasets loaded and processed\n",
      "• ✅ Advanced calculated fields generated\n",
      "• ✅ Risk assessment scoring completed\n",
      "• ✅ Success prediction metrics calculated\n",
      "• ✅ Interactive visualizations created\n",
      "• ✅ Template aesthetic consistency maintained\n",
      "• ✅ Ready for dashboard integration\n",
      "\n",
      "📊 DASHBOARD INTEGRATION READY!\n",
      "This analysis system can now be integrated with:\n",
      "• Dash web application framework\n",
      "• Real-time filtering capabilities\n",
      "• Student search functionality\n",
      "• KPI monitoring dashboards\n",
      "• Administrative decision support tools\n"
     ]
    }
   ],
   "source": [
    "# === SUMMARY STATISTICS FOR DASHBOARD INTEGRATION ===\n",
    "print(\"\\n\" + \"=\"*60)\n",
    "print(\"📊 KEY METRICS SUMMARY FOR DASHBOARD\")\n",
    "print(\"=\"*60)\n",
    "\n",
    "# Calculate key metrics\n",
    "total_students = len(df)\n",
    "avg_completion_time = df['COMPLETION_MONTHS'].mean()\n",
    "avg_gpa = df['CUMULATIVE_GPA'].mean()\n",
    "pass_rate = (df['ACADEMIC_OUTCOME'] == 'Pass').mean() * 100\n",
    "best_citizenship = df.groupby('CITIZENSHIP')['CUMULATIVE_GPA'].mean().idxmax()\n",
    "best_funding = df.groupby('COURSE FUNDING')['CUMULATIVE_GPA'].mean().idxmax()\n",
    "fastest_completion = df.groupby('CITIZENSHIP')['COMPLETION_MONTHS'].mean().idxmin()\n",
    "\n",
    "print(f\"📈 Total Students Analyzed: {total_students:,}\")\n",
    "print(f\"⏱️ Average Completion Time: {avg_completion_time:.1f} months\")\n",
    "print(f\"🎯 Overall Average GPA: {avg_gpa:.2f}\")\n",
    "print(f\"✅ Pass Rate (GPA ≥ 2.0): {pass_rate:.1f}%\")\n",
    "print(f\"🏆 Top Performing Citizenship: {best_citizenship}\")\n",
    "print(f\"💰 Best Funding Type: {best_funding}\")\n",
    "print(f\"⚡ Fastest Completion Group: {fastest_completion}\")\n",
    "print(f\"📚 Analysis covers enrollment and completion patterns\")\n",
    "\n",
    "print(\"\\n🎨 VISUALIZATION SYSTEM COMPLETED!\")\n",
    "print(\"Each chart features:\")\n",
    "print(\"• Chart 1: Population distribution treemap\")\n",
    "print(\"• Chart 2: Interactive GPA vs completion time correlation analysis\")\n",
    "print(\"• Chart 3: Course completion time distribution patterns\")\n",
    "print(\"• Chart 4: Animated GPA trends over semesters\")\n",
    "print(\"• Interactive elements (dropdowns, sliders, play/pause)\")\n",
    "print(\"• Comprehensive hover information\")\n",
    "print(\"• Actionable insights for decision-making\")\n",
    "\n",
    "print(f\"\\n🔗 DATA PREPARATION STATUS:\")\n",
    "print(\"• ✅ All datasets loaded and processed\")\n",
    "print(\"• ✅ Advanced calculated fields generated\")\n",
    "print(\"• ✅ Risk assessment scoring completed\")\n",
    "print(\"• ✅ Success prediction metrics calculated\")\n",
    "print(\"• ✅ Interactive visualizations created\")\n",
    "print(\"• ✅ Template aesthetic consistency maintained\")\n",
    "print(\"• ✅ Ready for dashboard integration\")\n",
    "\n",
    "print(f\"\\n📊 DASHBOARD INTEGRATION READY!\")\n",
    "print(\"This analysis system can now be integrated with:\")\n",
    "print(\"• Dash web application framework\")\n",
    "print(\"• Real-time filtering capabilities\")\n",
    "print(\"• Student search functionality\")\n",
    "print(\"• KPI monitoring dashboards\")\n",
    "print(\"• Administrative decision support tools\")"
   ]
  },
  {
   "cell_type": "markdown",
   "id": "183e7be0",
   "metadata": {},
   "source": [
    "# PART 4: INTERACTIVE DASHBOARD IMPLEMENTATION\n",
    "## Futuristic Analytics Dashboard with Dash Framework\n",
    "\n",
    "This section integrates all the analysis and charts into a live, interactive web dashboard with search functionality and real-time KPI monitoring."
   ]
  },
  {
   "cell_type": "code",
   "execution_count": 30,
   "id": "8d3e6e3f",
   "metadata": {},
   "outputs": [
    {
     "name": "stdout",
     "output_type": "stream",
     "text": [
      "🚀 Initializing Futuristic Analytics Dashboard...\n",
      "✅ Dashboard framework initialized with date picker overlay fix!\n"
     ]
    }
   ],
   "source": [
    "# === DASHBOARD APP INITIALIZATION (MATCHING TEMPLATE) ===\n",
    "print(\"🚀 Initializing Futuristic Analytics Dashboard...\")\n",
    "\n",
    "# Import Dash framework\n",
    "from dash import Dash, html, dcc, Input, Output, State, callback\n",
    "import dash_bootstrap_components as dbc\n",
    "from datetime import datetime, timedelta\n",
    "\n",
    "# ================================\n",
    "# APP INITIALIZATION WITH DATE PICKER FIX\n",
    "# ================================\n",
    "app = Dash(\n",
    "    __name__,\n",
    "    external_stylesheets=[\n",
    "        dbc.themes.CYBORG,  # Futuristic dark theme\n",
    "        'https://cdnjs.cloudflare.com/ajax/libs/font-awesome/6.0.0/css/all.min.css'\n",
    "    ],\n",
    "    suppress_callback_exceptions=True\n",
    ")\n",
    "\n",
    "app.title = \"Student Analytics Dashboard\"\n",
    "\n",
    "# Custom CSS to fix date picker z-index overlay issues\n",
    "app.index_string = '''\n",
    "<!DOCTYPE html>\n",
    "<html>\n",
    "    <head>\n",
    "        {%metas%}\n",
    "        <title>{%title%}</title>\n",
    "        {%favicon%}\n",
    "        {%css%}\n",
    "        <style>\n",
    "            .DateInput_input, .DateRangePickerInput {\n",
    "                z-index: 9999 !important;\n",
    "                position: relative !important;\n",
    "            }\n",
    "            .DateRangePicker, .DayPicker {\n",
    "                z-index: 10000 !important;\n",
    "                position: absolute !important;\n",
    "            }\n",
    "            .SingleDatePicker_picker {\n",
    "                z-index: 10004 !important;\n",
    "                position: absolute !important;\n",
    "            }\n",
    "            .SingleDatePickerInput {\n",
    "                z-index: 10006 !important;\n",
    "                position: relative !important;\n",
    "            }\n",
    "            .DayPicker_portal {\n",
    "                z-index: 10002 !important;\n",
    "            }\n",
    "            .DateInput_fang {\n",
    "                z-index: 10003 !important;\n",
    "            }\n",
    "        </style>\n",
    "    </head>\n",
    "    <body>\n",
    "        {%app_entry%}\n",
    "        <footer>\n",
    "            {%config%}\n",
    "            {%scripts%}\n",
    "            {%renderer%}\n",
    "        </footer>\n",
    "    </body>\n",
    "</html>\n",
    "'''\n",
    "\n",
    "print(\"✅ Dashboard framework initialized with date picker overlay fix!\")"
   ]
  },
  {
   "cell_type": "code",
   "execution_count": 31,
   "id": "df5eab91",
   "metadata": {},
   "outputs": [
    {
     "name": "stdout",
     "output_type": "stream",
     "text": [
      "🎨 Creating futuristic header component...\n",
      "✅ Header component created!\n"
     ]
    }
   ],
   "source": [
    "# === DASHBOARD HEADER COMPONENT (MATCHING TEMPLATE) ===\n",
    "print(\"🎨 Creating futuristic header component...\")\n",
    "\n",
    "# Header with enhanced glowing effects - EXACT TEMPLATE MATCH\n",
    "header = dbc.Container([\n",
    "    dbc.Row([\n",
    "        dbc.Col([\n",
    "            html.Div([\n",
    "                html.Div([\n",
    "                    html.I(className=\"fas fa-graduation-cap\", \n",
    "                          style={\n",
    "                              'fontSize': '1.8rem', \n",
    "                              'color': COLORS['neon_blue'],\n",
    "                              'filter': 'drop-shadow(0 0 8px rgba(0, 245, 255, 0.8))'\n",
    "                          }),\n",
    "                ], style={\n",
    "                    'width': '50px', 'height': '50px', 'borderRadius': '15px',\n",
    "                    'background': f'linear-gradient(135deg, {COLORS[\"primary\"]} 0%, {COLORS[\"neon_blue\"]} 100%)',\n",
    "                    'display': 'flex', 'alignItems': 'center', 'justifyContent': 'center',\n",
    "                    'marginRight': '15px', \n",
    "                    'boxShadow': f'0 0 25px {COLORS[\"glow_shadow\"]}, 0 0 50px rgba(139, 95, 191, 0.3)',\n",
    "                    'border': f'1px solid {COLORS[\"neon_blue\"]}',\n",
    "                    'animation': 'pulse 2s infinite'\n",
    "                }),\n",
    "                html.Div([\n",
    "                    html.H5(\"STUDENT ANALYTICS\", style={\n",
    "                        'color': COLORS['light'], 'margin': '0', 'fontWeight': '700',\n",
    "                        'letterSpacing': '1px', 'fontSize': '0.95rem',\n",
    "                        'textShadow': f'0 0 10px {COLORS[\"neon_blue\"]}',\n",
    "                        'fontFamily': 'Orbitron, monospace'\n",
    "                    }),\n",
    "                    html.P(\"CONTROL CENTER\", style={\n",
    "                        'color': COLORS['neon_blue'], 'margin': '0', 'fontSize': '0.75rem',\n",
    "                        'fontWeight': '500', 'letterSpacing': '0.5px',\n",
    "                        'fontFamily': 'Rajdhani, monospace'\n",
    "                    })\n",
    "                ])\n",
    "            ], style={'display': 'flex', 'alignItems': 'center'})\n",
    "        ], width=3),\n",
    "        \n",
    "        dbc.Col([\n",
    "            html.H1(\"ANALYTICS NEXUS\", \n",
    "                   className=\"text-center\",\n",
    "                   style={\n",
    "                       'color': COLORS['light'], \n",
    "                       'fontWeight': '900',\n",
    "                       'fontSize': '2.5rem',\n",
    "                       'margin': '0',\n",
    "                       'background': f'linear-gradient(135deg, {COLORS[\"neon_blue\"]} 0%, {COLORS[\"neon_purple\"]} 50%, {COLORS[\"primary\"]} 100%)',\n",
    "                       'backgroundClip': 'text',\n",
    "                       'WebkitBackgroundClip': 'text',\n",
    "                       'WebkitTextFillColor': 'transparent',\n",
    "                       'letterSpacing': '2px',\n",
    "                       'textShadow': '0 0 20px rgba(34, 211, 238, 0.6)',\n",
    "                       'filter': 'drop-shadow(0 0 10px rgba(34, 211, 238, 0.8))',\n",
    "                       'fontFamily': 'Orbitron, monospace'\n",
    "                   })\n",
    "        ], width=6),\n",
    "        \n",
    "        dbc.Col([\n",
    "            html.Div([\n",
    "                html.Div([\n",
    "                    html.Div([\n",
    "                        html.I(className=\"fas fa-circle\", style={\n",
    "                            'color': COLORS['neon_green'], 'fontSize': '0.6rem',\n",
    "                            'animation': 'blink 1.5s infinite'\n",
    "                        }),\n",
    "                        html.Span(\"LIVE\", style={\n",
    "                            'color': COLORS['neon_green'], 'fontSize': '0.8rem', \n",
    "                            'marginLeft': '6px', 'fontWeight': '700',\n",
    "                            'textShadow': f'0 0 8px {COLORS[\"neon_green\"]}',\n",
    "                            'fontFamily': 'Orbitron, monospace'\n",
    "                        })\n",
    "                    ], style={'display': 'flex', 'alignItems': 'center', 'marginBottom': '4px'}),\n",
    "                    html.Span(id=\"live-time\", style={\n",
    "                        'color': COLORS['text'], 'fontSize': '0.85rem',\n",
    "                        'fontFamily': 'Rajdhani, monospace', 'fontWeight': '500'\n",
    "                    })\n",
    "                ], style={'textAlign': 'right'})\n",
    "            ])\n",
    "        ], width=3)\n",
    "    ], className=\"align-items-center\"),\n",
    "], fluid=True, className=\"py-4\", \n",
    "   style={\n",
    "       'background': f'linear-gradient(135deg, {COLORS[\"card_bg\"]} 0%, {COLORS[\"sidebar_bg\"]} 100%)', \n",
    "       'marginBottom': '30px',\n",
    "       'borderRadius': '0 0 30px 30px',\n",
    "       'boxShadow': f'0 0 40px {COLORS[\"glow_shadow\"]}, 0 0 50px rgba(26, 26, 46, 0.8)',\n",
    "       'border': f'1px solid {COLORS[\"neon_blue\"]}20',\n",
    "       'position': 'relative',\n",
    "       'overflow': 'hidden'\n",
    "   })\n",
    "\n",
    "print(\"✅ Header component created!\")"
   ]
  },
  {
   "cell_type": "code",
   "execution_count": 32,
   "id": "e52fe947",
   "metadata": {},
   "outputs": [
    {
     "name": "stdout",
     "output_type": "stream",
     "text": [
      "🎨 Creating main layout to match template...\n",
      "✅ Main layout created to match template exactly!\n"
     ]
    }
   ],
   "source": [
    "# === MAIN LAYOUT (EXACT TEMPLATE MATCH) ===\n",
    "print(\"🎨 Creating main layout to match template...\")\n",
    "\n",
    "# Chart containers with enhanced glowing design (matching template)\n",
    "chart_style = {\n",
    "    'background': f'linear-gradient(135deg, {COLORS[\"card_bg\"]} 0%, {COLORS[\"sidebar_bg\"]} 100%)',\n",
    "    'border': f'2px solid {COLORS[\"neon_blue\"]}40',\n",
    "    'borderRadius': '25px',\n",
    "    'padding': '30px',\n",
    "    'marginBottom': '30px',\n",
    "    'boxShadow': f'0 0 40px {COLORS[\"glow_shadow\"]}, 0 15px 60px rgba(26, 26, 46, 0.8)',\n",
    "    'backdropFilter': 'blur(15px)',\n",
    "    'position': 'relative',\n",
    "    'zIndex': '1',\n",
    "    'overflow': 'hidden',\n",
    "    'transition': 'all 0.3s ease'\n",
    "}\n",
    "\n",
    "# ================================\n",
    "# MAIN LAYOUT WITH LEFT-RIGHT ORIENTATION (EXACT TEMPLATE MATCH)\n",
    "# ================================\n",
    "app.layout = html.Div([\n",
    "    # Global CSS for futuristic fonts and date picker fix\n",
    "    html.Link(\n",
    "        rel='stylesheet',\n",
    "        href='https://fonts.googleapis.com/css2?family=Orbitron:wght@400;700;900&family=Rajdhani:wght@300;400;500;600;700&family=Space+Mono:wght@400;700&display=swap'\n",
    "    ),\n",
    "    \n",
    "    # Live update interval\n",
    "    dcc.Interval(id='interval-update', interval=60000, n_intervals=0),\n",
    "    \n",
    "    # Data store\n",
    "    dcc.Store(id='filtered-data'),\n",
    "    \n",
    "    # Header (full width)\n",
    "    header,\n",
    "    \n",
    "    # Main Content Container with Left-Right Layout\n",
    "    dbc.Container([\n",
    "        dbc.Row([\n",
    "            # LEFT SIDE - Search, Student Data, and KPIs (4/12 columns)\n",
    "            dbc.Col([\n",
    "                # Search Section\n",
    "                html.Div([\n",
    "                    html.Label(\"🔍 SEARCH STUDENT ID\", style={\n",
    "                        'color': COLORS['pink'], 'fontWeight': '700', 'marginBottom': '15px',\n",
    "                        'fontSize': '1rem', 'letterSpacing': '1px',\n",
    "                        'textShadow': f'0 0 8px {COLORS[\"pink\"]}',\n",
    "                        'fontFamily': 'Orbitron, monospace'\n",
    "                    }),\n",
    "                    dbc.Input(\n",
    "                        id='search-box',\n",
    "                        placeholder=\"Enter Student ID (e.g., STU00001)\",\n",
    "                        type=\"text\",\n",
    "                        style={\n",
    "                            'backgroundColor': COLORS['sidebar_bg'], 'color': COLORS['light'], \n",
    "                            'border': f'2px solid {COLORS[\"pink\"]}60', 'borderRadius': '10px',\n",
    "                            'boxShadow': f'inset 0 0 10px rgba(236, 72, 153, 0.2)',\n",
    "                            'fontFamily': 'Rajdhani, monospace',\n",
    "                            'fontSize': '1rem'\n",
    "                        }\n",
    "                    )\n",
    "                ], style={\n",
    "                    'backgroundColor': COLORS['card_bg'], 'padding': '20px', 'borderRadius': '20px',\n",
    "                    'boxShadow': f'0 0 30px rgba(236, 72, 153, 0.4), 0 8px 32px rgba(26, 26, 46, 0.6)', \n",
    "                    'border': f'2px solid {COLORS[\"pink\"]}40',\n",
    "                    'backdropFilter': 'blur(10px)',\n",
    "                    'marginBottom': '20px'\n",
    "                }),\n",
    "                \n",
    "                # Student Data Section\n",
    "                html.Div([\n",
    "                    html.H4(\"📊 STUDENT DATA\", \n",
    "                           style={\n",
    "                               'color': COLORS['neon_green'], 'textAlign': 'center', 'marginBottom': '20px',\n",
    "                               'fontWeight': '900', 'fontSize': '1.1rem', 'letterSpacing': '2px',\n",
    "                               'fontFamily': 'Orbitron, monospace',\n",
    "                               'textShadow': f'0 0 15px {COLORS[\"neon_green\"]}, 0 0 30px {COLORS[\"neon_green\"]}40',\n",
    "                               'textTransform': 'uppercase'\n",
    "                           }),\n",
    "                    html.Div(id='student-data-table')\n",
    "                ], style={**chart_style, 'height': '300px', 'overflow': 'auto', 'marginBottom': '20px'}),\n",
    "                \n",
    "                # KPI Cards Section (Compact vertical layout)\n",
    "                html.Div([\n",
    "                    html.H4(\"📈 KEY METRICS\", \n",
    "                           style={\n",
    "                               'color': COLORS['neon_blue'], 'textAlign': 'center', 'marginBottom': '20px',\n",
    "                               'fontWeight': '900', 'fontSize': '1.1rem', 'letterSpacing': '2px',\n",
    "                               'fontFamily': 'Orbitron, monospace',\n",
    "                               'textShadow': f'0 0 15px {COLORS[\"neon_blue\"]}, 0 0 30px {COLORS[\"neon_blue\"]}40',\n",
    "                               'textTransform': 'uppercase'\n",
    "                           }),\n",
    "                    html.Div(id='kpi-cards-left')\n",
    "                ], style=chart_style)\n",
    "                \n",
    "            ], width=4),  # Left side takes 4/12 columns\n",
    "            \n",
    "            # RIGHT SIDE - Scrollable Charts (8/12 columns)\n",
    "            dbc.Col([\n",
    "                # Simple Date Filter Row with Fixed Z-Index\n",
    "                html.Div([\n",
    "                    html.Span(\"📅 Filter: \", style={\n",
    "                        'color': COLORS['secondary'], 'fontWeight': '700', 'marginRight': '10px',\n",
    "                        'fontFamily': 'Orbitron, monospace', 'fontSize': '0.9rem'\n",
    "                    }),\n",
    "                    html.Div([\n",
    "                        dcc.DatePickerSingle(\n",
    "                            id='start-date-picker',\n",
    "                            date=datetime(2022, 4, 1),  # Start of actual data range\n",
    "                            display_format='YYYY-MM-DD',\n",
    "                            style={\n",
    "                                'display': 'inline-block', \n",
    "                                'marginRight': '10px',\n",
    "                                'zIndex': '9999'  # High z-index for calendar dropdown\n",
    "                            }\n",
    "                        )\n",
    "                    ], style={\n",
    "                        'display': 'inline-block', \n",
    "                        'position': 'relative',\n",
    "                        'zIndex': '9999'  # Container z-index\n",
    "                    }),\n",
    "                    html.Span(\" to \", style={'color': COLORS['light'], 'margin': '0 5px'}),\n",
    "                    html.Div([\n",
    "                        dcc.DatePickerSingle(\n",
    "                            id='end-date-picker',\n",
    "                            date=datetime(2025, 4, 24),  # End of actual data range\n",
    "                            display_format='YYYY-MM-DD',\n",
    "                            style={\n",
    "                                'display': 'inline-block', \n",
    "                                'marginRight': '15px',\n",
    "                                'zIndex': '9999'  # High z-index for calendar dropdown\n",
    "                            }\n",
    "                        )\n",
    "                    ], style={\n",
    "                        'display': 'inline-block', \n",
    "                        'position': 'relative',\n",
    "                        'zIndex': '9999'  # Container z-index\n",
    "                    }),\n",
    "                    dbc.Button(\"All Time\", id=\"btn-all-years\", color=\"outline-info\", size=\"sm\",\n",
    "                              style={'fontFamily': 'Rajdhani, monospace', 'fontSize': '0.8rem'})\n",
    "                ], style={\n",
    "                    'backgroundColor': COLORS['card_bg'], \n",
    "                    'padding': '10px 15px', \n",
    "                    'borderRadius': '10px',\n",
    "                    'border': f'1px solid {COLORS[\"secondary\"]}40', \n",
    "                    'marginBottom': '15px',\n",
    "                    'display': 'flex', \n",
    "                    'alignItems': 'center', \n",
    "                    'flexWrap': 'wrap',\n",
    "                    'position': 'relative',\n",
    "                    'zIndex': '1000'  # Base z-index for filter container\n",
    "                }),\n",
    "                \n",
    "                # Scrollable Charts Container\n",
    "                html.Div([\n",
    "                    # Chart 1 - Your Treemap\n",
    "                    html.Div([\n",
    "                        html.H4(\"POPULATION DISTRIBUTION\", \n",
    "                               style={\n",
    "                                   'color': COLORS['neon_blue'], 'textAlign': 'center', 'marginBottom': '20px',\n",
    "                                   'fontWeight': '900', 'fontSize': '1.4rem', 'letterSpacing': '2px',\n",
    "                                   'fontFamily': 'Orbitron, monospace',\n",
    "                                   'textShadow': f'0 0 15px {COLORS[\"neon_blue\"]}, 0 0 30px {COLORS[\"neon_blue\"]}40',\n",
    "                                   'textTransform': 'uppercase'\n",
    "                               }),\n",
    "                        dcc.Graph(id='chart-1', \n",
    "                                 config={'displayModeBar': True, 'displaylogo': False},\n",
    "                                 style={'height': '800px'})\n",
    "                    ], style={**chart_style, 'marginBottom': '40px'}),\n",
    "                    \n",
    "                    # Chart 2 - Your Scatter\n",
    "                    html.Div([\n",
    "                        html.H4(\"GPA vs COMPLETION ANALYSIS\", \n",
    "                               style={\n",
    "                                   'color': COLORS['neon_purple'], 'textAlign': 'center', 'marginBottom': '20px',\n",
    "                                   'fontWeight': '900', 'fontSize': '1.4rem', 'letterSpacing': '2px',\n",
    "                                   'fontFamily': 'Orbitron, monospace',\n",
    "                                   'textShadow': f'0 0 15px {COLORS[\"neon_purple\"]}, 0 0 30px {COLORS[\"neon_purple\"]}40',\n",
    "                                   'textTransform': 'uppercase'\n",
    "                               }),\n",
    "                        dcc.Graph(id='chart-2', \n",
    "                                 config={'displayModeBar': True, 'displaylogo': False},\n",
    "                                 style={'height': '800px'})\n",
    "                    ], style={**chart_style, 'marginBottom': '40px'}),\n",
    "                    \n",
    "                    # Chart 3 - Your Boxplot\n",
    "                    html.Div([\n",
    "                        html.H4(\"COMPLETION TIME ANALYSIS\", \n",
    "                               style={\n",
    "                                   'color': COLORS['neon_green'], 'textAlign': 'center', 'marginBottom': '20px',\n",
    "                                   'fontWeight': '900', 'fontSize': '1.4rem', 'letterSpacing': '2px',\n",
    "                                   'fontFamily': 'Orbitron, monospace',\n",
    "                                   'textShadow': f'0 0 15px {COLORS[\"neon_green\"]}, 0 0 30px {COLORS[\"neon_green\"]}40',\n",
    "                                   'textTransform': 'uppercase'\n",
    "                               }),\n",
    "                        dcc.Graph(id='chart-3', \n",
    "                                 config={'displayModeBar': True, 'displaylogo': False},\n",
    "                                 style={'height': '800px'})\n",
    "                    ], style={**chart_style, 'marginBottom': '40px'}),\n",
    "                    \n",
    "                    # Chart 4 - Your Animation\n",
    "                    html.Div([\n",
    "                        html.H4(\"TEMPORAL TRENDS\", \n",
    "                               style={\n",
    "                                   'color': COLORS['accent'], 'textAlign': 'center', 'marginBottom': '20px',\n",
    "                                   'fontWeight': '900', 'fontSize': '1.4rem', 'letterSpacing': '2px',\n",
    "                                   'fontFamily': 'Orbitron, monospace',\n",
    "                                   'textShadow': f'0 0 15px {COLORS[\"accent\"]}, 0 0 30px {COLORS[\"accent\"]}40',\n",
    "                                   'textTransform': 'uppercase'\n",
    "                               }),\n",
    "                        dcc.Graph(id='chart-4', \n",
    "                                 config={'displayModeBar': True, 'displaylogo': False},\n",
    "                                 style={'height': '800px'})\n",
    "                    ], style=chart_style)\n",
    "                    \n",
    "                ], style={\n",
    "                    'height': '90vh',  # Set viewport height\n",
    "                    'overflowY': 'auto',  # Enable vertical scrolling\n",
    "                    'paddingRight': '15px',  # Space for scrollbar\n",
    "                    'scrollbarWidth': 'thin',  # Thin scrollbar for Firefox\n",
    "                    'scrollbarColor': f'{COLORS[\"neon_blue\"]} {COLORS[\"sidebar_bg\"]}'  # Custom scrollbar colors\n",
    "                })\n",
    "                \n",
    "            ], width=8)  # Right side takes 8/12 columns\n",
    "            \n",
    "        ], className=\"g-4\")\n",
    "    ], fluid=True)\n",
    "], style={\n",
    "    'backgroundColor': COLORS['dark_bg'], \n",
    "    'minHeight': '100vh', \n",
    "    'padding': '0',\n",
    "    'fontFamily': 'Rajdhani, Orbitron, monospace'\n",
    "})\n",
    "\n",
    "print(\"✅ Main layout created to match template exactly!\")"
   ]
  },
  {
   "cell_type": "code",
   "execution_count": 33,
   "id": "67d473f7",
   "metadata": {},
   "outputs": [
    {
     "name": "stdout",
     "output_type": "stream",
     "text": [
      "🔗 Creating callbacks to match template with your actual data...\n",
      "✅ All callbacks configured with your actual data structure!\n",
      "📊 Dashboard ready for 285 students with real metrics!\n",
      "🔄 Charts will now show EMPTY when no data matches filters!\n",
      "⏰ 'All Time' button will reset date range automatically!\n"
     ]
    }
   ],
   "source": [
    "# === DASHBOARD CALLBACKS (MATCHING TEMPLATE PATTERN) ===\n",
    "print(\"🔗 Creating callbacks to match template with your actual data...\")\n",
    "\n",
    "# Main callback to update student data, KPIs, and filtered data\n",
    "@app.callback(\n",
    "    [Output('student-data-table', 'children'),\n",
    "     Output('kpi-cards-left', 'children'),\n",
    "     Output('filtered-data', 'data')],\n",
    "    [Input('search-box', 'value'),\n",
    "     Input('start-date-picker', 'date'),\n",
    "     Input('end-date-picker', 'date'),\n",
    "     Input('btn-all-years', 'n_clicks')]\n",
    ")\n",
    "def update_dashboard(search_value, start_date, end_date, btn_clicks):\n",
    "    from dash import callback_context\n",
    "    \n",
    "    # Start with full dataset (your actual data)\n",
    "    filtered_df = df.copy()\n",
    "    \n",
    "    # Handle \"All Time\" button\n",
    "    if callback_context.triggered and 'btn-all-years' in callback_context.triggered[0]['prop_id']:\n",
    "        start_date = None\n",
    "        end_date = None\n",
    "    \n",
    "    # Apply ONLY date filters for charts and KPIs (NOT search filter)\n",
    "    chart_filtered_df = filtered_df.copy()\n",
    "    if start_date and 'COMMENCEMENT DATE' in chart_filtered_df.columns:\n",
    "        chart_filtered_df = chart_filtered_df[pd.to_datetime(chart_filtered_df['COMMENCEMENT DATE']) >= pd.to_datetime(start_date)]\n",
    "    if end_date and 'COMMENCEMENT DATE' in chart_filtered_df.columns:\n",
    "        chart_filtered_df = chart_filtered_df[pd.to_datetime(chart_filtered_df['COMMENCEMENT DATE']) <= pd.to_datetime(end_date)]\n",
    "    \n",
    "    # Calculate KPIs from date-filtered data only\n",
    "    total_students = len(chart_filtered_df)\n",
    "    avg_gpa = chart_filtered_df['CUMULATIVE_GPA'].mean() if len(chart_filtered_df) > 0 and 'CUMULATIVE_GPA' in chart_filtered_df.columns else 0\n",
    "    avg_completion = chart_filtered_df['COMPLETION_MONTHS'].mean() if len(chart_filtered_df) > 0 and 'COMPLETION_MONTHS' in chart_filtered_df.columns else 0\n",
    "    \n",
    "    # Pass rate calculation (assuming GPA >= 2.0 is pass)\n",
    "    if len(chart_filtered_df) > 0 and 'CUMULATIVE_GPA' in chart_filtered_df.columns:\n",
    "        pass_rate = (chart_filtered_df['CUMULATIVE_GPA'] >= 2.0).mean() * 100\n",
    "    else:\n",
    "        pass_rate = 0\n",
    "    \n",
    "    # Create KPI display (template style with your metrics)\n",
    "    kpi_display = html.Div([\n",
    "        html.Div([\n",
    "            html.H3(f\"{total_students:,}\", style={\n",
    "                'color': COLORS['neon_blue'], 'fontWeight': '900', 'margin': '0',\n",
    "                'fontFamily': 'Orbitron, monospace', 'fontSize': '2rem'\n",
    "            }),\n",
    "            html.P(\"Total Students\", style={\n",
    "                'color': COLORS['text'], 'margin': '5px 0 15px 0', 'fontSize': '0.9rem',\n",
    "                'fontFamily': 'Rajdhani, monospace'\n",
    "            })\n",
    "        ]),\n",
    "        html.Div([\n",
    "            html.H3(f\"{avg_gpa:.2f}\" if avg_gpa > 0 else \"N/A\", style={\n",
    "                'color': COLORS['neon_green'], 'fontWeight': '900', 'margin': '0',\n",
    "                'fontFamily': 'Orbitron, monospace', 'fontSize': '2rem'\n",
    "            }),\n",
    "            html.P(\"Average GPA\", style={\n",
    "                'color': COLORS['text'], 'margin': '5px 0 15px 0', 'fontSize': '0.9rem',\n",
    "                'fontFamily': 'Rajdhani, monospace'\n",
    "            })\n",
    "        ]),\n",
    "        html.Div([\n",
    "            html.H3(f\"{avg_completion:.1f}\" if avg_completion > 0 else \"N/A\", style={\n",
    "                'color': COLORS['accent'], 'fontWeight': '900', 'margin': '0',\n",
    "                'fontFamily': 'Orbitron, monospace', 'fontSize': '2rem'\n",
    "            }),\n",
    "            html.P(\"Avg Completion (months)\", style={\n",
    "                'color': COLORS['text'], 'margin': '5px 0 15px 0', 'fontSize': '0.9rem',\n",
    "                'fontFamily': 'Rajdhani, monospace'\n",
    "            })\n",
    "        ]),\n",
    "        html.Div([\n",
    "            html.H3(f\"{pass_rate:.1f}%\" if pass_rate > 0 else \"N/A\", style={\n",
    "                'color': COLORS['neon_purple'], 'fontWeight': '900', 'margin': '0',\n",
    "                'fontFamily': 'Orbitron, monospace', 'fontSize': '2rem'\n",
    "            }),\n",
    "            html.P(\"Pass Rate\", style={\n",
    "                'color': COLORS['text'], 'margin': '5px 0 15px 0', 'fontSize': '0.9rem',\n",
    "                'fontFamily': 'Rajdhani, monospace'\n",
    "            })\n",
    "        ])\n",
    "    ])\n",
    "    \n",
    "    # Create student data table - show first 10 by default, filter by search if provided\n",
    "    if search_value:\n",
    "        # Apply search filter only for display\n",
    "        search_filtered = df[df['STUDENT ID'].astype(str).str.contains(str(search_value), na=False, case=False)]\n",
    "        display_students = search_filtered.head(10)  # Show top 10 matches\n",
    "    else:\n",
    "        # Show first 10 students by default\n",
    "        display_students = df.head(10)\n",
    "    \n",
    "    student_cards = []\n",
    "    for _, row in display_students.iterrows():\n",
    "        # Build card with available columns\n",
    "        card_content = [\n",
    "            html.P(f\"ID: {row['STUDENT ID']}\", style={\n",
    "                'color': COLORS['neon_blue'], 'fontWeight': 'bold', 'margin': '5px 0',\n",
    "                'fontFamily': 'Orbitron, monospace'\n",
    "            })\n",
    "        ]\n",
    "        \n",
    "        # Add available information\n",
    "        if 'GENDER' in row and pd.notna(row['GENDER']):\n",
    "            card_content.append(html.P(f\"Gender: {row['GENDER']}\", style={\n",
    "                'color': COLORS['text'], 'margin': '3px 0', 'fontSize': '0.9rem',\n",
    "                'fontFamily': 'Rajdhani, monospace'\n",
    "            }))\n",
    "        \n",
    "        if 'CITIZENSHIP' in row and pd.notna(row['CITIZENSHIP']):\n",
    "            card_content.append(html.P(f\"Citizenship: {row['CITIZENSHIP']}\", style={\n",
    "                'color': COLORS['text'], 'margin': '3px 0', 'fontSize': '0.9rem',\n",
    "                'fontFamily': 'Rajdhani, monospace'\n",
    "            }))\n",
    "        \n",
    "        if 'CUMULATIVE_GPA' in row and pd.notna(row['CUMULATIVE_GPA']):\n",
    "            card_content.append(html.P(f\"GPA: {row['CUMULATIVE_GPA']:.2f}\", style={\n",
    "                'color': COLORS['neon_green'], 'fontWeight': 'bold', 'margin': '3px 0',\n",
    "                'fontFamily': 'Rajdhani, monospace'\n",
    "            }))\n",
    "        \n",
    "        if 'COURSE FUNDING' in row and pd.notna(row['COURSE FUNDING']):\n",
    "            card_content.append(html.P(f\"Funding: {row['COURSE FUNDING']}\", style={\n",
    "                'color': COLORS['text'], 'margin': '3px 0', 'fontSize': '0.9rem',\n",
    "                'fontFamily': 'Rajdhani, monospace'\n",
    "            }))\n",
    "        \n",
    "        if 'PERFORMANCE_TIER' in row and pd.notna(row['PERFORMANCE_TIER']):\n",
    "            card_content.append(html.P(f\"Performance: {row['PERFORMANCE_TIER']}\", style={\n",
    "                'color': COLORS['accent'], 'fontWeight': 'bold', 'margin': '3px 0',\n",
    "                'fontFamily': 'Rajdhani, monospace'\n",
    "            }))\n",
    "        \n",
    "        # Add separator\n",
    "        card_content.append(html.Hr(style={'borderColor': COLORS['text_dim'], 'margin': '10px 0'}))\n",
    "        \n",
    "        card = html.Div(card_content, style={\n",
    "            'padding': '10px', 'margin': '5px 0',\n",
    "            'border': f'1px solid {COLORS[\"text_dim\"]}40',\n",
    "            'borderRadius': '10px',\n",
    "            'backgroundColor': f'{COLORS[\"card_bg\"]}60'\n",
    "        })\n",
    "        student_cards.append(card)\n",
    "    \n",
    "    student_table = html.Div(student_cards)\n",
    "    \n",
    "    # Return data for charts (date-filtered only, no search filter)\n",
    "    return student_table, kpi_display, chart_filtered_df.to_dict('records')\n",
    "\n",
    "# Chart callbacks to display your existing figures with dynamic data AND preserve your interactive filters\n",
    "@app.callback(Output('chart-1', 'figure'), Input('filtered-data', 'data'))\n",
    "def update_chart_1(filtered_data):\n",
    "    if not filtered_data:\n",
    "        return fig1  # Return original with all your filters intact\n",
    "    \n",
    "    # Convert filtered data back to DataFrame\n",
    "    filtered_df = pd.DataFrame(filtered_data)\n",
    "    \n",
    "    if len(filtered_df) == 0:\n",
    "        # Create EMPTY chart with \"No Data\" message\n",
    "        fig_empty = px.treemap(\n",
    "            pd.DataFrame({'x': ['No Data Found'], 'y': [1]}),\n",
    "            path=['x'],\n",
    "            values='y',\n",
    "            title='<b>🚫 No Students Found in Selected Date Range</b><br><sub>Adjust your date filters or click \"All Time\" to see all data</sub>'\n",
    "        )\n",
    "        fig_empty.update_layout(\n",
    "            font=dict(family='Orbitron, monospace', size=12, color=COLORS['light']),\n",
    "            title_font_size=18,\n",
    "            title_x=0.5,\n",
    "            title_font_color=COLORS['danger'],\n",
    "            paper_bgcolor=COLORS['dark_bg'],\n",
    "            height=700,\n",
    "            margin=dict(t=150, l=20, r=20, b=20)\n",
    "        )\n",
    "        fig_empty.update_traces(\n",
    "            textfont_color=COLORS['danger'],\n",
    "            marker_colorscale=[[0, COLORS['danger']], [1, COLORS['danger']]]\n",
    "        )\n",
    "        return fig_empty\n",
    "    \n",
    "    # Regenerate treemap with filtered data but KEEP the original structure\n",
    "    treemap_data = filtered_df.groupby(['CITIZENSHIP', 'GENDER', 'COURSE FUNDING']).size().reset_index(name='COUNT')\n",
    "    treemap_data['PERCENTAGE'] = (treemap_data['COUNT'] / len(filtered_df) * 100).round(1)\n",
    "    \n",
    "    fig_updated = px.treemap(\n",
    "        treemap_data,\n",
    "        path=['CITIZENSHIP', 'GENDER', 'COURSE FUNDING'],\n",
    "        values='COUNT',\n",
    "        title=f'<b>🌍 Student Population Breakdown ({len(filtered_df)} students)</b><br><sub>Distribution by Citizenship, Gender, and Funding Type • Click to drill down</sub>',\n",
    "        color='COUNT',\n",
    "        color_continuous_scale='Viridis',\n",
    "        hover_data={'PERCENTAGE': ':.1f%'}\n",
    "    )\n",
    "    \n",
    "    fig_updated.update_layout(\n",
    "        font=dict(family='Orbitron, monospace', size=12, color=COLORS['light']),\n",
    "        title_font_size=18,\n",
    "        title_x=0.5,\n",
    "        title_font_color=COLORS['light'],\n",
    "        paper_bgcolor=COLORS['dark_bg'],\n",
    "        height=700,\n",
    "        margin=dict(t=150, l=20, r=20, b=20)\n",
    "    )\n",
    "    \n",
    "    fig_updated.update_traces(\n",
    "        textinfo='label+value+percent parent',\n",
    "        textfont_size=11,\n",
    "        textfont_color=COLORS['light'],\n",
    "        hovertemplate='<b>%{label}</b><br>Count: %{value}<br>Percentage: %{customdata[0]:.1f}%<extra></extra>'\n",
    "    )\n",
    "    \n",
    "    return fig_updated\n",
    "\n",
    "@app.callback(Output('chart-2', 'figure'), Input('filtered-data', 'data'))\n",
    "def update_chart_2(filtered_data):\n",
    "    if not filtered_data:\n",
    "        return fig2  # Return original with ALL your interactive features\n",
    "    \n",
    "    # Convert filtered data back to DataFrame\n",
    "    filtered_df = pd.DataFrame(filtered_data)\n",
    "    \n",
    "    if len(filtered_df) == 0:\n",
    "        # Create EMPTY scatter plot with \"No Data\" message\n",
    "        fig_empty = go.Figure()\n",
    "        fig_empty.add_trace(go.Scatter(\n",
    "            x=[0], y=[2.5], mode='text',\n",
    "            text=['No Data Found<br>Adjust date filters or click \"All Time\"'],\n",
    "            textfont=dict(size=20, color=COLORS['danger'], family='Orbitron, monospace'),\n",
    "            showlegend=False\n",
    "        ))\n",
    "        fig_empty.update_layout(\n",
    "            title=dict(\n",
    "                text='<b>🚫 No Students Found in Selected Date Range</b><br><sub>GPA vs Completion Time Analysis - No data to display</sub>',\n",
    "                font=dict(size=20, family='Orbitron, monospace', color=COLORS['danger']),\n",
    "                x=0.5, y=0.95\n",
    "            ),\n",
    "            xaxis=dict(\n",
    "                title=dict(text='Completion Time (Months)', font=dict(size=14, family='Orbitron, monospace', color=COLORS['neon_blue'])),\n",
    "                tickfont=dict(size=12, family='Orbitron, monospace', color=COLORS['text']),\n",
    "                gridcolor='rgba(200,200,200,0.2)', gridwidth=1, range=[0, 10]\n",
    "            ),\n",
    "            yaxis=dict(\n",
    "                title=dict(text='Cumulative GPA', font=dict(size=14, family='Orbitron, monospace', color=COLORS['neon_purple'])),\n",
    "                tickfont=dict(size=12, family='Orbitron, monospace', color=COLORS['text']),\n",
    "                gridcolor='rgba(200,200,200,0.2)', gridwidth=1, range=[1.0, 4.0]\n",
    "            ),\n",
    "            font=dict(family='Orbitron, monospace', size=12, color=COLORS['light']),\n",
    "            paper_bgcolor=COLORS['dark_bg'], plot_bgcolor='rgba(0,0,0,0)',\n",
    "            height=700, margin=dict(t=150, l=80, r=120, b=80), showlegend=False\n",
    "        )\n",
    "        return fig_empty\n",
    "    \n",
    "    # Recreate your FULL interactive scatter plot with ALL original features\n",
    "    scatter_data = filtered_df.dropna(subset=['CUMULATIVE_GPA', 'COMPLETION_MONTHS'])\n",
    "    \n",
    "    if len(scatter_data) == 0:\n",
    "        return fig2\n",
    "    \n",
    "    # Fix None values in SUCCESS_SCORE and RISK_SCORE\n",
    "    scatter_data = scatter_data.copy()\n",
    "    if 'SUCCESS_SCORE' not in scatter_data.columns or scatter_data['SUCCESS_SCORE'].isna().all():\n",
    "        # Create success score if missing or all None\n",
    "        scatter_data['SUCCESS_SCORE'] = (scatter_data['CUMULATIVE_GPA'] / 4.0 * 50) + \\\n",
    "                                       ((scatter_data['COMPLETION_MONTHS'].max() - scatter_data['COMPLETION_MONTHS']) / \n",
    "                                        scatter_data['COMPLETION_MONTHS'].max() * 50)\n",
    "    else:\n",
    "        # Fill None values with calculated score\n",
    "        mask = scatter_data['SUCCESS_SCORE'].isna()\n",
    "        scatter_data.loc[mask, 'SUCCESS_SCORE'] = (scatter_data.loc[mask, 'CUMULATIVE_GPA'] / 4.0 * 50) + \\\n",
    "                                                 ((scatter_data['COMPLETION_MONTHS'].max() - scatter_data.loc[mask, 'COMPLETION_MONTHS']) / \n",
    "                                                  scatter_data['COMPLETION_MONTHS'].max() * 50)\n",
    "    \n",
    "    if 'RISK_SCORE' not in scatter_data.columns or scatter_data['RISK_SCORE'].isna().all():\n",
    "        scatter_data['RISK_SCORE'] = 1 - (scatter_data['SUCCESS_SCORE'] / 100)\n",
    "    else:\n",
    "        # Fill None values\n",
    "        mask = scatter_data['RISK_SCORE'].isna()\n",
    "        scatter_data.loc[mask, 'RISK_SCORE'] = 1 - (scatter_data.loc[mask, 'SUCCESS_SCORE'] / 100)\n",
    "        \n",
    "    if 'RISK_CATEGORY' not in scatter_data.columns:\n",
    "        scatter_data['RISK_CATEGORY'] = pd.cut(scatter_data['RISK_SCORE'], \n",
    "                                             bins=[0, 0.3, 0.7, 1.0], \n",
    "                                             labels=['Low Risk', 'Medium Risk', 'High Risk'])\n",
    "    \n",
    "    fig_updated = go.Figure()\n",
    "    \n",
    "    # Recreate ALL your original traces with citizenship filtering\n",
    "    citizenship_types = scatter_data['CITIZENSHIP'].unique()\n",
    "    for i, citizenship in enumerate(citizenship_types):\n",
    "        citizenship_subset = scatter_data[scatter_data['CITIZENSHIP'] == citizenship]\n",
    "        \n",
    "        # Regular traces\n",
    "        fig_updated.add_trace(go.Scatter(\n",
    "            x=citizenship_subset['COMPLETION_MONTHS'],\n",
    "            y=citizenship_subset['CUMULATIVE_GPA'],\n",
    "            mode='markers',\n",
    "            marker=dict(\n",
    "                size=12 + (citizenship_subset['RISK_SCORE'] * 4),\n",
    "                color=citizenship_subset['SUCCESS_SCORE'],  # Now guaranteed to be numeric\n",
    "                colorscale='Viridis',\n",
    "                showscale=True if i == 0 else False,\n",
    "                colorbar=dict(\n",
    "                    title=\"Success<br>Score<br>(0-100)\",\n",
    "                    titlefont=dict(size=12, family='Arial Black'),\n",
    "                    tickfont=dict(size=10),\n",
    "                    len=0.8\n",
    "                ) if i == 0 else None,\n",
    "                line=dict(width=2, color='white'),\n",
    "                opacity=0.8,\n",
    "                symbol='circle'\n",
    "            ),\n",
    "            text=[f\"Student ID: {row['STUDENT ID']}<br>\" +\n",
    "                  f\"GPA: {row['CUMULATIVE_GPA']:.2f}<br>\" +\n",
    "                  f\"Completion: {row['COMPLETION_MONTHS']:.1f} months<br>\" +\n",
    "                  f\"Success Score: {row['SUCCESS_SCORE']:.1f}<br>\" +\n",
    "                  f\"Risk Category: {row['RISK_CATEGORY']}<br>\" +\n",
    "                  f\"Citizenship: {row['CITIZENSHIP']}<br>\" +\n",
    "                  f\"Gender: {row['GENDER']}<br>\" +\n",
    "                  f\"Funding: {row['COURSE FUNDING']}\"\n",
    "                  for _, row in citizenship_subset.iterrows()],\n",
    "            hovertemplate='%{text}<extra></extra>',\n",
    "            name=f'{citizenship} ({len(citizenship_subset)} students)',\n",
    "            visible=True\n",
    "        ))\n",
    "    \n",
    "    # Add HIGH ACHIEVERS traces (preserving your logic)\n",
    "    for i, citizenship in enumerate(citizenship_types):\n",
    "        high_achievers = scatter_data[(scatter_data['CITIZENSHIP'] == citizenship) & \n",
    "                                     (scatter_data['CUMULATIVE_GPA'] > 3.5) &\n",
    "                                     (scatter_data['COMPLETION_MONTHS'] < 5)]\n",
    "        \n",
    "        fig_updated.add_trace(go.Scatter(\n",
    "            x=high_achievers['COMPLETION_MONTHS'],\n",
    "            y=high_achievers['CUMULATIVE_GPA'],\n",
    "            mode='markers',\n",
    "            marker=dict(\n",
    "                size=12 + (high_achievers['RISK_SCORE'] * 4) if 'RISK_SCORE' in high_achievers.columns else 12,\n",
    "                color=high_achievers['SUCCESS_SCORE'] if 'SUCCESS_SCORE' in high_achievers.columns else citizenship_colors[i % len(citizenship_colors)],\n",
    "                colorscale='Viridis',\n",
    "                showscale=False,\n",
    "                line=dict(width=2, color='white'),\n",
    "                opacity=0.8,\n",
    "                symbol='circle'\n",
    "            ),\n",
    "            text=[f\"Student ID: {row['STUDENT ID']}<br>\" +\n",
    "                  f\"GPA: {row['CUMULATIVE_GPA']:.2f} ⭐⭐<br>\" +\n",
    "                  f\"Completion: {row['COMPLETION_MONTHS']:.1f} months 🚀<br>\" +\n",
    "                  f\"Success Score: {row.get('SUCCESS_SCORE', 'N/A')}<br>\" +\n",
    "                  f\"Risk Category: {row.get('RISK_CATEGORY', 'N/A')}<br>\" +\n",
    "                  f\"Citizenship: {row['CITIZENSHIP']}<br>\" +\n",
    "                  f\"Gender: {row['GENDER']}<br>\" +\n",
    "                  f\"Funding: {row['COURSE FUNDING']}\"\n",
    "                  for _, row in high_achievers.iterrows()],\n",
    "            hovertemplate='%{text}<extra></extra>',\n",
    "            name=f'{citizenship} High Achievers ({len(high_achievers)} students)',\n",
    "            visible=False\n",
    "        ))\n",
    "    \n",
    "    # Add UNDERPERFORMERS traces (preserving your logic)\n",
    "    for i, citizenship in enumerate(citizenship_types):\n",
    "        underperformers = scatter_data[(scatter_data['CITIZENSHIP'] == citizenship) & \n",
    "                                      (scatter_data['CUMULATIVE_GPA'] < 2.5)]\n",
    "        \n",
    "        fig_updated.add_trace(go.Scatter(\n",
    "            x=underperformers['COMPLETION_MONTHS'],\n",
    "            y=underperformers['CUMULATIVE_GPA'],\n",
    "            mode='markers',\n",
    "            marker=dict(\n",
    "                size=12 + (underperformers['RISK_SCORE'] * 4) if 'RISK_SCORE' in underperformers.columns else 12,\n",
    "                color=underperformers['SUCCESS_SCORE'] if 'SUCCESS_SCORE' in underperformers.columns else citizenship_colors[i % len(citizenship_colors)],\n",
    "                colorscale='Viridis',\n",
    "                showscale=False,\n",
    "                line=dict(width=2, color='white'),\n",
    "                opacity=0.8,\n",
    "                symbol='circle'\n",
    "            ),\n",
    "            text=[f\"Student ID: {row['STUDENT ID']}<br>\" +\n",
    "                  f\"GPA: {row['CUMULATIVE_GPA']:.2f} 🚨<br>\" +\n",
    "                  f\"Completion: {row['COMPLETION_MONTHS']:.1f} months<br>\" +\n",
    "                  f\"Success Score: {row.get('SUCCESS_SCORE', 'N/A')}<br>\" +\n",
    "                  f\"Risk Category: {row.get('RISK_CATEGORY', 'N/A')}<br>\" +\n",
    "                  f\"Citizenship: {row['CITIZENSHIP']}<br>\" +\n",
    "                  f\"Gender: {row['GENDER']}<br>\" +\n",
    "                  f\"Funding: {row['COURSE FUNDING']}\"\n",
    "                  for _, row in underperformers.iterrows()],\n",
    "            hovertemplate='%{text}<extra></extra>',\n",
    "            name=f'{citizenship} Underperformers ({len(underperformers)} students)',\n",
    "            visible=False\n",
    "        ))\n",
    "    \n",
    "    # Recreate ALL your dropdown buttons (preserving your original logic)\n",
    "    num_citizenship = len(citizenship_types)\n",
    "    dropdown_buttons = [\n",
    "        # Show all citizenship types (regular view)\n",
    "        dict(label='🌍 All Citizenship Types', \n",
    "             method='update', \n",
    "             args=[{'visible': [True] * num_citizenship + [False] * (num_citizenship * 2)}]),\n",
    "    ]\n",
    "    \n",
    "    # Add individual citizenship options (regular view)\n",
    "    for i, citizenship in enumerate(citizenship_types):\n",
    "        visibility = [False] * (num_citizenship * 3)\n",
    "        visibility[i] = True\n",
    "        dropdown_buttons.append(\n",
    "            dict(label=f'🎯 {citizenship} Only',\n",
    "                 method='update',\n",
    "                 args=[{'visible': visibility}])\n",
    "        )\n",
    "    \n",
    "    # Add high achievers view\n",
    "    high_achiever_visibility = [False] * num_citizenship + [True] * num_citizenship + [False] * num_citizenship\n",
    "    dropdown_buttons.append(\n",
    "        dict(label='⭐ High Achievers (GPA > 3.5 & < 5 months)', \n",
    "             method='update', \n",
    "             args=[{'visible': high_achiever_visibility}])\n",
    "    )\n",
    "    \n",
    "    # Add underperformers view\n",
    "    underperformer_visibility = [False] * (num_citizenship * 2) + [True] * num_citizenship\n",
    "    dropdown_buttons.append(\n",
    "        dict(label='🚨 Underperformers (GPA < 2.5)', \n",
    "             method='update', \n",
    "             args=[{'visible': underperformer_visibility}])\n",
    "    )\n",
    "    \n",
    "    fig_updated.update_layout(\n",
    "        title=dict(\n",
    "            text=f'<b>🎯 Interactive GPA vs Completion Time Analysis ({len(filtered_df)} students)</b><br>' +\n",
    "                 '<sub>Success score by color • Risk level by marker size • Use filters to explore different groups</sub>',\n",
    "            font=dict(size=20, family='Orbitron, monospace', color=COLORS['light']),\n",
    "            x=0.5,\n",
    "            y=0.95\n",
    "        ),\n",
    "        xaxis=dict(\n",
    "            title=dict(text='Completion Time (Months)', font=dict(size=14, family='Orbitron, monospace', color=COLORS['neon_blue'])),\n",
    "            tickfont=dict(size=12, family='Orbitron, monospace', color=COLORS['text']),\n",
    "            gridcolor='rgba(200,200,200,0.2)',\n",
    "            gridwidth=1,\n",
    "            range=[0, max(scatter_data['COMPLETION_MONTHS']) + 5] if len(scatter_data) > 0 else [0, 10]\n",
    "        ),\n",
    "        yaxis=dict(\n",
    "            title=dict(text='Cumulative GPA', font=dict(size=14, family='Orbitron, monospace', color=COLORS['neon_purple'])),\n",
    "            tickfont=dict(size=12, family='Orbitron, monospace', color=COLORS['text']),\n",
    "            gridcolor='rgba(200,200,200,0.2)',\n",
    "            gridwidth=1,\n",
    "            range=[1.0, 4.0]\n",
    "        ),\n",
    "        font=dict(family='Orbitron, monospace', size=12, color=COLORS['light']),\n",
    "        paper_bgcolor=COLORS['dark_bg'],\n",
    "        plot_bgcolor='rgba(0,0,0,0)',\n",
    "        height=700,\n",
    "        margin=dict(t=150, l=80, r=120, b=80),\n",
    "        showlegend=True,\n",
    "        legend=dict(\n",
    "            orientation='v',\n",
    "            yanchor='top',\n",
    "            y=0.98,\n",
    "            xanchor='left',\n",
    "            x=1.02,\n",
    "            bgcolor=COLORS['card_bg'],\n",
    "            bordercolor=COLORS['neon_blue'],\n",
    "            borderwidth=1,\n",
    "            font=dict(color=COLORS['light'])\n",
    "        ),\n",
    "        \n",
    "        # PRESERVE your interactive dropdown menu\n",
    "        updatemenus=[\n",
    "            dict(\n",
    "                buttons=dropdown_buttons,\n",
    "                direction=\"down\",\n",
    "                showactive=True,\n",
    "                x=0.02,\n",
    "                xanchor=\"left\",\n",
    "                y=1.12,\n",
    "                yanchor=\"top\",\n",
    "                bgcolor=COLORS['card_bg'],\n",
    "                bordercolor=COLORS['neon_green'],\n",
    "                borderwidth=2,\n",
    "                font=dict(color=COLORS['light'])\n",
    "            )\n",
    "        ],\n",
    "        \n",
    "        # PRESERVE your filter label\n",
    "        annotations=[\n",
    "            dict(\n",
    "                text=\"🔍 Filter by Group:\",\n",
    "                x=0.02, y=1.18,\n",
    "                xref=\"paper\", yref=\"paper\",\n",
    "                showarrow=False,\n",
    "                font=dict(size=12, family='Orbitron, monospace', color=COLORS['neon_green'])\n",
    "            )\n",
    "        ]\n",
    "    )\n",
    "    \n",
    "    # Add reference lines (preserving your original styling)\n",
    "    fig_updated.add_hline(y=2.0, line_dash=\"dot\", line_color=COLORS['danger'], line_width=2, opacity=0.8, \n",
    "                          annotation_text=\"Pass Threshold (2.0)\")\n",
    "    fig_updated.add_hline(y=3.5, line_dash=\"dot\", line_color=COLORS['success'], line_width=2, opacity=0.8, \n",
    "                          annotation_text=\"Excellence Threshold (3.5)\")\n",
    "    \n",
    "    return fig_updated\n",
    "\n",
    "@app.callback(Output('chart-3', 'figure'), Input('filtered-data', 'data'))\n",
    "def update_chart_3(filtered_data):\n",
    "    if not filtered_data:\n",
    "        return fig3  # Return original with ALL your dropdowns\n",
    "    \n",
    "    # Convert filtered data back to DataFrame\n",
    "    filtered_df = pd.DataFrame(filtered_data)\n",
    "    \n",
    "    if len(filtered_df) == 0:\n",
    "        # Create EMPTY box plot with \"No Data\" message\n",
    "        fig_empty = go.Figure()\n",
    "        fig_empty.add_trace(go.Scatter(\n",
    "            x=[0], y=[15], mode='text',\n",
    "            text=['No Data Found<br>Adjust date filters or click \"All Time\"'],\n",
    "            textfont=dict(size=20, color=COLORS['danger'], family='Orbitron, monospace'),\n",
    "            showlegend=False\n",
    "        ))\n",
    "        fig_empty.update_layout(\n",
    "            title='<b>🚫 No Students Found in Selected Date Range</b><br><sub>Completion Time Distribution - No data to display</sub>',\n",
    "            title_font_size=18, title_x=0.5, title_font_color=COLORS['danger'],\n",
    "            yaxis_title='Completion Time (Months)', xaxis_title='Citizenship Status',\n",
    "            font=dict(family='Orbitron, monospace', size=12, color=COLORS['light']),\n",
    "            paper_bgcolor=COLORS['dark_bg'], plot_bgcolor='rgba(0,0,0,0)',\n",
    "            height=700, margin=dict(t=150, l=80, r=80, b=80), showlegend=False,\n",
    "            yaxis=dict(gridcolor='rgba(200,200,200,0.2)', gridwidth=1, range=[0, 30],\n",
    "                      title_font_color=COLORS['neon_green'], tickfont=dict(color=COLORS['text'])),\n",
    "            xaxis=dict(gridcolor='rgba(200,200,200,0.2)', gridwidth=1,\n",
    "                      title_font_color=COLORS['neon_blue'], tickfont=dict(color=COLORS['text']))\n",
    "        )\n",
    "        return fig_empty\n",
    "    \n",
    "    # Regenerate box plot with filtered data but PRESERVE all your dropdown functionality\n",
    "    completion_data = filtered_df.dropna(subset=['COMPLETION_MONTHS'])\n",
    "    completion_data = completion_data[completion_data['COMPLETION_MONTHS'] > 0]\n",
    "    completion_data = completion_data[completion_data['COMPLETION_MONTHS'] <= 60]\n",
    "    \n",
    "    if len(completion_data) == 0:\n",
    "        return fig3\n",
    "    \n",
    "    fig_updated = go.Figure()\n",
    "    \n",
    "    # Add box plot for each citizenship type in filtered data (preserving your structure)\n",
    "    for i, citizenship in enumerate(completion_data['CITIZENSHIP'].unique()):\n",
    "        citizenship_data = completion_data[completion_data['CITIZENSHIP'] == citizenship]\n",
    "        \n",
    "        fig_updated.add_trace(\n",
    "            go.Box(\n",
    "                y=citizenship_data['COMPLETION_MONTHS'],\n",
    "                name=citizenship,\n",
    "                marker_color=citizenship_colors[i % len(citizenship_colors)],\n",
    "                boxpoints='outliers',\n",
    "                jitter=0.3,\n",
    "                pointpos=-1.8,\n",
    "                marker=dict(\n",
    "                    size=4,\n",
    "                    opacity=0.6,\n",
    "                    line=dict(width=1, color='white')\n",
    "                ),\n",
    "                hovertemplate='<b>%{fullData.name}</b><br>' +\n",
    "                             'Completion Time: %{y:.1f} months<br>' +\n",
    "                             'Student Count: ' + str(len(citizenship_data)) + '<br>' +\n",
    "                             '<extra></extra>',\n",
    "                visible=True\n",
    "            )\n",
    "        )\n",
    "    \n",
    "    # Recreate YOUR dropdown buttons (preserving original logic)\n",
    "    all_visible = [True] * len(completion_data['CITIZENSHIP'].unique())\n",
    "    dropdown_buttons = [\n",
    "        dict(label='All Citizenship Types',\n",
    "             method='update',\n",
    "             args=[{'visible': all_visible}])\n",
    "    ]\n",
    "    \n",
    "    # Add individual citizenship type options (preserving your logic)\n",
    "    for i, citizenship in enumerate(completion_data['CITIZENSHIP'].unique()):\n",
    "        visibility = [False] * len(completion_data['CITIZENSHIP'].unique())\n",
    "        visibility[i] = True\n",
    "        dropdown_buttons.append(\n",
    "            dict(label=f'{citizenship} Only',\n",
    "                 method='update',\n",
    "                 args=[{'visible': visibility}])\n",
    "        )\n",
    "    \n",
    "    fig_updated.update_layout(\n",
    "        title=f'<b>🔍 Course Completion Time Distribution ({len(filtered_df)} students)</b><br><sub>Interactive box plot analysis of completion duration by citizenship status</sub>',\n",
    "        title_font_size=18,\n",
    "        title_x=0.5,\n",
    "        title_font_color=COLORS['light'],\n",
    "        yaxis_title='Completion Time (Months)',\n",
    "        xaxis_title='Citizenship Status',\n",
    "        font=dict(family='Orbitron, monospace', size=12, color=COLORS['light']),\n",
    "        paper_bgcolor=COLORS['dark_bg'],\n",
    "        plot_bgcolor='rgba(0,0,0,0)',\n",
    "        height=700,\n",
    "        margin=dict(t=150, l=80, r=80, b=80),\n",
    "        showlegend=False,\n",
    "        \n",
    "        # PRESERVE your dropdown functionality\n",
    "        updatemenus=[\n",
    "            dict(\n",
    "                buttons=dropdown_buttons,\n",
    "                direction='down',\n",
    "                showactive=True,\n",
    "                x=0.02,\n",
    "                xanchor='left',\n",
    "                y=1.12,\n",
    "                yanchor='top',\n",
    "                bgcolor=COLORS['card_bg'],\n",
    "                bordercolor=COLORS['neon_purple'],\n",
    "                borderwidth=2,\n",
    "                font=dict(color=COLORS['light'])\n",
    "            )\n",
    "        ],\n",
    "        annotations=[\n",
    "            dict(\n",
    "                text=\"🔍 Filter Options:\",\n",
    "                x=0.02, y=1.18,\n",
    "                xref=\"paper\", yref=\"paper\",\n",
    "                showarrow=False,\n",
    "                font=dict(size=12, family='Orbitron, monospace', color=COLORS['neon_purple'])\n",
    "            )\n",
    "        ],\n",
    "        yaxis=dict(\n",
    "            gridcolor='rgba(200,200,200,0.2)',\n",
    "            gridwidth=1,\n",
    "            range=[0, 60],\n",
    "            title_font_color=COLORS['neon_green'],\n",
    "            tickfont=dict(color=COLORS['text'])\n",
    "        ),\n",
    "        xaxis=dict(\n",
    "            gridcolor='rgba(200,200,200,0.2)',\n",
    "            gridwidth=1,\n",
    "            title_font_color=COLORS['neon_blue'],\n",
    "            tickfont=dict(color=COLORS['text'])\n",
    "        )\n",
    "    )\n",
    "    \n",
    "    return fig_updated\n",
    "\n",
    "@app.callback(Output('chart-4', 'figure'), Input('filtered-data', 'data'))\n",
    "def update_chart_4(filtered_data):\n",
    "    # For the animated chart, preserve it exactly as you made it\n",
    "    if not filtered_data:\n",
    "        return fig4\n",
    "    \n",
    "    filtered_df = pd.DataFrame(filtered_data)\n",
    "    total_filtered = len(filtered_df)\n",
    "    total_original = len(df)\n",
    "    \n",
    "    # Clone the original figure and update title to show filter status\n",
    "    fig_updated = go.Figure(fig4)\n",
    "    fig_updated.update_layout(\n",
    "        title=f'<b>📈 Temporal Trends ({total_filtered}/{total_original} students)</b><br><sub>Animated progression over academic periods</sub>'\n",
    "    )\n",
    "    \n",
    "    return fig_updated\n",
    "\n",
    "# Live time update callback\n",
    "@app.callback(\n",
    "    Output('live-time', 'children'),\n",
    "    Input('interval-update', 'n_intervals')\n",
    ")\n",
    "def update_time(n):\n",
    "    from datetime import datetime\n",
    "    return datetime.now().strftime('%H:%M:%S')\n",
    "\n",
    "# \"All Time\" button callback to reset date pickers to original data range\n",
    "@app.callback(\n",
    "    [Output('start-date-picker', 'date'),\n",
    "     Output('end-date-picker', 'date')],\n",
    "    Input('btn-all-years', 'n_clicks'),\n",
    "    prevent_initial_call=True\n",
    ")\n",
    "def reset_date_filters(n_clicks):\n",
    "    if n_clicks:\n",
    "        # Reset to the actual data range in your dataset\n",
    "        return datetime(2022, 4, 18), datetime(2025, 4, 24)\n",
    "    return datetime(2022, 4, 1), datetime(2025, 4, 24)\n",
    "\n",
    "print(\"✅ All callbacks configured with your actual data structure!\")\n",
    "print(f\"📊 Dashboard ready for {len(df)} students with real metrics!\")\n",
    "print(\"🔄 Charts will now show EMPTY when no data matches filters!\")\n",
    "print(\"⏰ 'All Time' button will reset date range automatically!\")"
   ]
  },
  {
   "cell_type": "code",
   "execution_count": 34,
   "id": "1a365df9",
   "metadata": {},
   "outputs": [
    {
     "name": "stdout",
     "output_type": "stream",
     "text": [
      "📋 Your Student Data Preview:\n",
      "==================================================\n",
      "📊 Total Students: 285\n",
      "🎯 Sample Student IDs: ['1101-009/001', '1101-009/002', '1101-009/003']\n",
      "📈 GPA Range: 2.00 - 4.00\n",
      "⏱️ Completion Time Range: 1.0 - 23.0 months\n",
      "🎓 Pass Rate: 95.4%\n",
      "\n",
      "🔍 Dashboard Search Tips:\n",
      "- Search by partial Student ID (e.g., 'STU', '001', etc.)\n",
      "- Use date filters to narrow by commencement period\n",
      "- KPIs update automatically based on filters\n",
      "==================================================\n"
     ]
    }
   ],
   "source": [
    "# === DATA PREVIEW FOR DASHBOARD ===\n",
    "print(\"📋 Your Student Data Preview:\")\n",
    "print(\"=\" * 50)\n",
    "print(f\"📊 Total Students: {len(df)}\")\n",
    "print(f\"🎯 Sample Student IDs: {list(df['STUDENT ID'].head(3))}\")\n",
    "print(f\"📈 GPA Range: {df['CUMULATIVE_GPA'].min():.2f} - {df['CUMULATIVE_GPA'].max():.2f}\")\n",
    "print(f\"⏱️ Completion Time Range: {df['COMPLETION_MONTHS'].min():.1f} - {df['COMPLETION_MONTHS'].max():.1f} months\")\n",
    "print(f\"🎓 Pass Rate: {((df['CUMULATIVE_GPA'] >= 2.0).mean() * 100):.1f}%\")\n",
    "\n",
    "print(\"\\n🔍 Dashboard Search Tips:\")\n",
    "print(\"- Search by partial Student ID (e.g., 'STU', '001', etc.)\")\n",
    "print(\"- Use date filters to narrow by commencement period\")\n",
    "print(\"- KPIs update automatically based on filters\")\n",
    "print(\"=\" * 50)"
   ]
  },
  {
   "cell_type": "code",
   "execution_count": 35,
   "id": "0c49c764",
   "metadata": {},
   "outputs": [
    {
     "name": "stdout",
     "output_type": "stream",
     "text": [
      "🔬 Testing chart update logic...\n",
      "📋 Available citizenship types: ['FOREIGNER' 'SG CITIZEN' 'SG PR']\n",
      "📊 Citizenship counts: \n",
      "CITIZENSHIP\n",
      "SG CITIZEN    221\n",
      "FOREIGNER      34\n",
      "SG PR          30\n",
      "Name: count, dtype: int64\n",
      "\n",
      "📊 Test data: 50 students (SG CITIZEN only)\n",
      "🎯 Treemap categories: 5\n",
      "📈 Scatter plot points: 50\n",
      "📦 Box plot data points: 50\n",
      "\n",
      "✅ Chart update logic verification complete!\n",
      "🚀 Charts will now update dynamically when you apply filters in the dashboard!\n",
      "💡 Try searching for student IDs containing: ['1101-009/001', '1101-009/002', '1101-009/003']\n"
     ]
    }
   ],
   "source": [
    "# === TEST CHART UPDATES ===\n",
    "print(\"🔬 Testing chart update logic...\")\n",
    "\n",
    "# Check available citizenship values\n",
    "print(f\"📋 Available citizenship types: {df['CITIZENSHIP'].unique()}\")\n",
    "print(f\"📊 Citizenship counts: \\n{df['CITIZENSHIP'].value_counts()}\")\n",
    "\n",
    "# Test with actual data - use first available citizenship type\n",
    "first_citizenship = df['CITIZENSHIP'].value_counts().index[0]\n",
    "test_filter = df[df['CITIZENSHIP'] == first_citizenship].head(50)\n",
    "print(f\"\\n📊 Test data: {len(test_filter)} students ({first_citizenship} only)\")\n",
    "\n",
    "# Test treemap generation\n",
    "treemap_test = test_filter.groupby(['CITIZENSHIP', 'GENDER', 'COURSE FUNDING']).size().reset_index(name='COUNT')\n",
    "print(f\"🎯 Treemap categories: {len(treemap_test)}\")\n",
    "\n",
    "# Test scatter data\n",
    "scatter_test = test_filter.dropna(subset=['CUMULATIVE_GPA', 'COMPLETION_MONTHS'])\n",
    "print(f\"📈 Scatter plot points: {len(scatter_test)}\")\n",
    "\n",
    "# Test box plot data\n",
    "box_test = test_filter.dropna(subset=['COMPLETION_MONTHS'])\n",
    "box_test = box_test[box_test['COMPLETION_MONTHS'] > 0]\n",
    "print(f\"📦 Box plot data points: {len(box_test)}\")\n",
    "\n",
    "print(\"\\n✅ Chart update logic verification complete!\")\n",
    "print(\"🚀 Charts will now update dynamically when you apply filters in the dashboard!\")\n",
    "print(f\"💡 Try searching for student IDs containing: {list(df['STUDENT ID'].head(3))}\")"
   ]
  },
  {
   "cell_type": "code",
   "execution_count": 36,
   "id": "a3eab41a",
   "metadata": {},
   "outputs": [
    {
     "name": "stdout",
     "output_type": "stream",
     "text": [
      "🔍 Debugging chart update issue...\n",
      "📅 COMMENCEMENT DATE column exists: True\n",
      "📅 Date range in data: 2022-04-18 00:00:00 to 2025-04-24 00:00:00\n",
      "\n",
      "🔬 Testing filter: 2020-01-01 00:00:00 to 2021-12-31 00:00:00\n",
      "📊 Original data: 285 students\n",
      "📊 Filtered data: 0 students\n",
      "📊 Date distribution in filtered data:\n",
      "Series([], Name: count, dtype: int64)\n",
      "\n",
      "🔬 Testing 2020 only: 2020-01-01 00:00:00 to 2020-12-31 00:00:00\n",
      "📊 2020 only filtered: 0 students\n",
      "\n",
      "💡 If charts aren't updating, the issue might be:\n",
      "   1. Callback errors (check browser console)\n",
      "   2. Data conversion issues in callbacks\n",
      "   3. Missing imports in callback functions\n"
     ]
    }
   ],
   "source": [
    "# === DEBUG CHART UPDATE ISSUE ===\n",
    "print(\"🔍 Debugging chart update issue...\")\n",
    "\n",
    "# Test date filtering logic\n",
    "print(f\"📅 COMMENCEMENT DATE column exists: {'COMMENCEMENT DATE' in df.columns}\")\n",
    "print(f\"📅 Date range in data: {df['COMMENCEMENT DATE'].min()} to {df['COMMENCEMENT DATE'].max()}\")\n",
    "\n",
    "# Test with your actual date range\n",
    "start_test = pd.to_datetime('2020-01-01')\n",
    "end_test = pd.to_datetime('2021-12-31')\n",
    "\n",
    "print(f\"\\n🔬 Testing filter: {start_test} to {end_test}\")\n",
    "test_filtered = df.copy()\n",
    "test_filtered = test_filtered[pd.to_datetime(test_filtered['COMMENCEMENT DATE']) >= start_test]\n",
    "test_filtered = test_filtered[pd.to_datetime(test_filtered['COMMENCEMENT DATE']) <= end_test]\n",
    "\n",
    "print(f\"📊 Original data: {len(df)} students\")\n",
    "print(f\"📊 Filtered data: {len(test_filtered)} students\")\n",
    "print(f\"📊 Date distribution in filtered data:\")\n",
    "print(test_filtered['COMMENCEMENT DATE'].dt.year.value_counts().sort_index())\n",
    "\n",
    "# Test another date range\n",
    "start_test2 = pd.to_datetime('2020-01-01') \n",
    "end_test2 = pd.to_datetime('2020-12-31')\n",
    "test_filtered2 = df.copy()\n",
    "test_filtered2 = test_filtered2[pd.to_datetime(test_filtered2['COMMENCEMENT DATE']) >= start_test2]\n",
    "test_filtered2 = test_filtered2[pd.to_datetime(test_filtered2['COMMENCEMENT DATE']) <= end_test2]\n",
    "\n",
    "print(f\"\\n🔬 Testing 2020 only: {start_test2} to {end_test2}\")\n",
    "print(f\"📊 2020 only filtered: {len(test_filtered2)} students\")\n",
    "\n",
    "print(\"\\n💡 If charts aren't updating, the issue might be:\")\n",
    "print(\"   1. Callback errors (check browser console)\")\n",
    "print(\"   2. Data conversion issues in callbacks\") \n",
    "print(\"   3. Missing imports in callback functions\")"
   ]
  },
  {
   "cell_type": "code",
   "execution_count": 37,
   "id": "c02deb46",
   "metadata": {},
   "outputs": [
    {
     "name": "stdout",
     "output_type": "stream",
     "text": [
      "🌟 Dashboard will be available at: http://127.0.0.1:8052/\n"
     ]
    },
    {
     "data": {
      "text/html": [
       "\n",
       "        <iframe\n",
       "            width=\"100%\"\n",
       "            height=\"650\"\n",
       "            src=\"http://127.0.0.1:8052/\"\n",
       "            frameborder=\"0\"\n",
       "            allowfullscreen\n",
       "            \n",
       "        ></iframe>\n",
       "        "
      ],
      "text/plain": [
       "<IPython.lib.display.IFrame at 0x21f12c7fbf0>"
      ]
     },
     "metadata": {},
     "output_type": "display_data"
    }
   ],
   "source": [
    "# === LAUNCH DASHBOARD ===\n",
    "if __name__ == '__main__':\n",
    "    \n",
    "    print(\"🌟 Dashboard will be available at: http://127.0.0.1:8052/\")\n",
    "   \n",
    "    \n",
    "    app.run(debug=True, port=8052)"
   ]
  },
  {
   "cell_type": "markdown",
   "id": "ac8c843c",
   "metadata": {},
   "source": [
    "### XAVIER LEE ZHUO MIN"
   ]
  },
  {
   "cell_type": "code",
   "execution_count": 38,
   "id": "cd637182",
   "metadata": {},
   "outputs": [
    {
     "name": "stdout",
     "output_type": "stream",
     "text": [
      "🚀 Loading Singapore student pathway data...\n",
      "✅ Successfully loaded:\n",
      "   📊 285 student profiles\n",
      "   📈 531 semester records\n",
      "   📚 7 course codes\n"
     ]
    },
    {
     "data": {
      "text/html": [
       "\n",
       "        <iframe\n",
       "            width=\"100%\"\n",
       "            height=\"650\"\n",
       "            src=\"http://127.0.0.1:8055/\"\n",
       "            frameborder=\"0\"\n",
       "            allowfullscreen\n",
       "            \n",
       "        ></iframe>\n",
       "        "
      ],
      "text/plain": [
       "<IPython.lib.display.IFrame at 0x21f131e8d70>"
      ]
     },
     "metadata": {},
     "output_type": "display_data"
    }
   ],
   "source": [
    "#!/usr/bin/env python3\n",
    "\"\"\"\n",
    "XAVIER LEE ZHUO MIN - SINGAPORE STUDENT PATHWAYS DASHBOARD\n",
    "=========================================================\n",
    "Interactive dashboard with futuristic styling and all filters at the top\n",
    "\n",
    "DASHBOARD FEATURES:\n",
    "- Real-time student data visualization\n",
    "- Interactive filtering (date, course, age group)\n",
    "- 4 main charts: Sunburst, Line, Violin, Scatter\n",
    "- Student search functionality  \n",
    "- Responsive KPI cards\n",
    "- Futuristic neon styling with animations\n",
    "\"\"\"\n",
    "\n",
    "# ================================\n",
    "# LIBRARY IMPORTS\n",
    "# ================================\n",
    "import dash                              # Main web framework for dashboard\n",
    "from dash import dcc, html, Input, Output, callback  # Dashboard components and callbacks\n",
    "import dash_bootstrap_components as dbc  # Bootstrap styling components\n",
    "import pandas as pd                      # Data manipulation and analysis\n",
    "import numpy as np                       # Numerical computations\n",
    "from pathlib import Path                 # File path handling\n",
    "from datetime import datetime            # Date and time operations\n",
    "import plotly.express as px             # High-level plotting interface\n",
    "import plotly.graph_objects as go        # Low-level plotting for custom charts\n",
    "\n",
    "# ================================\n",
    "# DATA LOADING & PREPROCESSING SECTION\n",
    "# ================================\n",
    "\n",
    "# Data directory setup - points to folder containing cleaned Excel files\n",
    "DATA_DIR = Path.cwd() / \"DAVI CA2 datasets and meta data\"\n",
    "\n",
    "def load_data():\n",
    "    \"\"\"\n",
    "    LOAD THREE MAIN DATASETS\n",
    "    ========================\n",
    "    Loads the cleaned Excel files containing:\n",
    "    - Student profiles (demographic data)\n",
    "    - Semester results (GPA records) \n",
    "    - Course codes (course name mappings)\n",
    "    \n",
    "    Returns:\n",
    "        tuple: (profiles_df, semester_df, codes_df)\n",
    "    \"\"\"\n",
    "    profiles = pd.read_excel(\"Cleaned_Student_Profiles.xlsx\")\n",
    "    sem = pd.read_excel(\"Cleaned_Semester_Results.xlsx\")\n",
    "    codes = pd.read_excel(\"Cleaned_Course_Codes.xlsx\")\n",
    "    return profiles, sem, codes\n",
    "\n",
    "def derive_level(course_name: str) -> str:\n",
    "    \"\"\"\n",
    "    COURSE LEVEL CATEGORIZATION\n",
    "    ===========================\n",
    "    Automatically categorizes courses based on name patterns:\n",
    "    - \"Specialist Diploma\" → Specialist Diploma\n",
    "    - \"Diploma\" (not specialist) → Diploma  \n",
    "    - \"Certificate\" → Certificate\n",
    "    - Others → Other\n",
    "    \n",
    "    Args:\n",
    "        course_name (str): Full course name\n",
    "        \n",
    "    Returns:\n",
    "        str: Course level category\n",
    "    \"\"\"\n",
    "    if isinstance(course_name, str):\n",
    "        s = course_name.lower()\n",
    "        if s.startswith(\"specialist diploma\"):\n",
    "            return \"Specialist Diploma\"\n",
    "        if s.startswith(\"diploma\"):\n",
    "            return \"Diploma\"\n",
    "        if s.startswith(\"certificate\"):\n",
    "            return \"Certificate\"\n",
    "    return \"Other\"\n",
    "\n",
    "def preprocess(profiles: pd.DataFrame, sem: pd.DataFrame, codes: pd.DataFrame):\n",
    "    \"\"\"\n",
    "    COMPREHENSIVE DATA PREPROCESSING PIPELINE\n",
    "    ========================================\n",
    "    Transforms raw data into dashboard-ready format by:\n",
    "    \n",
    "    1. DATE PROCESSING: Converts string dates to datetime objects\n",
    "    2. DATA MERGING: Links course codes with descriptive names\n",
    "    3. DERIVED FIELDS: Creates calculated columns for analysis\n",
    "    4. DATA CLEANING: Standardizes categorical values\n",
    "    5. RELATIONSHIP BUILDING: Connects profiles with semester data\n",
    "    \n",
    "    Args:\n",
    "        profiles (DataFrame): Student demographic data\n",
    "        sem (DataFrame): Semester academic results  \n",
    "        codes (DataFrame): Course code to name mappings\n",
    "        \n",
    "    Returns:\n",
    "        dict: Contains processed dataframes {profiles, sem, codes}\n",
    "    \"\"\"\n",
    "    \n",
    "    # STEP 1: DATE FIELD CONVERSION\n",
    "    # Convert string dates to pandas datetime for proper filtering\n",
    "    for col in [\"DOB\", \"COMMENCEMENT DATE\", \"COMPLETION DATE\", \"DATE ATTAINED HIGHEST QUALIFICATION\"]:\n",
    "        if col in profiles.columns:\n",
    "            profiles[col] = pd.to_datetime(profiles[col], errors=\"coerce\")\n",
    "\n",
    "    # STEP 2: COURSE NAME INTEGRATION\n",
    "    # Merge course codes with descriptive names for better visualization\n",
    "    code_map = codes.rename(columns={\"CODE\": \"COURSE CODE\", \"COURSE NAME\": \"COURSE NAME\"})\n",
    "    profiles = profiles.merge(code_map, on=\"COURSE CODE\", how=\"left\")\n",
    "\n",
    "    # STEP 3: DERIVED FIELD CREATION\n",
    "    # Create new analytical columns from existing data\n",
    "    profiles[\"COURSE LEVEL\"] = profiles[\"COURSE NAME\"].apply(derive_level)\n",
    "    profiles[\"DesignationStatus\"] = profiles[\"DESIGNATION\"].fillna(\"Unemployed\").replace(\"\", \"Unemployed\")\n",
    "    profiles[\"EmployedFlag\"] = profiles[\"DesignationStatus\"].ne(\"Unemployed\")  # Boolean employment status\n",
    "    profiles[\"duration_days\"] = (profiles[\"COMPLETION DATE\"] - profiles[\"COMMENCEMENT DATE\"]).dt.days\n",
    "    \n",
    "    # STEP 4: CATEGORICAL DATA STANDARDIZATION\n",
    "    # Standardize citizenship categories for consistent visualization\n",
    "    profiles[\"CitizenshipSimple\"] = profiles[\"CITIZENSHIP\"].replace({\n",
    "        \"SG CITIZEN\": \"SG Citizen\",\n",
    "        \"SG PR\": \"SG PR\",\n",
    "        \"FOREIGNER\": \"Foreigner\"\n",
    "    })\n",
    "    # Standardize gender labels\n",
    "    profiles[\"Gender\"] = profiles[\"GENDER\"].replace({\"F\":\"Female\", \"M\":\"Male\"})\n",
    "    # Standardize study mode labels\n",
    "    profiles[\"FT_PT\"] = profiles[\"FULL-TIME OR PART-TIME\"].replace({\"Part Time\":\"Part-Time\"})\n",
    "\n",
    "    # STEP 5: SEMESTER DATA ENHANCEMENT\n",
    "    # Add course information and demographics to semester records\n",
    "    sem = sem.merge(code_map, on=\"COURSE CODE\", how=\"left\")\n",
    "    sem[\"COURSE LEVEL\"] = sem[\"COURSE NAME\"].apply(derive_level)\n",
    "    sem[\"PERIOD_NUM\"] = sem[\"PERIOD\"].str.extract(r\"(\\d+)\").astype(float)  # Extract semester numbers\n",
    "    \n",
    "    # Link semester data with student demographics for filtering\n",
    "    sem = sem.merge(\n",
    "        profiles[[\"STUDENT ID\",\"CitizenshipSimple\",\"Gender\",\"COURSE CODE\"]], \n",
    "        on=[\"STUDENT ID\",\"COURSE CODE\"], \n",
    "        how=\"left\"\n",
    "    )\n",
    "    \n",
    "    return {\"profiles\": profiles, \"sem\": sem, \"codes\": codes}\n",
    "\n",
    "# ================================\n",
    "# DATA LOADING EXECUTION\n",
    "# ================================\n",
    "\n",
    "# Load and preprocess all data for dashboard use\n",
    "print(\"🚀 Loading Singapore student pathway data...\")\n",
    "profiles_raw, sem_raw, codes = load_data()\n",
    "data = preprocess(profiles_raw, sem_raw, codes)\n",
    "\n",
    "# Extract processed dataframes for easy access\n",
    "profiles = data[\"profiles\"]  # Main student demographic data\n",
    "sem = data[\"sem\"]           # Semester academic performance data\n",
    "\n",
    "print(f\"✅ Successfully loaded:\")\n",
    "print(f\"   📊 {len(profiles)} student profiles\")\n",
    "print(f\"   📈 {len(sem)} semester records\")\n",
    "print(f\"   📚 {len(codes)} course codes\")\n",
    "\n",
    "# ================================\n",
    "# FUTURISTIC COLOR SCHEME & STYLING\n",
    "# ================================\n",
    "\n",
    "# XAVIER'S CUSTOM NEON COLOR PALETTE\n",
    "# Carefully chosen colors for maximum visual impact and readability\n",
    "COLORS = {\n",
    "    # === BACKGROUND COLORS ===\n",
    "    'dark_bg': '#0A0A1A',        # Deep space black - main background\n",
    "    'card_bg': '#1A1A2E',        # Dark navy - card backgrounds  \n",
    "    'sidebar_bg': '#16213E',     # Midnight blue - sidebar backgrounds\n",
    "    \n",
    "    # === NEON ACCENT COLORS ===\n",
    "    'neon_blue': '#00F5FF',      # Electric cyan - primary highlights\n",
    "    'neon_purple': '#C77DFF',    # Bright purple - secondary highlights\n",
    "    'neon_green': '#22FF22',     # Vivid green - success indicators\n",
    "    'accent': '#FF6B9D',         # Hot pink - special accents\n",
    "    'pink': '#FF1493',           # Deep pink - alerts\n",
    "    \n",
    "    # === STATUS INDICATOR COLORS ===\n",
    "    'primary': '#00F5FF',        # Primary actions (cyan)\n",
    "    'secondary': '#C77DFF',      # Secondary actions (purple)\n",
    "    'success': '#22FF22',        # Success states (green)\n",
    "    'warning': '#FFD700',        # Warning states (gold)\n",
    "    'danger': '#FF073A',         # Error states (red)\n",
    "    'info': '#17A2B8',          # Information (teal)\n",
    "    \n",
    "    # === TEXT COLORS ===\n",
    "    'text': '#FFFFFF',           # Primary text (white)\n",
    "    'text_dim': '#B0BEC5',       # Secondary text (light gray)\n",
    "    'light': '#F8F9FA',          # Light accents\n",
    "    \n",
    "    # === SPECIAL EFFECTS ===\n",
    "    'glow_shadow': 'rgba(0, 245, 255, 0.4)'  # Glowing shadow effect\n",
    "}\n",
    "\n",
    "# ================================\n",
    "# DASH APPLICATION INITIALIZATION\n",
    "# ================================\n",
    "\n",
    "# Initialize Dash app with Bootstrap theme for responsive design\n",
    "app = dash.Dash(__name__, external_stylesheets=[dbc.themes.CYBORG])\n",
    "app.title = \"Singapore Student Pathways Dashboard\"  # Browser tab title\n",
    "\n",
    "# ================================\n",
    "# UI COMPONENT DEFINITIONS\n",
    "# ================================\n",
    "\n",
    "# FUTURISTIC HEADER COMPONENT\n",
    "# Creates the main dashboard title with animated neon effects\n",
    "header = html.Div([\n",
    "    html.Div([\n",
    "        # Main title with glowing animation\n",
    "        html.H1(\"SINGAPORE STUDENT PATHWAYS\", \n",
    "               style={\n",
    "                   'color': COLORS['neon_blue'], 'margin': '0', 'fontWeight': '900',\n",
    "                   'fontSize': '3rem', 'letterSpacing': '3px', 'textAlign': 'center',\n",
    "                   'fontFamily': 'Orbitron, monospace',  # Futuristic font\n",
    "                   'textShadow': f'0 0 20px {COLORS[\"neon_blue\"]}, 0 0 40px {COLORS[\"neon_blue\"]}60',\n",
    "                   'animation': 'pulse 2s infinite'  # CSS animation defined in index_string\n",
    "               }),\n",
    "        # Subtitle with accent color\n",
    "        html.P(\"INTERACTIVE ANALYTICS DASHBOARD\", \n",
    "              style={\n",
    "                  'color': COLORS['accent'], 'margin': '10px 0 0 0', 'textAlign': 'center',\n",
    "                  'fontSize': '1.2rem', 'fontWeight': '600', 'letterSpacing': '1px',\n",
    "                  'fontFamily': 'Rajdhani, monospace',\n",
    "                  'textShadow': f'0 0 10px {COLORS[\"accent\"]}'\n",
    "              })\n",
    "    ], style={'textAlign': 'center', 'padding': '20px'})\n",
    "], style={\n",
    "    # Gradient background with glowing border\n",
    "    'background': f'linear-gradient(135deg, {COLORS[\"dark_bg\"]} 0%, {COLORS[\"card_bg\"]} 50%, {COLORS[\"dark_bg\"]} 100%)',\n",
    "    'borderBottom': f'3px solid {COLORS[\"neon_blue\"]}',\n",
    "    'boxShadow': f'0 5px 20px {COLORS[\"glow_shadow\"]}',\n",
    "    'marginBottom': '0'\n",
    "})\n",
    "\n",
    "# ================================\n",
    "# REUSABLE STYLING DEFINITIONS  \n",
    "# ================================\n",
    "\n",
    "# CHART CONTAINER STYLING\n",
    "# Standard styling for all chart containers with neon glow effects\n",
    "chart_style = {\n",
    "    'background': f'linear-gradient(135deg, {COLORS[\"card_bg\"]} 0%, {COLORS[\"sidebar_bg\"]} 100%)',\n",
    "    'border': f'2px solid {COLORS[\"neon_blue\"]}40',  # Semi-transparent border\n",
    "    'borderRadius': '25px',\n",
    "    'padding': '30px',\n",
    "    'marginBottom': '30px',\n",
    "    'boxShadow': f'0 0 40px {COLORS[\"glow_shadow\"]}, 0 15px 60px rgba(26, 26, 46, 0.8)',\n",
    "    'backdropFilter': 'blur(15px)',  # Glassmorphism effect\n",
    "    'position': 'relative',\n",
    "    'zIndex': '1',\n",
    "    'overflow': 'hidden',\n",
    "    'transition': 'all 0.3s ease'  # Smooth hover transitions\n",
    "}\n",
    "\n",
    "# Charts section\n",
    "charts_section = dbc.Container([\n",
    "    # Row 1: Sunburst and Line Chart\n",
    "    dbc.Row([\n",
    "        dbc.Col([\n",
    "            html.Div([\n",
    "                html.H4(\"CITIZENSHIP DISTRIBUTION\", \n",
    "                       style={\n",
    "                           'color': COLORS['neon_blue'], 'textAlign': 'center', 'marginBottom': '25px',\n",
    "                           'fontWeight': '900', 'fontSize': '1.4rem', 'letterSpacing': '2px',\n",
    "                           'fontFamily': 'Orbitron, monospace',\n",
    "                           'textShadow': f'0 0 15px {COLORS[\"neon_blue\"]}, 0 0 30px {COLORS[\"neon_blue\"]}40',\n",
    "                           'textTransform': 'uppercase'\n",
    "                       }),\n",
    "                dcc.Graph(id='sunburst-chart', config={'displayModeBar': False})\n",
    "            ], style=chart_style)\n",
    "        ], width=4),  # Made smaller (was 6)\n",
    "        \n",
    "        dbc.Col([\n",
    "            html.Div([\n",
    "                html.H4(\"GPA TRENDS BY SEMESTER\", \n",
    "                       style={\n",
    "                           'color': COLORS['neon_purple'], 'textAlign': 'center', 'marginBottom': '25px',\n",
    "                           'fontWeight': '900', 'fontSize': '1.4rem', 'letterSpacing': '2px',\n",
    "                           'fontFamily': 'Orbitron, monospace',\n",
    "                           'textShadow': f'0 0 15px {COLORS[\"neon_purple\"]}, 0 0 30px {COLORS[\"neon_purple\"]}40',\n",
    "                           'textTransform': 'uppercase'\n",
    "                       }),\n",
    "                dcc.Graph(id='gpa-trend-chart', config={'displayModeBar': False})\n",
    "            ], style=chart_style)\n",
    "        ], width=8)  # Made wider (was 6)\n",
    "    ], className=\"g-4\"),\n",
    "    \n",
    "    # Row 2: Violin and Scatter plots\n",
    "    dbc.Row([\n",
    "        dbc.Col([\n",
    "            html.Div([\n",
    "                html.H4(\"AGE DISTRIBUTION ANALYSIS\", \n",
    "                       style={\n",
    "                           'color': COLORS['neon_green'], 'textAlign': 'center', 'marginBottom': '25px',\n",
    "                           'fontWeight': '900', 'fontSize': '1.4rem', 'letterSpacing': '2px',\n",
    "                           'fontFamily': 'Orbitron, monospace',\n",
    "                           'textShadow': f'0 0 15px {COLORS[\"neon_green\"]}, 0 0 30px {COLORS[\"neon_green\"]}40',\n",
    "                           'textTransform': 'uppercase'\n",
    "                       }),\n",
    "                dcc.Graph(id='violin-chart', config={'displayModeBar': False})\n",
    "            ], style=chart_style)\n",
    "        ], width=4),  # Made smaller (was 6)\n",
    "        \n",
    "        dbc.Col([\n",
    "            html.Div([\n",
    "                html.H4(\"COURSE POPULARITY BY GENDER\", \n",
    "                       style={\n",
    "                           'color': COLORS['accent'], 'textAlign': 'center', 'marginBottom': '25px',\n",
    "                           'fontWeight': '900', 'fontSize': '1.4rem', 'letterSpacing': '2px',\n",
    "                           'fontFamily': 'Orbitron, monospace',\n",
    "                           'textShadow': f'0 0 15px {COLORS[\"accent\"]}, 0 0 30px {COLORS[\"accent\"]}40',\n",
    "                           'textTransform': 'uppercase'\n",
    "                       }),\n",
    "                dcc.Graph(id='scatter-chart', config={'displayModeBar': False})\n",
    "            ], style=chart_style)\n",
    "        ], width=8)  # Made wider (was 6)\n",
    "    ], className=\"g-4\"),\n",
    "    \n",
    "    # Student data table section\n",
    "    dbc.Row([\n",
    "        dbc.Col([\n",
    "            html.Div([\n",
    "                html.H4(\"STUDENT DATA SEARCH RESULTS\", \n",
    "                       style={\n",
    "                           'color': COLORS['neon_green'], 'textAlign': 'center', 'marginBottom': '25px',\n",
    "                           'fontWeight': '900', 'fontSize': '1.4rem', 'letterSpacing': '2px',\n",
    "                           'fontFamily': 'Orbitron, monospace',\n",
    "                           'textShadow': f'0 0 15px {COLORS[\"neon_green\"]}, 0 0 30px {COLORS[\"neon_green\"]}40',\n",
    "                           'textTransform': 'uppercase'\n",
    "                       }),\n",
    "                html.Div(id='student-data-table')\n",
    "            ], style=chart_style)\n",
    "        ], width=12)\n",
    "    ], className=\"g-4\")\n",
    "], fluid=True)\n",
    "\n",
    "# ================================\n",
    "# LOADING SCREEN COMPONENT\n",
    "# ================================\n",
    "\n",
    "# Loading screen overlay component\n",
    "loading_overlay = html.Div([\n",
    "    html.Div([\n",
    "        # Holographic spinner\n",
    "        html.Div(className=\"holo-spinner\"),\n",
    "        \n",
    "        # Glitch loading text\n",
    "        html.Div(\"LOADING DASHBOARD...\", className=\"glitch-loader\", style={'marginTop': '30px'}),\n",
    "        \n",
    "        # Optional subtitle\n",
    "        html.P(\"Initializing neural pathways...\", style={\n",
    "            'color': COLORS['text_dim'],\n",
    "            'fontFamily': 'Rajdhani, monospace',\n",
    "            'fontSize': '0.9rem',\n",
    "            'marginTop': '20px',\n",
    "            'animation': 'fadeInOut 2s infinite'\n",
    "        })\n",
    "    ], style={\n",
    "        'textAlign': 'center',\n",
    "        'padding': '50px'\n",
    "    })\n",
    "], id='loading-overlay', style={\n",
    "    'position': 'fixed',\n",
    "    'top': '0',\n",
    "    'left': '0',\n",
    "    'width': '100%',\n",
    "    'height': '100%',\n",
    "    'backgroundColor': 'rgba(10, 10, 26, 0.95)',\n",
    "    'zIndex': '9999',\n",
    "    'display': 'flex',\n",
    "    'alignItems': 'center',\n",
    "    'justifyContent': 'center',\n",
    "    'backdropFilter': 'blur(10px)'\n",
    "})\n",
    "\n",
    "# ================================\n",
    "# MAIN DASHBOARD LAYOUT STRUCTURE\n",
    "# ================================\n",
    "\n",
    "app.layout = html.Div([\n",
    "    # LOADING OVERLAY - Shows while dashboard initializes\n",
    "    loading_overlay,\n",
    "    \n",
    "    # MAIN DASHBOARD CONTENT\n",
    "    html.Div([\n",
    "        # GOOGLE FONTS INTEGRATION - Load futuristic fonts\n",
    "        html.Link(\n",
    "            rel='stylesheet',\n",
    "            href='https://fonts.googleapis.com/css2?family=Orbitron:wght@400;700;900&family:Rajdhani:wght@300;400;500;600;700&family=Space+Mono:wght@400;700&display=swap'\n",
    "        ),\n",
    "    \n",
    "    # HEADER SECTION (Full Width)\n",
    "    header,\n",
    "    \n",
    "    # MAIN CONTENT CONTAINER - Two-column responsive layout\n",
    "    dbc.Container([\n",
    "        dbc.Row([\n",
    "            # =====================================\n",
    "            # LEFT SIDEBAR (4/12 columns) - CONTROLS & INFO\n",
    "            # =====================================\n",
    "            dbc.Col([\n",
    "                # DATE FILTER SECTION\n",
    "                # Allows users to filter data by course commencement dates\n",
    "                html.Div([\n",
    "                    html.H4(\"📅 DATE FILTER\", \n",
    "                           style={\n",
    "                               'color': COLORS['neon_purple'], 'textAlign': 'center', 'marginBottom': '20px',\n",
    "                               'fontWeight': '900', 'fontSize': '1.1rem', 'letterSpacing': '2px',\n",
    "                               'fontFamily': 'Orbitron, monospace',\n",
    "                               'textShadow': f'0 0 15px {COLORS[\"neon_purple\"]}, 0 0 30px {COLORS[\"neon_purple\"]}40',\n",
    "                               'textTransform': 'uppercase'\n",
    "                           }),\n",
    "                    \n",
    "                    # Interactive date range picker\n",
    "                    html.Div([\n",
    "                        html.Label(\"Course Commencement Period\", \n",
    "                                  style={'color': COLORS['neon_purple'], 'fontWeight': 'bold', 'marginBottom': '10px'}),\n",
    "                        dcc.DatePickerRange(\n",
    "                            id='date-range-picker',\n",
    "                            start_date=profiles['COMMENCEMENT DATE'].min(),  # Auto-set to data range\n",
    "                            end_date=profiles['COMMENCEMENT DATE'].max(),\n",
    "                            display_format='DD/MM/YYYY',\n",
    "                            style={\n",
    "                                'fontFamily': 'Rajdhani, monospace',\n",
    "                                'fontWeight': '600'\n",
    "                            },\n",
    "                            className='custom-date-picker'\n",
    "                        )\n",
    "                    ], style={'marginBottom': '20px'}),\n",
    "                    \n",
    "                    # Quick preset buttons for common date ranges\n",
    "                    html.Div([\n",
    "                        html.Label(\"Quick Date Presets\", \n",
    "                                  style={'color': COLORS['accent'], 'fontWeight': 'bold', 'marginBottom': '10px'}),\n",
    "                        dcc.RadioItems(\n",
    "                            id='date-preset-radio',\n",
    "                            options=[\n",
    "                                {'label': 'All Time', 'value': 'all'},\n",
    "                                {'label': 'Last 2 Years', 'value': 'last_2_years'},\n",
    "                                {'label': 'Last 5 Years', 'value': 'last_5_years'},\n",
    "                                {'label': '2020 and After', 'value': 'since_2020'}\n",
    "                            ],\n",
    "                            value='all',\n",
    "                            inline=False,\n",
    "                            style={'color': COLORS['text']},\n",
    "                            className='custom-radio',\n",
    "                            inputStyle={\n",
    "                                'marginRight': '8px',\n",
    "                                'accentColor': COLORS['accent']\n",
    "                            },\n",
    "                            labelStyle={\n",
    "                                'display': 'block',\n",
    "                                'marginBottom': '8px',\n",
    "                                'padding': '8px 12px',\n",
    "                                'backgroundColor': COLORS['sidebar_bg'],\n",
    "                                'border': f'2px solid {COLORS[\"accent\"]}40',\n",
    "                                'borderRadius': '8px',\n",
    "                                'cursor': 'pointer',\n",
    "                                'transition': 'all 0.3s ease',\n",
    "                                'fontFamily': 'Rajdhani, monospace',\n",
    "                                'fontWeight': '500'\n",
    "                            }\n",
    "                        )\n",
    "                    ], style={'marginBottom': '10px'})\n",
    "                ], style={**chart_style, 'marginBottom': '20px'}),\n",
    "                \n",
    "                # Filter Controls Section\n",
    "                html.Div([\n",
    "                    html.H4(\"🎛️ FILTER CONTROLS\", \n",
    "                           style={\n",
    "                               'color': COLORS['neon_blue'], 'textAlign': 'center', 'marginBottom': '20px',\n",
    "                               'fontWeight': '900', 'fontSize': '1.1rem', 'letterSpacing': '2px',\n",
    "                               'fontFamily': 'Orbitron, monospace',\n",
    "                               'textShadow': f'0 0 15px {COLORS[\"neon_blue\"]}, 0 0 30px {COLORS[\"neon_blue\"]}40',\n",
    "                               'textTransform': 'uppercase'\n",
    "                           }),\n",
    "                    \n",
    "                    # Course Selection\n",
    "                    html.Div([\n",
    "                        html.Label(\"Course Selection (Line Chart)\", \n",
    "                                  style={'color': COLORS['neon_blue'], 'fontWeight': 'bold', 'marginBottom': '10px'}),\n",
    "                        dcc.Dropdown(\n",
    "                            id='course-dropdown',\n",
    "                            placeholder=\"Select course for GPA trend analysis\",\n",
    "                            style={\n",
    "                                'backgroundColor': COLORS['dark_bg'],\n",
    "                                'color': COLORS['text'],\n",
    "                                'fontFamily': 'Rajdhani, monospace',\n",
    "                                'fontWeight': '600',\n",
    "                                'border': f'1px solid {COLORS[\"neon_blue\"]}',\n",
    "                                'borderRadius': '5px'\n",
    "                            },\n",
    "                            className='custom-dropdown',\n",
    "                            optionHeight=40,\n",
    "                            clearable=False\n",
    "                        )\n",
    "                    ], style={'marginBottom': '20px'}),\n",
    "                    \n",
    "                    # Course Level Filter\n",
    "                    html.Div([\n",
    "                        html.Label(\"Course Level Filter (Scatter Plot)\", \n",
    "                                  style={'color': COLORS['accent'], 'fontWeight': 'bold', 'marginBottom': '10px'}),\n",
    "                        dcc.Dropdown(\n",
    "                            id='course-level-dropdown',\n",
    "                            options=[\n",
    "                                {'label': html.Span('All Course Levels', style={'color': COLORS['text'], 'fontFamily': 'Rajdhani, monospace', 'fontWeight': '600'}), 'value': 'all'},\n",
    "                                {'label': html.Span('Certificate Courses Only', style={'color': COLORS['text'], 'fontFamily': 'Rajdhani, monospace', 'fontWeight': '600'}), 'value': 'Certificate'},\n",
    "                                {'label': html.Span('Diploma Courses Only', style={'color': COLORS['text'], 'fontFamily': 'Rajdhani, monospace', 'fontWeight': '600'}), 'value': 'Diploma'},\n",
    "                                {'label': html.Span('Specialist Diploma Courses Only', style={'color': COLORS['text'], 'fontFamily': 'Rajdhani, monospace', 'fontWeight': '600'}), 'value': 'Specialist Diploma'}\n",
    "                            ],\n",
    "                            value='all',\n",
    "                            style={\n",
    "                                'backgroundColor': COLORS['dark_bg'],\n",
    "                                'color': COLORS['text'],\n",
    "                                'fontFamily': 'Rajdhani, monospace',\n",
    "                                'fontWeight': '600',\n",
    "                                'border': f'1px solid {COLORS[\"neon_blue\"]}',\n",
    "                                'borderRadius': '5px'\n",
    "                            },\n",
    "                            className='custom-dropdown',\n",
    "                            optionHeight=40,\n",
    "                            clearable=False\n",
    "                        )\n",
    "                    ], style={'marginBottom': '20px'}),\n",
    "                    \n",
    "                    # Age Group Filter\n",
    "                    html.Div([\n",
    "                        html.Label(\"Age Group Filter (Violin Plot)\", \n",
    "                                  style={'color': COLORS['neon_purple'], 'fontWeight': 'bold', 'marginBottom': '10px'}),\n",
    "                        dcc.RadioItems(\n",
    "                            id='age-group-radio',\n",
    "                            options=[\n",
    "                                {'label': 'All Ages (15-80)', 'value': 'all'},\n",
    "                                {'label': 'Young Adults (15-25)', 'value': 'young'},\n",
    "                                {'label': 'Adults (26-40)', 'value': 'adult'},\n",
    "                                {'label': 'Mature Adults (41-80)', 'value': 'mature'}\n",
    "                            ],\n",
    "                            value='all',\n",
    "                            inline=False,\n",
    "                            style={'color': COLORS['text']},\n",
    "                            className='custom-radio',\n",
    "                            inputStyle={\n",
    "                                'marginRight': '8px',\n",
    "                                'accentColor': COLORS['neon_purple']\n",
    "                            },\n",
    "                            labelStyle={\n",
    "                                'display': 'block',\n",
    "                                'marginBottom': '8px',\n",
    "                                'padding': '8px 12px',\n",
    "                                'backgroundColor': COLORS['sidebar_bg'],\n",
    "                                'border': f'2px solid {COLORS[\"neon_purple\"]}40',\n",
    "                                'borderRadius': '8px',\n",
    "                                'cursor': 'pointer',\n",
    "                                'transition': 'all 0.3s ease',\n",
    "                                'fontFamily': 'Rajdhani, monospace',\n",
    "                                'fontWeight': '500'\n",
    "                            }\n",
    "                        )\n",
    "                    ], style={'marginBottom': '20px'})\n",
    "                ], style={**chart_style, 'marginBottom': '20px'}),\n",
    "                \n",
    "                # Search Section\n",
    "                html.Div([\n",
    "                    html.Label(\"🔍 SEARCH STUDENT ID\", style={\n",
    "                        'color': COLORS['neon_green'], 'fontWeight': '700', 'marginBottom': '15px',\n",
    "                        'fontSize': '1rem', 'letterSpacing': '1px',\n",
    "                        'textShadow': f'0 0 8px {COLORS[\"neon_green\"]}',\n",
    "                        'fontFamily': 'Orbitron, monospace'\n",
    "                    }),\n",
    "                    dcc.Input(\n",
    "                        id='search-box',\n",
    "                        type='text',\n",
    "                        placeholder='Search by Student ID...',\n",
    "                        style={\n",
    "                            'width': '100%',\n",
    "                            'backgroundColor': COLORS['sidebar_bg'],\n",
    "                            'color': COLORS['text'],\n",
    "                            'border': f'2px solid {COLORS[\"neon_green\"]}',\n",
    "                            'borderRadius': '8px',\n",
    "                            'padding': '10px 12px',\n",
    "                            'fontSize': '14px',\n",
    "                            'fontFamily': 'Rajdhani, monospace',\n",
    "                            'fontWeight': '500'\n",
    "                        }\n",
    "                    )\n",
    "                ], style={\n",
    "                    'backgroundColor': COLORS['card_bg'], 'padding': '20px', 'borderRadius': '20px',\n",
    "                    'boxShadow': f'0 0 30px {COLORS[\"neon_green\"]}40, 0 8px 32px rgba(26, 26, 46, 0.6)', \n",
    "                    'border': f'2px solid {COLORS[\"neon_green\"]}40',\n",
    "                    'backdropFilter': 'blur(10px)',\n",
    "                    'marginBottom': '20px'\n",
    "                }),\n",
    "                \n",
    "                # Student Data Section\n",
    "                html.Div([\n",
    "                    html.H4(\"📊 STUDENT DATA\", \n",
    "                           style={\n",
    "                               'color': COLORS['neon_green'], 'textAlign': 'center', 'marginBottom': '20px',\n",
    "                               'fontWeight': '900', 'fontSize': '1.1rem', 'letterSpacing': '2px',\n",
    "                               'fontFamily': 'Orbitron, monospace',\n",
    "                               'textShadow': f'0 0 15px {COLORS[\"neon_green\"]}, 0 0 30px {COLORS[\"neon_green\"]}40',\n",
    "                               'textTransform': 'uppercase'\n",
    "                           }),\n",
    "                    html.Div(id='student-data-table')\n",
    "                ], style={**chart_style, 'height': '300px', 'overflow': 'auto', 'marginBottom': '20px'})\n",
    "                \n",
    "            ], width=4),  # Left side takes 4/12 columns\n",
    "            \n",
    "            # RIGHT SIDE - Scrollable Charts (8/12 columns)\n",
    "            dbc.Col([\n",
    "                # Scrollable Charts Container\n",
    "                html.Div([\n",
    "                    # KPI Section at the top\n",
    "                    html.Div([\n",
    "                        html.H4(\"📈 KEY METRICS\", \n",
    "                               style={\n",
    "                                   'color': COLORS['neon_purple'], 'textAlign': 'center', 'marginBottom': '20px',\n",
    "                                   'fontWeight': '900', 'fontSize': '1.4rem', 'letterSpacing': '2px',\n",
    "                                   'fontFamily': 'Orbitron, monospace',\n",
    "                                   'textShadow': f'0 0 15px {COLORS[\"neon_purple\"]}, 0 0 30px {COLORS[\"neon_purple\"]}40',\n",
    "                                   'textTransform': 'uppercase'\n",
    "                               }),\n",
    "                        html.Div(id='kpi-cards', style={\n",
    "                            'display': 'grid',\n",
    "                            'gridTemplateColumns': 'repeat(auto-fit, minmax(200px, 1fr))',\n",
    "                            'gap': '20px',\n",
    "                            'padding': '0 10px'\n",
    "                        })\n",
    "                    ], style={**chart_style, 'marginBottom': '40px'}),\n",
    "                    \n",
    "                    # Chart 1 - Sunburst Chart\n",
    "                    html.Div([\n",
    "                        html.H4(\"CITIZENSHIP DISTRIBUTION\", \n",
    "                               style={\n",
    "                                   'color': COLORS['neon_blue'], 'textAlign': 'center', 'marginBottom': '20px',\n",
    "                                   'fontWeight': '900', 'fontSize': '1.4rem', 'letterSpacing': '2px',\n",
    "                                   'fontFamily': 'Orbitron, monospace',\n",
    "                                   'textShadow': f'0 0 15px {COLORS[\"neon_blue\"]}, 0 0 30px {COLORS[\"neon_blue\"]}40',\n",
    "                                   'textTransform': 'uppercase'\n",
    "                               }),\n",
    "                        dcc.Graph(id='sunburst-chart', \n",
    "                                 config={'displayModeBar': False},\n",
    "                                 style={'height': '600px'})\n",
    "                    ], style={**chart_style, 'marginBottom': '40px'}),\n",
    "                    \n",
    "                    # Chart 2 - GPA Trends\n",
    "                    html.Div([\n",
    "                        html.H4(\"GPA TRENDS BY SEMESTER\", \n",
    "                               style={\n",
    "                                   'color': COLORS['neon_purple'], 'textAlign': 'center', 'marginBottom': '20px',\n",
    "                                   'fontWeight': '900', 'fontSize': '1.4rem', 'letterSpacing': '2px',\n",
    "                                   'fontFamily': 'Orbitron, monospace',\n",
    "                                   'textShadow': f'0 0 15px {COLORS[\"neon_purple\"]}, 0 0 30px {COLORS[\"neon_purple\"]}40',\n",
    "                                   'textTransform': 'uppercase'\n",
    "                               }),\n",
    "                        dcc.Graph(id='gpa-trend-chart', \n",
    "                                 config={'displayModeBar': False},\n",
    "                                 style={'height': '600px'})\n",
    "                    ], style={**chart_style, 'marginBottom': '40px'}),\n",
    "                    \n",
    "                    # Chart 3 - Age Distribution\n",
    "                    html.Div([\n",
    "                        html.H4(\"AGE DISTRIBUTION ANALYSIS\", \n",
    "                               style={\n",
    "                                   'color': COLORS['neon_green'], 'textAlign': 'center', 'marginBottom': '20px',\n",
    "                                   'fontWeight': '900', 'fontSize': '1.4rem', 'letterSpacing': '2px',\n",
    "                                   'fontFamily': 'Orbitron, monospace',\n",
    "                                   'textShadow': f'0 0 15px {COLORS[\"neon_green\"]}, 0 0 30px {COLORS[\"neon_green\"]}40',\n",
    "                                   'textTransform': 'uppercase'\n",
    "                               }),\n",
    "                        dcc.Graph(id='violin-chart', \n",
    "                                 config={'displayModeBar': False},\n",
    "                                 style={'height': '600px'})\n",
    "                    ], style={**chart_style, 'marginBottom': '40px'}),\n",
    "                    \n",
    "                    # Chart 4 - Course Popularity\n",
    "                    html.Div([\n",
    "                        html.H4(\"COURSE POPULARITY BY GENDER\", \n",
    "                               style={\n",
    "                                   'color': COLORS['accent'], 'textAlign': 'center', 'marginBottom': '20px',\n",
    "                                   'fontWeight': '900', 'fontSize': '1.4rem', 'letterSpacing': '2px',\n",
    "                                   'fontFamily': 'Orbitron, monospace',\n",
    "                                   'textShadow': f'0 0 15px {COLORS[\"accent\"]}, 0 0 30px {COLORS[\"accent\"]}40',\n",
    "                                   'textTransform': 'uppercase'\n",
    "                               }),\n",
    "                        dcc.Graph(id='scatter-chart', \n",
    "                                 config={'displayModeBar': False},\n",
    "                                 style={'height': '600px'})\n",
    "                    ], style=chart_style)\n",
    "                    \n",
    "                ], style={\n",
    "                    'height': '165vh',  # Set viewport height\n",
    "                    'overflowY': 'auto',  # Enable vertical scrolling\n",
    "                    'paddingRight': '15px',  # Space for scrollbar\n",
    "                    'scrollbarWidth': 'thin',  # Thin scrollbar for Firefox\n",
    "                    'scrollbarColor': f'{COLORS[\"neon_blue\"]} {COLORS[\"sidebar_bg\"]}'  # Custom scrollbar colors\n",
    "                })\n",
    "                \n",
    "            ], width=8)  # Right side takes 8/12 columns\n",
    "            \n",
    "        ], className=\"g-4\")\n",
    "    ], fluid=True)\n",
    "    ], id='main-content', style={\n",
    "        'backgroundColor': COLORS['dark_bg'], \n",
    "        'minHeight': '100vh', \n",
    "        'padding': '0',\n",
    "        'fontFamily': 'Rajdhani, Orbitron, monospace'\n",
    "    })\n",
    "], style={\n",
    "    'backgroundColor': COLORS['dark_bg'], \n",
    "    'minHeight': '100vh'\n",
    "})\n",
    "\n",
    "# Loading screen overlay component\n",
    "loading_overlay = html.Div([\n",
    "    html.Div([\n",
    "        # Holographic spinner\n",
    "        html.Div(className=\"holo-spinner\"),\n",
    "        \n",
    "        # Glitch loading text\n",
    "        html.Div(\"LOADING DASHBOARD...\", className=\"glitch-loader\", style={'marginTop': '30px'}),\n",
    "        \n",
    "        # Optional subtitle\n",
    "        html.P(\"Initializing neural pathways...\", style={\n",
    "            'color': COLORS['text_dim'],\n",
    "            'fontFamily': 'Rajdhani, monospace',\n",
    "            'fontSize': '0.9rem',\n",
    "            'marginTop': '20px',\n",
    "            'animation': 'fadeInOut 2s infinite'\n",
    "        })\n",
    "    ], style={\n",
    "        'textAlign': 'center',\n",
    "        'padding': '50px'\n",
    "    })\n",
    "], id='loading-overlay', style={\n",
    "    'position': 'fixed',\n",
    "    'top': '0',\n",
    "    'left': '0',\n",
    "    'width': '100%',\n",
    "    'height': '100%',\n",
    "    'backgroundColor': 'rgba(10, 10, 26, 0.95)',\n",
    "    'zIndex': '9999',\n",
    "    'display': 'flex',\n",
    "    'alignItems': 'center',\n",
    "    'justifyContent': 'center',\n",
    "    'backdropFilter': 'blur(10px)'\n",
    "})\n",
    "\n",
    "# Add custom CSS for enhanced styling through app.index_string\n",
    "app.index_string = f'''\n",
    "<!DOCTYPE html>\n",
    "<html>\n",
    "    <head>\n",
    "        {{%metas%}}\n",
    "        <title>{{%title%}}</title>\n",
    "        {{%favicon%}}\n",
    "        {{%css%}}\n",
    "        <style>\n",
    "            /* Loading Screen Animations */\n",
    "            .holo-spinner {{\n",
    "                width: 80px;\n",
    "                height: 80px;\n",
    "                border: 3px solid transparent;\n",
    "                border-top: 3px solid {COLORS['neon_blue']};\n",
    "                border-right: 3px solid {COLORS['neon_purple']};\n",
    "                border-radius: 50%;\n",
    "                position: relative;\n",
    "                animation: holoSpin 1s linear infinite;\n",
    "                margin: 0 auto;\n",
    "                box-shadow: 0 0 20px {COLORS['neon_blue']}60;\n",
    "            }}\n",
    "\n",
    "            .holo-spinner::before {{\n",
    "                content: '';\n",
    "                position: absolute;\n",
    "                top: -3px;\n",
    "                left: -3px;\n",
    "                right: -3px;\n",
    "                bottom: -3px;\n",
    "                border: 3px solid transparent;\n",
    "                border-bottom: 3px solid {COLORS['neon_green']};\n",
    "                border-left: 3px solid {COLORS['accent']};\n",
    "                border-radius: 50%;\n",
    "                animation: holoSpin 2s linear infinite reverse;\n",
    "            }}\n",
    "\n",
    "            @keyframes holoSpin {{\n",
    "                0% {{ transform: rotate(0deg); }}\n",
    "                100% {{ transform: rotate(360deg); }}\n",
    "            }}\n",
    "\n",
    "            .glitch-loader {{\n",
    "                font-family: 'Orbitron', monospace;\n",
    "                font-size: 2rem;\n",
    "                color: {COLORS['neon_blue']};\n",
    "                position: relative;\n",
    "                animation: glitch 2s infinite;\n",
    "                font-weight: 900;\n",
    "                letter-spacing: 3px;\n",
    "                text-shadow: 0 0 20px {COLORS['neon_blue']};\n",
    "            }}\n",
    "\n",
    "            .glitch-loader::before,\n",
    "            .glitch-loader::after {{\n",
    "                content: 'LOADING DASHBOARD...';\n",
    "                position: absolute;\n",
    "                top: 0;\n",
    "                left: 0;\n",
    "                opacity: 0.8;\n",
    "            }}\n",
    "\n",
    "            .glitch-loader::before {{\n",
    "                color: {COLORS['accent']};\n",
    "                animation: glitch-1 0.3s infinite linear alternate-reverse;\n",
    "            }}\n",
    "\n",
    "            .glitch-loader::after {{\n",
    "                color: {COLORS['neon_green']};\n",
    "                animation: glitch-2 0.3s infinite linear alternate-reverse;\n",
    "            }}\n",
    "\n",
    "            @keyframes glitch {{\n",
    "                0% {{ transform: translateX(0); }}\n",
    "                20% {{ transform: translateX(-2px); }}\n",
    "                40% {{ transform: translateX(2px); }}\n",
    "                60% {{ transform: translateX(-2px); }}\n",
    "                80% {{ transform: translateX(2px); }}\n",
    "                100% {{ transform: translateX(0); }}\n",
    "            }}\n",
    "\n",
    "            @keyframes glitch-1 {{\n",
    "                0% {{ clip-path: polygon(0 0%, 100% 0%, 100% 5%, 0 5%); }}\n",
    "                100% {{ clip-path: polygon(0 85%, 100% 85%, 100% 100%, 0 100%); }}\n",
    "            }}\n",
    "\n",
    "            @keyframes glitch-2 {{\n",
    "                0% {{ clip-path: polygon(0 15%, 100% 15%, 100% 30%, 0 30%); }}\n",
    "                100% {{ clip-path: polygon(0 60%, 100% 60%, 100% 70%, 0 70%); }}\n",
    "            }}\n",
    "\n",
    "            @keyframes fadeInOut {{\n",
    "                0%, 100% {{ opacity: 0.5; }}\n",
    "                50% {{ opacity: 1; }}\n",
    "            }}\n",
    "\n",
    "            /* Custom scrollbar styling for chart container */\n",
    "            ::-webkit-scrollbar {{\n",
    "                width: 12px;\n",
    "            }}\n",
    "            ::-webkit-scrollbar-track {{\n",
    "                background: {COLORS['card_bg']};\n",
    "                border-radius: 10px;\n",
    "            }}\n",
    "            ::-webkit-scrollbar-thumb {{\n",
    "                background: linear-gradient(135deg, {COLORS['neon_blue']}, {COLORS['neon_purple']});\n",
    "                border-radius: 10px;\n",
    "                border: 2px solid {COLORS['card_bg']};\n",
    "            }}\n",
    "            ::-webkit-scrollbar-thumb:hover {{\n",
    "                background: linear-gradient(135deg, {COLORS['neon_green']}, {COLORS['accent']});\n",
    "                box-shadow: 0 0 10px {COLORS['neon_blue']}60;\n",
    "            }}\n",
    "            \n",
    "            /* Force all dropdown elements to be visible */\n",
    "            [id*=\"dropdown\"] *, [class*=\"dropdown\"] *,\n",
    "            div[data-dash-is-loading] *, .dash-dropdown * {{\n",
    "                color: {COLORS['text']} !important;\n",
    "                font-family: 'Rajdhani', monospace !important;\n",
    "                font-weight: 600 !important;\n",
    "                background-color: {COLORS['sidebar_bg']} !important;\n",
    "            }}\n",
    "            \n",
    "            /* Specific targeting for dropdown controls */\n",
    "            .custom-dropdown > div, .custom-dropdown > div > div,\n",
    "            .custom-dropdown > div > div > div {{\n",
    "                background-color: {COLORS['sidebar_bg']} !important;\n",
    "                color: {COLORS['text']} !important;\n",
    "                border: 1px solid {COLORS['neon_blue']} !important;\n",
    "                border-radius: 5px !important;\n",
    "                font-family: 'Rajdhani', monospace !important;\n",
    "                font-weight: 600 !important;\n",
    "                min-height: 38px !important;\n",
    "            }}\n",
    "            \n",
    "            /* Override any React-Select default styling */\n",
    "            .Select-control, .Select-placeholder, .Select-value-label,\n",
    "            .Select-menu-outer, .Select-option {{\n",
    "                background-color: {COLORS['sidebar_bg']} !important;\n",
    "                color: {COLORS['text']} !important;\n",
    "                font-family: 'Rajdhani', monospace !important;\n",
    "                font-weight: 600 !important;\n",
    "            }}\n",
    "            \n",
    "            /* Enhanced radio button styling */\n",
    "            .custom-radio input[type=\"radio\"] {{\n",
    "                appearance: none !important;\n",
    "                width: 18px !important;\n",
    "                height: 18px !important;\n",
    "                border: 2px solid {COLORS['neon_purple']} !important;\n",
    "                border-radius: 50% !important;\n",
    "                background-color: transparent !important;\n",
    "                position: relative !important;\n",
    "                margin-right: 8px !important;\n",
    "                cursor: pointer !important;\n",
    "            }}\n",
    "            \n",
    "            .custom-radio input[type=\"radio\"]:checked {{\n",
    "                background-color: {COLORS['neon_purple']} !important;\n",
    "                box-shadow: 0 0 10px {COLORS['neon_purple']}60 !important;\n",
    "            }}\n",
    "            \n",
    "            .custom-radio input[type=\"radio\"]:checked::after {{\n",
    "                content: '' !important;\n",
    "                position: absolute !important;\n",
    "                top: 50% !important;\n",
    "                left: 50% !important;\n",
    "                transform: translate(-50%, -50%) !important;\n",
    "                width: 8px !important;\n",
    "                height: 8px !important;\n",
    "                border-radius: 50% !important;\n",
    "                background-color: white !important;\n",
    "            }}\n",
    "            \n",
    "            .custom-radio label {{\n",
    "                display: flex !important;\n",
    "                align-items: center !important;\n",
    "                margin-bottom: 8px !important;\n",
    "                padding: 10px 14px !important;\n",
    "                background-color: {COLORS['sidebar_bg']} !important;\n",
    "                border: 2px solid {COLORS['neon_purple']}40 !important;\n",
    "                border-radius: 8px !important;\n",
    "                cursor: pointer !important;\n",
    "                transition: all 0.3s ease !important;\n",
    "                font-family: 'Rajdhani', monospace !important;\n",
    "                font-weight: 500 !important;\n",
    "                color: {COLORS['text']} !important;\n",
    "            }}\n",
    "            \n",
    "            .custom-radio label:hover {{\n",
    "                border-color: {COLORS['neon_purple']} !important;\n",
    "                background-color: {COLORS['neon_purple']}10 !important;\n",
    "                box-shadow: 0 0 12px {COLORS['neon_purple']}30 !important;\n",
    "            }}\n",
    "            \n",
    "            .custom-radio input[type=\"radio\"]:checked + span {{\n",
    "                color: {COLORS['neon_purple']} !important;\n",
    "                font-weight: 700 !important;\n",
    "            }}\n",
    "            \n",
    "            /* CSS Animation for pulsing effect */\n",
    "            @keyframes pulse {{\n",
    "                0%, 100% {{ text-shadow: 0 0 20px currentColor, 0 0 40px currentColor; }}\n",
    "                50% {{ text-shadow: 0 0 30px currentColor, 0 0 60px currentColor; }}\n",
    "            }}\n",
    "        </style>\n",
    "    </head>\n",
    "    <body>\n",
    "        {{%app_entry%}}\n",
    "        <footer>\n",
    "            {{%config%}}\n",
    "            {{%scripts%}}\n",
    "            {{%renderer%}}\n",
    "        </footer>\n",
    "    </body>\n",
    "</html>\n",
    "'''\n",
    "\n",
    "# ================================\n",
    "# CALLBACKS\n",
    "# ================================\n",
    "\n",
    "# Loading screen callback - hides loading after components are ready\n",
    "@app.callback(\n",
    "    Output('loading-overlay', 'style'),\n",
    "    [Input('sunburst-chart', 'figure'),\n",
    "     Input('kpi-cards', 'children')]\n",
    ")\n",
    "def hide_loading(sunburst_fig, kpi_cards):\n",
    "    \"\"\"Hide loading screen once key components are loaded\"\"\"\n",
    "    import time\n",
    "    time.sleep(1)  # Brief delay to show the loading animation\n",
    "    \n",
    "    return {\n",
    "        'position': 'fixed',\n",
    "        'top': '0',\n",
    "        'left': '0',\n",
    "        'width': '100%',\n",
    "        'height': '100%',\n",
    "        'backgroundColor': 'rgba(10, 10, 26, 0.95)',\n",
    "        'zIndex': '9999',\n",
    "        'display': 'none',  # Hide the loading overlay\n",
    "        'alignItems': 'center',\n",
    "        'justifyContent': 'center',\n",
    "        'backdropFilter': 'blur(10px)'\n",
    "    }\n",
    "\n",
    "# Populate course dropdown options\n",
    "@app.callback(\n",
    "    Output('course-dropdown', 'options'),\n",
    "    Input('course-dropdown', 'id')\n",
    ")\n",
    "def populate_course_dropdown(_):\n",
    "    \"\"\"Populate course dropdown with available courses\"\"\"\n",
    "    line_df = sem.dropna(subset=[\"GPA\", \"COURSE NAME\", \"PERIOD\"]).copy()\n",
    "    avg_gpa_by_semester = line_df.groupby([\"PERIOD\", \"COURSE NAME\"])[\"GPA\"].agg(['mean', 'count']).reset_index()\n",
    "    avg_gpa_by_semester.columns = [\"PERIOD\", \"COURSE NAME\", \"Average_GPA\", \"Student_Count\"]\n",
    "    avg_gpa_by_semester = avg_gpa_by_semester[avg_gpa_by_semester[\"Student_Count\"] >= 2].copy()\n",
    "    \n",
    "    unique_courses = sorted(avg_gpa_by_semester[\"COURSE NAME\"].unique())\n",
    "    options = [{'label': 'All Courses', 'value': 'all'}]\n",
    "    options.extend([{'label': course, 'value': course} for course in unique_courses])\n",
    "    return options\n",
    "\n",
    "# Sunburst chart (Plotly Express)\n",
    "@app.callback(\n",
    "    Output('sunburst-chart', 'figure'),\n",
    "    [Input('sunburst-chart', 'id'),\n",
    "     Input('date-range-picker', 'start_date'),\n",
    "     Input('date-range-picker', 'end_date')]\n",
    ")\n",
    "def update_sunburst_chart(_, start_date, end_date):\n",
    "    \"\"\"Create sunburst chart showing citizenship vs course level vs course name with date filtering\"\"\"\n",
    "    sun_df = profiles.dropna(subset=[\"COURSE LEVEL\",\"COURSE NAME\",\"CitizenshipSimple\",\"COMMENCEMENT DATE\"]).copy()\n",
    "    \n",
    "    # Filter by date range\n",
    "    if start_date and end_date:\n",
    "        sun_df = sun_df[\n",
    "            (sun_df[\"COMMENCEMENT DATE\"] >= pd.to_datetime(start_date)) & \n",
    "            (sun_df[\"COMMENCEMENT DATE\"] <= pd.to_datetime(end_date))\n",
    "        ]\n",
    "    \n",
    "    # Enhanced color scheme for better visibility\n",
    "    enhanced_colors = {\n",
    "        \"SG Citizen\": COLORS['neon_blue'],\n",
    "        \"SG PR\": COLORS['neon_green'], \n",
    "        \"Foreigner\": COLORS['accent']\n",
    "    }\n",
    "    \n",
    "    fig = px.sunburst(\n",
    "        sun_df,\n",
    "        path=[\"COURSE LEVEL\", \"COURSE NAME\", \"CitizenshipSimple\"],\n",
    "        color=\"CitizenshipSimple\",\n",
    "        color_discrete_map=enhanced_colors,\n",
    "        title=\"\"\n",
    "    )\n",
    "    \n",
    "    # Enhanced styling for better readability\n",
    "    fig.update_traces(\n",
    "        hovertemplate=\"<b>%{label}</b><br>Count: %{value}<br>Percentage: %{percentParent}<extra></extra>\",\n",
    "        insidetextorientation=\"radial\",\n",
    "        textfont_size=12,\n",
    "        textfont_color='white',\n",
    "        textfont_family='Orbitron, monospace',\n",
    "        textfont_weight='bold',\n",
    "        marker_line_color='white',\n",
    "        marker_line_width=2\n",
    "    )\n",
    "    \n",
    "    fig.update_layout(\n",
    "        margin=dict(l=10, r=10, t=10, b=10),\n",
    "        paper_bgcolor='rgba(0,0,0,0)',\n",
    "        plot_bgcolor='rgba(0,0,0,0)',\n",
    "        font=dict(color=COLORS['text'], family='Orbitron, monospace', size=12),\n",
    "        height=450\n",
    "    )\n",
    "    return fig\n",
    "\n",
    "# Date preset callback to update date range picker\n",
    "@app.callback(\n",
    "    [Output('date-range-picker', 'start_date'),\n",
    "     Output('date-range-picker', 'end_date')],\n",
    "    Input('date-preset-radio', 'value')\n",
    ")\n",
    "def update_date_range_from_preset(preset_value):\n",
    "    \"\"\"Update date range picker based on preset selection\"\"\"\n",
    "    end_date = profiles['COMMENCEMENT DATE'].max()\n",
    "    \n",
    "    if preset_value == 'all':\n",
    "        start_date = profiles['COMMENCEMENT DATE'].min()\n",
    "    elif preset_value == 'last_2_years':\n",
    "        start_date = end_date - pd.DateOffset(years=2)\n",
    "    elif preset_value == 'last_5_years':\n",
    "        start_date = end_date - pd.DateOffset(years=5)\n",
    "    elif preset_value == 'since_2020':\n",
    "        start_date = pd.to_datetime('2020-01-01')\n",
    "    else:\n",
    "        start_date = profiles['COMMENCEMENT DATE'].min()\n",
    "    \n",
    "    return start_date, end_date\n",
    "\n",
    "# GPA trend line chart (Graph Objects with dropdown interaction)\n",
    "@app.callback(\n",
    "    Output('gpa-trend-chart', 'figure'),\n",
    "    [Input('course-dropdown', 'value'),\n",
    "     Input('date-range-picker', 'start_date'),\n",
    "     Input('date-range-picker', 'end_date')]\n",
    ")\n",
    "def update_gpa_trend_chart(selected_course, start_date, end_date):\n",
    "    \"\"\"Create line chart showing GPA trends by semester with date filtering\"\"\"\n",
    "    line_df = sem.dropna(subset=[\"GPA\", \"COURSE NAME\", \"PERIOD\"]).copy()\n",
    "    \n",
    "    # Merge with profiles to get commencement dates for filtering\n",
    "    line_df = line_df.merge(\n",
    "        profiles[['STUDENT ID', 'COURSE CODE', 'COMMENCEMENT DATE']], \n",
    "        on=['STUDENT ID', 'COURSE CODE'], \n",
    "        how='left'\n",
    "    )\n",
    "    \n",
    "    # Filter by date range\n",
    "    if start_date and end_date:\n",
    "        line_df = line_df[\n",
    "            (line_df[\"COMMENCEMENT DATE\"] >= pd.to_datetime(start_date)) & \n",
    "            (line_df[\"COMMENCEMENT DATE\"] <= pd.to_datetime(end_date))\n",
    "        ]\n",
    "    avg_gpa_by_semester = line_df.groupby([\"PERIOD\", \"COURSE NAME\"])[\"GPA\"].agg(['mean', 'count']).reset_index()\n",
    "    avg_gpa_by_semester.columns = [\"PERIOD\", \"COURSE NAME\", \"Average_GPA\", \"Student_Count\"]\n",
    "    avg_gpa_by_semester = avg_gpa_by_semester[avg_gpa_by_semester[\"Student_Count\"] >= 2].copy()\n",
    "    \n",
    "    fig = go.Figure()\n",
    "    \n",
    "    if selected_course == 'all' or not selected_course:\n",
    "        # Show all courses\n",
    "        unique_courses = avg_gpa_by_semester[\"COURSE NAME\"].unique()\n",
    "        colors = px.colors.qualitative.Plotly\n",
    "        \n",
    "        for i, course in enumerate(unique_courses):\n",
    "            course_data = avg_gpa_by_semester[avg_gpa_by_semester[\"COURSE NAME\"] == course]\n",
    "            fig.add_trace(go.Scatter(\n",
    "                x=course_data[\"PERIOD\"],\n",
    "                y=course_data[\"Average_GPA\"],\n",
    "                mode='lines+markers',\n",
    "                name=course,\n",
    "                line=dict(width=3, color=colors[i % len(colors)]),\n",
    "                marker=dict(size=8),\n",
    "                hovertemplate=\"<b>\" + course + \"</b><br>Semester: %{x}<br>Average GPA: %{y:.3f}<br>Students: %{customdata}<extra></extra>\",\n",
    "                customdata=course_data[\"Student_Count\"]\n",
    "            ))\n",
    "    else:\n",
    "        # Show selected course only\n",
    "        course_data = avg_gpa_by_semester[avg_gpa_by_semester[\"COURSE NAME\"] == selected_course]\n",
    "        fig.add_trace(go.Scatter(\n",
    "            x=course_data[\"PERIOD\"],\n",
    "            y=course_data[\"Average_GPA\"],\n",
    "            mode='lines+markers',\n",
    "            name=selected_course,\n",
    "            line=dict(width=4, color=COLORS['neon_blue']),\n",
    "            marker=dict(size=10),\n",
    "            hovertemplate=\"<b>\" + selected_course + \"</b><br>Semester: %{x}<br>Average GPA: %{y:.3f}<br>Students: %{customdata}<extra></extra>\",\n",
    "            customdata=course_data[\"Student_Count\"]\n",
    "        ))\n",
    "    \n",
    "    semester_order = [\"Semester 1\", \"Semester 2\", \"Semester 3\", \"Semester 4\"]\n",
    "    \n",
    "    fig.update_layout(\n",
    "        xaxis_title=\"Semester\",\n",
    "        yaxis_title=\"Average GPA\",\n",
    "        height=500,\n",
    "        margin=dict(l=60, r=60, t=20, b=60),\n",
    "        legend_title_text=\"Course Name\",\n",
    "        hovermode=\"x unified\",\n",
    "        xaxis=dict(\n",
    "            categoryorder=\"array\",\n",
    "            categoryarray=semester_order\n",
    "        ),\n",
    "        paper_bgcolor='rgba(0,0,0,0)',\n",
    "        plot_bgcolor='rgba(0,0,0,0)',\n",
    "        font=dict(color=COLORS['text']),\n",
    "        legend=dict(font=dict(color=COLORS['text']))\n",
    "    )\n",
    "    return fig\n",
    "\n",
    "# Violin chart (Graph Objects with radio button interaction)\n",
    "@app.callback(\n",
    "    Output('violin-chart', 'figure'),\n",
    "    [Input('age-group-radio', 'value'),\n",
    "     Input('date-range-picker', 'start_date'),\n",
    "     Input('date-range-picker', 'end_date')]\n",
    ")\n",
    "def update_violin_chart(selected_age_group, start_date, end_date):\n",
    "    \"\"\"Create violin chart showing age distribution by course name with date filtering\"\"\"\n",
    "    v_df = profiles.dropna(subset=[\"DOB\", \"COMMENCEMENT DATE\", \"COURSE NAME\"]).copy()\n",
    "    \n",
    "    # Filter by date range\n",
    "    if start_date and end_date:\n",
    "        v_df = v_df[\n",
    "            (v_df[\"COMMENCEMENT DATE\"] >= pd.to_datetime(start_date)) & \n",
    "            (v_df[\"COMMENCEMENT DATE\"] <= pd.to_datetime(end_date))\n",
    "        ]\n",
    "    \n",
    "    v_df[\"Age\"] = (v_df[\"COMMENCEMENT DATE\"] - v_df[\"DOB\"]).dt.days / 365.25\n",
    "    v_df = v_df[(v_df[\"Age\"] >= 15) & (v_df[\"Age\"] <= 80)].copy()\n",
    "    \n",
    "    # Filter by age group\n",
    "    if selected_age_group == 'young':\n",
    "        age_group_data = v_df[v_df[\"Age\"] <= 25]\n",
    "        title_suffix = \"Young Adults (15-25)\"\n",
    "    elif selected_age_group == 'adult':\n",
    "        age_group_data = v_df[(v_df[\"Age\"] > 25) & (v_df[\"Age\"] <= 40)]\n",
    "        title_suffix = \"Adults (26-40)\"\n",
    "    elif selected_age_group == 'mature':\n",
    "        age_group_data = v_df[v_df[\"Age\"] > 40]\n",
    "        title_suffix = \"Mature Adults (41-80)\"\n",
    "    else:\n",
    "        age_group_data = v_df\n",
    "        title_suffix = \"All Ages (15-80)\"\n",
    "    \n",
    "    fig = go.Figure()\n",
    "    \n",
    "    fig.add_trace(go.Violin(\n",
    "        x=age_group_data[\"COURSE NAME\"],\n",
    "        y=age_group_data[\"Age\"],\n",
    "        name=title_suffix,\n",
    "        box_visible=True,\n",
    "        meanline_visible=True,\n",
    "        points=False,\n",
    "        jitter=0.3,\n",
    "        scalemode=\"count\",\n",
    "        line_color=COLORS['neon_green'],\n",
    "        fillcolor=COLORS['neon_green'],\n",
    "        opacity=0.6,\n",
    "        hovertemplate=\"<b>%{x}</b><br>Age at enrollment: %{y:.1f} years<extra></extra>\"\n",
    "    ))\n",
    "    \n",
    "    fig.update_layout(\n",
    "        xaxis_title=\"Course Name\",\n",
    "        yaxis_title=\"Age at Enrollment (years)\",\n",
    "        height=500,\n",
    "        margin=dict(l=60, r=60, t=20, b=100),\n",
    "        xaxis=dict(tickangle=-45),\n",
    "        paper_bgcolor='rgba(0,0,0,0)',\n",
    "        plot_bgcolor='rgba(0,0,0,0)',\n",
    "        font=dict(color=COLORS['text']),\n",
    "        showlegend=False\n",
    "    )\n",
    "    return fig\n",
    "\n",
    "# Scatter chart (Graph Objects with dropdown interaction)\n",
    "@app.callback(\n",
    "    Output('scatter-chart', 'figure'),\n",
    "    [Input('course-level-dropdown', 'value'),\n",
    "     Input('date-range-picker', 'start_date'),\n",
    "     Input('date-range-picker', 'end_date')]\n",
    ")\n",
    "def update_scatter_chart(selected_level, start_date, end_date):\n",
    "    \"\"\"Create scatter chart showing course popularity by gender with date filtering\"\"\"\n",
    "    p_df = profiles.dropna(subset=[\"Gender\",\"COURSE NAME\",\"COMMENCEMENT DATE\"]).copy()\n",
    "    \n",
    "    # Filter by date range\n",
    "    if start_date and end_date:\n",
    "        p_df = p_df[\n",
    "            (p_df[\"COMMENCEMENT DATE\"] >= pd.to_datetime(start_date)) & \n",
    "            (p_df[\"COMMENCEMENT DATE\"] <= pd.to_datetime(end_date))\n",
    "        ]\n",
    "    \n",
    "    # Calculate total students by gender\n",
    "    total_females = len(p_df[p_df[\"Gender\"] == \"Female\"])\n",
    "    total_males = len(p_df[p_df[\"Gender\"] == \"Male\"])\n",
    "    \n",
    "    # Calculate course enrollment by gender\n",
    "    course_gender_counts = p_df.groupby([\"COURSE NAME\", \"Gender\"]).size().unstack(fill_value=0)\n",
    "    \n",
    "    # Calculate percentages\n",
    "    course_gender_pct = course_gender_counts.copy()\n",
    "    if \"Female\" in course_gender_pct.columns:\n",
    "        course_gender_pct[\"Female_Pct\"] = (course_gender_pct[\"Female\"] / total_females) * 100\n",
    "    else:\n",
    "        course_gender_pct[\"Female_Pct\"] = 0\n",
    "        \n",
    "    if \"Male\" in course_gender_pct.columns:\n",
    "        course_gender_pct[\"Male_Pct\"] = (course_gender_pct[\"Male\"] / total_males) * 100\n",
    "    else:\n",
    "        course_gender_pct[\"Male_Pct\"] = 0\n",
    "    \n",
    "    course_popularity = course_gender_pct.reset_index()\n",
    "    \n",
    "    # Add course level information\n",
    "    course_levels = []\n",
    "    for course in course_popularity[\"COURSE NAME\"]:\n",
    "        if course.startswith(\"Certificate\"):\n",
    "            course_levels.append(\"Certificate\")\n",
    "        elif course.startswith(\"Diploma\") and not course.startswith(\"Specialist\"):\n",
    "            course_levels.append(\"Diploma\") \n",
    "        elif course.startswith(\"Specialist\"):\n",
    "            course_levels.append(\"Specialist Diploma\")\n",
    "        else:\n",
    "            course_levels.append(\"Other\")\n",
    "    \n",
    "    course_popularity[\"COURSE_LEVEL\"] = course_levels\n",
    "    \n",
    "    # Filter by course level\n",
    "    if selected_level != 'all':\n",
    "        filtered_data = course_popularity[course_popularity[\"COURSE_LEVEL\"] == selected_level]\n",
    "    else:\n",
    "        filtered_data = course_popularity\n",
    "    \n",
    "    fig = go.Figure()\n",
    "    \n",
    "    colors = px.colors.qualitative.Plotly\n",
    "    for i, (_, row) in enumerate(filtered_data.iterrows()):\n",
    "        fig.add_trace(go.Scatter(\n",
    "            x=[row[\"Female_Pct\"]],\n",
    "            y=[row[\"Male_Pct\"]],\n",
    "            mode='markers',\n",
    "            name=row[\"COURSE NAME\"],\n",
    "            marker=dict(\n",
    "                size=12,\n",
    "                color=colors[i % len(colors)],\n",
    "                opacity=0.8\n",
    "            ),\n",
    "            hovertemplate=f\"<b>{row['COURSE NAME']}</b><br>Female: {row['Female_Pct']:.1f}% ({row['Female']} students)<br>Male: {row['Male_Pct']:.1f}% ({row['Male']} students)<extra></extra>\"\n",
    "        ))\n",
    "    \n",
    "    # Add reference line\n",
    "    if not filtered_data.empty:\n",
    "        max_pct = max(filtered_data[\"Female_Pct\"].max(), filtered_data[\"Male_Pct\"].max())\n",
    "        fig.add_shape(\n",
    "            type=\"line\",\n",
    "            x0=0, y0=0,\n",
    "            x1=max_pct, y1=max_pct,\n",
    "            line=dict(color=\"gray\", width=1, dash=\"dash\"),\n",
    "            opacity=0.5\n",
    "        )\n",
    "    \n",
    "    fig.update_layout(\n",
    "        xaxis=dict(\n",
    "            title=\"Female Popularity (%)\",\n",
    "            tickformat=\".1f\"\n",
    "        ),\n",
    "        yaxis=dict(\n",
    "            title=\"Male Popularity (%)\",\n",
    "            tickformat=\".1f\"\n",
    "        ),\n",
    "        margin=dict(l=60, r=60, t=20, b=60),\n",
    "        legend_title_text=\"Course Name\",\n",
    "        height=500,\n",
    "        paper_bgcolor='rgba(0,0,0,0)',\n",
    "        plot_bgcolor='rgba(0,0,0,0)',\n",
    "        font=dict(color=COLORS['text']),\n",
    "        legend=dict(font=dict(color=COLORS['text']))\n",
    "    )\n",
    "    return fig\n",
    "\n",
    "# KPI cards - reactive to all filters\n",
    "@app.callback(\n",
    "    Output('kpi-cards', 'children'),\n",
    "    [Input('course-dropdown', 'value'),\n",
    "     Input('age-group-radio', 'value'),\n",
    "     Input('course-level-dropdown', 'value'),\n",
    "     Input('date-range-picker', 'start_date'),\n",
    "     Input('date-range-picker', 'end_date')]\n",
    ")\n",
    "def update_kpi_cards(selected_course, selected_age_group, selected_level, start_date, end_date):\n",
    "    \"\"\"Update KPI cards based on all filter selections including dates\"\"\"\n",
    "    \n",
    "    # Filter profiles data based on date range first\n",
    "    kpi_profiles = profiles.dropna(subset=[\"DOB\", \"COMMENCEMENT DATE\"]).copy()\n",
    "    \n",
    "    # Apply date range filter\n",
    "    if start_date and end_date:\n",
    "        kpi_profiles = kpi_profiles[\n",
    "            (kpi_profiles[\"COMMENCEMENT DATE\"] >= pd.to_datetime(start_date)) & \n",
    "            (kpi_profiles[\"COMMENCEMENT DATE\"] <= pd.to_datetime(end_date))\n",
    "        ]\n",
    "    kpi_profiles[\"Age\"] = (kpi_profiles[\"COMMENCEMENT DATE\"] - kpi_profiles[\"DOB\"]).dt.days / 365.25\n",
    "    kpi_profiles = kpi_profiles[(kpi_profiles[\"Age\"] >= 15) & (kpi_profiles[\"Age\"] <= 80)].copy()\n",
    "    \n",
    "    # Apply age group filter\n",
    "    if selected_age_group == 'young':\n",
    "        kpi_profiles = kpi_profiles[kpi_profiles[\"Age\"] <= 25]\n",
    "    elif selected_age_group == 'adult':\n",
    "        kpi_profiles = kpi_profiles[(kpi_profiles[\"Age\"] > 25) & (kpi_profiles[\"Age\"] <= 40)]\n",
    "    elif selected_age_group == 'mature':\n",
    "        kpi_profiles = kpi_profiles[kpi_profiles[\"Age\"] > 40]\n",
    "    \n",
    "    # Apply course level filter\n",
    "    if selected_level != 'all':\n",
    "        kpi_profiles = kpi_profiles[kpi_profiles[\"COURSE LEVEL\"] == selected_level]\n",
    "    \n",
    "    # Filter semester data based on course selection\n",
    "    kpi_sem = sem.copy()\n",
    "    if selected_course != 'all' and selected_course:\n",
    "        kpi_sem = kpi_sem[kpi_sem[\"COURSE NAME\"] == selected_course]\n",
    "    \n",
    "    # Calculate KPIs\n",
    "    total_students = len(kpi_profiles)\n",
    "    avg_gpa = kpi_sem['GPA'].mean() if not kpi_sem.empty else 0\n",
    "    employment_rate = (kpi_profiles['EmployedFlag'].sum() / len(kpi_profiles) * 100) if len(kpi_profiles) > 0 else 0\n",
    "    avg_age = kpi_profiles['Age'].mean() if not kpi_profiles.empty else 0\n",
    "    \n",
    "    # Create KPI cards with horizontal layout\n",
    "    kpi_cards = [\n",
    "        # Total Students\n",
    "        html.Div([\n",
    "            html.Div([\n",
    "                html.H3(f\"{total_students:,}\", style={\n",
    "                    'color': COLORS['neon_blue'], 'margin': '0', 'fontSize': '2.2rem',\n",
    "                    'fontFamily': 'Orbitron, monospace', 'fontWeight': '900',\n",
    "                    'textShadow': f'0 0 10px {COLORS[\"neon_blue\"]}'\n",
    "                }),\n",
    "                html.P(\"Total Students\", style={\n",
    "                    'color': COLORS['text_dim'], 'margin': '8px 0 0 0', 'fontSize': '0.9rem',\n",
    "                    'fontFamily': 'Rajdhani, monospace', 'textTransform': 'uppercase',\n",
    "                    'fontWeight': '600'\n",
    "                })\n",
    "            ], style={'textAlign': 'center'})\n",
    "        ], style={\n",
    "            'background': f'linear-gradient(135deg, {COLORS[\"neon_blue\"]}25 0%, {COLORS[\"card_bg\"]} 100%)',\n",
    "            'border': f'2px solid {COLORS[\"neon_blue\"]}70',\n",
    "            'borderRadius': '15px', 'padding': '25px 20px',\n",
    "            'boxShadow': f'0 0 20px {COLORS[\"neon_blue\"]}40, 0 8px 32px rgba(26, 26, 46, 0.6)',\n",
    "            'transition': 'all 0.3s ease',\n",
    "            'minHeight': '120px',\n",
    "            'display': 'flex',\n",
    "            'alignItems': 'center',\n",
    "            'justifyContent': 'center'\n",
    "        }),\n",
    "        \n",
    "        # Average GPA\n",
    "        html.Div([\n",
    "            html.Div([\n",
    "                html.H3(f\"{avg_gpa:.2f}\", style={\n",
    "                    'color': COLORS['warning'], 'margin': '0', 'fontSize': '2.2rem',\n",
    "                    'fontFamily': 'Orbitron, monospace', 'fontWeight': '900',\n",
    "                    'textShadow': f'0 0 10px {COLORS[\"warning\"]}'\n",
    "                }),\n",
    "                html.P(\"Average GPA\", style={\n",
    "                    'color': COLORS['text_dim'], 'margin': '8px 0 0 0', 'fontSize': '0.9rem',\n",
    "                    'fontFamily': 'Rajdhani, monospace', 'textTransform': 'uppercase',\n",
    "                    'fontWeight': '600'\n",
    "                })\n",
    "            ], style={'textAlign': 'center'})\n",
    "        ], style={\n",
    "            'background': f'linear-gradient(135deg, {COLORS[\"warning\"]}25 0%, {COLORS[\"card_bg\"]} 100%)',\n",
    "            'border': f'2px solid {COLORS[\"warning\"]}70',\n",
    "            'borderRadius': '15px', 'padding': '25px 20px',\n",
    "            'boxShadow': f'0 0 20px {COLORS[\"warning\"]}40, 0 8px 32px rgba(26, 26, 46, 0.6)',\n",
    "            'transition': 'all 0.3s ease',\n",
    "            'minHeight': '120px',\n",
    "            'display': 'flex',\n",
    "            'alignItems': 'center',\n",
    "            'justifyContent': 'center'\n",
    "        }),\n",
    "        \n",
    "        # Employment Rate\n",
    "        html.Div([\n",
    "            html.Div([\n",
    "                html.H3(f\"{employment_rate:.1f}%\", style={\n",
    "                    'color': COLORS['success'], 'margin': '0', 'fontSize': '2.2rem',\n",
    "                    'fontFamily': 'Orbitron, monospace', 'fontWeight': '900',\n",
    "                    'textShadow': f'0 0 10px {COLORS[\"success\"]}'\n",
    "                }),\n",
    "                html.P(\"Employment Rate\", style={\n",
    "                    'color': COLORS['text_dim'], 'margin': '8px 0 0 0', 'fontSize': '0.9rem',\n",
    "                    'fontFamily': 'Rajdhani, monospace', 'textTransform': 'uppercase',\n",
    "                    'fontWeight': '600'\n",
    "                })\n",
    "            ], style={'textAlign': 'center'})\n",
    "        ], style={\n",
    "            'background': f'linear-gradient(135deg, {COLORS[\"success\"]}25 0%, {COLORS[\"card_bg\"]} 100%)',\n",
    "            'border': f'2px solid {COLORS[\"success\"]}70',\n",
    "            'borderRadius': '15px', 'padding': '25px 20px',\n",
    "            'boxShadow': f'0 0 20px {COLORS[\"success\"]}40, 0 8px 32px rgba(26, 26, 46, 0.6)',\n",
    "            'transition': 'all 0.3s ease',\n",
    "            'minHeight': '120px',\n",
    "            'display': 'flex',\n",
    "            'alignItems': 'center',\n",
    "            'justifyContent': 'center'\n",
    "        }),\n",
    "        \n",
    "        # Average Age\n",
    "        html.Div([\n",
    "            html.Div([\n",
    "                html.H3(f\"{avg_age:.1f}\", style={\n",
    "                    'color': COLORS['accent'], 'margin': '0', 'fontSize': '2.2rem',\n",
    "                    'fontFamily': 'Orbitron, monospace', 'fontWeight': '900',\n",
    "                    'textShadow': f'0 0 10px {COLORS[\"accent\"]}'\n",
    "                }),\n",
    "                html.P(\"Average Age\", style={\n",
    "                    'color': COLORS['text_dim'], 'margin': '8px 0 0 0', 'fontSize': '0.9rem',\n",
    "                    'fontFamily': 'Rajdhani, monospace', 'textTransform': 'uppercase',\n",
    "                    'fontWeight': '600'\n",
    "                })\n",
    "            ], style={'textAlign': 'center'})\n",
    "        ], style={\n",
    "            'background': f'linear-gradient(135deg, {COLORS[\"accent\"]}25 0%, {COLORS[\"card_bg\"]} 100%)',\n",
    "            'border': f'2px solid {COLORS[\"accent\"]}70',\n",
    "            'borderRadius': '15px', 'padding': '25px 20px',\n",
    "            'boxShadow': f'0 0 20px {COLORS[\"accent\"]}40, 0 8px 32px rgba(26, 26, 46, 0.6)',\n",
    "            'transition': 'all 0.3s ease',\n",
    "            'minHeight': '120px',\n",
    "            'display': 'flex',\n",
    "            'alignItems': 'center',\n",
    "            'justifyContent': 'center'\n",
    "        })\n",
    "    ]\n",
    "    \n",
    "    return kpi_cards\n",
    "\n",
    "# Student data display with beautiful cards\n",
    "@app.callback(\n",
    "    Output('student-data-table', 'children'),\n",
    "    Input('search-box', 'value')\n",
    ")\n",
    "def update_student_display(search_value):\n",
    "    \"\"\"Update student data display with beautiful formatted cards\"\"\"\n",
    "    if not search_value or len(search_value.strip()) < 3:\n",
    "        return html.Div([\n",
    "            html.Div([\n",
    "                html.I(className=\"fas fa-search\", style={\n",
    "                    'fontSize': '3rem', 'color': COLORS['neon_blue'], 'marginBottom': '15px'\n",
    "                }),\n",
    "                html.H4(\"🔍 STUDENT SEARCH\", style={\n",
    "                    'color': COLORS['neon_blue'], 'fontFamily': 'Orbitron, monospace',\n",
    "                    'textAlign': 'center', 'marginBottom': '10px'\n",
    "                }),\n",
    "                html.P(\"Enter at least 3 characters to search for a student ID\", \n",
    "                       style={\n",
    "                           'textAlign': 'center', \n",
    "                           'color': COLORS['text_dim'], \n",
    "                           'fontSize': '0.9rem',\n",
    "                           'fontFamily': 'Rajdhani, monospace',\n",
    "                           'fontStyle': 'italic'\n",
    "                       })\n",
    "            ], style={\n",
    "                'textAlign': 'center',\n",
    "                'padding': '40px 20px',\n",
    "                'background': f'linear-gradient(135deg, {COLORS[\"card_bg\"]}40 0%, {COLORS[\"sidebar_bg\"]}40 100%)',\n",
    "                'borderRadius': '15px',\n",
    "                'border': f'1px dashed {COLORS[\"neon_blue\"]}60'\n",
    "            })\n",
    "        ])\n",
    "    \n",
    "    # Search for students\n",
    "    student_data = profiles[\n",
    "        profiles['STUDENT ID'].str.contains(search_value, case=False, na=False)\n",
    "    ]\n",
    "    \n",
    "    if student_data.empty:\n",
    "        return html.Div([\n",
    "            html.Div([\n",
    "                html.I(className=\"fas fa-exclamation-triangle\", style={\n",
    "                    'fontSize': '2.5rem', 'color': COLORS['danger'], 'marginBottom': '15px'\n",
    "                }),\n",
    "                html.H4(\"❌ NO RESULTS\", style={\n",
    "                    'color': COLORS['danger'], 'fontFamily': 'Orbitron, monospace',\n",
    "                    'textAlign': 'center', 'marginBottom': '10px'\n",
    "                }),\n",
    "                html.P(f\"No student found with ID containing '{search_value}'\", \n",
    "                       style={\n",
    "                           'textAlign': 'center', \n",
    "                           'color': COLORS['text'], \n",
    "                           'fontSize': '1rem',\n",
    "                           'fontFamily': 'Rajdhani, monospace'\n",
    "                       })\n",
    "            ], style={\n",
    "                'textAlign': 'center',\n",
    "                'padding': '30px 20px',\n",
    "                'background': f'linear-gradient(135deg, {COLORS[\"danger\"]}20 0%, {COLORS[\"card_bg\"]} 100%)',\n",
    "                'borderRadius': '15px',\n",
    "                'border': f'2px solid {COLORS[\"danger\"]}60'\n",
    "            })\n",
    "        ])\n",
    "    \n",
    "    # Create beautiful student information cards\n",
    "    student_cards = []\n",
    "    for _, student in student_data.head(3).iterrows():  # Limit to 3 detailed results\n",
    "        \n",
    "        # Get semester data for this student\n",
    "        student_sem_data = sem[sem['STUDENT ID'] == student['STUDENT ID']]\n",
    "        avg_gpa = student_sem_data['GPA'].mean() if not student_sem_data.empty else 0\n",
    "        total_semesters = len(student_sem_data) if not student_sem_data.empty else 0\n",
    "        \n",
    "        # Create individual student card\n",
    "        card = html.Div([\n",
    "            # Header with student ID\n",
    "            html.Div([\n",
    "                html.H4(f\"👤 {student['STUDENT ID']}\", style={\n",
    "                    'color': COLORS['neon_blue'], 'margin': '0', 'fontFamily': 'Orbitron, monospace',\n",
    "                    'fontSize': '1.3rem', 'fontWeight': '900', 'textAlign': 'center',\n",
    "                    'textShadow': f'0 0 10px {COLORS[\"neon_blue\"]}'\n",
    "                })\n",
    "            ], style={\n",
    "                'background': f'linear-gradient(90deg, {COLORS[\"neon_blue\"]}20 0%, {COLORS[\"neon_purple\"]}20 100%)',\n",
    "                'padding': '15px', 'borderRadius': '10px 10px 0 0',\n",
    "                'borderBottom': f'2px solid {COLORS[\"neon_blue\"]}'\n",
    "            }),\n",
    "            \n",
    "            # Main content in two columns\n",
    "            html.Div([\n",
    "                # Left column - Personal Info\n",
    "                html.Div([\n",
    "                    html.H5(\"📋 PERSONAL INFO\", style={\n",
    "                        'color': COLORS['neon_green'], 'marginBottom': '15px',\n",
    "                        'fontFamily': 'Orbitron, monospace', 'fontSize': '0.9rem'\n",
    "                    }),\n",
    "                    \n",
    "                    # Personal details with icons\n",
    "                    html.Div([\n",
    "                        html.Span(\"👤 \", style={'color': COLORS['accent']}),\n",
    "                        html.Span(\"Gender: \", style={'color': COLORS['text_dim'], 'fontWeight': '500'}),\n",
    "                        html.Span(str(student.get('Gender', 'N/A')), style={'color': COLORS['text'], 'fontWeight': '700'})\n",
    "                    ], style={'marginBottom': '8px', 'fontFamily': 'Rajdhani, monospace'}),\n",
    "                    \n",
    "                    html.Div([\n",
    "                        html.Span(\"🌍 \", style={'color': COLORS['accent']}),\n",
    "                        html.Span(\"Citizenship: \", style={'color': COLORS['text_dim'], 'fontWeight': '500'}),\n",
    "                        html.Span(str(student.get('CitizenshipSimple', 'N/A')), style={'color': COLORS['neon_purple'], 'fontWeight': '700'})\n",
    "                    ], style={'marginBottom': '8px', 'fontFamily': 'Rajdhani, monospace'}),\n",
    "                    \n",
    "                    html.Div([\n",
    "                        html.Span(\"🎂 \", style={'color': COLORS['accent']}),\n",
    "                        html.Span(\"Age: \", style={'color': COLORS['text_dim'], 'fontWeight': '500'}),\n",
    "                        html.Span(f\"{student.get('AGE_AT_QUALIFICATION', 0):.0f} years\", style={'color': COLORS['text'], 'fontWeight': '700'})\n",
    "                    ], style={'marginBottom': '8px', 'fontFamily': 'Rajdhani, monospace'}),\n",
    "                    \n",
    "                    html.Div([\n",
    "                        html.Span(\"💼 \", style={'color': COLORS['accent']}),\n",
    "                        html.Span(\"Status: \", style={'color': COLORS['text_dim'], 'fontWeight': '500'}),\n",
    "                        html.Span(\"Employed\" if student.get('EmployedFlag', False) else \"Unemployed\", \n",
    "                                 style={'color': COLORS['success'] if student.get('EmployedFlag', False) else COLORS['danger'], 'fontWeight': '700'})\n",
    "                    ], style={'marginBottom': '15px', 'fontFamily': 'Rajdhani, monospace'})\n",
    "                    \n",
    "                ], style={'width': '48%', 'display': 'inline-block', 'verticalAlign': 'top'}),\n",
    "                \n",
    "                # Right column - Academic Info\n",
    "                html.Div([\n",
    "                    html.H5(\"🎓 ACADEMIC INFO\", style={\n",
    "                        'color': COLORS['neon_purple'], 'marginBottom': '15px',\n",
    "                        'fontFamily': 'Orbitron, monospace', 'fontSize': '0.9rem'\n",
    "                    }),\n",
    "                    \n",
    "                    # Academic details with icons\n",
    "                    html.Div([\n",
    "                        html.Span(\"🏫 \", style={'color': COLORS['accent']}),\n",
    "                        html.Span(\"Department: \", style={'color': COLORS['text_dim'], 'fontWeight': '500'}),\n",
    "                        html.Span(str(student.get('DEPARTMENT', 'N/A'))[:20] + (\"...\" if len(str(student.get('DEPARTMENT', ''))) > 20 else \"\"), \n",
    "                                 style={'color': COLORS['text'], 'fontWeight': '700'})\n",
    "                    ], style={'marginBottom': '8px', 'fontFamily': 'Rajdhani, monospace'}),\n",
    "                    \n",
    "                    html.Div([\n",
    "                        html.Span(\"📚 \", style={'color': COLORS['accent']}),\n",
    "                        html.Span(\"Course: \", style={'color': COLORS['text_dim'], 'fontWeight': '500'}),\n",
    "                        html.Span(str(student.get('COURSE NAME', 'N/A'))[:25] + (\"...\" if len(str(student.get('COURSE NAME', ''))) > 25 else \"\"), \n",
    "                                 style={'color': COLORS['neon_green'], 'fontWeight': '700'})\n",
    "                    ], style={'marginBottom': '8px', 'fontFamily': 'Rajdhani, monospace'}),\n",
    "                    \n",
    "                    html.Div([\n",
    "                        html.Span(\"⭐ \", style={'color': COLORS['accent']}),\n",
    "                        html.Span(\"GPA: \", style={'color': COLORS['text_dim'], 'fontWeight': '500'}),\n",
    "                        html.Span(f\"{avg_gpa:.2f}\", style={'color': COLORS['warning'], 'fontWeight': '900', 'fontSize': '1.1rem'})\n",
    "                    ], style={'marginBottom': '8px', 'fontFamily': 'Rajdhani, monospace'}),\n",
    "                    \n",
    "                    html.Div([\n",
    "                        html.Span(\"📊 \", style={'color': COLORS['accent']}),\n",
    "                        html.Span(\"Semesters: \", style={'color': COLORS['text_dim'], 'fontWeight': '500'}),\n",
    "                        html.Span(f\"{total_semesters}\", style={'color': COLORS['info'], 'fontWeight': '700'})\n",
    "                    ], style={'marginBottom': '8px', 'fontFamily': 'Rajdhani, monospace'}),\n",
    "                    \n",
    "                    html.Div([\n",
    "                        html.Span(\"💰 \", style={'color': COLORS['accent']}),\n",
    "                        html.Span(\"Funding: \", style={'color': COLORS['text_dim'], 'fontWeight': '500'}),\n",
    "                        html.Span(str(student.get('COURSE FUNDING', 'N/A')), style={'color': COLORS['text'], 'fontWeight': '700'})\n",
    "                    ], style={'marginBottom': '15px', 'fontFamily': 'Rajdhani, monospace'})\n",
    "                    \n",
    "                ], style={'width': '48%', 'display': 'inline-block', 'verticalAlign': 'top', 'marginLeft': '4%'})\n",
    "                \n",
    "            ], style={'padding': '20px'}),\n",
    "            \n",
    "            # Footer with qualification info\n",
    "            html.Div([\n",
    "                html.Span(\"🏆 Highest Qualification: \", style={'color': COLORS['text_dim'], 'fontWeight': '500'}),\n",
    "                html.Span(str(student.get('HIGHEST QUALIFICATION', 'N/A')), \n",
    "                         style={'color': COLORS['success'], 'fontWeight': '700', 'fontSize': '1rem'})\n",
    "            ], style={\n",
    "                'background': f'linear-gradient(90deg, {COLORS[\"success\"]}20 0%, {COLORS[\"card_bg\"]} 100%)',\n",
    "                'padding': '12px 20px', 'borderRadius': '0 0 10px 10px',\n",
    "                'borderTop': f'1px solid {COLORS[\"success\"]}40',\n",
    "                'fontFamily': 'Rajdhani, monospace'\n",
    "            })\n",
    "            \n",
    "        ], style={\n",
    "            'background': f'linear-gradient(135deg, {COLORS[\"card_bg\"]} 0%, {COLORS[\"sidebar_bg\"]} 100%)',\n",
    "            'border': f'2px solid {COLORS[\"neon_blue\"]}60',\n",
    "            'borderRadius': '15px',\n",
    "            'marginBottom': '20px',\n",
    "            'boxShadow': f'0 0 30px {COLORS[\"neon_blue\"]}30, 0 8px 32px rgba(26, 26, 46, 0.6)',\n",
    "            'transition': 'all 0.3s ease',\n",
    "            'overflow': 'hidden'\n",
    "        })\n",
    "        \n",
    "        student_cards.append(card)\n",
    "    \n",
    "    # Results summary\n",
    "    results_summary = html.Div([\n",
    "        html.H4(f\"✅ FOUND {len(student_data)} STUDENT(S)\", style={\n",
    "            'color': COLORS['neon_green'], 'textAlign': 'center', 'marginBottom': '5px',\n",
    "            'fontFamily': 'Orbitron, monospace', 'fontSize': '1rem'\n",
    "        }),\n",
    "        html.P(f\"Search term: '{search_value}' | Showing detailed info for {min(len(student_data), 3)} student(s)\", \n",
    "               style={\n",
    "                   'color': COLORS['text_dim'], 'textAlign': 'center', 'marginBottom': '20px',\n",
    "                   'fontFamily': 'Rajdhani, monospace', 'fontSize': '0.9rem'\n",
    "               })\n",
    "    ])\n",
    "    \n",
    "    return html.Div([results_summary] + student_cards)\n",
    "\n",
    "# ================================\n",
    "# RUN THE APP\n",
    "# ================================\n",
    "\n",
    "if __name__ == '__main__':\n",
    "    app.run(debug=True, host='127.0.0.1', port=8055)"
   ]
  }
 ],
 "metadata": {
  "kernelspec": {
   "display_name": "base",
   "language": "python",
   "name": "python3"
  },
  "language_info": {
   "codemirror_mode": {
    "name": "ipython",
    "version": 3
   },
   "file_extension": ".py",
   "mimetype": "text/x-python",
   "name": "python",
   "nbconvert_exporter": "python",
   "pygments_lexer": "ipython3",
   "version": "3.12.4"
  }
 },
 "nbformat": 4,
 "nbformat_minor": 5
}
